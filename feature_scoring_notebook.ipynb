{
 "cells": [
  {
   "cell_type": "markdown",
   "id": "669201b4",
   "metadata": {},
   "source": [
    "# Notebook to compute feature importance scores"
   ]
  },
  {
   "cell_type": "code",
   "execution_count": 27,
   "id": "8ccfd7ae",
   "metadata": {},
   "outputs": [],
   "source": [
    "import numpy as np\n",
    "import matplotlib.pyplot as plt\n",
    "import pandas as pd\n",
    "import xgboost as xgb\n",
    "\n",
    "from sklearn.datasets import make_classification\n",
    "from sklearn.ensemble import ExtraTreesClassifier\n",
    "from sklearn.metrics import accuracy_score\n",
    "from sklearn.model_selection import train_test_split"
   ]
  },
  {
   "cell_type": "markdown",
   "id": "66ff4123",
   "metadata": {},
   "source": [
    "## Set-up mock data for testing "
   ]
  },
  {
   "cell_type": "code",
   "execution_count": 2,
   "id": "c57760b5",
   "metadata": {},
   "outputs": [],
   "source": [
    "X, y = make_classification(n_samples=1000,\n",
    "                           n_features=12,\n",
    "                           n_informative=8,\n",
    "                           n_redundant=0,\n",
    "                           n_repeated=0,\n",
    "                           n_classes=7,\n",
    "                           random_state=0,\n",
    "                           shuffle=False)"
   ]
  },
  {
   "cell_type": "markdown",
   "id": "946f52b4",
   "metadata": {},
   "source": [
    "## Set-up initial accessible POI data"
   ]
  },
  {
   "cell_type": "markdown",
   "id": "fc53612b",
   "metadata": {},
   "source": [
    "Note, this is the data for Great Britain only."
   ]
  },
  {
   "cell_type": "code",
   "execution_count": 3,
   "id": "72a415e8",
   "metadata": {},
   "outputs": [],
   "source": [
    "acc_df = pd.read_pickle(\"accessible_pois.pkl\")"
   ]
  },
  {
   "cell_type": "code",
   "execution_count": 4,
   "id": "3b1da274",
   "metadata": {},
   "outputs": [
    {
     "data": {
      "text/html": [
       "<div>\n",
       "<style scoped>\n",
       "    .dataframe tbody tr th:only-of-type {\n",
       "        vertical-align: middle;\n",
       "    }\n",
       "\n",
       "    .dataframe tbody tr th {\n",
       "        vertical-align: top;\n",
       "    }\n",
       "\n",
       "    .dataframe thead th {\n",
       "        text-align: right;\n",
       "    }\n",
       "</style>\n",
       "<table border=\"1\" class=\"dataframe\">\n",
       "  <thead>\n",
       "    <tr style=\"text-align: right;\">\n",
       "      <th></th>\n",
       "      <th>id</th>\n",
       "      <th>access</th>\n",
       "      <th>barrier</th>\n",
       "      <th>bicycle</th>\n",
       "      <th>motor_vehicle</th>\n",
       "      <th>opening_hours</th>\n",
       "      <th>wheelchair</th>\n",
       "      <th>amenity</th>\n",
       "      <th>lon</th>\n",
       "      <th>lat</th>\n",
       "    </tr>\n",
       "  </thead>\n",
       "  <tbody>\n",
       "    <tr>\n",
       "      <th>99878</th>\n",
       "      <td>99878</td>\n",
       "      <td>permissive</td>\n",
       "      <td>gate</td>\n",
       "      <td>no</td>\n",
       "      <td>no</td>\n",
       "      <td>dawn-dusk</td>\n",
       "      <td>yes</td>\n",
       "      <td>None</td>\n",
       "      <td>-0.152985</td>\n",
       "      <td>51.524358</td>\n",
       "    </tr>\n",
       "    <tr>\n",
       "      <th>104734</th>\n",
       "      <td>104734</td>\n",
       "      <td>NONE</td>\n",
       "      <td>None</td>\n",
       "      <td>None</td>\n",
       "      <td>None</td>\n",
       "      <td>None</td>\n",
       "      <td>yes</td>\n",
       "      <td>None</td>\n",
       "      <td>-1.785876</td>\n",
       "      <td>51.565653</td>\n",
       "    </tr>\n",
       "    <tr>\n",
       "      <th>106213</th>\n",
       "      <td>106213</td>\n",
       "      <td>NONE</td>\n",
       "      <td>None</td>\n",
       "      <td>None</td>\n",
       "      <td>None</td>\n",
       "      <td>None</td>\n",
       "      <td>yes</td>\n",
       "      <td>None</td>\n",
       "      <td>-0.142942</td>\n",
       "      <td>51.525660</td>\n",
       "    </tr>\n",
       "    <tr>\n",
       "      <th>108042</th>\n",
       "      <td>108042</td>\n",
       "      <td>NONE</td>\n",
       "      <td>None</td>\n",
       "      <td>None</td>\n",
       "      <td>None</td>\n",
       "      <td>Mo-We 16:00-23:30; Th-Fr 16:00-01:00; Sa 16:00...</td>\n",
       "      <td>limited</td>\n",
       "      <td>pub</td>\n",
       "      <td>-0.135513</td>\n",
       "      <td>51.523561</td>\n",
       "    </tr>\n",
       "    <tr>\n",
       "      <th>251191</th>\n",
       "      <td>251191</td>\n",
       "      <td>NONE</td>\n",
       "      <td>None</td>\n",
       "      <td>None</td>\n",
       "      <td>None</td>\n",
       "      <td>None</td>\n",
       "      <td>limited</td>\n",
       "      <td>None</td>\n",
       "      <td>-0.715918</td>\n",
       "      <td>51.115444</td>\n",
       "    </tr>\n",
       "  </tbody>\n",
       "</table>\n",
       "</div>"
      ],
      "text/plain": [
       "            id      access barrier bicycle motor_vehicle  \\\n",
       "99878    99878  permissive    gate      no            no   \n",
       "104734  104734        NONE    None    None          None   \n",
       "106213  106213        NONE    None    None          None   \n",
       "108042  108042        NONE    None    None          None   \n",
       "251191  251191        NONE    None    None          None   \n",
       "\n",
       "                                            opening_hours wheelchair amenity  \\\n",
       "99878                                           dawn-dusk        yes    None   \n",
       "104734                                               None        yes    None   \n",
       "106213                                               None        yes    None   \n",
       "108042  Mo-We 16:00-23:30; Th-Fr 16:00-01:00; Sa 16:00...    limited     pub   \n",
       "251191                                               None    limited    None   \n",
       "\n",
       "             lon        lat  \n",
       "99878  -0.152985  51.524358  \n",
       "104734 -1.785876  51.565653  \n",
       "106213 -0.142942  51.525660  \n",
       "108042 -0.135513  51.523561  \n",
       "251191 -0.715918  51.115444  "
      ]
     },
     "execution_count": 4,
     "metadata": {},
     "output_type": "execute_result"
    }
   ],
   "source": [
    "acc_df.head()"
   ]
  },
  {
   "cell_type": "code",
   "execution_count": 5,
   "id": "bbcba0f7",
   "metadata": {},
   "outputs": [
    {
     "data": {
      "text/plain": [
       "29282"
      ]
     },
     "execution_count": 5,
     "metadata": {},
     "output_type": "execute_result"
    }
   ],
   "source": [
    "len(acc_df)"
   ]
  },
  {
   "cell_type": "code",
   "execution_count": 6,
   "id": "5b2b7400",
   "metadata": {},
   "outputs": [],
   "source": [
    "acc_df = acc_df.drop(columns='id')"
   ]
  },
  {
   "cell_type": "code",
   "execution_count": 7,
   "id": "987bc2c8",
   "metadata": {},
   "outputs": [
    {
     "data": {
      "text/plain": [
       "array(['permissive', 'NONE', 'no',\n",
       "       'yes_during_opening_hours_Monday_-_Saturday_10am_-_5pm_and_Sunday_11am_-_5pm.',\n",
       "       'yes', 'private', 'customers', 'public', 'time_limited',\n",
       "       'destination', 'none', 'restricted', 'permit', 'RADAR', 'unknown',\n",
       "       'delivery', 'key', 'official', 'passengers', 'trade', 'staff',\n",
       "       'residents', 'visitors', 'customer', 'emergency', 'code',\n",
       "       'agricultural', 'delivery;emergency', 'disabled'], dtype=object)"
      ]
     },
     "execution_count": 7,
     "metadata": {},
     "output_type": "execute_result"
    }
   ],
   "source": [
    "acc_df.access.unique()"
   ]
  },
  {
   "cell_type": "code",
   "execution_count": 8,
   "id": "825d95a0",
   "metadata": {},
   "outputs": [
    {
     "data": {
      "text/plain": [
       "array(['gate', None, 'cycle_barrier', 'kerb', 'kissing_gate', 'entrance',\n",
       "       'stile', 'yes', 'door', 'stepping_stones', 'block', 'turnstile',\n",
       "       'bollard', 'swing_gate', 'motorcycle_barrier', 'fence',\n",
       "       'lift_gate', 'lych-gate', 'lych_gate', 'sliding_gate'],\n",
       "      dtype=object)"
      ]
     },
     "execution_count": 8,
     "metadata": {},
     "output_type": "execute_result"
    }
   ],
   "source": [
    "acc_df.barrier.unique()"
   ]
  },
  {
   "cell_type": "code",
   "execution_count": 9,
   "id": "fed89a9a",
   "metadata": {},
   "outputs": [
    {
     "data": {
      "text/plain": [
       "array(['no', None, 'yes', 'dismount', 'permissive', 'private', 'permit',\n",
       "       'designated', 'destination'], dtype=object)"
      ]
     },
     "execution_count": 9,
     "metadata": {},
     "output_type": "execute_result"
    }
   ],
   "source": [
    "acc_df.bicycle.unique()"
   ]
  },
  {
   "cell_type": "code",
   "execution_count": 10,
   "id": "6d6dd99c",
   "metadata": {},
   "outputs": [
    {
     "data": {
      "text/plain": [
       "array(['no', None, 'private', 'yes', 'permissive', 'permit',\n",
       "       'destination', 'private;seasonal', 'official'], dtype=object)"
      ]
     },
     "execution_count": 10,
     "metadata": {},
     "output_type": "execute_result"
    }
   ],
   "source": [
    "acc_df.motor_vehicle.unique()"
   ]
  },
  {
   "cell_type": "code",
   "execution_count": 11,
   "id": "98476453",
   "metadata": {},
   "outputs": [
    {
     "data": {
      "text/plain": [
       "array([None, 'pub', 'taxi', 'parking', 'post_office', 'restaurant',\n",
       "       'arts_centre', 'fuel', 'bar', 'toilets', 'library',\n",
       "       'place_of_worship', 'hospital', 'atm', 'community_centre',\n",
       "       'police', 'bus_station', 'bank', 'cinema', 'cafe', 'pharmacy',\n",
       "       'school', 'fast_food', 'theatre', 'clock', 'courthouse', 'doctors',\n",
       "       'disused:pub', 'ferry_terminal', 'post_box', 'nightclub',\n",
       "       'college', 'university', 'townhall', 'vacant', 'telephone',\n",
       "       'car_sharing', 'camera_obscura', 'gallery', 'recycling', 'disused',\n",
       "       'drinking_water', 'dentist', 'fountain', 'ice_cream',\n",
       "       'bicycle_rental', 'formerly_cafe', 'taxi_point', 'clinic',\n",
       "       'veterinary', 'Doctor', 'bench', 'bar;restaurant', 'shopping',\n",
       "       'waste_basket', 'shop', 'bureau_de_change', 'bicycle_parking',\n",
       "       'parking_space', 'car_rental', 'parking_entrance', 'stripclub',\n",
       "       'social_facility', 'kindergarten', 'swimming_pool',\n",
       "       'internet_cafe', 'marketplace', 'car_wash', 'crematorium',\n",
       "       'training', 'wheelchair_hire', 'casino', 'construction',\n",
       "       'nursing_home', 'advice_centre', 'art_gallery', 'childcare',\n",
       "       'studio', 'advice_service', 'vending_machine', 'yes',\n",
       "       'coworking_space;cafe', 'public_bookcase', 'shower', 'dojo',\n",
       "       'waste_disposal', 'post_depot', 'photo_booth',\n",
       "       'community_centre:for=child;juvenile', 'atm;bank',\n",
       "       'money_transfer', 'mobility_equipment_hire', 'boat_rental',\n",
       "       'shelter', 'animal_boarding', 'restaurant;cafe',\n",
       "       'charging_station', 'animal_shelter', 'food_court',\n",
       "       'social_centre', 'events_venue', 'dressing_room'], dtype=object)"
      ]
     },
     "execution_count": 11,
     "metadata": {},
     "output_type": "execute_result"
    }
   ],
   "source": [
    "acc_df.amenity.unique()"
   ]
  },
  {
   "cell_type": "code",
   "execution_count": 12,
   "id": "415f6c77",
   "metadata": {},
   "outputs": [
    {
     "data": {
      "text/plain": [
       "array(['dawn-dusk', None,\n",
       "       'Mo-We 16:00-23:30; Th-Fr 16:00-01:00; Sa 16:00-23:30', ...,\n",
       "       'Mo 08:00-18:00; Tu-Fr 08:00-20:00; Sa 08:00-19:00; Su 09:00-16:00',\n",
       "       'Mon to Sat 9am to 7pm', 'Wednesday-Sunday 10am until 4pm'],\n",
       "      dtype=object)"
      ]
     },
     "execution_count": 12,
     "metadata": {},
     "output_type": "execute_result"
    }
   ],
   "source": [
    "acc_df.opening_hours.unique()"
   ]
  },
  {
   "cell_type": "code",
   "execution_count": 13,
   "id": "7ca56fc2",
   "metadata": {},
   "outputs": [
    {
     "data": {
      "text/plain": [
       "array(['yes', 'limited', 'no', 'designated', 'no use other side door',\n",
       "       'no space', 'no;yes'], dtype=object)"
      ]
     },
     "execution_count": 13,
     "metadata": {},
     "output_type": "execute_result"
    }
   ],
   "source": [
    "acc_df.wheelchair.unique()"
   ]
  },
  {
   "cell_type": "code",
   "execution_count": 14,
   "id": "27af3b28",
   "metadata": {},
   "outputs": [
    {
     "data": {
      "text/html": [
       "<div>\n",
       "<style scoped>\n",
       "    .dataframe tbody tr th:only-of-type {\n",
       "        vertical-align: middle;\n",
       "    }\n",
       "\n",
       "    .dataframe tbody tr th {\n",
       "        vertical-align: top;\n",
       "    }\n",
       "\n",
       "    .dataframe thead th {\n",
       "        text-align: right;\n",
       "    }\n",
       "</style>\n",
       "<table border=\"1\" class=\"dataframe\">\n",
       "  <thead>\n",
       "    <tr style=\"text-align: right;\">\n",
       "      <th></th>\n",
       "      <th>access</th>\n",
       "      <th>barrier</th>\n",
       "      <th>bicycle</th>\n",
       "      <th>motor_vehicle</th>\n",
       "      <th>opening_hours</th>\n",
       "      <th>amenity</th>\n",
       "      <th>lon</th>\n",
       "      <th>lat</th>\n",
       "    </tr>\n",
       "  </thead>\n",
       "  <tbody>\n",
       "    <tr>\n",
       "      <th>99878</th>\n",
       "      <td>permissive</td>\n",
       "      <td>gate</td>\n",
       "      <td>no</td>\n",
       "      <td>no</td>\n",
       "      <td>dawn-dusk</td>\n",
       "      <td>None</td>\n",
       "      <td>-0.152985</td>\n",
       "      <td>51.524358</td>\n",
       "    </tr>\n",
       "    <tr>\n",
       "      <th>104734</th>\n",
       "      <td>NONE</td>\n",
       "      <td>None</td>\n",
       "      <td>None</td>\n",
       "      <td>None</td>\n",
       "      <td>None</td>\n",
       "      <td>None</td>\n",
       "      <td>-1.785876</td>\n",
       "      <td>51.565653</td>\n",
       "    </tr>\n",
       "    <tr>\n",
       "      <th>106213</th>\n",
       "      <td>NONE</td>\n",
       "      <td>None</td>\n",
       "      <td>None</td>\n",
       "      <td>None</td>\n",
       "      <td>None</td>\n",
       "      <td>None</td>\n",
       "      <td>-0.142942</td>\n",
       "      <td>51.525660</td>\n",
       "    </tr>\n",
       "    <tr>\n",
       "      <th>108042</th>\n",
       "      <td>NONE</td>\n",
       "      <td>None</td>\n",
       "      <td>None</td>\n",
       "      <td>None</td>\n",
       "      <td>Mo-We 16:00-23:30; Th-Fr 16:00-01:00; Sa 16:00...</td>\n",
       "      <td>pub</td>\n",
       "      <td>-0.135513</td>\n",
       "      <td>51.523561</td>\n",
       "    </tr>\n",
       "    <tr>\n",
       "      <th>251191</th>\n",
       "      <td>NONE</td>\n",
       "      <td>None</td>\n",
       "      <td>None</td>\n",
       "      <td>None</td>\n",
       "      <td>None</td>\n",
       "      <td>None</td>\n",
       "      <td>-0.715918</td>\n",
       "      <td>51.115444</td>\n",
       "    </tr>\n",
       "  </tbody>\n",
       "</table>\n",
       "</div>"
      ],
      "text/plain": [
       "            access barrier bicycle motor_vehicle  \\\n",
       "99878   permissive    gate      no            no   \n",
       "104734        NONE    None    None          None   \n",
       "106213        NONE    None    None          None   \n",
       "108042        NONE    None    None          None   \n",
       "251191        NONE    None    None          None   \n",
       "\n",
       "                                            opening_hours amenity       lon  \\\n",
       "99878                                           dawn-dusk    None -0.152985   \n",
       "104734                                               None    None -1.785876   \n",
       "106213                                               None    None -0.142942   \n",
       "108042  Mo-We 16:00-23:30; Th-Fr 16:00-01:00; Sa 16:00...     pub -0.135513   \n",
       "251191                                               None    None -0.715918   \n",
       "\n",
       "              lat  \n",
       "99878   51.524358  \n",
       "104734  51.565653  \n",
       "106213  51.525660  \n",
       "108042  51.523561  \n",
       "251191  51.115444  "
      ]
     },
     "execution_count": 14,
     "metadata": {},
     "output_type": "execute_result"
    }
   ],
   "source": [
    "acc_X = acc_df.drop(columns='wheelchair')\n",
    "acc_X.head()"
   ]
  },
  {
   "cell_type": "code",
   "execution_count": 15,
   "id": "ecb53df7",
   "metadata": {},
   "outputs": [
    {
     "data": {
      "text/html": [
       "<div>\n",
       "<style scoped>\n",
       "    .dataframe tbody tr th:only-of-type {\n",
       "        vertical-align: middle;\n",
       "    }\n",
       "\n",
       "    .dataframe tbody tr th {\n",
       "        vertical-align: top;\n",
       "    }\n",
       "\n",
       "    .dataframe thead th {\n",
       "        text-align: right;\n",
       "    }\n",
       "</style>\n",
       "<table border=\"1\" class=\"dataframe\">\n",
       "  <thead>\n",
       "    <tr style=\"text-align: right;\">\n",
       "      <th></th>\n",
       "      <th>access</th>\n",
       "      <th>barrier</th>\n",
       "      <th>bicycle</th>\n",
       "      <th>motor_vehicle</th>\n",
       "      <th>opening_hours</th>\n",
       "      <th>amenity</th>\n",
       "      <th>lon</th>\n",
       "      <th>lat</th>\n",
       "    </tr>\n",
       "  </thead>\n",
       "  <tbody>\n",
       "    <tr>\n",
       "      <th>99878</th>\n",
       "      <td>16</td>\n",
       "      <td>6</td>\n",
       "      <td>3</td>\n",
       "      <td>1</td>\n",
       "      <td>2264</td>\n",
       "      <td>-1</td>\n",
       "      <td>-0.152985</td>\n",
       "      <td>51.524358</td>\n",
       "    </tr>\n",
       "    <tr>\n",
       "      <th>104734</th>\n",
       "      <td>0</td>\n",
       "      <td>-1</td>\n",
       "      <td>-1</td>\n",
       "      <td>-1</td>\n",
       "      <td>-1</td>\n",
       "      <td>-1</td>\n",
       "      <td>-1.785876</td>\n",
       "      <td>51.565653</td>\n",
       "    </tr>\n",
       "    <tr>\n",
       "      <th>106213</th>\n",
       "      <td>0</td>\n",
       "      <td>-1</td>\n",
       "      <td>-1</td>\n",
       "      <td>-1</td>\n",
       "      <td>-1</td>\n",
       "      <td>-1</td>\n",
       "      <td>-0.142942</td>\n",
       "      <td>51.525660</td>\n",
       "    </tr>\n",
       "    <tr>\n",
       "      <th>108042</th>\n",
       "      <td>0</td>\n",
       "      <td>-1</td>\n",
       "      <td>-1</td>\n",
       "      <td>-1</td>\n",
       "      <td>1978</td>\n",
       "      <td>71</td>\n",
       "      <td>-0.135513</td>\n",
       "      <td>51.523561</td>\n",
       "    </tr>\n",
       "    <tr>\n",
       "      <th>251191</th>\n",
       "      <td>0</td>\n",
       "      <td>-1</td>\n",
       "      <td>-1</td>\n",
       "      <td>-1</td>\n",
       "      <td>-1</td>\n",
       "      <td>-1</td>\n",
       "      <td>-0.715918</td>\n",
       "      <td>51.115444</td>\n",
       "    </tr>\n",
       "  </tbody>\n",
       "</table>\n",
       "</div>"
      ],
      "text/plain": [
       "        access  barrier  bicycle  motor_vehicle  opening_hours  amenity  \\\n",
       "99878       16        6        3              1           2264       -1   \n",
       "104734       0       -1       -1             -1             -1       -1   \n",
       "106213       0       -1       -1             -1             -1       -1   \n",
       "108042       0       -1       -1             -1           1978       71   \n",
       "251191       0       -1       -1             -1             -1       -1   \n",
       "\n",
       "             lon        lat  \n",
       "99878  -0.152985  51.524358  \n",
       "104734 -1.785876  51.565653  \n",
       "106213 -0.142942  51.525660  \n",
       "108042 -0.135513  51.523561  \n",
       "251191 -0.715918  51.115444  "
      ]
     },
     "execution_count": 15,
     "metadata": {},
     "output_type": "execute_result"
    }
   ],
   "source": [
    "acc_X['access'] = pd.Categorical(acc_X['access'])\n",
    "acc_X['access'] = acc_X['access'].cat.codes\n",
    "\n",
    "acc_X['barrier'] = pd.Categorical(acc_X['barrier'])\n",
    "acc_X['barrier'] = acc_X['barrier'].cat.codes\n",
    "\n",
    "acc_X['bicycle'] = pd.Categorical(acc_X['bicycle'])\n",
    "acc_X['bicycle'] = acc_X['bicycle'].cat.codes\n",
    "\n",
    "acc_X['motor_vehicle'] = pd.Categorical(acc_X['motor_vehicle'])\n",
    "acc_X['motor_vehicle'] = acc_X['motor_vehicle'].cat.codes\n",
    "\n",
    "acc_X['opening_hours'] = pd.Categorical(acc_X['opening_hours'])\n",
    "acc_X['opening_hours'] = acc_X['opening_hours'].cat.codes\n",
    "\n",
    "acc_X['amenity'] = pd.Categorical(acc_X['amenity'])\n",
    "acc_X['amenity'] = acc_X['amenity'].cat.codes\n",
    "\n",
    "acc_X.head()"
   ]
  },
  {
   "cell_type": "code",
   "execution_count": 16,
   "id": "d1e68778",
   "metadata": {},
   "outputs": [],
   "source": [
    "acc_df['wheelchair'] = pd.Categorical(acc_df['wheelchair'])\n",
    "acc_y = acc_df['wheelchair'].cat.codes"
   ]
  },
  {
   "cell_type": "code",
   "execution_count": 17,
   "id": "aa1a2a5b",
   "metadata": {},
   "outputs": [
    {
     "data": {
      "text/plain": [
       "99878         6\n",
       "104734        6\n",
       "106213        6\n",
       "108042        1\n",
       "251191        1\n",
       "             ..\n",
       "8495396114    6\n",
       "8495396115    6\n",
       "8497470120    1\n",
       "8497671325    2\n",
       "8497671329    1\n",
       "Length: 29282, dtype: int8"
      ]
     },
     "execution_count": 17,
     "metadata": {},
     "output_type": "execute_result"
    }
   ],
   "source": [
    "acc_y"
   ]
  },
  {
   "cell_type": "markdown",
   "id": "98de7f50",
   "metadata": {},
   "source": [
    "## Set-up Random Forest classifier"
   ]
  },
  {
   "cell_type": "code",
   "execution_count": 18,
   "id": "81cf47a9",
   "metadata": {},
   "outputs": [],
   "source": [
    "forest = ExtraTreesClassifier(n_estimators=250,\n",
    "                              random_state=0)"
   ]
  },
  {
   "cell_type": "code",
   "execution_count": 19,
   "id": "4bae7510",
   "metadata": {},
   "outputs": [
    {
     "data": {
      "text/plain": [
       "ExtraTreesClassifier(n_estimators=250, random_state=0)"
      ]
     },
     "execution_count": 19,
     "metadata": {},
     "output_type": "execute_result"
    }
   ],
   "source": [
    "forest.fit(acc_X, acc_y)"
   ]
  },
  {
   "cell_type": "code",
   "execution_count": 20,
   "id": "9840895f",
   "metadata": {},
   "outputs": [
    {
     "data": {
      "text/plain": [
       "1.0"
      ]
     },
     "execution_count": 20,
     "metadata": {},
     "output_type": "execute_result"
    }
   ],
   "source": [
    "ypred = forest.predict(acc_X)\n",
    "accuracy_score(acc_y, ypred)"
   ]
  },
  {
   "cell_type": "code",
   "execution_count": 21,
   "id": "b035e816",
   "metadata": {},
   "outputs": [],
   "source": [
    "importances = forest.feature_importances_"
   ]
  },
  {
   "cell_type": "code",
   "execution_count": 22,
   "id": "88e80f1f",
   "metadata": {},
   "outputs": [
    {
     "data": {
      "text/plain": [
       "([0, 1, 2, 3, 4, 5, 6, 7],\n",
       " [Text(0, 0, ''),\n",
       "  Text(0, 0, ''),\n",
       "  Text(0, 0, ''),\n",
       "  Text(0, 0, ''),\n",
       "  Text(0, 0, ''),\n",
       "  Text(0, 0, ''),\n",
       "  Text(0, 0, ''),\n",
       "  Text(0, 0, '')])"
      ]
     },
     "execution_count": 22,
     "metadata": {},
     "output_type": "execute_result"
    },
    {
     "data": {
      "image/png": "[encoded data removed]",
      "text/plain": [
       "<Figure size 432x288 with 1 Axes>"
      ]
     },
     "metadata": {
      "needs_background": "light"
     },
     "output_type": "display_data"
    }
   ],
   "source": [
    "plt.bar(acc_X.columns, importances)\n",
    "plt.xticks(rotation=90)"
   ]
  },
  {
   "cell_type": "code",
   "execution_count": 23,
   "id": "c5bbd31b",
   "metadata": {},
   "outputs": [],
   "source": [
    "X_train, X_test, y_train, y_test = train_test_split(acc_X, acc_y, test_size=0.20, random_state=42)"
   ]
  },
  {
   "cell_type": "code",
   "execution_count": 24,
   "id": "9642917b",
   "metadata": {},
   "outputs": [],
   "source": [
    "X_train = X_train.drop(columns='opening_hours')\n",
    "X_test = X_test.drop(columns='opening_hours')"
   ]
  },
  {
   "cell_type": "code",
   "execution_count": 25,
   "id": "1cd2baa2",
   "metadata": {},
   "outputs": [
    {
     "data": {
      "text/plain": [
       "ExtraTreesClassifier(n_estimators=250, random_state=0)"
      ]
     },
     "execution_count": 25,
     "metadata": {},
     "output_type": "execute_result"
    }
   ],
   "source": [
    "trial_forest = ExtraTreesClassifier(n_estimators=250, random_state=0)\n",
    "trial_forest.fit(X_train, y_train)"
   ]
  },
  {
   "cell_type": "code",
   "execution_count": 26,
   "id": "f92eb8aa",
   "metadata": {},
   "outputs": [
    {
     "data": {
      "text/plain": [
       "0.6983097148710944"
      ]
     },
     "execution_count": 26,
     "metadata": {},
     "output_type": "execute_result"
    }
   ],
   "source": [
    "new_preds = trial_forest.predict(X_test)\n",
    "accuracy_score(y_test, new_preds)"
   ]
  },
  {
   "cell_type": "markdown",
   "id": "575770ce",
   "metadata": {},
   "source": [
    "## Set up XGBoost model"
   ]
  },
  {
   "cell_type": "code",
   "execution_count": 35,
   "id": "c8215b8b",
   "metadata": {},
   "outputs": [],
   "source": [
    "dtrain = xgb.DMatrix(X_train, label=y_train)"
   ]
  },
  {
   "cell_type": "code",
   "execution_count": 36,
   "id": "b2c1df9c",
   "metadata": {},
   "outputs": [],
   "source": [
    "param = {'objective': 'multi:softmax', 'num_class':7}"
   ]
  },
  {
   "cell_type": "code",
   "execution_count": 37,
   "id": "117bf8d9",
   "metadata": {},
   "outputs": [
    {
     "name": "stdout",
     "output_type": "stream",
     "text": [
      "[10:49:21] WARNING: ../src/learner.cc:1095: Starting in XGBoost 1.3.0, the default evaluation metric used with the objective 'multi:softmax' was changed from 'merror' to 'mlogloss'. Explicitly set eval_metric if you'd like to restore the old behavior.\n"
     ]
    }
   ],
   "source": [
    "num_round = 100\n",
    "bst = xgb.train(param, dtrain, num_round)"
   ]
  },
  {
   "cell_type": "code",
   "execution_count": 38,
   "id": "79d24c44",
   "metadata": {},
   "outputs": [],
   "source": [
    "dtest = xgb.DMatrix(X_test)"
   ]
  },
  {
   "cell_type": "code",
   "execution_count": 39,
   "id": "ef4cfef2",
   "metadata": {},
   "outputs": [],
   "source": [
    "xgb_preds = bst.predict(dtest)"
   ]
  },
  {
   "cell_type": "code",
   "execution_count": 40,
   "id": "7a41766f",
   "metadata": {},
   "outputs": [
    {
     "data": {
      "text/plain": [
       "<AxesSubplot:title={'center':'Feature importance'}, xlabel='F score', ylabel='Features'>"
      ]
     },
     "execution_count": 40,
     "metadata": {},
     "output_type": "execute_result"
    },
    {
     "data": {
      "image/png": "[encoded data removed]",
      "text/plain": [
       "<Figure size 432x288 with 1 Axes>"
      ]
     },
     "metadata": {
      "needs_background": "light"
     },
     "output_type": "display_data"
    }
   ],
   "source": [
    "xgb.plot_importance(bst)"
   ]
  },
  {
   "cell_type": "code",
   "execution_count": 41,
   "id": "00341177",
   "metadata": {},
   "outputs": [
    {
     "data": {
      "text/plain": [
       "0.7153833020317568"
      ]
     },
     "execution_count": 41,
     "metadata": {},
     "output_type": "execute_result"
    }
   ],
   "source": [
    "accuracy_score(y_test, xgb_preds)"
   ]
  },
  {
   "cell_type": "markdown",
   "id": "e2ffb1ab",
   "metadata": {},
   "source": [
    "## Try simplistic homogenisation schemes"
   ]
  },
  {
   "cell_type": "markdown",
   "id": "9e750746",
   "metadata": {},
   "source": [
    "Given that the features which seem to be poor predictors are the ones with manually input tags, will homogenising those improve the result somewhat?"
   ]
  },
  {
   "cell_type": "markdown",
   "id": "39f96f43",
   "metadata": {},
   "source": [
    "First, try simple lat_lon_wheelchair file with wheelchair accesibility binned into 4 labels"
   ]
  },
  {
   "cell_type": "code",
   "execution_count": 42,
   "id": "8d3baa07",
   "metadata": {},
   "outputs": [
    {
     "data": {
      "text/html": [
       "<div>\n",
       "<style scoped>\n",
       "    .dataframe tbody tr th:only-of-type {\n",
       "        vertical-align: middle;\n",
       "    }\n",
       "\n",
       "    .dataframe tbody tr th {\n",
       "        vertical-align: top;\n",
       "    }\n",
       "\n",
       "    .dataframe thead th {\n",
       "        text-align: right;\n",
       "    }\n",
       "</style>\n",
       "<table border=\"1\" class=\"dataframe\">\n",
       "  <thead>\n",
       "    <tr style=\"text-align: right;\">\n",
       "      <th></th>\n",
       "      <th>lon</th>\n",
       "      <th>lat</th>\n",
       "      <th>wheelchair_cat</th>\n",
       "    </tr>\n",
       "  </thead>\n",
       "  <tbody>\n",
       "    <tr>\n",
       "      <th>99878</th>\n",
       "      <td>-0.152985</td>\n",
       "      <td>51.524358</td>\n",
       "      <td>yes</td>\n",
       "    </tr>\n",
       "    <tr>\n",
       "      <th>104734</th>\n",
       "      <td>-1.785876</td>\n",
       "      <td>51.565653</td>\n",
       "      <td>yes</td>\n",
       "    </tr>\n",
       "    <tr>\n",
       "      <th>106213</th>\n",
       "      <td>-0.142942</td>\n",
       "      <td>51.525660</td>\n",
       "      <td>yes</td>\n",
       "    </tr>\n",
       "    <tr>\n",
       "      <th>108042</th>\n",
       "      <td>-0.135513</td>\n",
       "      <td>51.523561</td>\n",
       "      <td>limited</td>\n",
       "    </tr>\n",
       "    <tr>\n",
       "      <th>251191</th>\n",
       "      <td>-0.715918</td>\n",
       "      <td>51.115444</td>\n",
       "      <td>limited</td>\n",
       "    </tr>\n",
       "  </tbody>\n",
       "</table>\n",
       "</div>"
      ],
      "text/plain": [
       "             lon        lat wheelchair_cat\n",
       "99878  -0.152985  51.524358            yes\n",
       "104734 -1.785876  51.565653            yes\n",
       "106213 -0.142942  51.525660            yes\n",
       "108042 -0.135513  51.523561        limited\n",
       "251191 -0.715918  51.115444        limited"
      ]
     },
     "execution_count": 42,
     "metadata": {},
     "output_type": "execute_result"
    }
   ],
   "source": [
    "r_df = pd.read_pickle(\"accessible_pois_lon_lat_wheelchair.pkl\")\n",
    "r_df.head()"
   ]
  },
  {
   "cell_type": "code",
   "execution_count": 43,
   "id": "76750d77",
   "metadata": {},
   "outputs": [],
   "source": [
    "r_df['wheelchair_cat'] = pd.Categorical(r_df['wheelchair_cat'])\n",
    "r_y = r_df['wheelchair_cat'].cat.codes"
   ]
  },
  {
   "cell_type": "code",
   "execution_count": 44,
   "id": "4d5184d9",
   "metadata": {},
   "outputs": [
    {
     "data": {
      "text/plain": [
       "99878         3\n",
       "104734        3\n",
       "106213        3\n",
       "108042        1\n",
       "251191        1\n",
       "             ..\n",
       "8495396114    3\n",
       "8495396115    3\n",
       "8497470120    1\n",
       "8497671325    2\n",
       "8497671329    1\n",
       "Length: 29282, dtype: int8"
      ]
     },
     "execution_count": 44,
     "metadata": {},
     "output_type": "execute_result"
    }
   ],
   "source": [
    "r_y"
   ]
  },
  {
   "cell_type": "code",
   "execution_count": 45,
   "id": "6f0e54d2",
   "metadata": {},
   "outputs": [
    {
     "data": {
      "text/html": [
       "<div>\n",
       "<style scoped>\n",
       "    .dataframe tbody tr th:only-of-type {\n",
       "        vertical-align: middle;\n",
       "    }\n",
       "\n",
       "    .dataframe tbody tr th {\n",
       "        vertical-align: top;\n",
       "    }\n",
       "\n",
       "    .dataframe thead th {\n",
       "        text-align: right;\n",
       "    }\n",
       "</style>\n",
       "<table border=\"1\" class=\"dataframe\">\n",
       "  <thead>\n",
       "    <tr style=\"text-align: right;\">\n",
       "      <th></th>\n",
       "      <th>lon</th>\n",
       "      <th>lat</th>\n",
       "    </tr>\n",
       "  </thead>\n",
       "  <tbody>\n",
       "    <tr>\n",
       "      <th>99878</th>\n",
       "      <td>-0.152985</td>\n",
       "      <td>51.524358</td>\n",
       "    </tr>\n",
       "    <tr>\n",
       "      <th>104734</th>\n",
       "      <td>-1.785876</td>\n",
       "      <td>51.565653</td>\n",
       "    </tr>\n",
       "    <tr>\n",
       "      <th>106213</th>\n",
       "      <td>-0.142942</td>\n",
       "      <td>51.525660</td>\n",
       "    </tr>\n",
       "    <tr>\n",
       "      <th>108042</th>\n",
       "      <td>-0.135513</td>\n",
       "      <td>51.523561</td>\n",
       "    </tr>\n",
       "    <tr>\n",
       "      <th>251191</th>\n",
       "      <td>-0.715918</td>\n",
       "      <td>51.115444</td>\n",
       "    </tr>\n",
       "  </tbody>\n",
       "</table>\n",
       "</div>"
      ],
      "text/plain": [
       "             lon        lat\n",
       "99878  -0.152985  51.524358\n",
       "104734 -1.785876  51.565653\n",
       "106213 -0.142942  51.525660\n",
       "108042 -0.135513  51.523561\n",
       "251191 -0.715918  51.115444"
      ]
     },
     "execution_count": 45,
     "metadata": {},
     "output_type": "execute_result"
    }
   ],
   "source": [
    "r_X = r_df.drop(columns='wheelchair_cat')\n",
    "r_X.head()"
   ]
  },
  {
   "cell_type": "code",
   "execution_count": 46,
   "id": "4cd8e6bd",
   "metadata": {},
   "outputs": [],
   "source": [
    "r_X_train, r_X_test, r_y_train, r_y_test = train_test_split(r_X, r_y, test_size=0.20, random_state=42)"
   ]
  },
  {
   "cell_type": "code",
   "execution_count": 47,
   "id": "42101bac",
   "metadata": {},
   "outputs": [],
   "source": [
    "r_dtrain = xgb.DMatrix(r_X_train, label=r_y_train)"
   ]
  },
  {
   "cell_type": "code",
   "execution_count": 48,
   "id": "de010fc7",
   "metadata": {},
   "outputs": [],
   "source": [
    "r_param = {'objective': 'multi:softmax', 'num_class':4}"
   ]
  },
  {
   "cell_type": "code",
   "execution_count": 53,
   "id": "7dbdac7b",
   "metadata": {},
   "outputs": [
    {
     "name": "stdout",
     "output_type": "stream",
     "text": [
      "[12:53:37] WARNING: ../src/learner.cc:1095: Starting in XGBoost 1.3.0, the default evaluation metric used with the objective 'multi:softmax' was changed from 'merror' to 'mlogloss'. Explicitly set eval_metric if you'd like to restore the old behavior.\n"
     ]
    }
   ],
   "source": [
    "r_num_round = 100\n",
    "r_bst = xgb.train(r_param, r_dtrain, r_num_round)"
   ]
  },
  {
   "cell_type": "code",
   "execution_count": 54,
   "id": "4315928d",
   "metadata": {},
   "outputs": [],
   "source": [
    "r_dtest = xgb.DMatrix(r_X_test)"
   ]
  },
  {
   "cell_type": "code",
   "execution_count": 55,
   "id": "83ace853",
   "metadata": {},
   "outputs": [],
   "source": [
    "r_preds = r_bst.predict(r_dtest)"
   ]
  },
  {
   "cell_type": "code",
   "execution_count": 56,
   "id": "9b6d7b79",
   "metadata": {},
   "outputs": [
    {
     "data": {
      "text/plain": [
       "<AxesSubplot:title={'center':'Feature importance'}, xlabel='F score', ylabel='Features'>"
      ]
     },
     "execution_count": 56,
     "metadata": {},
     "output_type": "execute_result"
    },
    {
     "data": {
      "image/png": "[encoded data removed]",
      "text/plain": [
       "<Figure size 432x288 with 1 Axes>"
      ]
     },
     "metadata": {
      "needs_background": "light"
     },
     "output_type": "display_data"
    }
   ],
   "source": [
    "xgb.plot_importance(r_bst)"
   ]
  },
  {
   "cell_type": "code",
   "execution_count": 57,
   "id": "2caa4109",
   "metadata": {},
   "outputs": [
    {
     "data": {
      "text/plain": [
       "0.6914802800068295"
      ]
     },
     "execution_count": 57,
     "metadata": {},
     "output_type": "execute_result"
    }
   ],
   "source": [
    "accuracy_score(r_y_test, r_preds)"
   ]
  },
  {
   "cell_type": "code",
   "execution_count": 64,
   "id": "617696b1",
   "metadata": {},
   "outputs": [
    {
     "data": {
      "text/plain": [
       "<matplotlib.colorbar.Colorbar at 0x7f43ec64e6a0>"
      ]
     },
     "execution_count": 64,
     "metadata": {},
     "output_type": "execute_result"
    },
    {
     "data": {
      "image/png": "[encoded data removed]",
      "text/plain": [
       "<Figure size 432x288 with 2 Axes>"
      ]
     },
     "metadata": {
      "needs_background": "light"
     },
     "output_type": "display_data"
    }
   ],
   "source": [
    "plt.hist2d(r_y_test, r_preds, bins=4)\n",
    "plt.colorbar()"
   ]
  },
  {
   "cell_type": "markdown",
   "id": "62921b09",
   "metadata": {},
   "source": [
    "Accuracy seems to remain the same with this. Need additional features. Let's try the additional columns in the original file, but with homogenised labels."
   ]
  },
  {
   "cell_type": "code",
   "execution_count": 65,
   "id": "22a28cbe",
   "metadata": {},
   "outputs": [
    {
     "data": {
      "text/html": [
       "<div>\n",
       "<style scoped>\n",
       "    .dataframe tbody tr th:only-of-type {\n",
       "        vertical-align: middle;\n",
       "    }\n",
       "\n",
       "    .dataframe tbody tr th {\n",
       "        vertical-align: top;\n",
       "    }\n",
       "\n",
       "    .dataframe thead th {\n",
       "        text-align: right;\n",
       "    }\n",
       "</style>\n",
       "<table border=\"1\" class=\"dataframe\">\n",
       "  <thead>\n",
       "    <tr style=\"text-align: right;\">\n",
       "      <th></th>\n",
       "      <th>access</th>\n",
       "      <th>barrier</th>\n",
       "      <th>bicycle</th>\n",
       "      <th>motor_vehicle</th>\n",
       "      <th>opening_hours</th>\n",
       "      <th>wheelchair</th>\n",
       "      <th>amenity</th>\n",
       "      <th>lon</th>\n",
       "      <th>lat</th>\n",
       "    </tr>\n",
       "  </thead>\n",
       "  <tbody>\n",
       "    <tr>\n",
       "      <th>99878</th>\n",
       "      <td>permissive</td>\n",
       "      <td>gate</td>\n",
       "      <td>no</td>\n",
       "      <td>no</td>\n",
       "      <td>dawn-dusk</td>\n",
       "      <td>yes</td>\n",
       "      <td>None</td>\n",
       "      <td>-0.152985</td>\n",
       "      <td>51.524358</td>\n",
       "    </tr>\n",
       "    <tr>\n",
       "      <th>104734</th>\n",
       "      <td>NONE</td>\n",
       "      <td>None</td>\n",
       "      <td>None</td>\n",
       "      <td>None</td>\n",
       "      <td>None</td>\n",
       "      <td>yes</td>\n",
       "      <td>None</td>\n",
       "      <td>-1.785876</td>\n",
       "      <td>51.565653</td>\n",
       "    </tr>\n",
       "    <tr>\n",
       "      <th>106213</th>\n",
       "      <td>NONE</td>\n",
       "      <td>None</td>\n",
       "      <td>None</td>\n",
       "      <td>None</td>\n",
       "      <td>None</td>\n",
       "      <td>yes</td>\n",
       "      <td>None</td>\n",
       "      <td>-0.142942</td>\n",
       "      <td>51.525660</td>\n",
       "    </tr>\n",
       "    <tr>\n",
       "      <th>108042</th>\n",
       "      <td>NONE</td>\n",
       "      <td>None</td>\n",
       "      <td>None</td>\n",
       "      <td>None</td>\n",
       "      <td>Mo-We 16:00-23:30; Th-Fr 16:00-01:00; Sa 16:00...</td>\n",
       "      <td>limited</td>\n",
       "      <td>pub</td>\n",
       "      <td>-0.135513</td>\n",
       "      <td>51.523561</td>\n",
       "    </tr>\n",
       "    <tr>\n",
       "      <th>251191</th>\n",
       "      <td>NONE</td>\n",
       "      <td>None</td>\n",
       "      <td>None</td>\n",
       "      <td>None</td>\n",
       "      <td>None</td>\n",
       "      <td>limited</td>\n",
       "      <td>None</td>\n",
       "      <td>-0.715918</td>\n",
       "      <td>51.115444</td>\n",
       "    </tr>\n",
       "  </tbody>\n",
       "</table>\n",
       "</div>"
      ],
      "text/plain": [
       "            access barrier bicycle motor_vehicle  \\\n",
       "99878   permissive    gate      no            no   \n",
       "104734        NONE    None    None          None   \n",
       "106213        NONE    None    None          None   \n",
       "108042        NONE    None    None          None   \n",
       "251191        NONE    None    None          None   \n",
       "\n",
       "                                            opening_hours wheelchair amenity  \\\n",
       "99878                                           dawn-dusk        yes    None   \n",
       "104734                                               None        yes    None   \n",
       "106213                                               None        yes    None   \n",
       "108042  Mo-We 16:00-23:30; Th-Fr 16:00-01:00; Sa 16:00...    limited     pub   \n",
       "251191                                               None    limited    None   \n",
       "\n",
       "             lon        lat  \n",
       "99878  -0.152985  51.524358  \n",
       "104734 -1.785876  51.565653  \n",
       "106213 -0.142942  51.525660  \n",
       "108042 -0.135513  51.523561  \n",
       "251191 -0.715918  51.115444  "
      ]
     },
     "execution_count": 65,
     "metadata": {},
     "output_type": "execute_result"
    }
   ],
   "source": [
    "acc_df.head()"
   ]
  },
  {
   "cell_type": "markdown",
   "id": "330401fc",
   "metadata": {},
   "source": [
    "### First try data with amenities only"
   ]
  },
  {
   "cell_type": "code",
   "execution_count": 81,
   "id": "5fc2dcbf",
   "metadata": {},
   "outputs": [],
   "source": [
    "test_df = acc_df.drop(columns='opening_hours')"
   ]
  },
  {
   "cell_type": "code",
   "execution_count": 82,
   "id": "0255049a",
   "metadata": {},
   "outputs": [
    {
     "data": {
      "text/html": [
       "<div>\n",
       "<style scoped>\n",
       "    .dataframe tbody tr th:only-of-type {\n",
       "        vertical-align: middle;\n",
       "    }\n",
       "\n",
       "    .dataframe tbody tr th {\n",
       "        vertical-align: top;\n",
       "    }\n",
       "\n",
       "    .dataframe thead th {\n",
       "        text-align: right;\n",
       "    }\n",
       "</style>\n",
       "<table border=\"1\" class=\"dataframe\">\n",
       "  <thead>\n",
       "    <tr style=\"text-align: right;\">\n",
       "      <th></th>\n",
       "      <th>wheelchair</th>\n",
       "      <th>amenity</th>\n",
       "      <th>lon</th>\n",
       "      <th>lat</th>\n",
       "    </tr>\n",
       "  </thead>\n",
       "  <tbody>\n",
       "    <tr>\n",
       "      <th>99878</th>\n",
       "      <td>yes</td>\n",
       "      <td>None</td>\n",
       "      <td>-0.152985</td>\n",
       "      <td>51.524358</td>\n",
       "    </tr>\n",
       "    <tr>\n",
       "      <th>104734</th>\n",
       "      <td>yes</td>\n",
       "      <td>None</td>\n",
       "      <td>-1.785876</td>\n",
       "      <td>51.565653</td>\n",
       "    </tr>\n",
       "    <tr>\n",
       "      <th>106213</th>\n",
       "      <td>yes</td>\n",
       "      <td>None</td>\n",
       "      <td>-0.142942</td>\n",
       "      <td>51.525660</td>\n",
       "    </tr>\n",
       "    <tr>\n",
       "      <th>108042</th>\n",
       "      <td>limited</td>\n",
       "      <td>pub</td>\n",
       "      <td>-0.135513</td>\n",
       "      <td>51.523561</td>\n",
       "    </tr>\n",
       "    <tr>\n",
       "      <th>251191</th>\n",
       "      <td>limited</td>\n",
       "      <td>None</td>\n",
       "      <td>-0.715918</td>\n",
       "      <td>51.115444</td>\n",
       "    </tr>\n",
       "  </tbody>\n",
       "</table>\n",
       "</div>"
      ],
      "text/plain": [
       "       wheelchair amenity       lon        lat\n",
       "99878         yes    None -0.152985  51.524358\n",
       "104734        yes    None -1.785876  51.565653\n",
       "106213        yes    None -0.142942  51.525660\n",
       "108042    limited     pub -0.135513  51.523561\n",
       "251191    limited    None -0.715918  51.115444"
      ]
     },
     "execution_count": 82,
     "metadata": {},
     "output_type": "execute_result"
    }
   ],
   "source": [
    "test_df = test_df.drop(columns=['access', 'barrier', 'bicycle', 'motor_vehicle'])\n",
    "test_df.head()"
   ]
  },
  {
   "cell_type": "code",
   "execution_count": 83,
   "id": "f8e451d1",
   "metadata": {},
   "outputs": [],
   "source": [
    "test_df = test_df.dropna()"
   ]
  },
  {
   "cell_type": "code",
   "execution_count": 84,
   "id": "83174c28",
   "metadata": {},
   "outputs": [
    {
     "data": {
      "text/html": [
       "<div>\n",
       "<style scoped>\n",
       "    .dataframe tbody tr th:only-of-type {\n",
       "        vertical-align: middle;\n",
       "    }\n",
       "\n",
       "    .dataframe tbody tr th {\n",
       "        vertical-align: top;\n",
       "    }\n",
       "\n",
       "    .dataframe thead th {\n",
       "        text-align: right;\n",
       "    }\n",
       "</style>\n",
       "<table border=\"1\" class=\"dataframe\">\n",
       "  <thead>\n",
       "    <tr style=\"text-align: right;\">\n",
       "      <th></th>\n",
       "      <th>wheelchair</th>\n",
       "      <th>amenity</th>\n",
       "      <th>lon</th>\n",
       "      <th>lat</th>\n",
       "    </tr>\n",
       "  </thead>\n",
       "  <tbody>\n",
       "    <tr>\n",
       "      <th>108042</th>\n",
       "      <td>limited</td>\n",
       "      <td>pub</td>\n",
       "      <td>-0.135513</td>\n",
       "      <td>51.523561</td>\n",
       "    </tr>\n",
       "    <tr>\n",
       "      <th>262708</th>\n",
       "      <td>limited</td>\n",
       "      <td>pub</td>\n",
       "      <td>-0.726258</td>\n",
       "      <td>51.024400</td>\n",
       "    </tr>\n",
       "    <tr>\n",
       "      <th>271339</th>\n",
       "      <td>no</td>\n",
       "      <td>pub</td>\n",
       "      <td>-1.856858</td>\n",
       "      <td>51.353526</td>\n",
       "    </tr>\n",
       "    <tr>\n",
       "      <th>328762</th>\n",
       "      <td>yes</td>\n",
       "      <td>taxi</td>\n",
       "      <td>1.305108</td>\n",
       "      <td>52.626620</td>\n",
       "    </tr>\n",
       "    <tr>\n",
       "      <th>367457</th>\n",
       "      <td>yes</td>\n",
       "      <td>parking</td>\n",
       "      <td>-1.446450</td>\n",
       "      <td>52.984748</td>\n",
       "    </tr>\n",
       "  </tbody>\n",
       "</table>\n",
       "</div>"
      ],
      "text/plain": [
       "       wheelchair  amenity       lon        lat\n",
       "108042    limited      pub -0.135513  51.523561\n",
       "262708    limited      pub -0.726258  51.024400\n",
       "271339         no      pub -1.856858  51.353526\n",
       "328762        yes     taxi  1.305108  52.626620\n",
       "367457        yes  parking -1.446450  52.984748"
      ]
     },
     "execution_count": 84,
     "metadata": {},
     "output_type": "execute_result"
    }
   ],
   "source": [
    "test_df.head()"
   ]
  },
  {
   "cell_type": "code",
   "execution_count": 85,
   "id": "b3204833",
   "metadata": {},
   "outputs": [
    {
     "data": {
      "text/plain": [
       "11089"
      ]
     },
     "execution_count": 85,
     "metadata": {},
     "output_type": "execute_result"
    }
   ],
   "source": [
    "len(test_df)"
   ]
  },
  {
   "cell_type": "code",
   "execution_count": 86,
   "id": "d745c0d7",
   "metadata": {},
   "outputs": [
    {
     "data": {
      "text/plain": [
       "yes                       7468\n",
       "no                        1995\n",
       "limited                   1583\n",
       "designated                  42\n",
       "no space                     1\n",
       "no use other side door       0\n",
       "no;yes                       0\n",
       "Name: wheelchair, dtype: int64"
      ]
     },
     "execution_count": 86,
     "metadata": {},
     "output_type": "execute_result"
    }
   ],
   "source": [
    "test_df['wheelchair'].value_counts()"
   ]
  },
  {
   "cell_type": "code",
   "execution_count": 87,
   "id": "3d0291e9",
   "metadata": {},
   "outputs": [],
   "source": [
    "for index, row in test_df.iterrows():\n",
    "    if row['wheelchair'] == 'designated':\n",
    "        test_df.wheelchair[index] = 'limited'\n",
    "    elif row['wheelchair'] == 'no space':\n",
    "        test_df.wheelchair[index] = 'no'\n",
    "    elif row['wheelchair'] == 'no use other side door':\n",
    "        test_df.wheelchair[index] = 'limited'\n",
    "    elif row['wheelchair'] == 'no;yes':\n",
    "        test_df.wheelchair[index] = 'no'"
   ]
  },
  {
   "cell_type": "code",
   "execution_count": 144,
   "id": "aee8ec77",
   "metadata": {},
   "outputs": [
    {
     "data": {
      "text/plain": [
       "yes                       7468\n",
       "no                        1996\n",
       "limited                   1625\n",
       "designated                   0\n",
       "no space                     0\n",
       "no use other side door       0\n",
       "no;yes                       0\n",
       "Name: wheelchair, dtype: int64"
      ]
     },
     "execution_count": 144,
     "metadata": {},
     "output_type": "execute_result"
    }
   ],
   "source": [
    "test_df['wheelchair'].value_counts()"
   ]
  },
  {
   "cell_type": "code",
   "execution_count": 145,
   "id": "c39363d5",
   "metadata": {},
   "outputs": [],
   "source": [
    "retain_list = ['restaurant', 'cafe', 'pub', 'toilets', 'fast_food', 'atm', 'pharmacy', 'bank', 'bar', 'parking']"
   ]
  },
  {
   "cell_type": "code",
   "execution_count": 146,
   "id": "3d6326ae",
   "metadata": {},
   "outputs": [
    {
     "data": {
      "text/plain": [
       "restaurant    1632\n",
       "cafe          1567\n",
       "pub           1420\n",
       "toilets       1245\n",
       "fast_food     1100\n",
       "atm            667\n",
       "pharmacy       479\n",
       "bank           361\n",
       "bar            323\n",
       "parking        323\n",
       "Name: amenity, dtype: int64"
      ]
     },
     "execution_count": 146,
     "metadata": {},
     "output_type": "execute_result"
    }
   ],
   "source": [
    "test_df = test_df[test_df['amenity'].isin(retain_list)]\n",
    "test_df['amenity'].value_counts()"
   ]
  },
  {
   "cell_type": "code",
   "execution_count": 190,
   "id": "7ed1b106",
   "metadata": {},
   "outputs": [
    {
     "data": {
      "text/plain": [
       "yes                       6065\n",
       "no                        1697\n",
       "limited                   1355\n",
       "designated                   0\n",
       "no space                     0\n",
       "no use other side door       0\n",
       "no;yes                       0\n",
       "Name: wheelchair, dtype: int64"
      ]
     },
     "execution_count": 190,
     "metadata": {},
     "output_type": "execute_result"
    }
   ],
   "source": [
    "test_df['wheelchair'].value_counts()"
   ]
  },
  {
   "cell_type": "code",
   "execution_count": 147,
   "id": "037ccc30",
   "metadata": {},
   "outputs": [],
   "source": [
    "test_df['wheelchair'] = pd.Categorical(test_df['wheelchair'])\n",
    "amm_y = test_df['wheelchair'].cat.codes"
   ]
  },
  {
   "cell_type": "code",
   "execution_count": 148,
   "id": "bcc5f6a1",
   "metadata": {},
   "outputs": [
    {
     "data": {
      "text/plain": [
       "6    6065\n",
       "2    1697\n",
       "1    1355\n",
       "dtype: int64"
      ]
     },
     "execution_count": 148,
     "metadata": {},
     "output_type": "execute_result"
    }
   ],
   "source": [
    "amm_y.value_counts()"
   ]
  },
  {
   "cell_type": "code",
   "execution_count": 149,
   "id": "64bc51f7",
   "metadata": {},
   "outputs": [
    {
     "data": {
      "text/plain": [
       "2    6065\n",
       "1    1697\n",
       "0    1355\n",
       "dtype: int64"
      ]
     },
     "execution_count": 149,
     "metadata": {},
     "output_type": "execute_result"
    }
   ],
   "source": [
    "amm_y = amm_y.replace(to_replace=6, value=3)\n",
    "amm_y -= 1\n",
    "amm_y.value_counts()"
   ]
  },
  {
   "cell_type": "code",
   "execution_count": 178,
   "id": "9a5bd529",
   "metadata": {},
   "outputs": [
    {
     "data": {
      "text/html": [
       "<div>\n",
       "<style scoped>\n",
       "    .dataframe tbody tr th:only-of-type {\n",
       "        vertical-align: middle;\n",
       "    }\n",
       "\n",
       "    .dataframe tbody tr th {\n",
       "        vertical-align: top;\n",
       "    }\n",
       "\n",
       "    .dataframe thead th {\n",
       "        text-align: right;\n",
       "    }\n",
       "</style>\n",
       "<table border=\"1\" class=\"dataframe\">\n",
       "  <thead>\n",
       "    <tr style=\"text-align: right;\">\n",
       "      <th></th>\n",
       "      <th>amenity</th>\n",
       "      <th>lon</th>\n",
       "      <th>lat</th>\n",
       "    </tr>\n",
       "  </thead>\n",
       "  <tbody>\n",
       "    <tr>\n",
       "      <th>108042</th>\n",
       "      <td>pub</td>\n",
       "      <td>-0.135513</td>\n",
       "      <td>51.523561</td>\n",
       "    </tr>\n",
       "    <tr>\n",
       "      <th>262708</th>\n",
       "      <td>pub</td>\n",
       "      <td>-0.726258</td>\n",
       "      <td>51.024400</td>\n",
       "    </tr>\n",
       "    <tr>\n",
       "      <th>271339</th>\n",
       "      <td>pub</td>\n",
       "      <td>-1.856858</td>\n",
       "      <td>51.353526</td>\n",
       "    </tr>\n",
       "    <tr>\n",
       "      <th>367457</th>\n",
       "      <td>parking</td>\n",
       "      <td>-1.446450</td>\n",
       "      <td>52.984748</td>\n",
       "    </tr>\n",
       "    <tr>\n",
       "      <th>581475</th>\n",
       "      <td>pub</td>\n",
       "      <td>-1.498968</td>\n",
       "      <td>53.682814</td>\n",
       "    </tr>\n",
       "  </tbody>\n",
       "</table>\n",
       "</div>"
      ],
      "text/plain": [
       "        amenity       lon        lat\n",
       "108042      pub -0.135513  51.523561\n",
       "262708      pub -0.726258  51.024400\n",
       "271339      pub -1.856858  51.353526\n",
       "367457  parking -1.446450  52.984748\n",
       "581475      pub -1.498968  53.682814"
      ]
     },
     "execution_count": 178,
     "metadata": {},
     "output_type": "execute_result"
    }
   ],
   "source": [
    "amm_x = test_df.drop(columns='wheelchair')\n",
    "#amm_x['amenity'] = pd.Categorical(amm_x['amenity'])\n",
    "#amm_x['amenity'] = amm_x['amenity'].cat.codes\n",
    "amm_x.head()"
   ]
  },
  {
   "cell_type": "code",
   "execution_count": 179,
   "id": "0d0bb128",
   "metadata": {},
   "outputs": [
    {
     "data": {
      "text/plain": [
       "restaurant    1632\n",
       "cafe          1567\n",
       "pub           1420\n",
       "toilets       1245\n",
       "fast_food     1100\n",
       "atm            667\n",
       "pharmacy       479\n",
       "bank           361\n",
       "bar            323\n",
       "parking        323\n",
       "Name: amenity, dtype: int64"
      ]
     },
     "execution_count": 179,
     "metadata": {},
     "output_type": "execute_result"
    }
   ],
   "source": [
    "amm_x['amenity'].value_counts()"
   ]
  },
  {
   "cell_type": "code",
   "execution_count": 180,
   "id": "ce7f5117",
   "metadata": {},
   "outputs": [
    {
     "data": {
      "text/html": [
       "<div>\n",
       "<style scoped>\n",
       "    .dataframe tbody tr th:only-of-type {\n",
       "        vertical-align: middle;\n",
       "    }\n",
       "\n",
       "    .dataframe tbody tr th {\n",
       "        vertical-align: top;\n",
       "    }\n",
       "\n",
       "    .dataframe thead th {\n",
       "        text-align: right;\n",
       "    }\n",
       "</style>\n",
       "<table border=\"1\" class=\"dataframe\">\n",
       "  <thead>\n",
       "    <tr style=\"text-align: right;\">\n",
       "      <th></th>\n",
       "      <th>amenity</th>\n",
       "      <th>lon</th>\n",
       "      <th>lat</th>\n",
       "    </tr>\n",
       "  </thead>\n",
       "  <tbody>\n",
       "    <tr>\n",
       "      <th>108042</th>\n",
       "      <td>7</td>\n",
       "      <td>-0.135513</td>\n",
       "      <td>51.523561</td>\n",
       "    </tr>\n",
       "    <tr>\n",
       "      <th>262708</th>\n",
       "      <td>7</td>\n",
       "      <td>-0.726258</td>\n",
       "      <td>51.024400</td>\n",
       "    </tr>\n",
       "    <tr>\n",
       "      <th>271339</th>\n",
       "      <td>7</td>\n",
       "      <td>-1.856858</td>\n",
       "      <td>51.353526</td>\n",
       "    </tr>\n",
       "    <tr>\n",
       "      <th>367457</th>\n",
       "      <td>5</td>\n",
       "      <td>-1.446450</td>\n",
       "      <td>52.984748</td>\n",
       "    </tr>\n",
       "    <tr>\n",
       "      <th>581475</th>\n",
       "      <td>7</td>\n",
       "      <td>-1.498968</td>\n",
       "      <td>53.682814</td>\n",
       "    </tr>\n",
       "  </tbody>\n",
       "</table>\n",
       "</div>"
      ],
      "text/plain": [
       "        amenity       lon        lat\n",
       "108042        7 -0.135513  51.523561\n",
       "262708        7 -0.726258  51.024400\n",
       "271339        7 -1.856858  51.353526\n",
       "367457        5 -1.446450  52.984748\n",
       "581475        7 -1.498968  53.682814"
      ]
     },
     "execution_count": 180,
     "metadata": {},
     "output_type": "execute_result"
    }
   ],
   "source": [
    "amm_x['amenity'] = pd.Categorical(amm_x['amenity'])\n",
    "amm_x['amenity'] = amm_x['amenity'].cat.codes\n",
    "amm_x.head()"
   ]
  },
  {
   "cell_type": "code",
   "execution_count": 181,
   "id": "9c618b6e",
   "metadata": {},
   "outputs": [
    {
     "data": {
      "text/plain": [
       "8    1632\n",
       "3    1567\n",
       "7    1420\n",
       "9    1245\n",
       "4    1100\n",
       "0     667\n",
       "6     479\n",
       "1     361\n",
       "2     323\n",
       "5     323\n",
       "Name: amenity, dtype: int64"
      ]
     },
     "execution_count": 181,
     "metadata": {},
     "output_type": "execute_result"
    }
   ],
   "source": [
    "amm_x['amenity'].value_counts()"
   ]
  },
  {
   "cell_type": "code",
   "execution_count": 182,
   "id": "509b27cf",
   "metadata": {},
   "outputs": [],
   "source": [
    "amm_X_train, amm_X_test, amm_y_train, amm_y_test = train_test_split(amm_x, amm_y, test_size=0.20, random_state=42)"
   ]
  },
  {
   "cell_type": "code",
   "execution_count": 183,
   "id": "09c866f0",
   "metadata": {},
   "outputs": [],
   "source": [
    "amm_dtrain = xgb.DMatrix(amm_X_train, label=amm_y_train)"
   ]
  },
  {
   "cell_type": "code",
   "execution_count": 184,
   "id": "ad0998bf",
   "metadata": {},
   "outputs": [],
   "source": [
    "amm_param = {'objective': 'multi:softmax', 'num_class':3}"
   ]
  },
  {
   "cell_type": "code",
   "execution_count": 185,
   "id": "61458c1f",
   "metadata": {},
   "outputs": [
    {
     "name": "stdout",
     "output_type": "stream",
     "text": [
      "[16:05:02] WARNING: ../src/learner.cc:1095: Starting in XGBoost 1.3.0, the default evaluation metric used with the objective 'multi:softmax' was changed from 'merror' to 'mlogloss'. Explicitly set eval_metric if you'd like to restore the old behavior.\n"
     ]
    }
   ],
   "source": [
    "amm_num_round = 100\n",
    "amm_bst = xgb.train(amm_param, amm_dtrain, amm_num_round)"
   ]
  },
  {
   "cell_type": "code",
   "execution_count": 186,
   "id": "5740a778",
   "metadata": {},
   "outputs": [],
   "source": [
    "amm_dtest = xgb.DMatrix(amm_X_test)\n",
    "amm_preds = amm_bst.predict(amm_dtest)"
   ]
  },
  {
   "cell_type": "code",
   "execution_count": 187,
   "id": "5cde4905",
   "metadata": {},
   "outputs": [
    {
     "data": {
      "text/plain": [
       "<AxesSubplot:title={'center':'Feature importance'}, xlabel='F score', ylabel='Features'>"
      ]
     },
     "execution_count": 187,
     "metadata": {},
     "output_type": "execute_result"
    },
    {
     "data": {
      "image/png": "[encoded data removed]",
      "text/plain": [
       "<Figure size 432x288 with 1 Axes>"
      ]
     },
     "metadata": {
      "needs_background": "light"
     },
     "output_type": "display_data"
    }
   ],
   "source": [
    "xgb.plot_importance(amm_bst)"
   ]
  },
  {
   "cell_type": "code",
   "execution_count": 188,
   "id": "b6b3cd3f",
   "metadata": {},
   "outputs": [
    {
     "data": {
      "text/plain": [
       "0.6847587719298246"
      ]
     },
     "execution_count": 188,
     "metadata": {},
     "output_type": "execute_result"
    }
   ],
   "source": [
    "accuracy_score(amm_y_test, amm_preds)"
   ]
  },
  {
   "cell_type": "code",
   "execution_count": 189,
   "id": "b457319a",
   "metadata": {},
   "outputs": [
    {
     "data": {
      "text/plain": [
       "<matplotlib.colorbar.Colorbar at 0x7f43eb4b05b0>"
      ]
     },
     "execution_count": 189,
     "metadata": {},
     "output_type": "execute_result"
    },
    {
     "data": {
      "image/png": "[encoded data removed]",
      "text/plain": [
       "<Figure size 432x288 with 2 Axes>"
      ]
     },
     "metadata": {
      "needs_background": "light"
     },
     "output_type": "display_data"
    }
   ],
   "source": [
    "plt.hist2d(amm_y_test, amm_preds, bins=3)\n",
    "plt.colorbar()"
   ]
  },
  {
   "cell_type": "code",
   "execution_count": null,
   "id": "317ccce2",
   "metadata": {},
   "outputs": [],
   "source": []
  }
 ],
 "metadata": {
  "kernelspec": {
   "display_name": "Python 3",
   "language": "python",
   "name": "python3"
  },
  "language_info": {
   "codemirror_mode": {
    "name": "ipython",
    "version": 3
   },
   "file_extension": ".py",
   "mimetype": "text/x-python",
   "name": "python",
   "nbconvert_exporter": "python",
   "pygments_lexer": "ipython3",
   "version": "3.8.5"
  }
 },
 "nbformat": 4,
 "nbformat_minor": 5
}
