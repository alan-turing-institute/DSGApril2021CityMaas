{
  "nbformat": 4,
  "nbformat_minor": 0,
  "metadata": {
    "colab": {
      "name": "altitude_profile.ipynb",
      "provenance": [],
      "collapsed_sections": []
    },
    "kernelspec": {
      "name": "python3",
      "display_name": "Python 3"
    },
    "language_info": {
      "name": "python"
    }
  },
  "cells": [
    {
      "cell_type": "markdown",
      "metadata": {
        "id": "olW7uFAUsVMg"
      },
      "source": [
        "**Requirements/Dependecies**"
      ]
    },
    {
      "cell_type": "code",
      "metadata": {
        "colab": {
          "base_uri": "https://localhost:8080/"
        },
        "id": "4_Zeo6GhvACk",
        "outputId": "70a9346b-834c-4bd4-b286-c35c49f2b287"
      },
      "source": [
        "!pip install rasterio\n",
        "import rasterio\n",
        "import numpy as np\n",
        "from rasterio.plot import show, adjust_band\n",
        "import numpy as np\n",
        "from rasterio.warp import transform\n",
        "from rasterio.crs import CRS\n",
        "from math import sin, cos, sqrt, atan2, radians\n",
        "import math\n",
        "import matplotlib.pyplot as plt"
      ],
      "execution_count": 1,
      "outputs": [
        {
          "output_type": "stream",
          "text": [
            "Collecting rasterio\n",
            "\u001b[?25l  Downloading https://files.pythonhosted.org/packages/e1/bf/d3c5e7df3828db144a6797269bf3aec31db96c20f13e75b93179eb059955/rasterio-1.2.3-cp37-cp37m-manylinux1_x86_64.whl (19.1MB)\n",
            "\u001b[K     |████████████████████████████████| 19.1MB 220kB/s \n",
            "\u001b[?25hCollecting affine\n",
            "  Downloading https://files.pythonhosted.org/packages/ac/a6/1a39a1ede71210e3ddaf623982b06ecfc5c5c03741ae659073159184cd3e/affine-2.3.0-py2.py3-none-any.whl\n",
            "Requirement already satisfied: certifi in /usr/local/lib/python3.7/dist-packages (from rasterio) (2020.12.5)\n",
            "Collecting cligj>=0.5\n",
            "  Downloading https://files.pythonhosted.org/packages/42/1e/947eadf10d6804bf276eb8a038bd5307996dceaaa41cfd21b7a15ec62f5d/cligj-0.7.1-py3-none-any.whl\n",
            "Requirement already satisfied: click<8,>=4.0 in /usr/local/lib/python3.7/dist-packages (from rasterio) (7.1.2)\n",
            "Collecting snuggs>=1.4.1\n",
            "  Downloading https://files.pythonhosted.org/packages/cc/0e/d27d6e806d6c0d1a2cfdc5d1f088e42339a0a54a09c3343f7f81ec8947ea/snuggs-1.4.7-py3-none-any.whl\n",
            "Requirement already satisfied: attrs in /usr/local/lib/python3.7/dist-packages (from rasterio) (20.3.0)\n",
            "Requirement already satisfied: numpy in /usr/local/lib/python3.7/dist-packages (from rasterio) (1.19.5)\n",
            "Collecting click-plugins\n",
            "  Downloading https://files.pythonhosted.org/packages/e9/da/824b92d9942f4e472702488857914bdd50f73021efea15b4cad9aca8ecef/click_plugins-1.1.1-py2.py3-none-any.whl\n",
            "Requirement already satisfied: pyparsing>=2.1.6 in /usr/local/lib/python3.7/dist-packages (from snuggs>=1.4.1->rasterio) (2.4.7)\n",
            "Installing collected packages: affine, cligj, snuggs, click-plugins, rasterio\n",
            "Successfully installed affine-2.3.0 click-plugins-1.1.1 cligj-0.7.1 rasterio-1.2.3 snuggs-1.4.7\n"
          ],
          "name": "stdout"
        }
      ]
    },
    {
      "cell_type": "markdown",
      "metadata": {
        "id": "QF2HLVTWs-jh"
      },
      "source": [
        "**Load Image**"
      ]
    },
    {
      "cell_type": "code",
      "metadata": {
        "id": "b9agJcgOuOLC"
      },
      "source": [
        "dataset = rasterio.open('/content/TQ28ne_DTM_2m.tif')"
      ],
      "execution_count": null,
      "outputs": []
    },
    {
      "cell_type": "markdown",
      "metadata": {
        "id": "u_Vh4AmdtO9_"
      },
      "source": [
        "**Coordinate refernece System**"
      ]
    },
    {
      "cell_type": "code",
      "metadata": {
        "colab": {
          "base_uri": "https://localhost:8080/"
        },
        "id": "lLeDOjnRuZ4X",
        "outputId": "3266059b-7937-408d-a969-b3a970ef0158"
      },
      "source": [
        "dataset.crs"
      ],
      "execution_count": null,
      "outputs": [
        {
          "output_type": "execute_result",
          "data": {
            "text/plain": [
              "CRS.from_epsg(27700)"
            ]
          },
          "metadata": {
            "tags": []
          },
          "execution_count": 8
        }
      ]
    },
    {
      "cell_type": "markdown",
      "metadata": {
        "id": "WkG5JEK2tTpe"
      },
      "source": [
        "**Image bounds**"
      ]
    },
    {
      "cell_type": "code",
      "metadata": {
        "colab": {
          "base_uri": "https://localhost:8080/"
        },
        "id": "7TQD55o2ubl0",
        "outputId": "2e79ebe5-6bd9-4ed0-dc71-7c1e777b9a9c"
      },
      "source": [
        "dataset.bounds"
      ],
      "execution_count": null,
      "outputs": [
        {
          "output_type": "execute_result",
          "data": {
            "text/plain": [
              "BoundingBox(left=525000.0, bottom=185000.0, right=530000.0, top=190000.0)"
            ]
          },
          "metadata": {
            "tags": []
          },
          "execution_count": 9
        }
      ]
    },
    {
      "cell_type": "markdown",
      "metadata": {
        "id": "tJoi8itltZ2w"
      },
      "source": [
        "**Affine Transform Info**"
      ]
    },
    {
      "cell_type": "code",
      "metadata": {
        "colab": {
          "base_uri": "https://localhost:8080/"
        },
        "id": "QA9Q0gGGuez8",
        "outputId": "10360763-e397-4d95-f5e6-3bfb7e4fa9de"
      },
      "source": [
        "dataset.transform"
      ],
      "execution_count": null,
      "outputs": [
        {
          "output_type": "execute_result",
          "data": {
            "text/plain": [
              "Affine(2.0, 0.0, 525000.0,\n",
              "       0.0, -2.0, 190000.0)"
            ]
          },
          "metadata": {
            "tags": []
          },
          "execution_count": 10
        }
      ]
    },
    {
      "cell_type": "markdown",
      "metadata": {
        "id": "MUpNQOFzt41r"
      },
      "source": [
        "**Channels**"
      ]
    },
    {
      "cell_type": "code",
      "metadata": {
        "colab": {
          "base_uri": "https://localhost:8080/"
        },
        "id": "dxVT91WFvzCR",
        "outputId": "f204458f-17f4-4739-8c9e-1a58570a4d1b"
      },
      "source": [
        "dataset.indexes"
      ],
      "execution_count": null,
      "outputs": [
        {
          "output_type": "execute_result",
          "data": {
            "text/plain": [
              "(1,)"
            ]
          },
          "metadata": {
            "tags": []
          },
          "execution_count": 11
        }
      ]
    },
    {
      "cell_type": "markdown",
      "metadata": {
        "id": "auwJ4khvuJ4y"
      },
      "source": [
        "**Read Channel**"
      ]
    },
    {
      "cell_type": "code",
      "metadata": {
        "id": "u7sUkZdVv5b7"
      },
      "source": [
        "img = dataset.read(1)"
      ],
      "execution_count": null,
      "outputs": []
    },
    {
      "cell_type": "code",
      "metadata": {
        "id": "dvDpurz6wIf-"
      },
      "source": [
        "imgdata = np.array([adjust_band(dataset.read(1)) for i in (3,2,1)])"
      ],
      "execution_count": null,
      "outputs": []
    },
    {
      "cell_type": "code",
      "metadata": {
        "colab": {
          "base_uri": "https://localhost:8080/",
          "height": 303
        },
        "id": "Z9ZITUF6wMIc",
        "outputId": "5cca26a1-b5c0-405c-beb1-ad8f523583ab"
      },
      "source": [
        "show(imgdata*3)"
      ],
      "execution_count": null,
      "outputs": [
        {
          "output_type": "stream",
          "text": [
            "Clipping input data to the valid range for imshow with RGB data ([0..1] for floats or [0..255] for integers).\n"
          ],
          "name": "stderr"
        },
        {
          "output_type": "display_data",
          "data": {
            "image/png": "[encoded data removed]",
            "text/plain": [
              "<Figure size 432x288 with 1 Axes>"
            ]
          },
          "metadata": {
            "tags": [],
            "needs_background": "light"
          }
        },
        {
          "output_type": "execute_result",
          "data": {
            "text/plain": [
              "<matplotlib.axes._subplots.AxesSubplot at 0x7fc2fa754dd0>"
            ]
          },
          "metadata": {
            "tags": []
          },
          "execution_count": 14
        }
      ]
    },
    {
      "cell_type": "markdown",
      "metadata": {
        "id": "pIMf5jrKubeh"
      },
      "source": [
        "**Pixel to Image location in Image CRS**"
      ]
    },
    {
      "cell_type": "code",
      "metadata": {
        "colab": {
          "base_uri": "https://localhost:8080/"
        },
        "id": "R-z0-eTDw85B",
        "outputId": "28bd4446-7dc3-4019-885b-97a7ed7aa304"
      },
      "source": [
        "x, y = dataset.xy(1, 1)\n",
        "print(x,y)"
      ],
      "execution_count": null,
      "outputs": [
        {
          "output_type": "stream",
          "text": [
            "525003.0 189997.0\n"
          ],
          "name": "stdout"
        }
      ]
    },
    {
      "cell_type": "code",
      "metadata": {
        "colab": {
          "base_uri": "https://localhost:8080/"
        },
        "id": "Gl2vxJ5uxHpk",
        "outputId": "b90537be-c708-40db-c6d0-5be558be6e8a"
      },
      "source": [
        "x, y = dataset.transform * (1000, 1000)\n",
        "print(x,y)"
      ],
      "execution_count": null,
      "outputs": [
        {
          "output_type": "stream",
          "text": [
            "527000.0 188000.0\n"
          ],
          "name": "stdout"
        }
      ]
    },
    {
      "cell_type": "code",
      "metadata": {
        "colab": {
          "base_uri": "https://localhost:8080/"
        },
        "id": "bj_vxPwvxSKV",
        "outputId": "ebbc493d-cca8-4674-81b3-3938b3a681b7"
      },
      "source": [
        "row, column = dataset.index(527000.0, 188000.0)\n",
        "print(row,column)"
      ],
      "execution_count": null,
      "outputs": [
        {
          "output_type": "stream",
          "text": [
            "1000 1000\n"
          ],
          "name": "stdout"
        }
      ]
    },
    {
      "cell_type": "markdown",
      "metadata": {
        "id": "P7TmrHA3uxTB"
      },
      "source": [
        "**Image CRS to WSG84**"
      ]
    },
    {
      "cell_type": "code",
      "metadata": {
        "colab": {
          "base_uri": "https://localhost:8080/"
        },
        "id": "vlvRhbiKl0Xx",
        "outputId": "91d1bfa2-d3b5-4321-ed20-ca84edd71119"
      },
      "source": [
        "img_pts = ([(dataset.transform * (x, x)) for x in np.arange(1, 1000, 1)])\n",
        "\n",
        "WGS84 = CRS.from_epsg(4326)\n",
        "epsg_27700 = CRS.from_epsg(27700)\n",
        "\n",
        "def get_coords(img_pts):\n",
        "  results = []\n",
        "  for pos in img_pts:\n",
        "    lat_long = transform(epsg_27700, WGS84,xs=[pos[0]], ys=[pos[1]])\n",
        "    results.append([lat_long[1][0],lat_long[0][0]])\n",
        "  return results\n",
        "\n",
        "lat_longs = get_coords(img_pts)\n",
        "print(lat_longs)"
      ],
      "execution_count": null,
      "outputs": [
        {
          "output_type": "stream",
          "text": [
            "[[51.594968736823255, -0.19677678491595763], [51.59495031973643, -0.19674863872787507], [51.59493190264304, -0.19672049256255061], [51.594913485543024, -0.1966923464199834], [51.594895068436436, -0.1966642003001736], [51.594876651323275, -0.19663605420312064], [51.59485823420353, -0.1966079081288258], [51.59483981707719, -0.19657976207728786], [51.59482139994427, -0.19655161604850765], [51.59480298280476, -0.19652347004248388], [51.59478456565865, -0.19649532405921785], [51.594766148506, -0.1964671780987092], [51.59474773134672, -0.19643903216095734], [51.59472931418086, -0.19641088624596326], [51.59471089700842, -0.19638274035372522], [51.5946924798294, -0.19635459448424575], [51.59467406264379, -0.19632644863752202], [51.59465564545157, -0.19629830281355629], [51.5946372282528, -0.19627015701234712], [51.59461881104744, -0.19624201123389484], [51.59460039383547, -0.19621386547819988], [51.594581976616944, -0.19618571974526144], [51.59456355939183, -0.19615757403508027], [51.59454514216011, -0.19612942834765645], [51.59452672492181, -0.1961012826829887], [51.594508307676925, -0.19607313704107787], [51.59448989042546, -0.19604499142192394], [51.59447147316741, -0.19601684582552695], [51.594453055902754, -0.19598870025188644], [51.59443463863153, -0.1959605547010032], [51.59441622135372, -0.19593240917287616], [51.59439780406934, -0.19590426366750596], [51.59437938677836, -0.1958761181848923], [51.59436096948077, -0.1958479727250359], [51.59434255217662, -0.19581982728793565], [51.59432413486587, -0.1957916818735927], [51.594305717548565, -0.1957635364820055], [51.59428730022464, -0.19573539111317434], [51.594268882894156, -0.1957072457671009], [51.594250465557074, -0.19567910044378323], [51.59423204821341, -0.19565095514322242], [51.59421363086316, -0.1956228098654173], [51.59419521350632, -0.19559466461036956], [51.59417679614288, -0.19556651937807829], [51.59415837877289, -0.19553837416854228], [51.59413996139629, -0.19551022898176326], [51.59412154401312, -0.19548208381774035], [51.59410312662335, -0.19545393867647431], [51.594084709227, -0.19542579355796397], [51.594066291824056, -0.1953976484622102], [51.59404787441454, -0.19536950338921252], [51.594029456998435, -0.19534135833897012], [51.59401103957575, -0.19531321331148505], [51.593992622146466, -0.19528506830675532], [51.593974204710605, -0.19525692332478284], [51.59395578726816, -0.19522877836556496], [51.59393736981912, -0.19520063342910432], [51.59391895236351, -0.195172488515399], [51.59390053490131, -0.19514434362444982], [51.593882117432514, -0.19511619875625674], [51.593863699957126, -0.19508805391081976], [51.59384528247516, -0.19505990908813925], [51.59382686498663, -0.19503176428821375], [51.59380844749152, -0.19500361951104392], [51.5937900299898, -0.1949754747566306], [51.59377161248148, -0.194947330024973], [51.5937531949666, -0.1949191853160707], [51.593734777445135, -0.1948910406299249], [51.59371635991708, -0.1948628959665341], [51.59369794238245, -0.19483475132589936], [51.59367952484122, -0.19480660670802075], [51.59366110729341, -0.1947784621128974], [51.593642689739006, -0.19475031754052985], [51.59362427217804, -0.19472217299091757], [51.593605854610466, -0.19469402846406098], [51.593587437036305, -0.19466588395996012], [51.593569019455565, -0.19463773947861418], [51.59355060186825, -0.19460959502002476], [51.593532184274366, -0.19458145058418985], [51.593513766673865, -0.19455330617111108], [51.5934953490668, -0.19452516178078805], [51.593476931453125, -0.19449701741321987], [51.593458513832886, -0.19446887306840704], [51.593440096206045, -0.1944407287463499], [51.59342167857263, -0.1944125844470481], [51.593403260932625, -0.19438444017050158], [51.593384843286046, -0.19435629591670966], [51.59336642563287, -0.1943281516856742], [51.59334800797312, -0.1943000074773925], [51.59332959030679, -0.19427186329186727], [51.59331117263386, -0.194243719129097], [51.59329275495435, -0.19421557498908124], [51.59327433726824, -0.1941874308718215], [51.59325591957558, -0.19415928677731598], [51.59323750187629, -0.19413114270556656], [51.593219084170464, -0.19410299865657088], [51.59320066645803, -0.1940748546303313], [51.59318224873901, -0.1940467106268466], [51.593163831013406, -0.19401856664611647], [51.593145413281206, -0.19399042268814082], [51.59312699554245, -0.19396227875292135], [51.593108577797075, -0.19393413484045594], [51.59309016004514, -0.1939059909507459], [51.59307174228661, -0.19387784708379033], [51.593053324521506, -0.19384970323959017], [51.593034906749814, -0.19382155941814364], [51.59301648897153, -0.19379341561945243], [51.59299807118666, -0.19376527184351616], [51.592979653395204, -0.19373712809033447], [51.59296123559719, -0.19370898435990808], [51.59294281779256, -0.1936808406522357], [51.592924399981364, -0.19365269696731832], [51.59290598216358, -0.1936245533051551], [51.592887564339215, -0.19359640966574643], [51.59286914650825, -0.19356826604909338], [51.59285072867071, -0.19354012245519367], [51.592832310826594, -0.19351197888404892], [51.592813892975876, -0.19348383533565872], [51.59279547511858, -0.19345569181002295], [51.59277705725469, -0.19342754830714176], [51.59275863938424, -0.19339940482701506], [51.59274022150719, -0.19337126136964294], [51.59272180362355, -0.1933431179350237], [51.59270338573334, -0.19331497452316018], [51.59268496783654, -0.19328683113405043], [51.592666549933156, -0.1932586877676956], [51.592648132023186, -0.19323054442409404], [51.592629714106636, -0.19320240110324782], [51.592611296183485, -0.19317425780515496], [51.59259287825376, -0.193146114529817], [51.59257446031748, -0.19311797127723276], [51.59255604237457, -0.19308982804740224], [51.5925376244251, -0.1930616848403262], [51.59251920646903, -0.1930335416560048], [51.592500788506385, -0.1930053984944375], [51.59248237053716, -0.19297725535562307], [51.592463952561346, -0.19294911223956362], [51.592445534578964, -0.19292096914625748], [51.592427116589974, -0.19289282607570546], [51.59240869859441, -0.19286468302790755], [51.592390280592255, -0.19283654000286332], [51.59237186258354, -0.19280839700057334], [51.59235344456822, -0.19278025402103738], [51.59233502654631, -0.1927521110642548], [51.59231660851784, -0.19272396813022594], [51.59229819048276, -0.1926958252189508], [51.5922797724411, -0.19266768233043016], [51.59226135439286, -0.19263953946466286], [51.59224293633803, -0.19261139662164894], [51.59222451827662, -0.19258325380138872], [51.59220610020865, -0.19255511100388223], [51.592187682134075, -0.19252696822912982], [51.59216926405291, -0.19249882547713038], [51.59215084596518, -0.19247068274788426], [51.592132427870844, -0.1924425400413931], [51.59211400976993, -0.19241439735765406], [51.592095591662435, -0.1923862546966691], [51.59207717354836, -0.19235811205843711], [51.59205875542771, -0.19232996944295924], [51.592040337300446, -0.19230182685023467], [51.59202191916662, -0.19227368428026342], [51.592003501026205, -0.19224554173304556], [51.59198508287922, -0.19221739920858028], [51.59196666472563, -0.19218925670686904], [51.59194824656546, -0.19216111422791152], [51.59192982839871, -0.19213297177170613], [51.591911410225386, -0.19210482933825493], [51.59189299204549, -0.19207668692755664], [51.59187457385897, -0.19204854453961168], [51.59185615566588, -0.19202040217441926], [51.59183773746622, -0.19199225983197976], [51.59181931925997, -0.19196411751229397], [51.59180090104712, -0.19193597521536193], [51.59178248282771, -0.1919078329411824], [51.591764064601726, -0.1918796906897551], [51.59174564636913, -0.19185154846108182], [51.59172722812994, -0.1918234062551615], [51.5917088098842, -0.19179526407199335], [51.59169039163185, -0.19176712191157969], [51.59167197337293, -0.19173897977391696], [51.591653555107435, -0.19171083765900798], [51.59163513683536, -0.191682695566852], [51.59161671855667, -0.1916545534974488], [51.591598300271414, -0.19162641145079864], [51.59157988197958, -0.1915982694269006], [51.59156146368115, -0.1915701274257555], [51.591543045376156, -0.1915419854473633], [51.59152462706456, -0.1915138434917241], [51.591506208746395, -0.1914857015588374], [51.59148779042164, -0.1914575596487028], [51.591469372090295, -0.19142941776132158], [51.59145095375236, -0.19140127589669248], [51.59143253540787, -0.19137313405481632], [51.59141411705677, -0.19134499223569143], [51.59139569869909, -0.19131685043932037], [51.59137728033484, -0.1912887086657014], [51.59135886196399, -0.1912605669148354], [51.59134044358658, -0.19123242518672065], [51.591322025202565, -0.19120428348136015], [51.59130360681197, -0.1911761417987505], [51.591285188414794, -0.19114800013889424], [51.591266770011025, -0.19111985850178928], [51.591248351600704, -0.19109171688743729], [51.591229933183776, -0.19106357529583665], [51.59121151476027, -0.1910354337269905], [51.59119309633017, -0.1910072921808945], [51.59117467789349, -0.19097915065755142], [51.591156259450244, -0.19095100915696014], [51.591137841000396, -0.19092286767912137], [51.59111942254398, -0.19089472622403514], [51.59110100408097, -0.1908665847917006], [51.59108258561138, -0.19083844338211742], [51.5910641671352, -0.19081030199528803], [51.59104574865244, -0.19078216063120948], [51.59102733016311, -0.19075401928988273], [51.59100891166718, -0.1907258779713086], [51.59099049316469, -0.19069773667548567], [51.59097207465559, -0.19066959540241496], [51.59095365613992, -0.19064145415209713], [51.590935237617664, -0.1906133129245303], [51.59091681908881, -0.19058517171971515], [51.59089840055341, -0.19055703053765183], [51.59087998201141, -0.19052888937834098], [51.590861563462816, -0.1905007482417819], [51.59084314490764, -0.19047260712797376], [51.59082472634589, -0.19044446603691773], [51.59080630777755, -0.1904163249686134], [51.59078788920263, -0.1903881839230609], [51.590769470621126, -0.19036004290026048], [51.59075105203304, -0.19033190190021063], [51.590732633438364, -0.19030376092291254], [51.59071421483713, -0.19027561996836662], [51.59069579622928, -0.19024747903657235], [51.590677377614874, -0.1902193381275287], [51.59065895899386, -0.1901911972412371], [51.590640540366266, -0.19016305637769734], [51.59062212173212, -0.1901349155369089], [51.59060370309137, -0.19010677471887177], [51.590585284444025, -0.1900786339235856], [51.59056686579011, -0.1900504931510508], [51.59054844712962, -0.1900223524012673], [51.59053002846254, -0.18999421167423555], [51.59051160978886, -0.18996607096995516], [51.59049319110863, -0.1899379302884257], [51.59047477242179, -0.18990978962964764], [51.59045635372839, -0.18988164899362045], [51.590437935028405, -0.18985350838034465], [51.590419516321795, -0.1898253677898209], [51.590401097608655, -0.189797227222047], [51.5903826788889, -0.1897690866770252], [51.59036426016257, -0.18974094615475395], [51.590345841429674, -0.18971280565523327], [51.59032742269019, -0.18968466517846475], [51.59030900394412, -0.18965652472444672], [51.590290585191454, -0.18962838429317966], [51.59027216643222, -0.18960024388466312], [51.59025374766639, -0.1895721034988976], [51.59023532889399, -0.18954396313588376], [51.59021691011501, -0.1895158227956201], [51.59019849132944, -0.18948768247810735], [51.59018007253729, -0.18945954218334557], [51.59016165373855, -0.18943140191133467], [51.59014323493323, -0.18940326166207483], [51.590124816121346, -0.18937512143556515], [51.590106397302854, -0.1893469812318063], [51.59008797847778, -0.189318841050798], [51.59006955964614, -0.18929070089254155], [51.5900511408079, -0.18926256075703476], [51.590032721963105, -0.18923442064427815], [51.590014303111715, -0.18920628055427252], [51.589995884253725, -0.18917814048701817], [51.589977465389175, -0.18915000044251362], [51.589959046518025, -0.18912186042076], [51.58994062764031, -0.18909372042175612], [51.58992220875599, -0.18906558044550403], [51.58990378986511, -0.18903744049200127], [51.589885370967636, -0.18900930056124945], [51.58986695206358, -0.1889811606532478], [51.58984853315294, -0.18895302076799586], [51.589830114235724, -0.18892488090549572], [51.58981169531194, -0.18889674106574528], [51.58979327638155, -0.188868601248745], [51.58977485744459, -0.18884046145449407], [51.58975643850105, -0.1888123216829945], [51.58973801955091, -0.18878418193424545], [51.589719600594194, -0.18875604220824624], [51.58970118163092, -0.18872790250499671], [51.58968276266103, -0.18869976282449735], [51.589664343684575, -0.1886716231667481], [51.58964592470153, -0.18864348353174945], [51.5896275057119, -0.18861534391950135], [51.589609086715704, -0.18858720433000178], [51.58959066771291, -0.1885590647632532], [51.589572248703554, -0.18853092521925435], [51.589553829687596, -0.188502785698006], [51.589535410665064, -0.18847464619950668], [51.58951699163596, -0.1884465067237571], [51.58949857260027, -0.18841836727075806], [51.58948015355797, -0.18839022784050913], [51.58946173450913, -0.18836208843300997], [51.58944331545367, -0.1883339490482602], [51.589424896391634, -0.18830580968626015], [51.58940647732303, -0.18827767034701023], [51.589388058247856, -0.18824953103050976], [51.58936963916607, -0.18822139173675898], [51.589351220077724, -0.1881932524657583], [51.5893328009828, -0.1881651132175067], [51.58931438188126, -0.18813697399200516], [51.58929596277318, -0.188108834789253], [51.5892775436585, -0.18808069560925023], [51.58925912453723, -0.1880525564519972], [51.58924070540938, -0.18802441731749386], [51.58922228627496, -0.18799627820573994], [51.58920386713395, -0.18796813911673457], [51.58918544798637, -0.18794000005048012], [51.589167028832186, -0.18791186100697427], [51.58914860967143, -0.18788372198621775], [51.5891301905041, -0.18785558298821095], [51.58911177133019, -0.18782744401295318], [51.58909335214969, -0.1877993050604447], [51.589074932962596, -0.1877711661306864], [51.589056513768945, -0.1877430272236767], [51.589038094568686, -0.1877148883394163], [51.58901967536187, -0.18768674947790495], [51.58900125614845, -0.18765861063914324], [51.58898283692848, -0.18763047182312978], [51.5889644177019, -0.18760233302986637], [51.58894599846874, -0.18757419425935198], [51.58892757922902, -0.1875460555115862], [51.58890915998269, -0.18751791678657007], [51.588890740729795, -0.18748977808430256], [51.58887232147032, -0.18746163940478403], [51.588853902204264, -0.18743350074801404], [51.5888354829316, -0.18740536211399417], [51.58881706365239, -0.1873772235027225], [51.5887986443666, -0.18734908491419938], [51.58878022507418, -0.18732094634842605], [51.58876180577523, -0.18729280780540042], [51.58874338646968, -0.187264669285125], [51.58872496715754, -0.1872365307875977], [51.588706547838854, -0.1872083923128186], [51.588688128513546, -0.18718025386078918], [51.588669709181666, -0.1871521154315084], [51.58865128984321, -0.1871239770249757], [51.588632870498174, -0.18709583864119209], [51.588614451146555, -0.18706770028015735], [51.58859603178835, -0.1870395619418708], [51.58857761242356, -0.18701142362633313], [51.5885591930522, -0.1869832853335441], [51.588540773674254, -0.18695514706350366], [51.588522354289715, -0.18692700881621135], [51.58850393489861, -0.18689887059166757], [51.58848551550093, -0.18687073238987276], [51.588467096096664, -0.18684259421082616], [51.58844867668579, -0.18681445605452765], [51.58843025726837, -0.18678631792097738], [51.588411837844355, -0.18675817981017645], [51.58839341841376, -0.18673004172212285], [51.588374998976576, -0.18670190365681785], [51.58835657953283, -0.18667376561426136], [51.588338160082486, -0.18664562759445308], [51.58831974062555, -0.1866174895973929], [51.58830132116205, -0.18658935162308057], [51.58828290169197, -0.18656121367151754], [51.5882644822153, -0.1865330757427023], [51.588246062732054, -0.18650493783663485], [51.58822764324221, -0.1864767999533155], [51.58820922374583, -0.1864486620927444], [51.588190804242835, -0.18642052425492142], [51.58817238473326, -0.18639238643984657], [51.58815396521711, -0.1863642486475191], [51.58813554569439, -0.1863361108779399], [51.588117126165066, -0.1863079731311087], [51.588098706629175, -0.18627983540702536], [51.5880802870867, -0.18625169770569058], [51.58806186753764, -0.18622356002710277], [51.588043447981995, -0.1861954223712631], [51.58802502841978, -0.186167284738172], [51.58800660885098, -0.18613914712782786], [51.5879881892756, -0.1861110095402319], [51.587969769693636, -0.18608287197538367], [51.587951350105094, -0.18605473443328252], [51.58793293050997, -0.18602659691392984], [51.58791451090827, -0.18599845941732454], [51.587896091299974, -0.185970321943467], [51.58787767168511, -0.18594218449235683], [51.587859252063666, -0.1859140470639944], [51.58784083243564, -0.1858859096583798], [51.58782241280103, -0.18585777227551295], [51.587803993159845, -0.18582963491539306], [51.587785573512065, -0.18580149757802014], [51.587767153857705, -0.18577336026339622], [51.58774873419678, -0.18574522297151919], [51.58773031452925, -0.18571708570238882], [51.587711894855175, -0.1856889484560065], [51.587693475174504, -0.18566081123237088], [51.58767505548724, -0.18563267403148417], [51.58765663579341, -0.18560453685334322], [51.58763821609299, -0.1855763996979501], [51.587619796385994, -0.18554826256530466], [51.5876013766724, -0.18552012545540544], [51.58758295695226, -0.18549198836825395], [51.587564537225525, -0.18546385130384985], [51.5875461174922, -0.1854357142621931], [51.587527697752286, -0.18540757724328297], [51.58750927800583, -0.18537944024711941], [51.58749085825275, -0.18535130327370442], [51.587472438493116, -0.18532316632303555], [51.58745401872688, -0.18529502939511366], [51.58743559895408, -0.1852668924899388], [51.5874171791747, -0.1852387556075121], [51.58739875938872, -0.18521061874783112], [51.58738033959619, -0.18518248191089717], [51.58736191979706, -0.18515434509671053], [51.58734349999136, -0.18512620830527052], [51.58732508017908, -0.18509807153657787], [51.58730666036022, -0.1850699347906306], [51.58728824053476, -0.1850417980674314], [51.587269820702716, -0.1850136613669793], [51.587251400864126, -0.18498552468927296], [51.587232981018936, -0.18495738803431394], [51.587214561167166, -0.1849292514021015], [51.58719614130881, -0.18490111479263568], [51.58717772144388, -0.18487297820591636], [51.58715930157238, -0.1848448416419441], [51.587140881694275, -0.1848167051007183], [51.58712246180961, -0.18478856858223877], [51.587104041918344, -0.1847604320865062], [51.58708562202052, -0.1847322956135206], [51.5870672021161, -0.18470415916327954], [51.58704878220511, -0.18467602273578626], [51.58703036228754, -0.1846478863310396], [51.58701194236339, -0.1846197499490391], [51.58699352243266, -0.18459161358978554], [51.58697510249534, -0.1845634772532778], [51.586956682551445, -0.1845353409395162], [51.58693826260097, -0.1845072046485012], [51.58691984264392, -0.1844790683802328], [51.58690142268028, -0.18445093213471014], [51.58688300271007, -0.184422795911934], [51.58686458273326, -0.18439465971190414], [51.586846162749886, -0.1843665235346204], [51.58682774275995, -0.18433838738008246], [51.5868093227634, -0.18431025124829112], [51.586790902760306, -0.1842821151392463], [51.5867724827506, -0.18425397905294727], [51.58675406273433, -0.18422584298939404], [51.58673564271147, -0.1841977069485866], [51.58671722268202, -0.18416957093052527], [51.58669880264602, -0.1841414349352102], [51.58668038260341, -0.1841132989626413], [51.58666196255424, -0.18408516301281813], [51.58664354249848, -0.18405702708574037], [51.58662512243615, -0.18402889118140917], [51.58660670236723, -0.18400075529982335], [51.58658828229174, -0.18397261944098375], [51.58656986220967, -0.18394448360488908], [51.58655144212101, -0.18391634779154098], [51.586533022025776, -0.18388821200093872], [51.58651460192396, -0.18386007623308218], [51.586496181815555, -0.18383194048797147], [51.58647776170061, -0.1838038047656053], [51.58645934157904, -0.1837756690659865], [51.58644092145091, -0.18374753338911198], [51.58642250131618, -0.1837193977349839], [51.58640408117488, -0.1836912621036013], [51.58638566102701, -0.18366312649496402], [51.586367240872555, -0.1836349909090718], [51.586348820711535, -0.18360685534592608], [51.58633040054392, -0.18357871980552493], [51.586311980369715, -0.1835505842878697], [51.58629356018895, -0.18352244879295967], [51.58627514000158, -0.18349431332079588], [51.58625671980766, -0.18346617787137592], [51.58623829960713, -0.18343804244470205], [51.586219879400055, -0.1834099070407737], [51.586201459186384, -0.18338177165959027], [51.586183038966126, -0.183353636301153], [51.586164618739296, -0.18332550096545955], [51.58614619850589, -0.18329736565251228], [51.586127778265904, -0.18326923036231035], [51.58610935801933, -0.183241095094853], [51.58609093776618, -0.18321295985014147], [51.58607251750645, -0.18318482462817412], [51.58605409724014, -0.18315668942895252], [51.58603567696725, -0.18312855425247637], [51.58601725668779, -0.18310041909874436], [51.58599883640175, -0.18307228396775777], [51.5859804161091, -0.1830441488595161], [51.58596199580991, -0.18301601377401946], [51.585943575504125, -0.18298787871126782], [51.58592515519177, -0.1829597436712607], [51.58590673487282, -0.18293160865399904], [51.5858883145473, -0.18290347365948192], [51.58586989421518, -0.18287533868770983], [51.5858514738765, -0.18284720373868227], [51.585833053531246, -0.18281906881239932], [51.58581463317939, -0.18279093390886172], [51.58579621282097, -0.18276279902806877], [51.58577779245598, -0.18273466417001957], [51.5857593720844, -0.18270652933471618], [51.585740951706256, -0.1826783945221566], [51.5857225313215, -0.18265025973234236], [51.58570411093018, -0.18262212496527266], [51.58568569053229, -0.18259399022094758], [51.58566727012781, -0.18256585549936594], [51.58564884971676, -0.18253772080053043], [51.585630429299094, -0.18250958612443877], [51.58561200887492, -0.18248145147109165], [51.585593588444105, -0.18245331684048913], [51.58557516800674, -0.18242518223263002], [51.585556747562784, -0.18239704764751627], [51.58553832711225, -0.1823689130851467], [51.58551990665514, -0.18234077854552216], [51.58550148619147, -0.18231264402864056], [51.585483065721185, -0.18228450953450356], [51.585464645244336, -0.18225637506311154], [51.585446224760915, -0.18222824061446374], [51.58542780427091, -0.1822001061885597], [51.58540938377432, -0.1821719717854003], [51.58539096327116, -0.18214383740498466], [51.58537254276141, -0.18211570304731356], [51.585354122245086, -0.18208756871238632], [51.58533570172219, -0.18205943440020203], [51.5853172811927, -0.18203130011076318], [51.58529886065664, -0.18200316584406812], [51.585280440114, -0.18197503160011722], [51.58526201956479, -0.18194689737890968], [51.585243599009, -0.18191876318044675], [51.58522517844662, -0.1818906290047284], [51.58520675787767, -0.18186249485175227], [51.58518833730213, -0.1818343607215215], [51.58516991672001, -0.18180622661403384], [51.58515149613133, -0.18177809252928986], [51.58513307553606, -0.18174995846729006], [51.58511465493421, -0.18172182442803414], [51.585096234325775, -0.18169369041152156], [51.58507781371077, -0.18166555641775317], [51.58505939308919, -0.18163742244672854], [51.58504097246103, -0.1816092884984478], [51.58502255182628, -0.1815811545729099], [51.58500413118495, -0.1815530206701159], [51.58498571053706, -0.18152488679006526], [51.58496728988259, -0.1814967529327585], [51.58494886922153, -0.18146861909819578], [51.584930448553884, -0.18144048528637577], [51.584912027879675, -0.18141235149729998], [51.58489360719887, -0.18138421773096705], [51.58487518651152, -0.18135608398737804], [51.58485676581755, -0.18132795026653237], [51.58483834511702, -0.18129981656842928], [51.58481992440991, -0.1812716828930708], [51.58480150369622, -0.1812435492404553], [51.58478308297595, -0.18121541561058283], [51.5847646622491, -0.18118728200345416], [51.58474624151569, -0.18115914841906802], [51.584727820775676, -0.18113101485742536], [51.58470940002911, -0.18110288131852606], [51.58469097927595, -0.18107474780237015], [51.58467255851621, -0.18104661430895722], [51.58465413774989, -0.18101848083828734], [51.584635716977, -0.18099034739036082], [51.58461729619753, -0.1809622139651773], [51.58459887541147, -0.18093408056273638], [51.58458045461883, -0.18090594718303926], [51.58456203381962, -0.18087781382608473], [51.58454361301384, -0.18084968049187358], [51.58452519220149, -0.18082154718040505], [51.58450677138252, -0.18079341389167955], [51.584488350557, -0.18076528062569663], [51.584469929724925, -0.18073714738245625], [51.58445150888622, -0.18070901416195975], [51.584433088040974, -0.18068088096420498], [51.58441466718914, -0.18065274778919443], [51.58439624633072, -0.18062461463692608], [51.58437782546572, -0.18059648150739993], [51.584359404594146, -0.18056834840061722], [51.58434098371599, -0.18054021531657663], [51.58432256283126, -0.1805120822552799], [51.58430414193997, -0.18048394921672453], [51.58428572104207, -0.18045581620091258], [51.5842673001376, -0.18042768320784244], [51.58424887922658, -0.18039955023751572], [51.58423045830895, -0.18037141728993078], [51.58421203738475, -0.18034328436508884], [51.58419361645397, -0.1803151514629899], [51.58417519551662, -0.1802870185836323], [51.58415677457269, -0.18025888572701818], [51.58413835362218, -0.18023075289314586], [51.58411993266509, -0.18020262008201646], [51.584101511701434, -0.18017448729362853], [51.58408309073117, -0.18014635452798364], [51.58406466975437, -0.1801182217850805], [51.58404624877095, -0.18009008906492116], [51.58402782778098, -0.18006195636750208], [51.58400940678442, -0.18003382369282625], [51.583990985781284, -0.18000569104089276], [51.58397256477158, -0.17997755841170102], [51.58395414375527, -0.1799494258052519], [51.58393572273241, -0.17992129322154501], [51.58391730170295, -0.1798931606605803], [51.58389888066692, -0.17986502812235736], [51.58388045962433, -0.17983689560687594], [51.58386203857514, -0.17980876311413696], [51.58384361751939, -0.17978063064414024], [51.583825196457056, -0.17975249819688538], [51.58380677538813, -0.1797243657723726], [51.58378835431264, -0.17969623337060214], [51.58376993323056, -0.1796681009915731], [51.583751512141916, -0.17963996863528583], [51.58373309104669, -0.17961183630174113], [51.583714669944875, -0.17958370399093748], [51.5836962488365, -0.17955557170287598], [51.58367782772153, -0.17952743943755592], [51.583659406600006, -0.1794993071949781], [51.583640985471895, -0.17947117497514162], [51.58362256433719, -0.1794430427780466], [51.58360414319593, -0.1794149106036933], [51.58358572204806, -0.17938677845208234], [51.58356730089365, -0.17935864632321272], [51.58354887973264, -0.17933051421708487], [51.58353045856504, -0.17930238213369848], [51.58351203739089, -0.17927425007305348], [51.58349361621014, -0.17924611803515067], [51.583475195022835, -0.17921798601998884], [51.58345677382894, -0.1791898540275681], [51.58343835262846, -0.17916172205788913], [51.58341993142143, -0.17913359011095198], [51.5834015102078, -0.1791054581867558], [51.583383088987595, -0.17907732628530143], [51.58336466776082, -0.17904919440658812], [51.583346246527455, -0.17902106255061614], [51.58332782528751, -0.17899293071738523], [51.583309404040996, -0.17896479890689607], [51.583290982787894, -0.17893666711914755], [51.583272561528226, -0.17890853535414045], [51.58325414026198, -0.1788804036118744], [51.583235718989144, -0.1788522718923505], [51.58321729770975, -0.17882414019556683], [51.58319887642377, -0.17879600852152452], [51.58318045513122, -0.17876787687022294], [51.58316203383209, -0.17873974524166264], [51.58314361252637, -0.17871161363584384], [51.58312519121408, -0.17868348205276524], [51.58310676989522, -0.17865535049242842], [51.58308834856977, -0.1786272189548322], [51.58306992723776, -0.17859908743997704], [51.583051505899135, -0.1785709559478628], [51.58303308455397, -0.17854282447848926], [51.58301466320221, -0.17851469303185669], [51.58299624184388, -0.17848656160796514], [51.58297782047897, -0.17845843020681465], [51.58295939910749, -0.17843029882840394], [51.582940977729415, -0.17840216747273538], [51.582922556344776, -0.17837403613980626], [51.58290413495356, -0.17834590482961818], [51.582885713555754, -0.17831777354217151], [51.58286729215139, -0.17828964227746474], [51.582848870740435, -0.17826151103549878], [51.58283044932293, -0.17823337981627363], [51.58281202789882, -0.17820524861978898], [51.58279360646813, -0.17817711744604453], [51.58277518503087, -0.1781489862950411], [51.58275676358704, -0.1781208551667784], [51.582738342136615, -0.17809272406125537], [51.58271992067962, -0.17806459297847385], [51.582701499216064, -0.17803646191843134], [51.582683077745905, -0.1780083308811298], [51.58266465626919, -0.1779801998665689], [51.58264623478589, -0.17795206887474815], [51.58262781329601, -0.1779239379056681], [51.58260939179958, -0.17789580695932783], [51.58259097029654, -0.17786767603572815], [51.582572548786935, -0.17783954513486877], [51.58255412727075, -0.17781141425674912], [51.58253570574799, -0.1777832834013706], [51.582517284218646, -0.17775515256873137], [51.58249886268273, -0.1777270217588332], [51.58248044114024, -0.1776988909716744], [51.582462019591176, -0.17767076020725586], [51.58244359803552, -0.17764262946557796], [51.5824251764733, -0.17761449874663904], [51.58240675490448, -0.17758636805044115], [51.58238833332912, -0.1775582373769823], [51.582369911747165, -0.177530106726264], [51.582351490158636, -0.17750197609828564], [51.582333068563536, -0.177473845493047], [51.582314646961855, -0.17744571491054814], [51.582296225353595, -0.1774175843507884], [51.582277803738755, -0.17738945381377], [51.58225938211732, -0.17736132329949145], [51.582240960489344, -0.1773331928079519], [51.58222253885477, -0.17730506233915222], [51.582204117213635, -0.1772769318930923], [51.5821856955659, -0.17724880146977262], [51.5821672739116, -0.1772206710691924], [51.582148852250725, -0.17719254069135115], [51.58213043058326, -0.1771644103362505], [51.58211200890924, -0.17713628000388812], [51.58209358722865, -0.1771081496942667], [51.582075165541454, -0.17708001940738438], [51.582056743847694, -0.17705188914324102], [51.58203832214736, -0.17702375890183794], [51.58201990044044, -0.17699562868317423], [51.582001478726966, -0.17696749848724994], [51.5819830570069, -0.17693936831406468], [51.58196463528026, -0.17691123816361884], [51.581946213547035, -0.17688310803591284], [51.58192779180724, -0.17685497793094623], [51.581909370060856, -0.17682684784871863], [51.58189094830791, -0.17679871778923048], [51.58187252654838, -0.17677058775248133], [51.5818541047823, -0.1767424577384717], [51.58183568300962, -0.176714327747201], [51.58181726123036, -0.1766861977786701], [51.58179883944453, -0.1766580678328775], [51.58178041765212, -0.17662993790982467], [51.58176199585314, -0.17660180800951086], [51.581743574047586, -0.17657367813193608], [51.58172515223544, -0.17654554827710078], [51.581706730416734, -0.176517418445004], [51.58168830859144, -0.1764892886356467], [51.58166988675956, -0.17646115884902847], [51.58165146492112, -0.1764330290851487], [51.58163304307611, -0.17640489934400772], [51.58161462122452, -0.1763767696256061], [51.58159619936633, -0.17634863992994312], [51.58157777750159, -0.17632051025701953], [51.58155935563027, -0.17629238060683383], [51.58154093375238, -0.1762642509793875], [51.58152251186789, -0.1762361213746798], [51.58150408997683, -0.17620799179271118], [51.5814856680792, -0.17617986223348153], [51.58146724617501, -0.17615173269698972], [51.58144882426422, -0.17612360318323772], [51.581430402346875, -0.17609547369222275], [51.58141198042294, -0.1760673442239476], [51.581393558492415, -0.17603921477841156], [51.58137513655533, -0.17601108535561324], [51.581356714611665, -0.1759829559555532], [51.581338292661435, -0.17595482657823255], [51.58131987070462, -0.17592669722364937], [51.58130144874123, -0.17589856789180597], [51.58128302677125, -0.17587043858270043], [51.581264604794704, -0.17584230929633352], [51.58124618281161, -0.17581418003270405], [51.5812277608219, -0.17578605079181397], [51.58120933882564, -0.17575792157366169], [51.58119091682279, -0.1757297923782481], [51.58117249481336, -0.1757016632055727], [51.58115407279736, -0.17567353405563516], [51.58113565077478, -0.17564540492843664], [51.58111722874563, -0.1756172758239759], [51.5810988067099, -0.17558914674225384], [51.58108038466759, -0.17556101768327004], [51.58106196261873, -0.1755328886470236], [51.581043540563265, -0.1755047596335158], [51.581025118501245, -0.17547663064274588], [51.58100669643263, -0.17544850167471374], [51.58098827435744, -0.17542037272941946], [51.58096985227568, -0.17539224380686336], [51.58095143018735, -0.17536411490704637], [51.58093300809244, -0.17533598602996633], [51.58091458599096, -0.17530785717562455], [51.58089616388288, -0.17527972834402025], [51.58087774176825, -0.17525159953515487], [51.58085931964704, -0.17522347074902705], [51.580840897519245, -0.1751953419856362], [51.58082247538489, -0.17516721324498358], [51.58080405324393, -0.17513908452706914], [51.58078563109641, -0.17511095583189215], [51.58076720894233, -0.17508282715945306], [51.58074878678166, -0.17505469850975136], [51.5807303646144, -0.1750265698827879], [51.58071194244061, -0.17499844127856148], [51.580693520260205, -0.17497031269707325], [51.58067509807323, -0.1749421841383225], [51.58065667587969, -0.1749140556023088], [51.58063825367956, -0.17488592708903286], [51.58061983147286, -0.17485779859849476], [51.58060140925958, -0.17482967013069453], [51.580582987039726, -0.17480154168563136], [51.58056456481331, -0.1747734132633048], [51.5805461425803, -0.17474528486371685], [51.58052772034074, -0.174717156486866], [51.58050929809459, -0.1746890281327521], [51.58049087584185, -0.17466089980137606], [51.58047245358255, -0.17463277149273704], [51.58045403131667, -0.1746046432068359], [51.58043560904422, -0.1745765149436714], [51.580417186765196, -0.17454838670324427], [51.58039876447958, -0.1745202584855546], [51.5803803421874, -0.17449213029060237], [51.58036191988866, -0.17446400211838684], [51.580343497583314, -0.17443587396890867], [51.580325075271396, -0.17440774584216753], [51.58030665295292, -0.17437961773816388], [51.580288230627865, -0.17435148965689717], [51.580269808296244, -0.17432336159836684], [51.58025138595803, -0.1742952335625742], [51.58023296361324, -0.17426710554951827], [51.580214541261896, -0.174238977559199], [51.580196118903956, -0.17421084959161712], [51.580177696539444, -0.17418272164677237], [51.58015927416837, -0.17415459372466371], [51.58014085179071, -0.17412646582529256], [51.58012242940646, -0.17409833794865845], [51.580104007015656, -0.1740702100947606], [51.58008558461827, -0.17404208226359935], [51.580067162214306, -0.17401395445517553], [51.580048739803765, -0.17398582666948875], [51.58003031738666, -0.17395769890653784], [51.580011894962986, -0.17392957116632357], [51.5799934725327, -0.1739014434488467], [51.57997505009588, -0.1738733157541061], [51.579956627652464, -0.1738451880821026], [51.57993820520247, -0.17381706043283476], [51.57991978274591, -0.17378893280630373], [51.579901360282776, -0.17376080520250925], [51.57988293781305, -0.17373267762145186], [51.57986451533678, -0.17370455006313068], [51.579846092853906, -0.17367642252754578], [51.57982767036448, -0.17364829501469706], [51.57980924786845, -0.17362016752458578], [51.57979082536587, -0.17359204005721032], [51.579772402856705, -0.17356391261257081], [51.57975398034097, -0.17353578519066748], [51.57973555781866, -0.17350765779150082], [51.57971713528976, -0.17347953041507072], [51.579698712754315, -0.1734514030613766], [51.57968029021226, -0.17342327573041855], [51.57966186766366, -0.1733951484221965], [51.57964344510848, -0.17336702113671099], [51.5796250225467, -0.17333889387396212], [51.579606599978376, -0.17331076663394912], [51.579588177403465, -0.17328263941667119], [51.57956975482198, -0.17325451222213029], [51.57955133223391, -0.17322638505032562], [51.579532909639276, -0.17319825790125676], [51.57951448703806, -0.17317013077492383], [51.57949606443027, -0.17314200367132707], [51.57947764181591, -0.17311387659046576], [51.57945921919497, -0.17308574953234074], [51.57944079656747, -0.17305762249695192], [51.57942237393339, -0.1730294954842981], [51.57940395129271, -0.17300136849438097], [51.579385528645496, -0.17297324152719892], [51.579367105991665, -0.17294511458275347], [51.57934868333128, -0.1729169876610431], [51.57933026066434, -0.17288886076206852], [51.5793118379908, -0.1728607338858302], [51.57929341531069, -0.1728326070323274], [51.57927499262399, -0.17280448020156036], [51.579256569930735, -0.172776353393528], [51.57923814723092, -0.1727482266082319], [51.579219724524506, -0.17272009984567166], [51.579201301811516, -0.17269197310584677], [51.57918287909197, -0.172663846388757], [51.57916445636583, -0.17263571969440347], [51.57914603363313, -0.17260759302278497], [51.57912761089385, -0.17257946637390234], [51.57910918814801, -0.17255133974775477], [51.57909076539557, -0.1725232131443422], [51.57907234263657, -0.17249508656366588], [51.57905391987098, -0.17246696000572462], [51.57903549709883, -0.17243883347051886], [51.5790170743201, -0.17241070695804805], [51.578998651534796, -0.17238258046831315], [51.578980228742935, -0.17235445400131288], [51.57896180594448, -0.1723263275570477], [51.57894338313944, -0.17229820113551866], [51.57892496032785, -0.17227007473672318], [51.57890653750969, -0.17224194836066428], [51.57888811468493, -0.17221382200734006], [51.57886969185362, -0.17218569567675093], [51.578851269015715, -0.17215756936889678], [51.57883284617124, -0.1721294430837781], [51.5788144233202, -0.17210131682139368], [51.57879600046259, -0.17207319058174472], [51.57877757759837, -0.17204506436483077], [51.578759154727614, -0.1720169381706515], [51.57874073185028, -0.17198881199920765], [51.57872230896636, -0.1719606858504989], [51.57870388607587, -0.17193255972452395], [51.578685463178815, -0.17190443362128446], [51.57866704027516, -0.17187630754078007], [51.57864861736494, -0.17184818148300948], [51.57863019444816, -0.1718200554479751], [51.578611771524805, -0.17179192943567428], [51.578593348594865, -0.17176380344610842], [51.578574925658344, -0.17173567747927765], [51.57855650271526, -0.17170755153518197], [51.578538079765615, -0.17167942561382007], [51.5785196568094, -0.17165129971519247], [51.57850123384655, -0.1716231738393007], [51.578482810877176, -0.17159504798614317], [51.57846438790122, -0.17156692215571917], [51.57844596491871, -0.17153879634803013], [51.578427541929614, -0.17151067056307578], [51.578409118933926, -0.1714825448008561], [51.578390695931674, -0.17145441906136985], [51.57837227292284, -0.17142629334461984], [51.578353849907444, -0.17139816765060292], [51.578335426885474, -0.17137004197932024], [51.57831700385694, -0.1713419163307722], [51.578298580821816, -0.17131379070495845], [51.57828015778012, -0.17128566510187926], [51.57826173473185, -0.1712575395215344], [51.57824331167701, -0.17122941396392335], [51.578224888615594, -0.17120128842904703], [51.57820646554761, -0.17117316291690413], [51.57818804247303, -0.1711450374274959], [51.57816961939188, -0.17111691196082224], [51.578151196304184, -0.17108878651688172], [51.578132773209894, -0.1710606610956759], [51.57811435010905, -0.17103253569720345], [51.5780959270016, -0.17100441032146563], [51.578077503887606, -0.17097628496846212], [51.57805908076702, -0.17094815963819207], [51.57804065763987, -0.1709200343306559], [51.578022234506136, -0.17089190904585352], [51.57800381136583, -0.17086378378378542], [51.577985388218956, -0.17083565854445115], [51.577966965065514, -0.17080753332785079], [51.57794854190547, -0.1707794081339839], [51.57793011873888, -0.1707512829628512], [51.57791169556571, -0.170723157814452], [51.577893272385964, -0.17069503268878705], [51.57787484919964, -0.17066690758585515], [51.57785642600676, -0.17063878250565714], [51.57783800280729, -0.1706106574481926], [51.57781957960126, -0.17058253241346225], [51.577801156388645, -0.17055440740146538], [51.577782733169464, -0.1705262824122016], [51.57776430994369, -0.1704981574456716], [51.57774588671137, -0.17047003250187556], [51.57772746347247, -0.17044190758081293], [51.577709040226985, -0.1704137826824838], [51.57769061697493, -0.17038565780688725], [51.57767219371629, -0.1703575329540254], [51.577653770451086, -0.17032940812389663], [51.577635347179324, -0.17030128331650132], [51.577616923900976, -0.1702731585318386], [51.57759850061605, -0.17024503376990943], [51.57758007732456, -0.1702169090307141], [51.577561654026496, -0.17018878431425183], [51.57754323072186, -0.17016065962052257], [51.57752480741065, -0.1701325349495268], [51.57750638409285, -0.1701044103012637], [51.57748796076848, -0.17007628567573485], [51.57746953743755, -0.17004816107293833], [51.57745111410004, -0.17002003649287478], [51.577432690755955, -0.1699919119355451], [51.57741426740532, -0.16996378740094856], [51.57739584404808, -0.16993566288908424], [51.57737742068427, -0.16990753839995335], [51.57735899731389, -0.16987941393355552], [51.57734057393695, -0.1698512894898904], [51.57732215055343, -0.16982316506895864], [51.577303727163326, -0.16979504067075968], [51.577285303766665, -0.16976691629529334], [51.577266880363446, -0.16973879194256006], [51.57724845695362, -0.16971066761255943], [51.57723003353723, -0.16968254330529225], [51.57721161011427, -0.16965441902075734], [51.57719318668474, -0.1696262947589551], [51.577174763248614, -0.16959817051988635], [51.577156339805946, -0.1695700463035498], [51.57713791635669, -0.16954192210994598], [51.577119492900856, -0.16951379793907478], [51.57710106943847, -0.16948567379093626], [51.57708264596949, -0.16945754966553003], [51.57706422249396, -0.16942942556285645], [51.57704579901184, -0.16940130148291552], [51.57702737552312, -0.16937317742570765], [51.577008952027874, -0.16934505339123165], [51.576990528526025, -0.16931692937948917], [51.57697210501763, -0.1692888053904781], [51.576953681502644, -0.1692606814241993], [51.57693525798109, -0.169232557480654], [51.57691683445297, -0.16920443355984058], [51.57689841091826, -0.16917630966175978], [51.57687998737699, -0.16914818578641008], [51.576861563829134, -0.1691200619337942], [51.57684314027472, -0.16909193810390982], [51.57682471671373, -0.16906381429675807], [51.576806293146156, -0.16903569051233863], [51.57678786957202, -0.16900756675065026], [51.576769445991296, -0.16897944301169532], [51.576751022404025, -0.16895131929547222], [51.57673259881015, -0.16892319560198107], [51.57671417520973, -0.16889507193122177], [51.57669575160273, -0.1688669482831955], [51.57667732798915, -0.16883882465790034], [51.57665890436901, -0.16881070105533746], [51.576640480742284, -0.16878257747550715], [51.576622057108985, -0.16875445391840843], [51.57660363346913, -0.1687263303840411], [51.57658520982268, -0.16869820687240647]]\n"
          ],
          "name": "stdout"
        }
      ]
    },
    {
      "cell_type": "code",
      "metadata": {
        "colab": {
          "base_uri": "https://localhost:8080/"
        },
        "id": "m_vjtGqAxdcQ",
        "outputId": "dd839111-0e37-43d5-972b-a4c56f938bf1"
      },
      "source": [
        "new_crs = CRS.from_epsg(4326)\n",
        "new_coo = transform(dataset.crs, new_crs,xs=[527000.0], ys=[188000.0])\n",
        "new_coo"
      ],
      "execution_count": null,
      "outputs": [
        {
          "output_type": "execute_result",
          "data": {
            "text/plain": [
              "([-0.1686700833835037], [51.57656678616968])"
            ]
          },
          "metadata": {
            "tags": []
          },
          "execution_count": 19
        }
      ]
    },
    {
      "cell_type": "code",
      "metadata": {
        "colab": {
          "base_uri": "https://localhost:8080/"
        },
        "id": "dB7O-zlJyukU",
        "outputId": "24414eef-2f9c-481e-d64a-af1f6027e6b8"
      },
      "source": [
        "new_coo = transform(new_crs,dataset.crs,xs=[-0.19677678491595763], ys=[51.594968736823255])\n",
        "new_coo"
      ],
      "execution_count": null,
      "outputs": [
        {
          "output_type": "execute_result",
          "data": {
            "text/plain": [
              "([525002.0008799589], [189997.99951657146])"
            ]
          },
          "metadata": {
            "tags": []
          },
          "execution_count": 20
        }
      ]
    },
    {
      "cell_type": "markdown",
      "metadata": {
        "id": "VqANV7_4vJfc"
      },
      "source": [
        "**Get Elevation with Image CRS**"
      ]
    },
    {
      "cell_type": "code",
      "metadata": {
        "colab": {
          "base_uri": "https://localhost:8080/"
        },
        "id": "1LA8gh_Wx5er",
        "outputId": "1b33b3d3-e46d-49ae-b782-1ab4cdfef320"
      },
      "source": [
        "coords = ((525200,189800),)\n",
        "\n",
        "elevation = \"/content/TQ28ne_DTM_2m.tif\"\n",
        "with rasterio.open(elevation) as src:\n",
        "    vals = src.sample(coords)\n",
        "    for val in vals:\n",
        "        print(val[0])"
      ],
      "execution_count": null,
      "outputs": [
        {
          "output_type": "stream",
          "text": [
            "75.087494\n"
          ],
          "name": "stdout"
        }
      ]
    },
    {
      "cell_type": "markdown",
      "metadata": {
        "id": "f-ylPop9vPys"
      },
      "source": [
        "**Elevation from Lat Longs**"
      ]
    },
    {
      "cell_type": "code",
      "metadata": {
        "id": "iYJTzNfnx6Dt"
      },
      "source": [
        "WGS84 = CRS.from_epsg(4326)\n",
        "epsg_27700 = CRS.from_epsg(27700)\n",
        "\n",
        "def get_elevation(lat_lon,image_path):\n",
        "  results = []\n",
        "  #read the data\n",
        "  src = rasterio.open(image_path)\n",
        "\n",
        "  for i,ele in enumerate(lat_lon,0):\n",
        "    lat = ele[0]\n",
        "    lon = ele[1]\n",
        "    #Conversion to \n",
        "    new_coo = transform(WGS84,epsg_27700,xs=[lon], ys=[lat])\n",
        "    vals = src.sample(((new_coo[0][0],new_coo[1][0]),))\n",
        "    for val in vals:\n",
        "      results.append({\"lat\":lat,\"lon\":lon,\"elevation\":val[0]})\n",
        "  return results\n",
        "\n",
        "test_results = get_elevation(lat_longs,'/content/TQ28ne_DTM_2m.tif')"
      ],
      "execution_count": null,
      "outputs": []
    },
    {
      "cell_type": "code",
      "metadata": {
        "id": "L1qsyc_Mp88V"
      },
      "source": [
        "elevation_measures = [child[\"elevation\"] for child in test_results]\n",
        "elevation_measures"
      ],
      "execution_count": null,
      "outputs": []
    },
    {
      "cell_type": "markdown",
      "metadata": {
        "id": "4V_VI8k3vXqc"
      },
      "source": [
        "**BASIC STAT INFO**"
      ]
    },
    {
      "cell_type": "code",
      "metadata": {
        "id": "-lM3PdEBrR6w"
      },
      "source": [
        "mean_elev=round((sum(elevation_measures)/len(elevation_measures)),3)\n",
        "min_elev=min(elevation_measures)\n",
        "max_elev=max(elevation_measures)"
      ],
      "execution_count": null,
      "outputs": []
    },
    {
      "cell_type": "code",
      "metadata": {
        "colab": {
          "base_uri": "https://localhost:8080/"
        },
        "id": "CFriSkCarpaQ",
        "outputId": "253b9622-de78-483e-86a4-f51f9d771d58"
      },
      "source": [
        "R = 6373.0\n",
        "\n",
        "lat1 = radians(lat_longs[0][0])\n",
        "lon1 = radians(lat_longs[0][1])\n",
        "lat2 = radians(lat_longs[-1][0])\n",
        "lon2 = radians(lat_longs[-1][1])\n",
        "\n",
        "dlon = lon2 - lon1\n",
        "dlat = lat2 - lat1\n",
        "\n",
        "a = sin(dlat / 2)**2 + cos(lat1) * cos(lat2) * sin(dlon / 2)**2\n",
        "c = 2 * atan2(sqrt(a), sqrt(1 - a))\n",
        "\n",
        "distance = R * c\n",
        "\n",
        "print(\"Result:\", distance)\n",
        "print(\"Should be:\", 278.546, \"km\")"
      ],
      "execution_count": null,
      "outputs": [
        {
          "output_type": "stream",
          "text": [
            "Result: 2.8190371472128537\n",
            "Should be: 278.546 km\n"
          ],
          "name": "stdout"
        }
      ]
    },
    {
      "cell_type": "markdown",
      "metadata": {
        "id": "dj8RV3J8vjGt"
      },
      "source": [
        "**Distance Measure**"
      ]
    },
    {
      "cell_type": "code",
      "metadata": {
        "id": "c2JQ3fBxsuMZ"
      },
      "source": [
        "def haversine(lat1,lon1,lat2,lon2):\n",
        "    lat1_rad=math.radians(lat1)\n",
        "    lat2_rad=math.radians(lat2)\n",
        "    lon1_rad=math.radians(lon1)\n",
        "    lon2_rad=math.radians(lon2)\n",
        "    delta_lat=lat2_rad-lat1_rad\n",
        "    delta_lon=lon2_rad-lon1_rad\n",
        "    a=math.sqrt((math.sin(delta_lat/2))**2+math.cos(lat1_rad)*math.cos(lat2_rad)*(math.sin(delta_lon/2))**2)\n",
        "    d=2*6371000*math.asin(a)\n",
        "    return d\n",
        "\n",
        "d_list=[]\n",
        "for j in range(len(lat_longs)):\n",
        "    lat_p=lat_longs[j][0]\n",
        "    lon_p=lat_longs[j][1]\n",
        "    dp=haversine(lat_longs[0][0],lat_longs[0][1],lat_p,lon_p)/1000 #km\n",
        "    d_list.append(dp)\n",
        "d_list_rev=d_list[::-1]"
      ],
      "execution_count": null,
      "outputs": []
    },
    {
      "cell_type": "markdown",
      "metadata": {
        "id": "I5YbxU_1vpZm"
      },
      "source": [
        "**Elevation Profile**"
      ]
    },
    {
      "cell_type": "code",
      "metadata": {
        "colab": {
          "base_uri": "https://localhost:8080/",
          "height": 279
        },
        "id": "nzSRk8sAr9-O",
        "outputId": "ed745ff1-c657-47aa-fe98-4f7880e85b63"
      },
      "source": [
        "base_reg=0\n",
        "plt.figure(figsize=(10,4))\n",
        "plt.plot(d_list_rev,elevation_measures)\n",
        "plt.plot([0,distance],[min_elev,min_elev],'--g',label='min: '+str(min_elev)+' m')\n",
        "plt.plot([0,distance],[max_elev,max_elev],'--r',label='max: '+str(max_elev)+' m')\n",
        "plt.plot([0,distance],[mean_elev,mean_elev],'--y',label='ave: '+str(mean_elev)+' m')\n",
        "plt.fill_between(d_list_rev,elevation_measures,base_reg,alpha=0.1)\n",
        "plt.text(d_list_rev[0],elevation_measures[0],\"P1\")\n",
        "plt.text(d_list_rev[-1],elevation_measures[-1],\"P2\")\n",
        "plt.xlabel(\"Distance(km)\")\n",
        "plt.ylabel(\"Elevation(m)\")\n",
        "plt.grid()\n",
        "plt.legend(fontsize='small')\n",
        "plt.show()"
      ],
      "execution_count": null,
      "outputs": [
        {
          "output_type": "display_data",
          "data": {
            "image/png": "[encoded data removed]",
            "text/plain": [
              "<Figure size 720x288 with 1 Axes>"
            ]
          },
          "metadata": {
            "tags": [],
            "needs_background": "light"
          }
        }
      ]
    }
  ]
}