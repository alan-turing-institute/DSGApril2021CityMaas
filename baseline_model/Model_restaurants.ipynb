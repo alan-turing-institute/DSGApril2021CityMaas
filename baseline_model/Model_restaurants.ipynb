{
 "cells": [
  {
   "cell_type": "markdown",
   "id": "61f64f9f",
   "metadata": {},
   "source": [
    "# Restaurant Training Model\n",
    "Splitting POIs dataset into different categories has the potential to increase the prediction of accessibility. \n",
    "Models for different categories can be trained independently with different features that are more representative for certain types of POIs. For example, for the restaurant POIs, features such as cuisines of restaurants, brands of restaurants can infer the level of restaurants, therefore, infer the accessibility information. For supermarket POIs, brands of supermarkets could be an informative feature because certain supermarkets may have invested in more accessible facilities compared to others. These features may not necessarily be useful for toilet POIs, train station POIs, etc.\n"
   ]
  },
  {
   "cell_type": "code",
   "execution_count": 28,
   "id": "a012a5c1",
   "metadata": {},
   "outputs": [],
   "source": [
    "import numpy as np\n",
    "import matplotlib.pyplot as plt\n",
    "import pandas as pd\n",
    "import xgboost as xgb\n",
    "\n",
    "from sklearn.datasets import make_classification\n",
    "from sklearn.ensemble import ExtraTreesClassifier\n",
    "from sklearn.metrics import accuracy_score\n",
    "from sklearn.model_selection import train_test_split\n",
    "from sklearn.metrics import confusion_matrix\n",
    "from sklearn.metrics import precision_recall_fscore_support"
   ]
  },
  {
   "cell_type": "code",
   "execution_count": 29,
   "id": "09c7f6c4",
   "metadata": {},
   "outputs": [
    {
     "data": {
      "text/html": [
       "<div>\n",
       "<style scoped>\n",
       "    .dataframe tbody tr th:only-of-type {\n",
       "        vertical-align: middle;\n",
       "    }\n",
       "\n",
       "    .dataframe tbody tr th {\n",
       "        vertical-align: top;\n",
       "    }\n",
       "\n",
       "    .dataframe thead th {\n",
       "        text-align: right;\n",
       "    }\n",
       "</style>\n",
       "<table border=\"1\" class=\"dataframe\">\n",
       "  <thead>\n",
       "    <tr style=\"text-align: right;\">\n",
       "      <th></th>\n",
       "      <th>wheelchair</th>\n",
       "      <th>lon</th>\n",
       "      <th>lat</th>\n",
       "      <th>normalized_numofResturant</th>\n",
       "      <th>normalized_numofcity</th>\n",
       "      <th>normalized_cuisine_cat</th>\n",
       "      <th>numOfaccessiblePoiNearby_100m</th>\n",
       "      <th>numOfaccessiblePoiNearby_1000m</th>\n",
       "    </tr>\n",
       "  </thead>\n",
       "  <tbody>\n",
       "    <tr>\n",
       "      <th>4082701</th>\n",
       "      <td>yes</td>\n",
       "      <td>-0.492195</td>\n",
       "      <td>52.160205</td>\n",
       "      <td>0.000613</td>\n",
       "      <td>0.000613</td>\n",
       "      <td>0.000000</td>\n",
       "      <td>1.0</td>\n",
       "      <td>3.0</td>\n",
       "    </tr>\n",
       "    <tr>\n",
       "      <th>6721878</th>\n",
       "      <td>yes</td>\n",
       "      <td>-0.444455</td>\n",
       "      <td>52.133114</td>\n",
       "      <td>0.011642</td>\n",
       "      <td>0.001225</td>\n",
       "      <td>0.170343</td>\n",
       "      <td>1.0</td>\n",
       "      <td>3.0</td>\n",
       "    </tr>\n",
       "    <tr>\n",
       "      <th>18351898</th>\n",
       "      <td>yes</td>\n",
       "      <td>0.190265</td>\n",
       "      <td>52.203193</td>\n",
       "      <td>0.000613</td>\n",
       "      <td>0.007966</td>\n",
       "      <td>0.236520</td>\n",
       "      <td>2.0</td>\n",
       "      <td>2.0</td>\n",
       "    </tr>\n",
       "    <tr>\n",
       "      <th>20940247</th>\n",
       "      <td>no</td>\n",
       "      <td>0.113019</td>\n",
       "      <td>52.212130</td>\n",
       "      <td>0.000613</td>\n",
       "      <td>0.007966</td>\n",
       "      <td>0.236520</td>\n",
       "      <td>1.0</td>\n",
       "      <td>55.0</td>\n",
       "    </tr>\n",
       "    <tr>\n",
       "      <th>22533343</th>\n",
       "      <td>limited</td>\n",
       "      <td>-2.617820</td>\n",
       "      <td>53.639840</td>\n",
       "      <td>0.000613</td>\n",
       "      <td>0.000000</td>\n",
       "      <td>0.131127</td>\n",
       "      <td>0.0</td>\n",
       "      <td>2.0</td>\n",
       "    </tr>\n",
       "  </tbody>\n",
       "</table>\n",
       "</div>"
      ],
      "text/plain": [
       "         wheelchair       lon        lat  normalized_numofResturant  \\\n",
       "4082701         yes -0.492195  52.160205                   0.000613   \n",
       "6721878         yes -0.444455  52.133114                   0.011642   \n",
       "18351898        yes  0.190265  52.203193                   0.000613   \n",
       "20940247         no  0.113019  52.212130                   0.000613   \n",
       "22533343    limited -2.617820  53.639840                   0.000613   \n",
       "\n",
       "          normalized_numofcity  normalized_cuisine_cat  \\\n",
       "4082701               0.000613                0.000000   \n",
       "6721878               0.001225                0.170343   \n",
       "18351898              0.007966                0.236520   \n",
       "20940247              0.007966                0.236520   \n",
       "22533343              0.000000                0.131127   \n",
       "\n",
       "          numOfaccessiblePoiNearby_100m  numOfaccessiblePoiNearby_1000m  \n",
       "4082701                             1.0                             3.0  \n",
       "6721878                             1.0                             3.0  \n",
       "18351898                            2.0                             2.0  \n",
       "20940247                            1.0                            55.0  \n",
       "22533343                            0.0                             2.0  "
      ]
     },
     "execution_count": 29,
     "metadata": {},
     "output_type": "execute_result"
    }
   ],
   "source": [
    "rest_df = pd.read_pickle(\"/shared/04_22_Restaurant Model/restaurants_accessible_cleaned_updated.pkl\")\n",
    "lonlat=rest_df[['lon','lat']]\n",
    "rest_df.head()"
   ]
  },
  {
   "cell_type": "code",
   "execution_count": 30,
   "id": "8710e670",
   "metadata": {},
   "outputs": [
    {
     "data": {
      "text/plain": [
       "1    915\n",
       "0    717\n",
       "dtype: int64"
      ]
     },
     "execution_count": 30,
     "metadata": {},
     "output_type": "execute_result"
    }
   ],
   "source": [
    "rest_df['wheelchair']=rest_df['wheelchair'].replace(['limited','designated'],'no')\n",
    "rest_df['wheelchair'] = pd.Categorical(rest_df['wheelchair'])\n",
    "rest_y = rest_df['wheelchair'].cat.codes\n",
    "rest_y.value_counts()"
   ]
  },
  {
   "cell_type": "code",
   "execution_count": 31,
   "id": "89a72046",
   "metadata": {},
   "outputs": [
    {
     "data": {
      "text/html": [
       "<div>\n",
       "<style scoped>\n",
       "    .dataframe tbody tr th:only-of-type {\n",
       "        vertical-align: middle;\n",
       "    }\n",
       "\n",
       "    .dataframe tbody tr th {\n",
       "        vertical-align: top;\n",
       "    }\n",
       "\n",
       "    .dataframe thead th {\n",
       "        text-align: right;\n",
       "    }\n",
       "</style>\n",
       "<table border=\"1\" class=\"dataframe\">\n",
       "  <thead>\n",
       "    <tr style=\"text-align: right;\">\n",
       "      <th></th>\n",
       "      <th>normalized_numofResturant</th>\n",
       "      <th>normalized_numofcity</th>\n",
       "      <th>normalized_cuisine_cat</th>\n",
       "      <th>numOfaccessiblePoiNearby_100m</th>\n",
       "      <th>numOfaccessiblePoiNearby_1000m</th>\n",
       "    </tr>\n",
       "  </thead>\n",
       "  <tbody>\n",
       "    <tr>\n",
       "      <th>4082701</th>\n",
       "      <td>0.000613</td>\n",
       "      <td>0.000613</td>\n",
       "      <td>0.000000</td>\n",
       "      <td>1.0</td>\n",
       "      <td>3.0</td>\n",
       "    </tr>\n",
       "    <tr>\n",
       "      <th>6721878</th>\n",
       "      <td>0.011642</td>\n",
       "      <td>0.001225</td>\n",
       "      <td>0.170343</td>\n",
       "      <td>1.0</td>\n",
       "      <td>3.0</td>\n",
       "    </tr>\n",
       "    <tr>\n",
       "      <th>18351898</th>\n",
       "      <td>0.000613</td>\n",
       "      <td>0.007966</td>\n",
       "      <td>0.236520</td>\n",
       "      <td>2.0</td>\n",
       "      <td>2.0</td>\n",
       "    </tr>\n",
       "    <tr>\n",
       "      <th>20940247</th>\n",
       "      <td>0.000613</td>\n",
       "      <td>0.007966</td>\n",
       "      <td>0.236520</td>\n",
       "      <td>1.0</td>\n",
       "      <td>55.0</td>\n",
       "    </tr>\n",
       "    <tr>\n",
       "      <th>22533343</th>\n",
       "      <td>0.000613</td>\n",
       "      <td>0.000000</td>\n",
       "      <td>0.131127</td>\n",
       "      <td>0.0</td>\n",
       "      <td>2.0</td>\n",
       "    </tr>\n",
       "  </tbody>\n",
       "</table>\n",
       "</div>"
      ],
      "text/plain": [
       "          normalized_numofResturant  normalized_numofcity  \\\n",
       "4082701                    0.000613              0.000613   \n",
       "6721878                    0.011642              0.001225   \n",
       "18351898                   0.000613              0.007966   \n",
       "20940247                   0.000613              0.007966   \n",
       "22533343                   0.000613              0.000000   \n",
       "\n",
       "          normalized_cuisine_cat  numOfaccessiblePoiNearby_100m  \\\n",
       "4082701                 0.000000                            1.0   \n",
       "6721878                 0.170343                            1.0   \n",
       "18351898                0.236520                            2.0   \n",
       "20940247                0.236520                            1.0   \n",
       "22533343                0.131127                            0.0   \n",
       "\n",
       "          numOfaccessiblePoiNearby_1000m  \n",
       "4082701                              3.0  \n",
       "6721878                              3.0  \n",
       "18351898                             2.0  \n",
       "20940247                            55.0  \n",
       "22533343                             2.0  "
      ]
     },
     "execution_count": 31,
     "metadata": {},
     "output_type": "execute_result"
    }
   ],
   "source": [
    "rest_x = rest_df.drop(columns='wheelchair')\n",
    "rest_x = rest_x.drop(columns='lon')\n",
    "rest_x = rest_x.drop(columns='lat')\n",
    "rest_x.head()"
   ]
  },
  {
   "cell_type": "markdown",
   "id": "2c78b3dc",
   "metadata": {},
   "source": [
    "# Training features are: \n",
    "\n",
    "* The normalized restaurant brand scale factor\n",
    "* the cuisine of restaurant (represented by the frequency of occurrence)\n",
    "* the city where the restaurant locates (represented by the frequency of occurrence)\n",
    "* the number of accessible POIs within 100m\n",
    "* the number of accessible POIs within 1000m\n"
   ]
  },
  {
   "cell_type": "code",
   "execution_count": 32,
   "id": "bb1e2f2d",
   "metadata": {},
   "outputs": [
    {
     "data": {
      "text/html": [
       "<div>\n",
       "<style scoped>\n",
       "    .dataframe tbody tr th:only-of-type {\n",
       "        vertical-align: middle;\n",
       "    }\n",
       "\n",
       "    .dataframe tbody tr th {\n",
       "        vertical-align: top;\n",
       "    }\n",
       "\n",
       "    .dataframe thead th {\n",
       "        text-align: right;\n",
       "    }\n",
       "</style>\n",
       "<table border=\"1\" class=\"dataframe\">\n",
       "  <thead>\n",
       "    <tr style=\"text-align: right;\">\n",
       "      <th></th>\n",
       "      <th>normalized_numofResturant</th>\n",
       "      <th>normalized_numofcity</th>\n",
       "      <th>normalized_cuisine_cat</th>\n",
       "      <th>numOfaccessiblePoiNearby_100m</th>\n",
       "      <th>numOfaccessiblePoiNearby_1000m</th>\n",
       "    </tr>\n",
       "  </thead>\n",
       "  <tbody>\n",
       "    <tr>\n",
       "      <th>4082701</th>\n",
       "      <td>0.000613</td>\n",
       "      <td>0.000613</td>\n",
       "      <td>0.000000</td>\n",
       "      <td>1.0</td>\n",
       "      <td>3.0</td>\n",
       "    </tr>\n",
       "    <tr>\n",
       "      <th>6721878</th>\n",
       "      <td>0.011642</td>\n",
       "      <td>0.001225</td>\n",
       "      <td>0.170343</td>\n",
       "      <td>1.0</td>\n",
       "      <td>3.0</td>\n",
       "    </tr>\n",
       "    <tr>\n",
       "      <th>18351898</th>\n",
       "      <td>0.000613</td>\n",
       "      <td>0.007966</td>\n",
       "      <td>0.236520</td>\n",
       "      <td>2.0</td>\n",
       "      <td>2.0</td>\n",
       "    </tr>\n",
       "    <tr>\n",
       "      <th>20940247</th>\n",
       "      <td>0.000613</td>\n",
       "      <td>0.007966</td>\n",
       "      <td>0.236520</td>\n",
       "      <td>1.0</td>\n",
       "      <td>55.0</td>\n",
       "    </tr>\n",
       "    <tr>\n",
       "      <th>22533343</th>\n",
       "      <td>0.000613</td>\n",
       "      <td>0.000000</td>\n",
       "      <td>0.131127</td>\n",
       "      <td>0.0</td>\n",
       "      <td>2.0</td>\n",
       "    </tr>\n",
       "    <tr>\n",
       "      <th>...</th>\n",
       "      <td>...</td>\n",
       "      <td>...</td>\n",
       "      <td>...</td>\n",
       "      <td>...</td>\n",
       "      <td>...</td>\n",
       "    </tr>\n",
       "    <tr>\n",
       "      <th>8026542696</th>\n",
       "      <td>0.000613</td>\n",
       "      <td>0.111520</td>\n",
       "      <td>0.236520</td>\n",
       "      <td>1.0</td>\n",
       "      <td>6.0</td>\n",
       "    </tr>\n",
       "    <tr>\n",
       "      <th>8156347040</th>\n",
       "      <td>0.000613</td>\n",
       "      <td>0.000000</td>\n",
       "      <td>0.236520</td>\n",
       "      <td>1.0</td>\n",
       "      <td>14.0</td>\n",
       "    </tr>\n",
       "    <tr>\n",
       "      <th>8262209917</th>\n",
       "      <td>0.000613</td>\n",
       "      <td>0.004902</td>\n",
       "      <td>0.064951</td>\n",
       "      <td>1.0</td>\n",
       "      <td>7.0</td>\n",
       "    </tr>\n",
       "    <tr>\n",
       "      <th>8262209918</th>\n",
       "      <td>0.000613</td>\n",
       "      <td>0.004902</td>\n",
       "      <td>0.043505</td>\n",
       "      <td>1.0</td>\n",
       "      <td>2.0</td>\n",
       "    </tr>\n",
       "    <tr>\n",
       "      <th>8495101135</th>\n",
       "      <td>0.000613</td>\n",
       "      <td>0.000613</td>\n",
       "      <td>0.000000</td>\n",
       "      <td>17.0</td>\n",
       "      <td>43.0</td>\n",
       "    </tr>\n",
       "  </tbody>\n",
       "</table>\n",
       "<p>1632 rows × 5 columns</p>\n",
       "</div>"
      ],
      "text/plain": [
       "            normalized_numofResturant  normalized_numofcity  \\\n",
       "4082701                      0.000613              0.000613   \n",
       "6721878                      0.011642              0.001225   \n",
       "18351898                     0.000613              0.007966   \n",
       "20940247                     0.000613              0.007966   \n",
       "22533343                     0.000613              0.000000   \n",
       "...                               ...                   ...   \n",
       "8026542696                   0.000613              0.111520   \n",
       "8156347040                   0.000613              0.000000   \n",
       "8262209917                   0.000613              0.004902   \n",
       "8262209918                   0.000613              0.004902   \n",
       "8495101135                   0.000613              0.000613   \n",
       "\n",
       "            normalized_cuisine_cat  numOfaccessiblePoiNearby_100m  \\\n",
       "4082701                   0.000000                            1.0   \n",
       "6721878                   0.170343                            1.0   \n",
       "18351898                  0.236520                            2.0   \n",
       "20940247                  0.236520                            1.0   \n",
       "22533343                  0.131127                            0.0   \n",
       "...                            ...                            ...   \n",
       "8026542696                0.236520                            1.0   \n",
       "8156347040                0.236520                            1.0   \n",
       "8262209917                0.064951                            1.0   \n",
       "8262209918                0.043505                            1.0   \n",
       "8495101135                0.000000                           17.0   \n",
       "\n",
       "            numOfaccessiblePoiNearby_1000m  \n",
       "4082701                                3.0  \n",
       "6721878                                3.0  \n",
       "18351898                               2.0  \n",
       "20940247                              55.0  \n",
       "22533343                               2.0  \n",
       "...                                    ...  \n",
       "8026542696                             6.0  \n",
       "8156347040                            14.0  \n",
       "8262209917                             7.0  \n",
       "8262209918                             2.0  \n",
       "8495101135                            43.0  \n",
       "\n",
       "[1632 rows x 5 columns]"
      ]
     },
     "execution_count": 32,
     "metadata": {},
     "output_type": "execute_result"
    }
   ],
   "source": [
    "rest_x"
   ]
  },
  {
   "cell_type": "code",
   "execution_count": 6,
   "id": "48625300",
   "metadata": {},
   "outputs": [],
   "source": [
    "forest = ExtraTreesClassifier(n_estimators=250,\n",
    "                              random_state=0)"
   ]
  },
  {
   "cell_type": "code",
   "execution_count": 7,
   "id": "366d07d9",
   "metadata": {},
   "outputs": [],
   "source": [
    "X_train, X_test, y_train, y_test = train_test_split(rest_x, rest_y, test_size=0.20, random_state=42)"
   ]
  },
  {
   "cell_type": "code",
   "execution_count": 8,
   "id": "4ceb81ca",
   "metadata": {},
   "outputs": [
    {
     "data": {
      "text/plain": [
       "ExtraTreesClassifier(n_estimators=250, random_state=0)"
      ]
     },
     "execution_count": 8,
     "metadata": {},
     "output_type": "execute_result"
    }
   ],
   "source": [
    "forest.fit(X_train, y_train)"
   ]
  },
  {
   "cell_type": "code",
   "execution_count": 9,
   "id": "dece339f",
   "metadata": {},
   "outputs": [],
   "source": [
    "importances = forest.feature_importances_"
   ]
  },
  {
   "cell_type": "code",
   "execution_count": 10,
   "id": "b8c37220",
   "metadata": {},
   "outputs": [
    {
     "data": {
      "text/plain": [
       "([0, 1, 2, 3, 4],\n",
       " [Text(0, 0, ''),\n",
       "  Text(0, 0, ''),\n",
       "  Text(0, 0, ''),\n",
       "  Text(0, 0, ''),\n",
       "  Text(0, 0, '')])"
      ]
     },
     "execution_count": 10,
     "metadata": {},
     "output_type": "execute_result"
    },
    {
     "data": {
      "image/png": "[encoded data removed]",
      "text/plain": [
       "<Figure size 432x288 with 1 Axes>"
      ]
     },
     "metadata": {
      "needs_background": "light"
     },
     "output_type": "display_data"
    }
   ],
   "source": [
    "plt.bar(rest_x.columns, importances)\n",
    "plt.xticks(rotation=90)"
   ]
  },
  {
   "cell_type": "code",
   "execution_count": 11,
   "id": "d039894e",
   "metadata": {},
   "outputs": [
    {
     "data": {
      "text/plain": [
       "0.7308868501529052"
      ]
     },
     "execution_count": 11,
     "metadata": {},
     "output_type": "execute_result"
    }
   ],
   "source": [
    "new_preds = forest.predict(X_test)\n",
    "accuracy_score(y_test, new_preds)"
   ]
  },
  {
   "cell_type": "code",
   "execution_count": 12,
   "id": "e9260e22",
   "metadata": {},
   "outputs": [
    {
     "data": {
      "text/plain": [
       "(array([0.70149254, 0.75129534]),\n",
       " array([0.66197183, 0.78378378]),\n",
       " array([0.68115942, 0.76719577]),\n",
       " array([142, 185]))"
      ]
     },
     "execution_count": 12,
     "metadata": {},
     "output_type": "execute_result"
    }
   ],
   "source": [
    "precision_recall_fscore_support(y_test, new_preds)"
   ]
  },
  {
   "cell_type": "code",
   "execution_count": 1,
   "id": "20e647a9",
   "metadata": {},
   "outputs": [
    {
     "data": {
      "text/plain": [
       "0.767195767058033"
      ]
     },
     "execution_count": 1,
     "metadata": {},
     "output_type": "execute_result"
    }
   ],
   "source": [
    "f1_score = 2 * (0.75129534 * 0.78378378)/(0.75129534 + 0.78378378)\n",
    "f1_score"
   ]
  },
  {
   "cell_type": "markdown",
   "id": "55d91750",
   "metadata": {},
   "source": [
    "# Result:\n",
    "### overall accuracy= 0.7308868501529052\n",
    "### precision of accessible POIs prediction= 0.75129534 \n",
    "i.e. when the model says the POI is accessible, 7.5 out 10 times it will be ture.\n",
    "### recall of accessible POIs prediction=0.78378378\n"
   ]
  },
  {
   "cell_type": "markdown",
   "id": "2e721495",
   "metadata": {},
   "source": [
    "## Set up XGBoost model"
   ]
  },
  {
   "cell_type": "code",
   "execution_count": 13,
   "id": "f3830178",
   "metadata": {},
   "outputs": [],
   "source": [
    "dtrain = xgb.DMatrix(X_train, label=y_train)"
   ]
  },
  {
   "cell_type": "code",
   "execution_count": 14,
   "id": "bdd5416f",
   "metadata": {},
   "outputs": [],
   "source": [
    "param = {'objective': 'multi:softmax', 'num_class':7}"
   ]
  },
  {
   "cell_type": "code",
   "execution_count": 15,
   "id": "b7857116",
   "metadata": {},
   "outputs": [
    {
     "name": "stdout",
     "output_type": "stream",
     "text": [
      "[14:38:09] WARNING: ../src/learner.cc:1095: Starting in XGBoost 1.3.0, the default evaluation metric used with the objective 'multi:softmax' was changed from 'merror' to 'mlogloss'. Explicitly set eval_metric if you'd like to restore the old behavior.\n"
     ]
    }
   ],
   "source": [
    "num_round = 100\n",
    "bst = xgb.train(param, dtrain, num_round)"
   ]
  },
  {
   "cell_type": "code",
   "execution_count": 16,
   "id": "6354c569",
   "metadata": {},
   "outputs": [],
   "source": [
    "dtest = xgb.DMatrix(X_test)"
   ]
  },
  {
   "cell_type": "code",
   "execution_count": 17,
   "id": "a615cde6",
   "metadata": {},
   "outputs": [],
   "source": [
    "xgb_preds = bst.predict(dtest)"
   ]
  },
  {
   "cell_type": "code",
   "execution_count": 18,
   "id": "5dc3316a",
   "metadata": {},
   "outputs": [
    {
     "data": {
      "text/plain": [
       "<AxesSubplot:title={'center':'Feature importance'}, xlabel='F score', ylabel='Features'>"
      ]
     },
     "execution_count": 18,
     "metadata": {},
     "output_type": "execute_result"
    },
    {
     "data": {
      "image/png": "[encoded data removed]",
      "text/plain": [
       "<Figure size 432x288 with 1 Axes>"
      ]
     },
     "metadata": {
      "needs_background": "light"
     },
     "output_type": "display_data"
    }
   ],
   "source": [
    "xgb.plot_importance(bst)"
   ]
  },
  {
   "cell_type": "code",
   "execution_count": 33,
   "id": "4ecceaf4",
   "metadata": {},
   "outputs": [
    {
     "data": {
      "text/plain": [
       "0.7064220183486238"
      ]
     },
     "execution_count": 33,
     "metadata": {},
     "output_type": "execute_result"
    }
   ],
   "source": [
    "accuracy_score(y_test, xgb_preds)"
   ]
  },
  {
   "cell_type": "markdown",
   "id": "174f2b8e",
   "metadata": {},
   "source": [
    "# Result:\n",
    "### overall accuracy= 0.7064220183486238\n"
   ]
  }
 ],
 "metadata": {
  "kernelspec": {
   "display_name": "Python 3",
   "language": "python",
   "name": "python3"
  },
  "language_info": {
   "codemirror_mode": {
    "name": "ipython",
    "version": 3
   },
   "file_extension": ".py",
   "mimetype": "text/x-python",
   "name": "python",
   "nbconvert_exporter": "python",
   "pygments_lexer": "ipython3",
   "version": "3.8.5"
  }
 },
 "nbformat": 4,
 "nbformat_minor": 5
}
