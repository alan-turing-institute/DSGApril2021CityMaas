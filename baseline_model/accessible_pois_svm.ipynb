{
 "cells": [
  {
   "cell_type": "code",
   "execution_count": 77,
   "id": "b25ebc85",
   "metadata": {},
   "outputs": [],
   "source": [
    "import pandas as pd\n",
    "import numpy as np\n",
    "import matplotlib.pyplot as plt\n",
    "from sklearn.preprocessing import LabelEncoder, OneHotEncoder\n",
    "from sklearn.model_selection import train_test_split, GridSearchCV\n",
    "from sklearn.svm import SVC, LinearSVC\n",
    "from sklearn.metrics import accuracy_score, precision_recall_curve, roc_auc_score"
   ]
  },
  {
   "cell_type": "code",
   "execution_count": 43,
   "id": "f3676e35",
   "metadata": {},
   "outputs": [],
   "source": [
    "df = pd.read_pickle('categorised_accessible_pois.pkl')"
   ]
  },
  {
   "cell_type": "code",
   "execution_count": 44,
   "id": "11405933",
   "metadata": {},
   "outputs": [
    {
     "data": {
      "text/plain": [
       "Index(['id', 'access', 'barrier', 'bicycle', 'motor_vehicle', 'opening_hours',\n",
       "       'wheelchair', 'lon', 'lat', 'barrier_cat', 'wheelchair_cat',\n",
       "       'access_cat'],\n",
       "      dtype='object')"
      ]
     },
     "execution_count": 44,
     "metadata": {},
     "output_type": "execute_result"
    }
   ],
   "source": [
    "df.columns"
   ]
  },
  {
   "cell_type": "code",
   "execution_count": 79,
   "id": "b406aaca",
   "metadata": {},
   "outputs": [],
   "source": [
    "df_x = df[['barrier_cat', 'access_cat', 'bicycle', 'motor_vehicle']]"
   ]
  },
  {
   "cell_type": "code",
   "execution_count": 80,
   "id": "5826a66a",
   "metadata": {},
   "outputs": [],
   "source": [
    "dummy_categories = {\n",
    "    'yes': 1,\n",
    "    'no': 0,\n",
    "    'limited': 0,\n",
    "    'designated': 1\n",
    "}"
   ]
  },
  {
   "cell_type": "code",
   "execution_count": 81,
   "id": "1ecf34a7",
   "metadata": {},
   "outputs": [],
   "source": [
    "df['wheelchair_dummy'] = df['wheelchair_cat'].map(dummy_categories)"
   ]
  },
  {
   "cell_type": "code",
   "execution_count": 82,
   "id": "bd979c56",
   "metadata": {},
   "outputs": [],
   "source": [
    "y = df.wheelchair_dummy.values"
   ]
  },
  {
   "cell_type": "code",
   "execution_count": 83,
   "id": "ef97ab16",
   "metadata": {},
   "outputs": [
    {
     "data": {
      "text/plain": [
       "array([1, 1, 1, ..., 0, 0, 0])"
      ]
     },
     "execution_count": 83,
     "metadata": {},
     "output_type": "execute_result"
    }
   ],
   "source": [
    "y"
   ]
  },
  {
   "cell_type": "code",
   "execution_count": 84,
   "id": "833e5199",
   "metadata": {},
   "outputs": [
    {
     "data": {
      "text/html": [
       "<div>\n",
       "<style scoped>\n",
       "    .dataframe tbody tr th:only-of-type {\n",
       "        vertical-align: middle;\n",
       "    }\n",
       "\n",
       "    .dataframe tbody tr th {\n",
       "        vertical-align: top;\n",
       "    }\n",
       "\n",
       "    .dataframe thead th {\n",
       "        text-align: right;\n",
       "    }\n",
       "</style>\n",
       "<table border=\"1\" class=\"dataframe\">\n",
       "  <thead>\n",
       "    <tr style=\"text-align: right;\">\n",
       "      <th></th>\n",
       "      <th>barrier_cat</th>\n",
       "      <th>access_cat</th>\n",
       "      <th>bicycle</th>\n",
       "      <th>motor_vehicle</th>\n",
       "    </tr>\n",
       "  </thead>\n",
       "  <tbody>\n",
       "    <tr>\n",
       "      <th>99878</th>\n",
       "      <td>gate</td>\n",
       "      <td>permissive</td>\n",
       "      <td>no</td>\n",
       "      <td>no</td>\n",
       "    </tr>\n",
       "    <tr>\n",
       "      <th>104734</th>\n",
       "      <td>None</td>\n",
       "      <td>NaN</td>\n",
       "      <td>None</td>\n",
       "      <td>None</td>\n",
       "    </tr>\n",
       "    <tr>\n",
       "      <th>106213</th>\n",
       "      <td>None</td>\n",
       "      <td>NaN</td>\n",
       "      <td>None</td>\n",
       "      <td>None</td>\n",
       "    </tr>\n",
       "    <tr>\n",
       "      <th>108042</th>\n",
       "      <td>None</td>\n",
       "      <td>NaN</td>\n",
       "      <td>None</td>\n",
       "      <td>None</td>\n",
       "    </tr>\n",
       "    <tr>\n",
       "      <th>251191</th>\n",
       "      <td>None</td>\n",
       "      <td>NaN</td>\n",
       "      <td>None</td>\n",
       "      <td>None</td>\n",
       "    </tr>\n",
       "  </tbody>\n",
       "</table>\n",
       "</div>"
      ],
      "text/plain": [
       "       barrier_cat  access_cat bicycle motor_vehicle\n",
       "99878         gate  permissive      no            no\n",
       "104734        None         NaN    None          None\n",
       "106213        None         NaN    None          None\n",
       "108042        None         NaN    None          None\n",
       "251191        None         NaN    None          None"
      ]
     },
     "execution_count": 84,
     "metadata": {},
     "output_type": "execute_result"
    }
   ],
   "source": [
    "df_x.head()"
   ]
  },
  {
   "cell_type": "code",
   "execution_count": 85,
   "id": "8b4512e2",
   "metadata": {},
   "outputs": [],
   "source": [
    "enc = OneHotEncoder(handle_unknown = 'ignore')\n",
    "x_encoded = enc.fit_transform(df_x)"
   ]
  },
  {
   "cell_type": "code",
   "execution_count": 86,
   "id": "56070eae",
   "metadata": {},
   "outputs": [
    {
     "data": {
      "text/plain": [
       "<29282x30 sparse matrix of type '<class 'numpy.float64'>'\n",
       "\twith 117128 stored elements in Compressed Sparse Row format>"
      ]
     },
     "execution_count": 86,
     "metadata": {},
     "output_type": "execute_result"
    }
   ],
   "source": [
    "x_encoded"
   ]
  },
  {
   "cell_type": "code",
   "execution_count": 87,
   "id": "6e4179c6",
   "metadata": {},
   "outputs": [],
   "source": [
    "x_train, x_test, y_train, y_test = train_test_split(x_encoded, y)"
   ]
  },
  {
   "cell_type": "code",
   "execution_count": 88,
   "id": "32f476e2",
   "metadata": {},
   "outputs": [
    {
     "name": "stdout",
     "output_type": "stream",
     "text": [
      "(21961, 30)\n",
      "(7321, 30)\n",
      "(21961,)\n",
      "(7321,)\n"
     ]
    }
   ],
   "source": [
    "print(x_train.shape)\n",
    "print(x_test.shape)\n",
    "print(y_train.shape)\n",
    "print(y_test.shape)"
   ]
  },
  {
   "cell_type": "code",
   "execution_count": 89,
   "id": "14473c70",
   "metadata": {
    "scrolled": true
   },
   "outputs": [
    {
     "data": {
      "text/plain": [
       "array([1, 1, 0, ..., 1, 1, 1])"
      ]
     },
     "execution_count": 89,
     "metadata": {},
     "output_type": "execute_result"
    }
   ],
   "source": [
    "y_train"
   ]
  },
  {
   "cell_type": "code",
   "execution_count": 90,
   "id": "0d1134d0",
   "metadata": {},
   "outputs": [
    {
     "data": {
      "text/plain": [
       "GridSearchCV(estimator=SVC(),\n",
       "             param_grid={'C': [0.1, 1, 10],\n",
       "                         'gamma': [1e-05, 0.0001, 0.001, 0.01, 0.1, 1]})"
      ]
     },
     "execution_count": 90,
     "metadata": {},
     "output_type": "execute_result"
    }
   ],
   "source": [
    "svm = SVC()\n",
    "\n",
    "parameters = {'C':[0.1, 1, 10], 'gamma':[0.00001, 0.0001, 0.001, 0.01, 0.1, 1]}\n",
    "searcher = GridSearchCV(svm, parameters)\n",
    "searcher.fit(x_train, y_train)"
   ]
  },
  {
   "cell_type": "code",
   "execution_count": 91,
   "id": "bf9d4207",
   "metadata": {},
   "outputs": [
    {
     "name": "stdout",
     "output_type": "stream",
     "text": [
      "Best CV parameters {'C': 0.1, 'gamma': 0.1}\n",
      "Best CV accuracy 0.6863982980043181\n",
      "Test accuracy of best grid search hypers: 0.684196148067204\n"
     ]
    }
   ],
   "source": [
    "print(\"Best CV parameters\", searcher.best_params_)\n",
    "print(\"Best CV accuracy\", searcher.best_score_)\n",
    "# Report the test accuracy using these best parameters\n",
    "print(\"Test accuracy of best grid search hypers:\", searcher.score(x_test, y_test))"
   ]
  },
  {
   "cell_type": "code",
   "execution_count": 115,
   "id": "0863f0c5",
   "metadata": {},
   "outputs": [
    {
     "name": "stdout",
     "output_type": "stream",
     "text": [
      "0.6848791148750171\n"
     ]
    }
   ],
   "source": [
    "Classifier=SVC(kernel='linear', C=0.1, gamma= 0.1)\n",
    "Classifier.fit(x_train, y_train)\n",
    "predicted=Classifier.predict(x_test)\n",
    "print(accuracy_score(y_test, predicted))"
   ]
  },
  {
   "cell_type": "code",
   "execution_count": 104,
   "id": "7b8c97f8",
   "metadata": {},
   "outputs": [],
   "source": [
    "#add tagged data\n",
    "tagged_df = pd.read_excel('UK_accessibility_Data.xlsx')"
   ]
  },
  {
   "cell_type": "code",
   "execution_count": 108,
   "id": "389f8fc9",
   "metadata": {},
   "outputs": [
    {
     "data": {
      "text/html": [
       "<div>\n",
       "<style scoped>\n",
       "    .dataframe tbody tr th:only-of-type {\n",
       "        vertical-align: middle;\n",
       "    }\n",
       "\n",
       "    .dataframe tbody tr th {\n",
       "        vertical-align: top;\n",
       "    }\n",
       "\n",
       "    .dataframe thead th {\n",
       "        text-align: right;\n",
       "    }\n",
       "</style>\n",
       "<table border=\"1\" class=\"dataframe\">\n",
       "  <thead>\n",
       "    <tr style=\"text-align: right;\">\n",
       "      <th></th>\n",
       "      <th>place_tags</th>\n",
       "      <th>id</th>\n",
       "      <th>latitude</th>\n",
       "      <th>longitude</th>\n",
       "      <th>tags</th>\n",
       "    </tr>\n",
       "  </thead>\n",
       "  <tbody>\n",
       "    <tr>\n",
       "      <th>0</th>\n",
       "      <td>gate_barrier</td>\n",
       "      <td>99878</td>\n",
       "      <td>51.524358</td>\n",
       "      <td>-0.152985</td>\n",
       "      <td>{'access': 'permissive', 'barrier': 'gate', 'b...</td>\n",
       "    </tr>\n",
       "    <tr>\n",
       "      <th>1</th>\n",
       "      <td>railway station</td>\n",
       "      <td>104734</td>\n",
       "      <td>51.565653</td>\n",
       "      <td>-1.785876</td>\n",
       "      <td>{'name': 'Swindon', 'network': 'National Rail'...</td>\n",
       "    </tr>\n",
       "    <tr>\n",
       "      <th>2</th>\n",
       "      <td>crossing</td>\n",
       "      <td>106213</td>\n",
       "      <td>51.525660</td>\n",
       "      <td>-0.142942</td>\n",
       "      <td>{'crossing': 'unmarked', 'wheelchair': 'yes', ...</td>\n",
       "    </tr>\n",
       "    <tr>\n",
       "      <th>3</th>\n",
       "      <td>pub</td>\n",
       "      <td>108042</td>\n",
       "      <td>51.523561</td>\n",
       "      <td>-0.135513</td>\n",
       "      <td>{'addr:housenumber': '31', 'addr:postcode': 'W...</td>\n",
       "    </tr>\n",
       "    <tr>\n",
       "      <th>4</th>\n",
       "      <td>tourism_viewpoint</td>\n",
       "      <td>251191</td>\n",
       "      <td>51.115444</td>\n",
       "      <td>-0.715918</td>\n",
       "      <td>{'name': 'Gibbet Hill', 'tourism': 'viewpoint'...</td>\n",
       "    </tr>\n",
       "  </tbody>\n",
       "</table>\n",
       "</div>"
      ],
      "text/plain": [
       "          place_tags      id   latitude  longitude  \\\n",
       "0       gate_barrier   99878  51.524358  -0.152985   \n",
       "1    railway station  104734  51.565653  -1.785876   \n",
       "2           crossing  106213  51.525660  -0.142942   \n",
       "3                pub  108042  51.523561  -0.135513   \n",
       "4  tourism_viewpoint  251191  51.115444  -0.715918   \n",
       "\n",
       "                                                tags  \n",
       "0  {'access': 'permissive', 'barrier': 'gate', 'b...  \n",
       "1  {'name': 'Swindon', 'network': 'National Rail'...  \n",
       "2  {'crossing': 'unmarked', 'wheelchair': 'yes', ...  \n",
       "3  {'addr:housenumber': '31', 'addr:postcode': 'W...  \n",
       "4  {'name': 'Gibbet Hill', 'tourism': 'viewpoint'...  "
      ]
     },
     "execution_count": 108,
     "metadata": {},
     "output_type": "execute_result"
    }
   ],
   "source": [
    "tagged_df.head()"
   ]
  },
  {
   "cell_type": "code",
   "execution_count": 107,
   "id": "3b753883",
   "metadata": {},
   "outputs": [
    {
     "data": {
      "text/plain": [
       "array(['gate_barrier', 'railway station', 'crossing', 'pub',\n",
       "       'tourism_viewpoint', 'hotel', 'taxi_rank', 'parking',\n",
       "       'railway station,subway', 'attraction', 'railway_stop',\n",
       "       'tram_stop', 'post_office', 'restaurant', 'museum',\n",
       "       'convenience shop', nan, 'fuel', 'natural_peak',\n",
       "       'crossing,raised_kerb', 'bar', 'toilets', 'library',\n",
       "       'place_of_worship', 'hospital', 'atm', 'crossing,lowered_kerb',\n",
       "       'community_centre', 'newsagent', 'bicycle_shop', 'police_station',\n",
       "       'bus_station', 'bank', 'cinema', 'cafe',\n",
       "       'public_transport_station', 'pharmacy', 'supermarket',\n",
       "       'cycle_barrier', 'school', 'hostel', 'historic_memorial',\n",
       "       'artwork_tourism', 'subway_entrance', 'fast_food', 'theatre',\n",
       "       'elevator', 'disused_amenity_pub', 'hotel,restaurant', 'bus_stop',\n",
       "       'garden_centre_shop', 'alcohol_shop', 'department_store',\n",
       "       'pub,hotel', 'archaeological_site_historic', 'courthouse',\n",
       "       'clothing_shop', '***NO PLACE TAG***', 'lowered_kerb',\n",
       "       'healthcare,doctors', 'public_transport_stop_position',\n",
       "       'disused_pub', 'main_entrance', 'mall', 'bookmaker_shop',\n",
       "       'convenience shop,fuel', 'raised_kerb', 'ferry_terminal',\n",
       "       'post_box', 'hardware_shop', 'book_shop', 'playground', 'aquarium',\n",
       "       'gallery_tourism', 'nightclub', 'college', 'restaurant,hotel',\n",
       "       'entrance_barrier', 'university', 'townhall', 'doityourself_shop',\n",
       "       'telephone_booth', 'bakery_shop', 'picnic_site_tourism',\n",
       "       'frozen_food_shop', 'tourism_campsite',\n",
       "       'attraction,historic_memorial', 'car_parts_shop', 'car_sharing',\n",
       "       'traffic_signals', 'opticals_shop', 'entrance', 'jewelry_shop',\n",
       "       'recycling', 'laundry', 'hairdresser_shop', 'sports_shop',\n",
       "       'car_repair_shop', 'drinking_water', 'dental_clinic',\n",
       "       'vacant_shop', 'dry_cleaning_shop', 'kiosk_shop',\n",
       "       'convenience shop,supermarket', 'private_property', 'butcher_shop',\n",
       "       'florist_shop', 'IT_office', 'guest_house_tourism',\n",
       "       'antiques_shop', 'confectionery_shop', 'furniture_shop',\n",
       "       'ice_cream_shop', 'variety_store_shop', 'shoes_shop',\n",
       "       'interior_decoration_shop', 'fashion_accesories_shop',\n",
       "       'chemist_shop', 'beauty_shop', 'mobile_phone_shop',\n",
       "       'health_food_shop', 'haealth_clinic', 'erotic_shop',\n",
       "       'private_property_home', 'travel_agency_shop', 'copyshop',\n",
       "       'bus_stop,raised_kerb', 'outdoor_shop', 'charity_shop', 'toy_shop',\n",
       "       'clock', 'veterinary', 'library,museum', 'art_shop', 'pet_shop',\n",
       "       'park', 'frame_shop', 'gift_shop', 'café,bakery_shop',\n",
       "       'arts_centre', 'bench', 'restaurant,bar', 'music_shop',\n",
       "       'catalogue_shop', 'stationery_shop', 'tourism_information',\n",
       "       'electronics_shop', 'fast_food,bakery_shop', 'waste_basket',\n",
       "       'attraction,clothing_shop', 'railway_station_entrance',\n",
       "       'photo_shop', 'train_station_entrance', 'e-cigarette_shop',\n",
       "       'greengrocer_shop', 'chocolate_shop', 'estate_agent_office',\n",
       "       'tattoo_shop', 'bicycle_parking', 'car_rental',\n",
       "       'attraction,toilets', 'parking_entrance', 'tea_shop',\n",
       "       'shoe_repair_shop', 'homeopathy_shop', 'stripclub', 'cycle_hire',\n",
       "       'party_shop', 'social_facility', 'bathroom_furnishing_shop',\n",
       "       'accountant_office', 'hotel,toilets', 'private_residence',\n",
       "       'motel_tourism', 'swimming_pool', 'amenity_toilets',\n",
       "       'fuel_station', 'museum_tourism', 'memorial_historic',\n",
       "       'attraction_tourism', 'hotel_tourism', 'hostel_tourism',\n",
       "       'convenience_shop', 'convinience_shop,supermarket',\n",
       "       'public_transport_platform', 'railway_crossing'], dtype=object)"
      ]
     },
     "execution_count": 107,
     "metadata": {},
     "output_type": "execute_result"
    }
   ],
   "source": [
    "tagged_df['place_tags'].unique()"
   ]
  },
  {
   "cell_type": "code",
   "execution_count": 110,
   "id": "1dd50a23",
   "metadata": {},
   "outputs": [],
   "source": [
    "merged_df = pd.merge(df, tagged_df, left_on = 'id', right_on = 'id')"
   ]
  },
  {
   "cell_type": "code",
   "execution_count": 111,
   "id": "e43b1deb",
   "metadata": {},
   "outputs": [
    {
     "data": {
      "text/html": [
       "<div>\n",
       "<style scoped>\n",
       "    .dataframe tbody tr th:only-of-type {\n",
       "        vertical-align: middle;\n",
       "    }\n",
       "\n",
       "    .dataframe tbody tr th {\n",
       "        vertical-align: top;\n",
       "    }\n",
       "\n",
       "    .dataframe thead th {\n",
       "        text-align: right;\n",
       "    }\n",
       "</style>\n",
       "<table border=\"1\" class=\"dataframe\">\n",
       "  <thead>\n",
       "    <tr style=\"text-align: right;\">\n",
       "      <th></th>\n",
       "      <th>id</th>\n",
       "      <th>access</th>\n",
       "      <th>barrier</th>\n",
       "      <th>bicycle</th>\n",
       "      <th>motor_vehicle</th>\n",
       "      <th>opening_hours</th>\n",
       "      <th>wheelchair</th>\n",
       "      <th>lon</th>\n",
       "      <th>lat</th>\n",
       "      <th>barrier_cat</th>\n",
       "      <th>wheelchair_cat</th>\n",
       "      <th>access_cat</th>\n",
       "      <th>wheelchair_dummy</th>\n",
       "      <th>place_tags</th>\n",
       "      <th>latitude</th>\n",
       "      <th>longitude</th>\n",
       "      <th>tags</th>\n",
       "    </tr>\n",
       "  </thead>\n",
       "  <tbody>\n",
       "    <tr>\n",
       "      <th>0</th>\n",
       "      <td>99878</td>\n",
       "      <td>permissive</td>\n",
       "      <td>gate</td>\n",
       "      <td>no</td>\n",
       "      <td>no</td>\n",
       "      <td>dawn-dusk</td>\n",
       "      <td>yes</td>\n",
       "      <td>-0.152985</td>\n",
       "      <td>51.524358</td>\n",
       "      <td>gate</td>\n",
       "      <td>yes</td>\n",
       "      <td>permissive</td>\n",
       "      <td>1</td>\n",
       "      <td>gate_barrier</td>\n",
       "      <td>51.524358</td>\n",
       "      <td>-0.152985</td>\n",
       "      <td>{'access': 'permissive', 'barrier': 'gate', 'b...</td>\n",
       "    </tr>\n",
       "    <tr>\n",
       "      <th>1</th>\n",
       "      <td>104734</td>\n",
       "      <td>None</td>\n",
       "      <td>None</td>\n",
       "      <td>None</td>\n",
       "      <td>None</td>\n",
       "      <td>None</td>\n",
       "      <td>yes</td>\n",
       "      <td>-1.785876</td>\n",
       "      <td>51.565653</td>\n",
       "      <td>None</td>\n",
       "      <td>yes</td>\n",
       "      <td>NaN</td>\n",
       "      <td>1</td>\n",
       "      <td>railway station</td>\n",
       "      <td>51.565653</td>\n",
       "      <td>-1.785876</td>\n",
       "      <td>{'name': 'Swindon', 'network': 'National Rail'...</td>\n",
       "    </tr>\n",
       "    <tr>\n",
       "      <th>2</th>\n",
       "      <td>106213</td>\n",
       "      <td>None</td>\n",
       "      <td>None</td>\n",
       "      <td>None</td>\n",
       "      <td>None</td>\n",
       "      <td>None</td>\n",
       "      <td>yes</td>\n",
       "      <td>-0.142942</td>\n",
       "      <td>51.525660</td>\n",
       "      <td>None</td>\n",
       "      <td>yes</td>\n",
       "      <td>NaN</td>\n",
       "      <td>1</td>\n",
       "      <td>crossing</td>\n",
       "      <td>51.525660</td>\n",
       "      <td>-0.142942</td>\n",
       "      <td>{'crossing': 'unmarked', 'wheelchair': 'yes', ...</td>\n",
       "    </tr>\n",
       "    <tr>\n",
       "      <th>3</th>\n",
       "      <td>108042</td>\n",
       "      <td>None</td>\n",
       "      <td>None</td>\n",
       "      <td>None</td>\n",
       "      <td>None</td>\n",
       "      <td>Mo-We 16:00-23:30; Th-Fr 16:00-01:00; Sa 16:00...</td>\n",
       "      <td>limited</td>\n",
       "      <td>-0.135513</td>\n",
       "      <td>51.523561</td>\n",
       "      <td>None</td>\n",
       "      <td>limited</td>\n",
       "      <td>NaN</td>\n",
       "      <td>0</td>\n",
       "      <td>pub</td>\n",
       "      <td>51.523561</td>\n",
       "      <td>-0.135513</td>\n",
       "      <td>{'addr:housenumber': '31', 'addr:postcode': 'W...</td>\n",
       "    </tr>\n",
       "    <tr>\n",
       "      <th>4</th>\n",
       "      <td>251191</td>\n",
       "      <td>None</td>\n",
       "      <td>None</td>\n",
       "      <td>None</td>\n",
       "      <td>None</td>\n",
       "      <td>None</td>\n",
       "      <td>limited</td>\n",
       "      <td>-0.715918</td>\n",
       "      <td>51.115444</td>\n",
       "      <td>None</td>\n",
       "      <td>limited</td>\n",
       "      <td>NaN</td>\n",
       "      <td>0</td>\n",
       "      <td>tourism_viewpoint</td>\n",
       "      <td>51.115444</td>\n",
       "      <td>-0.715918</td>\n",
       "      <td>{'name': 'Gibbet Hill', 'tourism': 'viewpoint'...</td>\n",
       "    </tr>\n",
       "  </tbody>\n",
       "</table>\n",
       "</div>"
      ],
      "text/plain": [
       "       id      access barrier bicycle motor_vehicle  \\\n",
       "0   99878  permissive    gate      no            no   \n",
       "1  104734        None    None    None          None   \n",
       "2  106213        None    None    None          None   \n",
       "3  108042        None    None    None          None   \n",
       "4  251191        None    None    None          None   \n",
       "\n",
       "                                       opening_hours wheelchair       lon  \\\n",
       "0                                          dawn-dusk        yes -0.152985   \n",
       "1                                               None        yes -1.785876   \n",
       "2                                               None        yes -0.142942   \n",
       "3  Mo-We 16:00-23:30; Th-Fr 16:00-01:00; Sa 16:00...    limited -0.135513   \n",
       "4                                               None    limited -0.715918   \n",
       "\n",
       "         lat barrier_cat wheelchair_cat  access_cat  wheelchair_dummy  \\\n",
       "0  51.524358        gate            yes  permissive                 1   \n",
       "1  51.565653        None            yes         NaN                 1   \n",
       "2  51.525660        None            yes         NaN                 1   \n",
       "3  51.523561        None        limited         NaN                 0   \n",
       "4  51.115444        None        limited         NaN                 0   \n",
       "\n",
       "          place_tags   latitude  longitude  \\\n",
       "0       gate_barrier  51.524358  -0.152985   \n",
       "1    railway station  51.565653  -1.785876   \n",
       "2           crossing  51.525660  -0.142942   \n",
       "3                pub  51.523561  -0.135513   \n",
       "4  tourism_viewpoint  51.115444  -0.715918   \n",
       "\n",
       "                                                tags  \n",
       "0  {'access': 'permissive', 'barrier': 'gate', 'b...  \n",
       "1  {'name': 'Swindon', 'network': 'National Rail'...  \n",
       "2  {'crossing': 'unmarked', 'wheelchair': 'yes', ...  \n",
       "3  {'addr:housenumber': '31', 'addr:postcode': 'W...  \n",
       "4  {'name': 'Gibbet Hill', 'tourism': 'viewpoint'...  "
      ]
     },
     "execution_count": 111,
     "metadata": {},
     "output_type": "execute_result"
    }
   ],
   "source": [
    "merged_df.head()"
   ]
  },
  {
   "cell_type": "code",
   "execution_count": 112,
   "id": "a80bbed1",
   "metadata": {},
   "outputs": [
    {
     "data": {
      "text/plain": [
       "Index(['id', 'access', 'barrier', 'bicycle', 'motor_vehicle', 'opening_hours',\n",
       "       'wheelchair', 'lon', 'lat', 'barrier_cat', 'wheelchair_cat',\n",
       "       'access_cat', 'wheelchair_dummy', 'place_tags', 'latitude', 'longitude',\n",
       "       'tags'],\n",
       "      dtype='object')"
      ]
     },
     "execution_count": 112,
     "metadata": {},
     "output_type": "execute_result"
    }
   ],
   "source": [
    "merged_df.columns"
   ]
  },
  {
   "cell_type": "code",
   "execution_count": 126,
   "id": "3882b842",
   "metadata": {},
   "outputs": [],
   "source": [
    "tagged_subset = merged_df[['barrier_cat', 'place_tags', 'access_cat', 'bicycle', 'motor_vehicle']] "
   ]
  },
  {
   "cell_type": "code",
   "execution_count": 128,
   "id": "62e2d951",
   "metadata": {},
   "outputs": [],
   "source": [
    "tagged_y = merged_df.wheelchair_dummy.values"
   ]
  },
  {
   "cell_type": "code",
   "execution_count": 129,
   "id": "5ed2b73f",
   "metadata": {},
   "outputs": [],
   "source": [
    "tagged_x = enc.fit_transform(tagged_subset)"
   ]
  },
  {
   "cell_type": "code",
   "execution_count": 130,
   "id": "d54e6b38",
   "metadata": {},
   "outputs": [],
   "source": [
    "tagged_x_train, tagged_x_test, tagged_y_train, tagged_y_test = train_test_split(tagged_x, tagged_y)"
   ]
  },
  {
   "cell_type": "code",
   "execution_count": 132,
   "id": "2063d494",
   "metadata": {},
   "outputs": [
    {
     "data": {
      "text/plain": [
       "GridSearchCV(estimator=SVC(),\n",
       "             param_grid={'C': [0.1, 1, 10],\n",
       "                         'gamma': [1e-05, 0.0001, 0.001, 0.01, 0.1, 1]})"
      ]
     },
     "execution_count": 132,
     "metadata": {},
     "output_type": "execute_result"
    }
   ],
   "source": [
    "svm = SVC()\n",
    "\n",
    "parameters = {'C':[0.1, 1, 10], 'gamma':[0.00001, 0.0001, 0.001, 0.01, 0.1, 1]}\n",
    "searcher = GridSearchCV(svm, parameters)\n",
    "searcher.fit(tagged_x_train, tagged_y_train)"
   ]
  },
  {
   "cell_type": "code",
   "execution_count": 133,
   "id": "9e53eebe",
   "metadata": {},
   "outputs": [
    {
     "name": "stdout",
     "output_type": "stream",
     "text": [
      "Best CV parameters {'C': 10, 'gamma': 0.01}\n",
      "Best CV accuracy 0.7144481388464924\n",
      "Test accuracy of best grid search hypers: 0.7078267996175386\n"
     ]
    }
   ],
   "source": [
    "print(\"Best CV parameters\", searcher.best_params_)\n",
    "print(\"Best CV accuracy\", searcher.best_score_)\n",
    "# Report the test accuracy using these best parameters\n",
    "print(\"Test accuracy of best grid search hypers:\", searcher.score(tagged_x_test, tagged_y_test))"
   ]
  },
  {
   "cell_type": "code",
   "execution_count": 134,
   "id": "b672f59e",
   "metadata": {},
   "outputs": [
    {
     "name": "stdout",
     "output_type": "stream",
     "text": [
      "0.7090561398716022\n"
     ]
    }
   ],
   "source": [
    "Classifier=SVC(kernel='linear', C=10, gamma= 0.01)\n",
    "Classifier.fit(tagged_x_train, tagged_y_train)\n",
    "tagged_predicted=Classifier.predict(tagged_x_test)\n",
    "print(accuracy_score(tagged_y_test, tagged_predicted))"
   ]
  },
  {
   "cell_type": "code",
   "execution_count": null,
   "id": "86c4794e",
   "metadata": {},
   "outputs": [],
   "source": []
  }
 ],
 "metadata": {
  "kernelspec": {
   "display_name": "Python 3",
   "language": "python",
   "name": "python3"
  },
  "language_info": {
   "codemirror_mode": {
    "name": "ipython",
    "version": 3
   },
   "file_extension": ".py",
   "mimetype": "text/x-python",
   "name": "python",
   "nbconvert_exporter": "python",
   "pygments_lexer": "ipython3",
   "version": "3.8.5"
  }
 },
 "nbformat": 4,
 "nbformat_minor": 5
}
