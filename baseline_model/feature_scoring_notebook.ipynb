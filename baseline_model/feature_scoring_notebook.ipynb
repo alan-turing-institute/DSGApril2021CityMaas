{
 "cells": [
  {
   "cell_type": "markdown",
   "id": "669201b4",
   "metadata": {},
   "source": [
    "# Notebook to compute feature importance scores"
   ]
  },
  {
   "cell_type": "code",
   "execution_count": 230,
   "id": "8ccfd7ae",
   "metadata": {},
   "outputs": [],
   "source": [
    "import numpy as np\n",
    "import matplotlib.pyplot as plt\n",
    "import pandas as pd\n",
    "import xgboost as xgb\n",
    "\n",
    "from sklearn.datasets import make_classification\n",
    "from sklearn.ensemble import ExtraTreesClassifier\n",
    "from sklearn.ensemble import RandomForestClassifier\n",
    "from sklearn.metrics import accuracy_score\n",
    "from sklearn.model_selection import train_test_split\n",
    "from sklearn.metrics import confusion_matrix\n",
    "from sklearn.metrics import precision_recall_fscore_support\n",
    "from sklearn.preprocessing import OneHotEncoder\n",
    "from imblearn.pipeline import Pipeline\n",
    "from imblearn.under_sampling import RandomUnderSampler\n",
    "from sklearn.svm import SVC, LinearSVC\n",
    "from statsmodels.stats.outliers_influence import variance_inflation_factor"
   ]
  },
  {
   "cell_type": "markdown",
   "id": "946f52b4",
   "metadata": {},
   "source": [
    "## Set-up initial accessible POI data"
   ]
  },
  {
   "cell_type": "markdown",
   "id": "cc2b9470",
   "metadata": {},
   "source": [
    "Note, this is the data for Great Britain only."
   ]
  },
  {
   "cell_type": "code",
   "execution_count": 231,
   "id": "72a415e8",
   "metadata": {},
   "outputs": [],
   "source": [
    "acc_df = pd.read_pickle(\"accessible_pois.pkl\")"
   ]
  },
  {
   "cell_type": "code",
   "execution_count": 232,
   "id": "3b1da274",
   "metadata": {},
   "outputs": [
    {
     "data": {
      "text/html": [
       "<div>\n",
       "<style scoped>\n",
       "    .dataframe tbody tr th:only-of-type {\n",
       "        vertical-align: middle;\n",
       "    }\n",
       "\n",
       "    .dataframe tbody tr th {\n",
       "        vertical-align: top;\n",
       "    }\n",
       "\n",
       "    .dataframe thead th {\n",
       "        text-align: right;\n",
       "    }\n",
       "</style>\n",
       "<table border=\"1\" class=\"dataframe\">\n",
       "  <thead>\n",
       "    <tr style=\"text-align: right;\">\n",
       "      <th></th>\n",
       "      <th>id</th>\n",
       "      <th>access</th>\n",
       "      <th>barrier</th>\n",
       "      <th>bicycle</th>\n",
       "      <th>motor_vehicle</th>\n",
       "      <th>opening_hours</th>\n",
       "      <th>wheelchair</th>\n",
       "      <th>amenity</th>\n",
       "      <th>lon</th>\n",
       "      <th>lat</th>\n",
       "    </tr>\n",
       "  </thead>\n",
       "  <tbody>\n",
       "    <tr>\n",
       "      <th>99878</th>\n",
       "      <td>99878</td>\n",
       "      <td>permissive</td>\n",
       "      <td>gate</td>\n",
       "      <td>no</td>\n",
       "      <td>no</td>\n",
       "      <td>dawn-dusk</td>\n",
       "      <td>yes</td>\n",
       "      <td>None</td>\n",
       "      <td>-0.152985</td>\n",
       "      <td>51.524358</td>\n",
       "    </tr>\n",
       "    <tr>\n",
       "      <th>104734</th>\n",
       "      <td>104734</td>\n",
       "      <td>NONE</td>\n",
       "      <td>None</td>\n",
       "      <td>None</td>\n",
       "      <td>None</td>\n",
       "      <td>None</td>\n",
       "      <td>yes</td>\n",
       "      <td>None</td>\n",
       "      <td>-1.785876</td>\n",
       "      <td>51.565653</td>\n",
       "    </tr>\n",
       "    <tr>\n",
       "      <th>106213</th>\n",
       "      <td>106213</td>\n",
       "      <td>NONE</td>\n",
       "      <td>None</td>\n",
       "      <td>None</td>\n",
       "      <td>None</td>\n",
       "      <td>None</td>\n",
       "      <td>yes</td>\n",
       "      <td>None</td>\n",
       "      <td>-0.142942</td>\n",
       "      <td>51.525660</td>\n",
       "    </tr>\n",
       "    <tr>\n",
       "      <th>108042</th>\n",
       "      <td>108042</td>\n",
       "      <td>NONE</td>\n",
       "      <td>None</td>\n",
       "      <td>None</td>\n",
       "      <td>None</td>\n",
       "      <td>Mo-We 16:00-23:30; Th-Fr 16:00-01:00; Sa 16:00...</td>\n",
       "      <td>limited</td>\n",
       "      <td>pub</td>\n",
       "      <td>-0.135513</td>\n",
       "      <td>51.523561</td>\n",
       "    </tr>\n",
       "    <tr>\n",
       "      <th>251191</th>\n",
       "      <td>251191</td>\n",
       "      <td>NONE</td>\n",
       "      <td>None</td>\n",
       "      <td>None</td>\n",
       "      <td>None</td>\n",
       "      <td>None</td>\n",
       "      <td>limited</td>\n",
       "      <td>None</td>\n",
       "      <td>-0.715918</td>\n",
       "      <td>51.115444</td>\n",
       "    </tr>\n",
       "  </tbody>\n",
       "</table>\n",
       "</div>"
      ],
      "text/plain": [
       "            id      access barrier bicycle motor_vehicle  \\\n",
       "99878    99878  permissive    gate      no            no   \n",
       "104734  104734        NONE    None    None          None   \n",
       "106213  106213        NONE    None    None          None   \n",
       "108042  108042        NONE    None    None          None   \n",
       "251191  251191        NONE    None    None          None   \n",
       "\n",
       "                                            opening_hours wheelchair amenity  \\\n",
       "99878                                           dawn-dusk        yes    None   \n",
       "104734                                               None        yes    None   \n",
       "106213                                               None        yes    None   \n",
       "108042  Mo-We 16:00-23:30; Th-Fr 16:00-01:00; Sa 16:00...    limited     pub   \n",
       "251191                                               None    limited    None   \n",
       "\n",
       "             lon        lat  \n",
       "99878  -0.152985  51.524358  \n",
       "104734 -1.785876  51.565653  \n",
       "106213 -0.142942  51.525660  \n",
       "108042 -0.135513  51.523561  \n",
       "251191 -0.715918  51.115444  "
      ]
     },
     "execution_count": 232,
     "metadata": {},
     "output_type": "execute_result"
    }
   ],
   "source": [
    "acc_df.head()"
   ]
  },
  {
   "cell_type": "code",
   "execution_count": 233,
   "id": "bbcba0f7",
   "metadata": {},
   "outputs": [
    {
     "data": {
      "text/plain": [
       "29282"
      ]
     },
     "execution_count": 233,
     "metadata": {},
     "output_type": "execute_result"
    }
   ],
   "source": [
    "len(acc_df)"
   ]
  },
  {
   "cell_type": "code",
   "execution_count": 234,
   "id": "6acd9f8a",
   "metadata": {},
   "outputs": [],
   "source": [
    "acc_df = acc_df.drop(columns='id')"
   ]
  },
  {
   "cell_type": "code",
   "execution_count": 235,
   "id": "987bc2c8",
   "metadata": {},
   "outputs": [
    {
     "data": {
      "text/plain": [
       "array(['permissive', 'NONE', 'no',\n",
       "       'yes_during_opening_hours_Monday_-_Saturday_10am_-_5pm_and_Sunday_11am_-_5pm.',\n",
       "       'yes', 'private', 'customers', 'public', 'time_limited',\n",
       "       'destination', 'none', 'restricted', 'permit', 'RADAR', 'unknown',\n",
       "       'delivery', 'key', 'official', 'passengers', 'trade', 'staff',\n",
       "       'residents', 'visitors', 'customer', 'emergency', 'code',\n",
       "       'agricultural', 'delivery;emergency', 'disabled'], dtype=object)"
      ]
     },
     "execution_count": 235,
     "metadata": {},
     "output_type": "execute_result"
    }
   ],
   "source": [
    "acc_df.access.unique()"
   ]
  },
  {
   "cell_type": "code",
   "execution_count": 236,
   "id": "825d95a0",
   "metadata": {},
   "outputs": [
    {
     "data": {
      "text/plain": [
       "array(['gate', None, 'cycle_barrier', 'kerb', 'kissing_gate', 'entrance',\n",
       "       'stile', 'yes', 'door', 'stepping_stones', 'block', 'turnstile',\n",
       "       'bollard', 'swing_gate', 'motorcycle_barrier', 'fence',\n",
       "       'lift_gate', 'lych-gate', 'lych_gate', 'sliding_gate'],\n",
       "      dtype=object)"
      ]
     },
     "execution_count": 236,
     "metadata": {},
     "output_type": "execute_result"
    }
   ],
   "source": [
    "acc_df.barrier.unique()"
   ]
  },
  {
   "cell_type": "code",
   "execution_count": 237,
   "id": "7a02df2e",
   "metadata": {},
   "outputs": [
    {
     "data": {
      "text/plain": [
       "array(['no', None, 'yes', 'dismount', 'permissive', 'private', 'permit',\n",
       "       'designated', 'destination'], dtype=object)"
      ]
     },
     "execution_count": 237,
     "metadata": {},
     "output_type": "execute_result"
    }
   ],
   "source": [
    "acc_df.bicycle.unique()"
   ]
  },
  {
   "cell_type": "code",
   "execution_count": 238,
   "id": "e5e56dc5",
   "metadata": {},
   "outputs": [
    {
     "data": {
      "text/plain": [
       "array(['no', None, 'private', 'yes', 'permissive', 'permit',\n",
       "       'destination', 'private;seasonal', 'official'], dtype=object)"
      ]
     },
     "execution_count": 238,
     "metadata": {},
     "output_type": "execute_result"
    }
   ],
   "source": [
    "acc_df.motor_vehicle.unique()"
   ]
  },
  {
   "cell_type": "code",
   "execution_count": 239,
   "id": "82cece4b",
   "metadata": {},
   "outputs": [
    {
     "data": {
      "text/plain": [
       "array([None, 'pub', 'taxi', 'parking', 'post_office', 'restaurant',\n",
       "       'arts_centre', 'fuel', 'bar', 'toilets', 'library',\n",
       "       'place_of_worship', 'hospital', 'atm', 'community_centre',\n",
       "       'police', 'bus_station', 'bank', 'cinema', 'cafe', 'pharmacy',\n",
       "       'school', 'fast_food', 'theatre', 'clock', 'courthouse', 'doctors',\n",
       "       'disused:pub', 'ferry_terminal', 'post_box', 'nightclub',\n",
       "       'college', 'university', 'townhall', 'vacant', 'telephone',\n",
       "       'car_sharing', 'camera_obscura', 'gallery', 'recycling', 'disused',\n",
       "       'drinking_water', 'dentist', 'fountain', 'ice_cream',\n",
       "       'bicycle_rental', 'formerly_cafe', 'taxi_point', 'clinic',\n",
       "       'veterinary', 'Doctor', 'bench', 'bar;restaurant', 'shopping',\n",
       "       'waste_basket', 'shop', 'bureau_de_change', 'bicycle_parking',\n",
       "       'parking_space', 'car_rental', 'parking_entrance', 'stripclub',\n",
       "       'social_facility', 'kindergarten', 'swimming_pool',\n",
       "       'internet_cafe', 'marketplace', 'car_wash', 'crematorium',\n",
       "       'training', 'wheelchair_hire', 'casino', 'construction',\n",
       "       'nursing_home', 'advice_centre', 'art_gallery', 'childcare',\n",
       "       'studio', 'advice_service', 'vending_machine', 'yes',\n",
       "       'coworking_space;cafe', 'public_bookcase', 'shower', 'dojo',\n",
       "       'waste_disposal', 'post_depot', 'photo_booth',\n",
       "       'community_centre:for=child;juvenile', 'atm;bank',\n",
       "       'money_transfer', 'mobility_equipment_hire', 'boat_rental',\n",
       "       'shelter', 'animal_boarding', 'restaurant;cafe',\n",
       "       'charging_station', 'animal_shelter', 'food_court',\n",
       "       'social_centre', 'events_venue', 'dressing_room'], dtype=object)"
      ]
     },
     "execution_count": 239,
     "metadata": {},
     "output_type": "execute_result"
    }
   ],
   "source": [
    "acc_df.amenity.unique()"
   ]
  },
  {
   "cell_type": "code",
   "execution_count": 240,
   "id": "528ff5ba",
   "metadata": {},
   "outputs": [
    {
     "data": {
      "text/plain": [
       "array(['dawn-dusk', None,\n",
       "       'Mo-We 16:00-23:30; Th-Fr 16:00-01:00; Sa 16:00-23:30', ...,\n",
       "       'Mo 08:00-18:00; Tu-Fr 08:00-20:00; Sa 08:00-19:00; Su 09:00-16:00',\n",
       "       'Mon to Sat 9am to 7pm', 'Wednesday-Sunday 10am until 4pm'],\n",
       "      dtype=object)"
      ]
     },
     "execution_count": 240,
     "metadata": {},
     "output_type": "execute_result"
    }
   ],
   "source": [
    "acc_df.opening_hours.unique()"
   ]
  },
  {
   "cell_type": "code",
   "execution_count": 241,
   "id": "c4be0aa7",
   "metadata": {},
   "outputs": [
    {
     "data": {
      "text/plain": [
       "array(['yes', 'limited', 'no', 'designated', 'no use other side door',\n",
       "       'no space', 'no;yes'], dtype=object)"
      ]
     },
     "execution_count": 241,
     "metadata": {},
     "output_type": "execute_result"
    }
   ],
   "source": [
    "acc_df.wheelchair.unique()"
   ]
  },
  {
   "cell_type": "code",
   "execution_count": 242,
   "id": "f48ecbea",
   "metadata": {},
   "outputs": [
    {
     "data": {
      "text/plain": [
       "yes                       18815\n",
       "no                         6793\n",
       "limited                    3576\n",
       "designated                   95\n",
       "no space                      1\n",
       "no use other side door        1\n",
       "no;yes                        1\n",
       "Name: wheelchair, dtype: int64"
      ]
     },
     "execution_count": 242,
     "metadata": {},
     "output_type": "execute_result"
    }
   ],
   "source": [
    "acc_df.wheelchair.value_counts()"
   ]
  },
  {
   "cell_type": "code",
   "execution_count": 243,
   "id": "8cd1a10e",
   "metadata": {},
   "outputs": [],
   "source": [
    "label_order = ['designated', 'limited', 'no', 'no space', 'no use other side door', 'no;yes', 'yes']"
   ]
  },
  {
   "cell_type": "code",
   "execution_count": 244,
   "id": "27af3b28",
   "metadata": {},
   "outputs": [
    {
     "data": {
      "text/html": [
       "<div>\n",
       "<style scoped>\n",
       "    .dataframe tbody tr th:only-of-type {\n",
       "        vertical-align: middle;\n",
       "    }\n",
       "\n",
       "    .dataframe tbody tr th {\n",
       "        vertical-align: top;\n",
       "    }\n",
       "\n",
       "    .dataframe thead th {\n",
       "        text-align: right;\n",
       "    }\n",
       "</style>\n",
       "<table border=\"1\" class=\"dataframe\">\n",
       "  <thead>\n",
       "    <tr style=\"text-align: right;\">\n",
       "      <th></th>\n",
       "      <th>access</th>\n",
       "      <th>barrier</th>\n",
       "      <th>bicycle</th>\n",
       "      <th>motor_vehicle</th>\n",
       "      <th>opening_hours</th>\n",
       "      <th>amenity</th>\n",
       "      <th>lon</th>\n",
       "      <th>lat</th>\n",
       "    </tr>\n",
       "  </thead>\n",
       "  <tbody>\n",
       "    <tr>\n",
       "      <th>99878</th>\n",
       "      <td>permissive</td>\n",
       "      <td>gate</td>\n",
       "      <td>no</td>\n",
       "      <td>no</td>\n",
       "      <td>dawn-dusk</td>\n",
       "      <td>None</td>\n",
       "      <td>-0.152985</td>\n",
       "      <td>51.524358</td>\n",
       "    </tr>\n",
       "    <tr>\n",
       "      <th>104734</th>\n",
       "      <td>NONE</td>\n",
       "      <td>None</td>\n",
       "      <td>None</td>\n",
       "      <td>None</td>\n",
       "      <td>None</td>\n",
       "      <td>None</td>\n",
       "      <td>-1.785876</td>\n",
       "      <td>51.565653</td>\n",
       "    </tr>\n",
       "    <tr>\n",
       "      <th>106213</th>\n",
       "      <td>NONE</td>\n",
       "      <td>None</td>\n",
       "      <td>None</td>\n",
       "      <td>None</td>\n",
       "      <td>None</td>\n",
       "      <td>None</td>\n",
       "      <td>-0.142942</td>\n",
       "      <td>51.525660</td>\n",
       "    </tr>\n",
       "    <tr>\n",
       "      <th>108042</th>\n",
       "      <td>NONE</td>\n",
       "      <td>None</td>\n",
       "      <td>None</td>\n",
       "      <td>None</td>\n",
       "      <td>Mo-We 16:00-23:30; Th-Fr 16:00-01:00; Sa 16:00...</td>\n",
       "      <td>pub</td>\n",
       "      <td>-0.135513</td>\n",
       "      <td>51.523561</td>\n",
       "    </tr>\n",
       "    <tr>\n",
       "      <th>251191</th>\n",
       "      <td>NONE</td>\n",
       "      <td>None</td>\n",
       "      <td>None</td>\n",
       "      <td>None</td>\n",
       "      <td>None</td>\n",
       "      <td>None</td>\n",
       "      <td>-0.715918</td>\n",
       "      <td>51.115444</td>\n",
       "    </tr>\n",
       "  </tbody>\n",
       "</table>\n",
       "</div>"
      ],
      "text/plain": [
       "            access barrier bicycle motor_vehicle  \\\n",
       "99878   permissive    gate      no            no   \n",
       "104734        NONE    None    None          None   \n",
       "106213        NONE    None    None          None   \n",
       "108042        NONE    None    None          None   \n",
       "251191        NONE    None    None          None   \n",
       "\n",
       "                                            opening_hours amenity       lon  \\\n",
       "99878                                           dawn-dusk    None -0.152985   \n",
       "104734                                               None    None -1.785876   \n",
       "106213                                               None    None -0.142942   \n",
       "108042  Mo-We 16:00-23:30; Th-Fr 16:00-01:00; Sa 16:00...     pub -0.135513   \n",
       "251191                                               None    None -0.715918   \n",
       "\n",
       "              lat  \n",
       "99878   51.524358  \n",
       "104734  51.565653  \n",
       "106213  51.525660  \n",
       "108042  51.523561  \n",
       "251191  51.115444  "
      ]
     },
     "execution_count": 244,
     "metadata": {},
     "output_type": "execute_result"
    }
   ],
   "source": [
    "acc_X = acc_df.drop(columns='wheelchair')\n",
    "acc_X.head()"
   ]
  },
  {
   "cell_type": "code",
   "execution_count": 245,
   "id": "ecb53df7",
   "metadata": {},
   "outputs": [
    {
     "data": {
      "text/html": [
       "<div>\n",
       "<style scoped>\n",
       "    .dataframe tbody tr th:only-of-type {\n",
       "        vertical-align: middle;\n",
       "    }\n",
       "\n",
       "    .dataframe tbody tr th {\n",
       "        vertical-align: top;\n",
       "    }\n",
       "\n",
       "    .dataframe thead th {\n",
       "        text-align: right;\n",
       "    }\n",
       "</style>\n",
       "<table border=\"1\" class=\"dataframe\">\n",
       "  <thead>\n",
       "    <tr style=\"text-align: right;\">\n",
       "      <th></th>\n",
       "      <th>access</th>\n",
       "      <th>barrier</th>\n",
       "      <th>bicycle</th>\n",
       "      <th>motor_vehicle</th>\n",
       "      <th>opening_hours</th>\n",
       "      <th>amenity</th>\n",
       "      <th>lon</th>\n",
       "      <th>lat</th>\n",
       "    </tr>\n",
       "  </thead>\n",
       "  <tbody>\n",
       "    <tr>\n",
       "      <th>99878</th>\n",
       "      <td>16</td>\n",
       "      <td>6</td>\n",
       "      <td>3</td>\n",
       "      <td>1</td>\n",
       "      <td>2264</td>\n",
       "      <td>-1</td>\n",
       "      <td>-0.152985</td>\n",
       "      <td>51.524358</td>\n",
       "    </tr>\n",
       "    <tr>\n",
       "      <th>104734</th>\n",
       "      <td>0</td>\n",
       "      <td>-1</td>\n",
       "      <td>-1</td>\n",
       "      <td>-1</td>\n",
       "      <td>-1</td>\n",
       "      <td>-1</td>\n",
       "      <td>-1.785876</td>\n",
       "      <td>51.565653</td>\n",
       "    </tr>\n",
       "    <tr>\n",
       "      <th>106213</th>\n",
       "      <td>0</td>\n",
       "      <td>-1</td>\n",
       "      <td>-1</td>\n",
       "      <td>-1</td>\n",
       "      <td>-1</td>\n",
       "      <td>-1</td>\n",
       "      <td>-0.142942</td>\n",
       "      <td>51.525660</td>\n",
       "    </tr>\n",
       "    <tr>\n",
       "      <th>108042</th>\n",
       "      <td>0</td>\n",
       "      <td>-1</td>\n",
       "      <td>-1</td>\n",
       "      <td>-1</td>\n",
       "      <td>1978</td>\n",
       "      <td>71</td>\n",
       "      <td>-0.135513</td>\n",
       "      <td>51.523561</td>\n",
       "    </tr>\n",
       "    <tr>\n",
       "      <th>251191</th>\n",
       "      <td>0</td>\n",
       "      <td>-1</td>\n",
       "      <td>-1</td>\n",
       "      <td>-1</td>\n",
       "      <td>-1</td>\n",
       "      <td>-1</td>\n",
       "      <td>-0.715918</td>\n",
       "      <td>51.115444</td>\n",
       "    </tr>\n",
       "  </tbody>\n",
       "</table>\n",
       "</div>"
      ],
      "text/plain": [
       "        access  barrier  bicycle  motor_vehicle  opening_hours  amenity  \\\n",
       "99878       16        6        3              1           2264       -1   \n",
       "104734       0       -1       -1             -1             -1       -1   \n",
       "106213       0       -1       -1             -1             -1       -1   \n",
       "108042       0       -1       -1             -1           1978       71   \n",
       "251191       0       -1       -1             -1             -1       -1   \n",
       "\n",
       "             lon        lat  \n",
       "99878  -0.152985  51.524358  \n",
       "104734 -1.785876  51.565653  \n",
       "106213 -0.142942  51.525660  \n",
       "108042 -0.135513  51.523561  \n",
       "251191 -0.715918  51.115444  "
      ]
     },
     "execution_count": 245,
     "metadata": {},
     "output_type": "execute_result"
    }
   ],
   "source": [
    "acc_X['access'] = pd.Categorical(acc_X['access'])\n",
    "acc_X['access'] = acc_X['access'].cat.codes\n",
    "\n",
    "acc_X['barrier'] = pd.Categorical(acc_X['barrier'])\n",
    "acc_X['barrier'] = acc_X['barrier'].cat.codes\n",
    "\n",
    "acc_X['bicycle'] = pd.Categorical(acc_X['bicycle'])\n",
    "acc_X['bicycle'] = acc_X['bicycle'].cat.codes\n",
    "\n",
    "acc_X['motor_vehicle'] = pd.Categorical(acc_X['motor_vehicle'])\n",
    "acc_X['motor_vehicle'] = acc_X['motor_vehicle'].cat.codes\n",
    "\n",
    "acc_X['opening_hours'] = pd.Categorical(acc_X['opening_hours'])\n",
    "acc_X['opening_hours'] = acc_X['opening_hours'].cat.codes\n",
    "\n",
    "acc_X['amenity'] = pd.Categorical(acc_X['amenity'])\n",
    "acc_X['amenity'] = acc_X['amenity'].cat.codes\n",
    "\n",
    "acc_X.head()"
   ]
  },
  {
   "cell_type": "code",
   "execution_count": 246,
   "id": "d02106af",
   "metadata": {},
   "outputs": [],
   "source": [
    "#acc_X = acc_X.drop(columns='lat')\n",
    "#acc_X = acc_X.drop(columns='lon')"
   ]
  },
  {
   "cell_type": "code",
   "execution_count": 247,
   "id": "d1e68778",
   "metadata": {},
   "outputs": [],
   "source": [
    "acc_df['wheelchair'] = pd.Categorical(acc_df['wheelchair'])\n",
    "acc_y = acc_df['wheelchair'].cat.codes"
   ]
  },
  {
   "cell_type": "code",
   "execution_count": 248,
   "id": "aa1a2a5b",
   "metadata": {},
   "outputs": [
    {
     "data": {
      "text/plain": [
       "6    18815\n",
       "2     6793\n",
       "1     3576\n",
       "0       95\n",
       "3        1\n",
       "4        1\n",
       "5        1\n",
       "dtype: int64"
      ]
     },
     "execution_count": 248,
     "metadata": {},
     "output_type": "execute_result"
    }
   ],
   "source": [
    "acc_y.value_counts()"
   ]
  },
  {
   "cell_type": "markdown",
   "id": "98de7f50",
   "metadata": {},
   "source": [
    "## Set-up Random Forest classifier"
   ]
  },
  {
   "cell_type": "code",
   "execution_count": 249,
   "id": "81cf47a9",
   "metadata": {},
   "outputs": [],
   "source": [
    "forest = RandomForestClassifier(n_estimators=250,\n",
    "                              random_state=0)"
   ]
  },
  {
   "cell_type": "code",
   "execution_count": 250,
   "id": "4bae7510",
   "metadata": {},
   "outputs": [
    {
     "data": {
      "text/plain": [
       "RandomForestClassifier(n_estimators=250, random_state=0)"
      ]
     },
     "execution_count": 250,
     "metadata": {},
     "output_type": "execute_result"
    }
   ],
   "source": [
    "forest.fit(acc_X, acc_y)"
   ]
  },
  {
   "cell_type": "code",
   "execution_count": 251,
   "id": "9840895f",
   "metadata": {},
   "outputs": [
    {
     "data": {
      "text/plain": [
       "1.0"
      ]
     },
     "execution_count": 251,
     "metadata": {},
     "output_type": "execute_result"
    }
   ],
   "source": [
    "ypred = forest.predict(acc_X)\n",
    "accuracy_score(acc_y, ypred)"
   ]
  },
  {
   "cell_type": "code",
   "execution_count": 252,
   "id": "b035e816",
   "metadata": {},
   "outputs": [],
   "source": [
    "importances = forest.feature_importances_"
   ]
  },
  {
   "cell_type": "code",
   "execution_count": 299,
   "id": "88e80f1f",
   "metadata": {},
   "outputs": [
    {
     "data": {
      "image/png": "[encoded data removed]",
      "text/plain": [
       "<Figure size 432x288 with 1 Axes>"
      ]
     },
     "metadata": {
      "needs_background": "light"
     },
     "output_type": "display_data"
    }
   ],
   "source": [
    "indices = np.argsort(importances)\n",
    "plt.barh(acc_X.columns[indices], importances[indices])\n",
    "plt.xlabel('Gini Importance')\n",
    "plt.ylabel('Features')\n",
    "plt.grid()\n",
    "plt.title('Feature Importance')\n",
    "#plt.xticks(rotation=90)\n",
    "plt.tight_layout()\n",
    "plt.savefig('/output/fi_rf.pdf')"
   ]
  },
  {
   "cell_type": "code",
   "execution_count": 260,
   "id": "c5bbd31b",
   "metadata": {},
   "outputs": [],
   "source": [
    "X_train, X_test, y_train, y_test = train_test_split(acc_X, acc_y, test_size=0.20, random_state=42)"
   ]
  },
  {
   "cell_type": "code",
   "execution_count": 261,
   "id": "36161a5d",
   "metadata": {},
   "outputs": [],
   "source": [
    "X_train = X_train.drop(columns='opening_hours')\n",
    "X_test = X_test.drop(columns='opening_hours')"
   ]
  },
  {
   "cell_type": "code",
   "execution_count": 262,
   "id": "7d5449a2",
   "metadata": {},
   "outputs": [
    {
     "data": {
      "text/plain": [
       "RandomForestClassifier(n_estimators=250, random_state=0)"
      ]
     },
     "execution_count": 262,
     "metadata": {},
     "output_type": "execute_result"
    }
   ],
   "source": [
    "trial_forest = RandomForestClassifier(n_estimators=250, random_state=0)\n",
    "trial_forest.fit(X_train, y_train)"
   ]
  },
  {
   "cell_type": "code",
   "execution_count": 263,
   "id": "41570909",
   "metadata": {},
   "outputs": [
    {
     "data": {
      "text/plain": [
       "0.7075294519378521"
      ]
     },
     "execution_count": 263,
     "metadata": {},
     "output_type": "execute_result"
    }
   ],
   "source": [
    "new_preds = trial_forest.predict(X_test)\n",
    "accuracy_score(y_test, new_preds)"
   ]
  },
  {
   "cell_type": "code",
   "execution_count": 264,
   "id": "4dffee90",
   "metadata": {},
   "outputs": [
    {
     "data": {
      "text/plain": [
       "array([0.26923077, 0.26057299, 0.52604549, 0.        , 0.86475629])"
      ]
     },
     "execution_count": 264,
     "metadata": {},
     "output_type": "execute_result"
    }
   ],
   "source": [
    "cm = confusion_matrix(y_test, new_preds)\n",
    "cm = cm.astype('float') / cm.sum(axis=1)[:, np.newaxis]\n",
    "cm.diagonal()"
   ]
  },
  {
   "cell_type": "code",
   "execution_count": 265,
   "id": "2e94514b",
   "metadata": {},
   "outputs": [
    {
     "name": "stdout",
     "output_type": "stream",
     "text": [
      "['designated', 'limited', 'no', 'no space', 'no use other side door', 'no;yes', 'yes']\n"
     ]
    }
   ],
   "source": [
    "print(label_order)"
   ]
  },
  {
   "cell_type": "code",
   "execution_count": 266,
   "id": "d1fae09e",
   "metadata": {},
   "outputs": [
    {
     "name": "stderr",
     "output_type": "stream",
     "text": [
      "/shared/cm_feat/lib/python3.8/site-packages/sklearn/metrics/_classification.py:1245: UndefinedMetricWarning: Precision and F-score are ill-defined and being set to 0.0 in labels with no predicted samples. Use `zero_division` parameter to control this behavior.\n",
      "  _warn_prf(average, modifier, msg_start, len(result))\n"
     ]
    },
    {
     "data": {
      "text/plain": [
       "(array([0.58333333, 0.37896825, 0.60557432, 0.        , 0.77676209]),\n",
       " array([0.26923077, 0.26057299, 0.52604549, 0.        , 0.86475629]),\n",
       " array([0.36842105, 0.30881164, 0.56301531, 0.        , 0.81840071]),\n",
       " array([  26,  733, 1363,    1, 3734]))"
      ]
     },
     "execution_count": 266,
     "metadata": {},
     "output_type": "execute_result"
    }
   ],
   "source": [
    "precision_recall_fscore_support(y_test, new_preds)"
   ]
  },
  {
   "cell_type": "markdown",
   "id": "f04821f9",
   "metadata": {},
   "source": [
    "## Set up XGBoost model"
   ]
  },
  {
   "cell_type": "code",
   "execution_count": 267,
   "id": "bfd013aa",
   "metadata": {},
   "outputs": [],
   "source": [
    "dtrain = xgb.DMatrix(X_train, label=y_train)"
   ]
  },
  {
   "cell_type": "code",
   "execution_count": 268,
   "id": "366d0f6e",
   "metadata": {},
   "outputs": [],
   "source": [
    "param = {'objective': 'multi:softmax', 'num_class':7}"
   ]
  },
  {
   "cell_type": "code",
   "execution_count": 269,
   "id": "1d171c8c",
   "metadata": {},
   "outputs": [
    {
     "name": "stdout",
     "output_type": "stream",
     "text": [
      "[14:43:59] WARNING: ../src/learner.cc:1095: Starting in XGBoost 1.3.0, the default evaluation metric used with the objective 'multi:softmax' was changed from 'merror' to 'mlogloss'. Explicitly set eval_metric if you'd like to restore the old behavior.\n"
     ]
    }
   ],
   "source": [
    "num_round = 100\n",
    "bst = xgb.train(param, dtrain, num_round)"
   ]
  },
  {
   "cell_type": "code",
   "execution_count": 270,
   "id": "a0570d5e",
   "metadata": {},
   "outputs": [],
   "source": [
    "dtest = xgb.DMatrix(X_test)"
   ]
  },
  {
   "cell_type": "code",
   "execution_count": 271,
   "id": "ab6a8837",
   "metadata": {},
   "outputs": [],
   "source": [
    "xgb_preds = bst.predict(dtest)"
   ]
  },
  {
   "cell_type": "code",
   "execution_count": 293,
   "id": "e3cf898d",
   "metadata": {},
   "outputs": [
    {
     "data": {
      "image/png": "[encoded data removed]",
      "text/plain": [
       "<Figure size 432x288 with 1 Axes>"
      ]
     },
     "metadata": {
      "needs_background": "light"
     },
     "output_type": "display_data"
    }
   ],
   "source": [
    "xgb.plot_importance(bst)\n",
    "plt.tight_layout()\n",
    "plt.savefig('/output/fi_xgb.pdf')"
   ]
  },
  {
   "cell_type": "code",
   "execution_count": 273,
   "id": "b203e30c",
   "metadata": {},
   "outputs": [
    {
     "data": {
      "text/plain": [
       "0.7153833020317568"
      ]
     },
     "execution_count": 273,
     "metadata": {},
     "output_type": "execute_result"
    }
   ],
   "source": [
    "accuracy_score(y_test, xgb_preds)"
   ]
  },
  {
   "cell_type": "code",
   "execution_count": 274,
   "id": "1efabd6a",
   "metadata": {},
   "outputs": [
    {
     "data": {
      "text/plain": [
       "array([0.19230769, 0.09004093, 0.41159208, 0.        , 0.95286556])"
      ]
     },
     "execution_count": 274,
     "metadata": {},
     "output_type": "execute_result"
    }
   ],
   "source": [
    "cm_xg = confusion_matrix(y_test, xgb_preds)\n",
    "cm_xg = cm_xg.astype('float') / cm_xg.sum(axis=1)[:, np.newaxis]\n",
    "cm_xg.diagonal()"
   ]
  },
  {
   "cell_type": "code",
   "execution_count": 275,
   "id": "052b670c",
   "metadata": {},
   "outputs": [
    {
     "name": "stdout",
     "output_type": "stream",
     "text": [
      "['designated', 'limited', 'no', 'no space', 'no use other side door', 'no;yes', 'yes']\n"
     ]
    }
   ],
   "source": [
    "print(label_order)"
   ]
  },
  {
   "cell_type": "code",
   "execution_count": 276,
   "id": "33aad6d3",
   "metadata": {},
   "outputs": [
    {
     "name": "stderr",
     "output_type": "stream",
     "text": [
      "/shared/cm_feat/lib/python3.8/site-packages/sklearn/metrics/_classification.py:1245: UndefinedMetricWarning: Precision and F-score are ill-defined and being set to 0.0 in labels with no predicted samples. Use `zero_division` parameter to control this behavior.\n",
      "  _warn_prf(average, modifier, msg_start, len(result))\n"
     ]
    },
    {
     "data": {
      "text/plain": [
       "(array([0.625     , 0.5       , 0.72107969, 0.        , 0.72038874]),\n",
       " array([0.19230769, 0.09004093, 0.41159208, 0.        , 0.95286556]),\n",
       " array([0.29411765, 0.15260116, 0.52405418, 0.        , 0.82047734]),\n",
       " array([  26,  733, 1363,    1, 3734]))"
      ]
     },
     "execution_count": 276,
     "metadata": {},
     "output_type": "execute_result"
    }
   ],
   "source": [
    "precision_recall_fscore_support(y_test, xgb_preds)"
   ]
  },
  {
   "cell_type": "markdown",
   "id": "e2ffb1ab",
   "metadata": {},
   "source": [
    "## Try simplistic homogenisation schemes"
   ]
  },
  {
   "cell_type": "markdown",
   "id": "9e750746",
   "metadata": {},
   "source": [
    "Given that the features which seem to be poor predictors are the ones with manually input tags, will homogenising those improve the result somewhat?"
   ]
  },
  {
   "cell_type": "markdown",
   "id": "4fb0a9f7",
   "metadata": {},
   "source": [
    "First, try simple lat_lon_wheelchair file with wheelchair accesibility binned into 4 labels"
   ]
  },
  {
   "cell_type": "code",
   "execution_count": 42,
   "id": "770358e0",
   "metadata": {},
   "outputs": [
    {
     "data": {
      "text/html": [
       "<div>\n",
       "<style scoped>\n",
       "    .dataframe tbody tr th:only-of-type {\n",
       "        vertical-align: middle;\n",
       "    }\n",
       "\n",
       "    .dataframe tbody tr th {\n",
       "        vertical-align: top;\n",
       "    }\n",
       "\n",
       "    .dataframe thead th {\n",
       "        text-align: right;\n",
       "    }\n",
       "</style>\n",
       "<table border=\"1\" class=\"dataframe\">\n",
       "  <thead>\n",
       "    <tr style=\"text-align: right;\">\n",
       "      <th></th>\n",
       "      <th>lon</th>\n",
       "      <th>lat</th>\n",
       "      <th>wheelchair_cat</th>\n",
       "    </tr>\n",
       "  </thead>\n",
       "  <tbody>\n",
       "    <tr>\n",
       "      <th>99878</th>\n",
       "      <td>-0.152985</td>\n",
       "      <td>51.524358</td>\n",
       "      <td>yes</td>\n",
       "    </tr>\n",
       "    <tr>\n",
       "      <th>104734</th>\n",
       "      <td>-1.785876</td>\n",
       "      <td>51.565653</td>\n",
       "      <td>yes</td>\n",
       "    </tr>\n",
       "    <tr>\n",
       "      <th>106213</th>\n",
       "      <td>-0.142942</td>\n",
       "      <td>51.525660</td>\n",
       "      <td>yes</td>\n",
       "    </tr>\n",
       "    <tr>\n",
       "      <th>108042</th>\n",
       "      <td>-0.135513</td>\n",
       "      <td>51.523561</td>\n",
       "      <td>limited</td>\n",
       "    </tr>\n",
       "    <tr>\n",
       "      <th>251191</th>\n",
       "      <td>-0.715918</td>\n",
       "      <td>51.115444</td>\n",
       "      <td>limited</td>\n",
       "    </tr>\n",
       "  </tbody>\n",
       "</table>\n",
       "</div>"
      ],
      "text/plain": [
       "             lon        lat wheelchair_cat\n",
       "99878  -0.152985  51.524358            yes\n",
       "104734 -1.785876  51.565653            yes\n",
       "106213 -0.142942  51.525660            yes\n",
       "108042 -0.135513  51.523561        limited\n",
       "251191 -0.715918  51.115444        limited"
      ]
     },
     "execution_count": 42,
     "metadata": {},
     "output_type": "execute_result"
    }
   ],
   "source": [
    "r_df = pd.read_pickle(\"accessible_pois_lon_lat_wheelchair.pkl\")\n",
    "r_df.head()"
   ]
  },
  {
   "cell_type": "code",
   "execution_count": 43,
   "id": "c4c5e086",
   "metadata": {},
   "outputs": [],
   "source": [
    "r_df['wheelchair_cat'] = pd.Categorical(r_df['wheelchair_cat'])\n",
    "r_y = r_df['wheelchair_cat'].cat.codes"
   ]
  },
  {
   "cell_type": "code",
   "execution_count": 44,
   "id": "e9b1a546",
   "metadata": {},
   "outputs": [
    {
     "data": {
      "text/plain": [
       "99878         3\n",
       "104734        3\n",
       "106213        3\n",
       "108042        1\n",
       "251191        1\n",
       "             ..\n",
       "8495396114    3\n",
       "8495396115    3\n",
       "8497470120    1\n",
       "8497671325    2\n",
       "8497671329    1\n",
       "Length: 29282, dtype: int8"
      ]
     },
     "execution_count": 44,
     "metadata": {},
     "output_type": "execute_result"
    }
   ],
   "source": [
    "r_y"
   ]
  },
  {
   "cell_type": "code",
   "execution_count": 45,
   "id": "4dab47f2",
   "metadata": {},
   "outputs": [
    {
     "data": {
      "text/html": [
       "<div>\n",
       "<style scoped>\n",
       "    .dataframe tbody tr th:only-of-type {\n",
       "        vertical-align: middle;\n",
       "    }\n",
       "\n",
       "    .dataframe tbody tr th {\n",
       "        vertical-align: top;\n",
       "    }\n",
       "\n",
       "    .dataframe thead th {\n",
       "        text-align: right;\n",
       "    }\n",
       "</style>\n",
       "<table border=\"1\" class=\"dataframe\">\n",
       "  <thead>\n",
       "    <tr style=\"text-align: right;\">\n",
       "      <th></th>\n",
       "      <th>lon</th>\n",
       "      <th>lat</th>\n",
       "    </tr>\n",
       "  </thead>\n",
       "  <tbody>\n",
       "    <tr>\n",
       "      <th>99878</th>\n",
       "      <td>-0.152985</td>\n",
       "      <td>51.524358</td>\n",
       "    </tr>\n",
       "    <tr>\n",
       "      <th>104734</th>\n",
       "      <td>-1.785876</td>\n",
       "      <td>51.565653</td>\n",
       "    </tr>\n",
       "    <tr>\n",
       "      <th>106213</th>\n",
       "      <td>-0.142942</td>\n",
       "      <td>51.525660</td>\n",
       "    </tr>\n",
       "    <tr>\n",
       "      <th>108042</th>\n",
       "      <td>-0.135513</td>\n",
       "      <td>51.523561</td>\n",
       "    </tr>\n",
       "    <tr>\n",
       "      <th>251191</th>\n",
       "      <td>-0.715918</td>\n",
       "      <td>51.115444</td>\n",
       "    </tr>\n",
       "  </tbody>\n",
       "</table>\n",
       "</div>"
      ],
      "text/plain": [
       "             lon        lat\n",
       "99878  -0.152985  51.524358\n",
       "104734 -1.785876  51.565653\n",
       "106213 -0.142942  51.525660\n",
       "108042 -0.135513  51.523561\n",
       "251191 -0.715918  51.115444"
      ]
     },
     "execution_count": 45,
     "metadata": {},
     "output_type": "execute_result"
    }
   ],
   "source": [
    "r_X = r_df.drop(columns='wheelchair_cat')\n",
    "r_X.head()"
   ]
  },
  {
   "cell_type": "code",
   "execution_count": 46,
   "id": "456fe734",
   "metadata": {},
   "outputs": [],
   "source": [
    "r_X_train, r_X_test, r_y_train, r_y_test = train_test_split(r_X, r_y, test_size=0.20, random_state=42)"
   ]
  },
  {
   "cell_type": "code",
   "execution_count": 47,
   "id": "22408374",
   "metadata": {},
   "outputs": [],
   "source": [
    "r_dtrain = xgb.DMatrix(r_X_train, label=r_y_train)"
   ]
  },
  {
   "cell_type": "code",
   "execution_count": 48,
   "id": "10bc572d",
   "metadata": {},
   "outputs": [],
   "source": [
    "r_param = {'objective': 'multi:softmax', 'num_class':4}"
   ]
  },
  {
   "cell_type": "code",
   "execution_count": 49,
   "id": "359325b1",
   "metadata": {},
   "outputs": [
    {
     "name": "stdout",
     "output_type": "stream",
     "text": [
      "[12:56:57] WARNING: ../src/learner.cc:1095: Starting in XGBoost 1.3.0, the default evaluation metric used with the objective 'multi:softmax' was changed from 'merror' to 'mlogloss'. Explicitly set eval_metric if you'd like to restore the old behavior.\n"
     ]
    }
   ],
   "source": [
    "r_num_round = 100\n",
    "r_bst = xgb.train(r_param, r_dtrain, r_num_round)"
   ]
  },
  {
   "cell_type": "code",
   "execution_count": 50,
   "id": "b7236102",
   "metadata": {},
   "outputs": [],
   "source": [
    "r_dtest = xgb.DMatrix(r_X_test)"
   ]
  },
  {
   "cell_type": "code",
   "execution_count": 51,
   "id": "a6c90050",
   "metadata": {},
   "outputs": [],
   "source": [
    "r_preds = r_bst.predict(r_dtest)"
   ]
  },
  {
   "cell_type": "code",
   "execution_count": 52,
   "id": "12151f2b",
   "metadata": {},
   "outputs": [
    {
     "data": {
      "text/plain": [
       "<AxesSubplot:title={'center':'Feature importance'}, xlabel='F score', ylabel='Features'>"
      ]
     },
     "execution_count": 52,
     "metadata": {},
     "output_type": "execute_result"
    },
    {
     "data": {
      "image/png": "[encoded data removed]",
      "text/plain": [
       "<Figure size 432x288 with 1 Axes>"
      ]
     },
     "metadata": {
      "needs_background": "light"
     },
     "output_type": "display_data"
    }
   ],
   "source": [
    "xgb.plot_importance(r_bst)"
   ]
  },
  {
   "cell_type": "code",
   "execution_count": 53,
   "id": "f909b40e",
   "metadata": {},
   "outputs": [
    {
     "data": {
      "text/plain": [
       "0.6914802800068295"
      ]
     },
     "execution_count": 53,
     "metadata": {},
     "output_type": "execute_result"
    }
   ],
   "source": [
    "accuracy_score(r_y_test, r_preds)"
   ]
  },
  {
   "cell_type": "code",
   "execution_count": 54,
   "id": "c02a1fc5",
   "metadata": {},
   "outputs": [
    {
     "data": {
      "text/plain": [
       "array([0.07692308, 0.07503411, 0.32184751, 0.95179432])"
      ]
     },
     "execution_count": 54,
     "metadata": {},
     "output_type": "execute_result"
    }
   ],
   "source": [
    "cm_r = confusion_matrix(r_y_test, r_preds)\n",
    "cm_r = cm_r.astype('float') / cm_r.sum(axis=1)[:, np.newaxis]\n",
    "cm_r.diagonal()"
   ]
  },
  {
   "cell_type": "code",
   "execution_count": 55,
   "id": "b09a4ae3",
   "metadata": {},
   "outputs": [
    {
     "name": "stdout",
     "output_type": "stream",
     "text": [
      "['designated', 'limited', 'no', 'no space', 'no use other side door', 'no;yes', 'yes']\n"
     ]
    }
   ],
   "source": [
    "print(label_order)"
   ]
  },
  {
   "cell_type": "code",
   "execution_count": 56,
   "id": "c18b0df7",
   "metadata": {},
   "outputs": [
    {
     "data": {
      "text/plain": [
       "(array([0.4       , 0.46610169, 0.67538462, 0.69905586]),\n",
       " array([0.07692308, 0.07503411, 0.32184751, 0.95179432]),\n",
       " array([0.12903226, 0.12925969, 0.43594836, 0.80607848]),\n",
       " array([  26,  733, 1364, 3734]))"
      ]
     },
     "execution_count": 56,
     "metadata": {},
     "output_type": "execute_result"
    }
   ],
   "source": [
    "precision_recall_fscore_support(r_y_test, r_preds)"
   ]
  },
  {
   "cell_type": "markdown",
   "id": "42708428",
   "metadata": {},
   "source": [
    "Accuracy seems to remain the same with this. Need additional features. Let's try the additional columns in the original file, but with homogenised labels."
   ]
  },
  {
   "cell_type": "code",
   "execution_count": 57,
   "id": "da29e8de",
   "metadata": {},
   "outputs": [
    {
     "data": {
      "text/html": [
       "<div>\n",
       "<style scoped>\n",
       "    .dataframe tbody tr th:only-of-type {\n",
       "        vertical-align: middle;\n",
       "    }\n",
       "\n",
       "    .dataframe tbody tr th {\n",
       "        vertical-align: top;\n",
       "    }\n",
       "\n",
       "    .dataframe thead th {\n",
       "        text-align: right;\n",
       "    }\n",
       "</style>\n",
       "<table border=\"1\" class=\"dataframe\">\n",
       "  <thead>\n",
       "    <tr style=\"text-align: right;\">\n",
       "      <th></th>\n",
       "      <th>access</th>\n",
       "      <th>barrier</th>\n",
       "      <th>bicycle</th>\n",
       "      <th>motor_vehicle</th>\n",
       "      <th>opening_hours</th>\n",
       "      <th>wheelchair</th>\n",
       "      <th>amenity</th>\n",
       "      <th>lon</th>\n",
       "      <th>lat</th>\n",
       "    </tr>\n",
       "  </thead>\n",
       "  <tbody>\n",
       "    <tr>\n",
       "      <th>99878</th>\n",
       "      <td>permissive</td>\n",
       "      <td>gate</td>\n",
       "      <td>no</td>\n",
       "      <td>no</td>\n",
       "      <td>dawn-dusk</td>\n",
       "      <td>yes</td>\n",
       "      <td>None</td>\n",
       "      <td>-0.152985</td>\n",
       "      <td>51.524358</td>\n",
       "    </tr>\n",
       "    <tr>\n",
       "      <th>104734</th>\n",
       "      <td>NONE</td>\n",
       "      <td>None</td>\n",
       "      <td>None</td>\n",
       "      <td>None</td>\n",
       "      <td>None</td>\n",
       "      <td>yes</td>\n",
       "      <td>None</td>\n",
       "      <td>-1.785876</td>\n",
       "      <td>51.565653</td>\n",
       "    </tr>\n",
       "    <tr>\n",
       "      <th>106213</th>\n",
       "      <td>NONE</td>\n",
       "      <td>None</td>\n",
       "      <td>None</td>\n",
       "      <td>None</td>\n",
       "      <td>None</td>\n",
       "      <td>yes</td>\n",
       "      <td>None</td>\n",
       "      <td>-0.142942</td>\n",
       "      <td>51.525660</td>\n",
       "    </tr>\n",
       "    <tr>\n",
       "      <th>108042</th>\n",
       "      <td>NONE</td>\n",
       "      <td>None</td>\n",
       "      <td>None</td>\n",
       "      <td>None</td>\n",
       "      <td>Mo-We 16:00-23:30; Th-Fr 16:00-01:00; Sa 16:00...</td>\n",
       "      <td>limited</td>\n",
       "      <td>pub</td>\n",
       "      <td>-0.135513</td>\n",
       "      <td>51.523561</td>\n",
       "    </tr>\n",
       "    <tr>\n",
       "      <th>251191</th>\n",
       "      <td>NONE</td>\n",
       "      <td>None</td>\n",
       "      <td>None</td>\n",
       "      <td>None</td>\n",
       "      <td>None</td>\n",
       "      <td>limited</td>\n",
       "      <td>None</td>\n",
       "      <td>-0.715918</td>\n",
       "      <td>51.115444</td>\n",
       "    </tr>\n",
       "  </tbody>\n",
       "</table>\n",
       "</div>"
      ],
      "text/plain": [
       "            access barrier bicycle motor_vehicle  \\\n",
       "99878   permissive    gate      no            no   \n",
       "104734        NONE    None    None          None   \n",
       "106213        NONE    None    None          None   \n",
       "108042        NONE    None    None          None   \n",
       "251191        NONE    None    None          None   \n",
       "\n",
       "                                            opening_hours wheelchair amenity  \\\n",
       "99878                                           dawn-dusk        yes    None   \n",
       "104734                                               None        yes    None   \n",
       "106213                                               None        yes    None   \n",
       "108042  Mo-We 16:00-23:30; Th-Fr 16:00-01:00; Sa 16:00...    limited     pub   \n",
       "251191                                               None    limited    None   \n",
       "\n",
       "             lon        lat  \n",
       "99878  -0.152985  51.524358  \n",
       "104734 -1.785876  51.565653  \n",
       "106213 -0.142942  51.525660  \n",
       "108042 -0.135513  51.523561  \n",
       "251191 -0.715918  51.115444  "
      ]
     },
     "execution_count": 57,
     "metadata": {},
     "output_type": "execute_result"
    }
   ],
   "source": [
    "acc_df.head()"
   ]
  },
  {
   "cell_type": "markdown",
   "id": "59a041c3",
   "metadata": {},
   "source": [
    "### First try data with amenities only"
   ]
  },
  {
   "cell_type": "code",
   "execution_count": 58,
   "id": "f7969830",
   "metadata": {},
   "outputs": [],
   "source": [
    "test_df = acc_df.drop(columns='opening_hours')"
   ]
  },
  {
   "cell_type": "code",
   "execution_count": 59,
   "id": "3f7d6001",
   "metadata": {},
   "outputs": [
    {
     "data": {
      "text/html": [
       "<div>\n",
       "<style scoped>\n",
       "    .dataframe tbody tr th:only-of-type {\n",
       "        vertical-align: middle;\n",
       "    }\n",
       "\n",
       "    .dataframe tbody tr th {\n",
       "        vertical-align: top;\n",
       "    }\n",
       "\n",
       "    .dataframe thead th {\n",
       "        text-align: right;\n",
       "    }\n",
       "</style>\n",
       "<table border=\"1\" class=\"dataframe\">\n",
       "  <thead>\n",
       "    <tr style=\"text-align: right;\">\n",
       "      <th></th>\n",
       "      <th>wheelchair</th>\n",
       "      <th>amenity</th>\n",
       "      <th>lon</th>\n",
       "      <th>lat</th>\n",
       "    </tr>\n",
       "  </thead>\n",
       "  <tbody>\n",
       "    <tr>\n",
       "      <th>99878</th>\n",
       "      <td>yes</td>\n",
       "      <td>None</td>\n",
       "      <td>-0.152985</td>\n",
       "      <td>51.524358</td>\n",
       "    </tr>\n",
       "    <tr>\n",
       "      <th>104734</th>\n",
       "      <td>yes</td>\n",
       "      <td>None</td>\n",
       "      <td>-1.785876</td>\n",
       "      <td>51.565653</td>\n",
       "    </tr>\n",
       "    <tr>\n",
       "      <th>106213</th>\n",
       "      <td>yes</td>\n",
       "      <td>None</td>\n",
       "      <td>-0.142942</td>\n",
       "      <td>51.525660</td>\n",
       "    </tr>\n",
       "    <tr>\n",
       "      <th>108042</th>\n",
       "      <td>limited</td>\n",
       "      <td>pub</td>\n",
       "      <td>-0.135513</td>\n",
       "      <td>51.523561</td>\n",
       "    </tr>\n",
       "    <tr>\n",
       "      <th>251191</th>\n",
       "      <td>limited</td>\n",
       "      <td>None</td>\n",
       "      <td>-0.715918</td>\n",
       "      <td>51.115444</td>\n",
       "    </tr>\n",
       "  </tbody>\n",
       "</table>\n",
       "</div>"
      ],
      "text/plain": [
       "       wheelchair amenity       lon        lat\n",
       "99878         yes    None -0.152985  51.524358\n",
       "104734        yes    None -1.785876  51.565653\n",
       "106213        yes    None -0.142942  51.525660\n",
       "108042    limited     pub -0.135513  51.523561\n",
       "251191    limited    None -0.715918  51.115444"
      ]
     },
     "execution_count": 59,
     "metadata": {},
     "output_type": "execute_result"
    }
   ],
   "source": [
    "test_df = test_df.drop(columns=['access', 'barrier', 'bicycle', 'motor_vehicle'])\n",
    "test_df.head()"
   ]
  },
  {
   "cell_type": "code",
   "execution_count": 60,
   "id": "b6e62651",
   "metadata": {},
   "outputs": [],
   "source": [
    "test_df = test_df.dropna()"
   ]
  },
  {
   "cell_type": "code",
   "execution_count": 61,
   "id": "fd5f03d5",
   "metadata": {},
   "outputs": [
    {
     "data": {
      "text/html": [
       "<div>\n",
       "<style scoped>\n",
       "    .dataframe tbody tr th:only-of-type {\n",
       "        vertical-align: middle;\n",
       "    }\n",
       "\n",
       "    .dataframe tbody tr th {\n",
       "        vertical-align: top;\n",
       "    }\n",
       "\n",
       "    .dataframe thead th {\n",
       "        text-align: right;\n",
       "    }\n",
       "</style>\n",
       "<table border=\"1\" class=\"dataframe\">\n",
       "  <thead>\n",
       "    <tr style=\"text-align: right;\">\n",
       "      <th></th>\n",
       "      <th>wheelchair</th>\n",
       "      <th>amenity</th>\n",
       "      <th>lon</th>\n",
       "      <th>lat</th>\n",
       "    </tr>\n",
       "  </thead>\n",
       "  <tbody>\n",
       "    <tr>\n",
       "      <th>108042</th>\n",
       "      <td>limited</td>\n",
       "      <td>pub</td>\n",
       "      <td>-0.135513</td>\n",
       "      <td>51.523561</td>\n",
       "    </tr>\n",
       "    <tr>\n",
       "      <th>262708</th>\n",
       "      <td>limited</td>\n",
       "      <td>pub</td>\n",
       "      <td>-0.726258</td>\n",
       "      <td>51.024400</td>\n",
       "    </tr>\n",
       "    <tr>\n",
       "      <th>271339</th>\n",
       "      <td>no</td>\n",
       "      <td>pub</td>\n",
       "      <td>-1.856858</td>\n",
       "      <td>51.353526</td>\n",
       "    </tr>\n",
       "    <tr>\n",
       "      <th>328762</th>\n",
       "      <td>yes</td>\n",
       "      <td>taxi</td>\n",
       "      <td>1.305108</td>\n",
       "      <td>52.626620</td>\n",
       "    </tr>\n",
       "    <tr>\n",
       "      <th>367457</th>\n",
       "      <td>yes</td>\n",
       "      <td>parking</td>\n",
       "      <td>-1.446450</td>\n",
       "      <td>52.984748</td>\n",
       "    </tr>\n",
       "  </tbody>\n",
       "</table>\n",
       "</div>"
      ],
      "text/plain": [
       "       wheelchair  amenity       lon        lat\n",
       "108042    limited      pub -0.135513  51.523561\n",
       "262708    limited      pub -0.726258  51.024400\n",
       "271339         no      pub -1.856858  51.353526\n",
       "328762        yes     taxi  1.305108  52.626620\n",
       "367457        yes  parking -1.446450  52.984748"
      ]
     },
     "execution_count": 61,
     "metadata": {},
     "output_type": "execute_result"
    }
   ],
   "source": [
    "test_df.head()"
   ]
  },
  {
   "cell_type": "code",
   "execution_count": 62,
   "id": "8f7aeddd",
   "metadata": {},
   "outputs": [
    {
     "data": {
      "text/plain": [
       "11089"
      ]
     },
     "execution_count": 62,
     "metadata": {},
     "output_type": "execute_result"
    }
   ],
   "source": [
    "len(test_df)"
   ]
  },
  {
   "cell_type": "code",
   "execution_count": 63,
   "id": "508088ff",
   "metadata": {},
   "outputs": [
    {
     "data": {
      "text/plain": [
       "yes                       7468\n",
       "no                        1995\n",
       "limited                   1583\n",
       "designated                  42\n",
       "no space                     1\n",
       "no use other side door       0\n",
       "no;yes                       0\n",
       "Name: wheelchair, dtype: int64"
      ]
     },
     "execution_count": 63,
     "metadata": {},
     "output_type": "execute_result"
    }
   ],
   "source": [
    "test_df['wheelchair'].value_counts()"
   ]
  },
  {
   "cell_type": "code",
   "execution_count": 64,
   "id": "f15005b4",
   "metadata": {},
   "outputs": [],
   "source": [
    "for index, row in test_df.iterrows():\n",
    "    if row['wheelchair'] == 'designated':\n",
    "        test_df.wheelchair[index] = 'limited'\n",
    "    elif row['wheelchair'] == 'no space':\n",
    "        test_df.wheelchair[index] = 'no'\n",
    "    elif row['wheelchair'] == 'no use other side door':\n",
    "        test_df.wheelchair[index] = 'limited'\n",
    "    elif row['wheelchair'] == 'no;yes':\n",
    "        test_df.wheelchair[index] = 'no'"
   ]
  },
  {
   "cell_type": "code",
   "execution_count": 65,
   "id": "ccd4a999",
   "metadata": {},
   "outputs": [
    {
     "data": {
      "text/plain": [
       "yes                       7468\n",
       "no                        1996\n",
       "limited                   1625\n",
       "designated                   0\n",
       "no space                     0\n",
       "no use other side door       0\n",
       "no;yes                       0\n",
       "Name: wheelchair, dtype: int64"
      ]
     },
     "execution_count": 65,
     "metadata": {},
     "output_type": "execute_result"
    }
   ],
   "source": [
    "test_df['wheelchair'].value_counts()"
   ]
  },
  {
   "cell_type": "code",
   "execution_count": 66,
   "id": "6ba251fd",
   "metadata": {},
   "outputs": [],
   "source": [
    "retain_list = ['restaurant', 'cafe', 'pub', 'toilets', 'fast_food', 'atm', 'pharmacy', 'bank', 'bar', 'parking']"
   ]
  },
  {
   "cell_type": "code",
   "execution_count": 67,
   "id": "078d3c98",
   "metadata": {},
   "outputs": [
    {
     "data": {
      "text/plain": [
       "restaurant    1632\n",
       "cafe          1567\n",
       "pub           1420\n",
       "toilets       1245\n",
       "fast_food     1100\n",
       "atm            667\n",
       "pharmacy       479\n",
       "bank           361\n",
       "parking        323\n",
       "bar            323\n",
       "Name: amenity, dtype: int64"
      ]
     },
     "execution_count": 67,
     "metadata": {},
     "output_type": "execute_result"
    }
   ],
   "source": [
    "test_df = test_df[test_df['amenity'].isin(retain_list)]\n",
    "test_df['amenity'].value_counts()"
   ]
  },
  {
   "cell_type": "code",
   "execution_count": 68,
   "id": "9f0f46b9",
   "metadata": {},
   "outputs": [
    {
     "data": {
      "text/plain": [
       "yes                       6065\n",
       "no                        1697\n",
       "limited                   1355\n",
       "designated                   0\n",
       "no space                     0\n",
       "no use other side door       0\n",
       "no;yes                       0\n",
       "Name: wheelchair, dtype: int64"
      ]
     },
     "execution_count": 68,
     "metadata": {},
     "output_type": "execute_result"
    }
   ],
   "source": [
    "test_df['wheelchair'].value_counts()"
   ]
  },
  {
   "cell_type": "code",
   "execution_count": 69,
   "id": "f9faf73b",
   "metadata": {},
   "outputs": [],
   "source": [
    "test_df['wheelchair'] = pd.Categorical(test_df['wheelchair'])\n",
    "amm_y = test_df['wheelchair'].cat.codes"
   ]
  },
  {
   "cell_type": "code",
   "execution_count": 70,
   "id": "1e6c159f",
   "metadata": {},
   "outputs": [
    {
     "data": {
      "text/plain": [
       "6    6065\n",
       "2    1697\n",
       "1    1355\n",
       "dtype: int64"
      ]
     },
     "execution_count": 70,
     "metadata": {},
     "output_type": "execute_result"
    }
   ],
   "source": [
    "amm_y.value_counts()"
   ]
  },
  {
   "cell_type": "code",
   "execution_count": 71,
   "id": "80d0e391",
   "metadata": {},
   "outputs": [
    {
     "data": {
      "text/plain": [
       "2    6065\n",
       "1    1697\n",
       "0    1355\n",
       "dtype: int64"
      ]
     },
     "execution_count": 71,
     "metadata": {},
     "output_type": "execute_result"
    }
   ],
   "source": [
    "amm_y = amm_y.replace(to_replace=6, value=3)\n",
    "amm_y -= 1\n",
    "amm_y.value_counts()"
   ]
  },
  {
   "cell_type": "code",
   "execution_count": 72,
   "id": "2417835a",
   "metadata": {},
   "outputs": [
    {
     "data": {
      "text/html": [
       "<div>\n",
       "<style scoped>\n",
       "    .dataframe tbody tr th:only-of-type {\n",
       "        vertical-align: middle;\n",
       "    }\n",
       "\n",
       "    .dataframe tbody tr th {\n",
       "        vertical-align: top;\n",
       "    }\n",
       "\n",
       "    .dataframe thead th {\n",
       "        text-align: right;\n",
       "    }\n",
       "</style>\n",
       "<table border=\"1\" class=\"dataframe\">\n",
       "  <thead>\n",
       "    <tr style=\"text-align: right;\">\n",
       "      <th></th>\n",
       "      <th>amenity</th>\n",
       "      <th>lon</th>\n",
       "      <th>lat</th>\n",
       "    </tr>\n",
       "  </thead>\n",
       "  <tbody>\n",
       "    <tr>\n",
       "      <th>108042</th>\n",
       "      <td>pub</td>\n",
       "      <td>-0.135513</td>\n",
       "      <td>51.523561</td>\n",
       "    </tr>\n",
       "    <tr>\n",
       "      <th>262708</th>\n",
       "      <td>pub</td>\n",
       "      <td>-0.726258</td>\n",
       "      <td>51.024400</td>\n",
       "    </tr>\n",
       "    <tr>\n",
       "      <th>271339</th>\n",
       "      <td>pub</td>\n",
       "      <td>-1.856858</td>\n",
       "      <td>51.353526</td>\n",
       "    </tr>\n",
       "    <tr>\n",
       "      <th>367457</th>\n",
       "      <td>parking</td>\n",
       "      <td>-1.446450</td>\n",
       "      <td>52.984748</td>\n",
       "    </tr>\n",
       "    <tr>\n",
       "      <th>581475</th>\n",
       "      <td>pub</td>\n",
       "      <td>-1.498968</td>\n",
       "      <td>53.682814</td>\n",
       "    </tr>\n",
       "  </tbody>\n",
       "</table>\n",
       "</div>"
      ],
      "text/plain": [
       "        amenity       lon        lat\n",
       "108042      pub -0.135513  51.523561\n",
       "262708      pub -0.726258  51.024400\n",
       "271339      pub -1.856858  51.353526\n",
       "367457  parking -1.446450  52.984748\n",
       "581475      pub -1.498968  53.682814"
      ]
     },
     "execution_count": 72,
     "metadata": {},
     "output_type": "execute_result"
    }
   ],
   "source": [
    "amm_x = test_df.drop(columns='wheelchair')\n",
    "#amm_x['amenity'] = pd.Categorical(amm_x['amenity'])\n",
    "#amm_x['amenity'] = amm_x['amenity'].cat.codes\n",
    "amm_x.head()"
   ]
  },
  {
   "cell_type": "code",
   "execution_count": 73,
   "id": "a6f07627",
   "metadata": {},
   "outputs": [
    {
     "data": {
      "text/plain": [
       "restaurant    1632\n",
       "cafe          1567\n",
       "pub           1420\n",
       "toilets       1245\n",
       "fast_food     1100\n",
       "atm            667\n",
       "pharmacy       479\n",
       "bank           361\n",
       "parking        323\n",
       "bar            323\n",
       "Name: amenity, dtype: int64"
      ]
     },
     "execution_count": 73,
     "metadata": {},
     "output_type": "execute_result"
    }
   ],
   "source": [
    "amm_x['amenity'].value_counts()"
   ]
  },
  {
   "cell_type": "code",
   "execution_count": 74,
   "id": "9e633a77",
   "metadata": {},
   "outputs": [
    {
     "data": {
      "text/html": [
       "<div>\n",
       "<style scoped>\n",
       "    .dataframe tbody tr th:only-of-type {\n",
       "        vertical-align: middle;\n",
       "    }\n",
       "\n",
       "    .dataframe tbody tr th {\n",
       "        vertical-align: top;\n",
       "    }\n",
       "\n",
       "    .dataframe thead th {\n",
       "        text-align: right;\n",
       "    }\n",
       "</style>\n",
       "<table border=\"1\" class=\"dataframe\">\n",
       "  <thead>\n",
       "    <tr style=\"text-align: right;\">\n",
       "      <th></th>\n",
       "      <th>amenity</th>\n",
       "      <th>lon</th>\n",
       "      <th>lat</th>\n",
       "    </tr>\n",
       "  </thead>\n",
       "  <tbody>\n",
       "    <tr>\n",
       "      <th>108042</th>\n",
       "      <td>7</td>\n",
       "      <td>-0.135513</td>\n",
       "      <td>51.523561</td>\n",
       "    </tr>\n",
       "    <tr>\n",
       "      <th>262708</th>\n",
       "      <td>7</td>\n",
       "      <td>-0.726258</td>\n",
       "      <td>51.024400</td>\n",
       "    </tr>\n",
       "    <tr>\n",
       "      <th>271339</th>\n",
       "      <td>7</td>\n",
       "      <td>-1.856858</td>\n",
       "      <td>51.353526</td>\n",
       "    </tr>\n",
       "    <tr>\n",
       "      <th>367457</th>\n",
       "      <td>5</td>\n",
       "      <td>-1.446450</td>\n",
       "      <td>52.984748</td>\n",
       "    </tr>\n",
       "    <tr>\n",
       "      <th>581475</th>\n",
       "      <td>7</td>\n",
       "      <td>-1.498968</td>\n",
       "      <td>53.682814</td>\n",
       "    </tr>\n",
       "  </tbody>\n",
       "</table>\n",
       "</div>"
      ],
      "text/plain": [
       "        amenity       lon        lat\n",
       "108042        7 -0.135513  51.523561\n",
       "262708        7 -0.726258  51.024400\n",
       "271339        7 -1.856858  51.353526\n",
       "367457        5 -1.446450  52.984748\n",
       "581475        7 -1.498968  53.682814"
      ]
     },
     "execution_count": 74,
     "metadata": {},
     "output_type": "execute_result"
    }
   ],
   "source": [
    "amm_x['amenity'] = pd.Categorical(amm_x['amenity'])\n",
    "amm_x['amenity'] = amm_x['amenity'].cat.codes\n",
    "amm_x.head()"
   ]
  },
  {
   "cell_type": "code",
   "execution_count": 75,
   "id": "094cfd64",
   "metadata": {},
   "outputs": [
    {
     "data": {
      "text/plain": [
       "8    1632\n",
       "3    1567\n",
       "7    1420\n",
       "9    1245\n",
       "4    1100\n",
       "0     667\n",
       "6     479\n",
       "1     361\n",
       "2     323\n",
       "5     323\n",
       "Name: amenity, dtype: int64"
      ]
     },
     "execution_count": 75,
     "metadata": {},
     "output_type": "execute_result"
    }
   ],
   "source": [
    "amm_x['amenity'].value_counts()"
   ]
  },
  {
   "cell_type": "code",
   "execution_count": 76,
   "id": "07217944",
   "metadata": {},
   "outputs": [],
   "source": [
    "#amm_x = amm_x.drop(columns=['lat', 'lon'])"
   ]
  },
  {
   "cell_type": "code",
   "execution_count": 77,
   "id": "dc5aead3",
   "metadata": {},
   "outputs": [],
   "source": [
    "amm_X_train, amm_X_test, amm_y_train, amm_y_test = train_test_split(amm_x, amm_y, test_size=0.25, random_state=42,\n",
    "                                                                   stratify=amm_y)"
   ]
  },
  {
   "cell_type": "code",
   "execution_count": 78,
   "id": "f4c5b814",
   "metadata": {},
   "outputs": [],
   "source": [
    "amm_dtrain = xgb.DMatrix(amm_X_train, label=amm_y_train)"
   ]
  },
  {
   "cell_type": "code",
   "execution_count": 79,
   "id": "f1b25f5c",
   "metadata": {},
   "outputs": [],
   "source": [
    "amm_param = {'objective': 'multi:softmax', 'num_class':3}"
   ]
  },
  {
   "cell_type": "code",
   "execution_count": 80,
   "id": "b68a34b4",
   "metadata": {},
   "outputs": [
    {
     "name": "stdout",
     "output_type": "stream",
     "text": [
      "[12:57:32] WARNING: ../src/learner.cc:1095: Starting in XGBoost 1.3.0, the default evaluation metric used with the objective 'multi:softmax' was changed from 'merror' to 'mlogloss'. Explicitly set eval_metric if you'd like to restore the old behavior.\n"
     ]
    }
   ],
   "source": [
    "amm_num_round = 100\n",
    "amm_bst = xgb.train(amm_param, amm_dtrain, amm_num_round)"
   ]
  },
  {
   "cell_type": "code",
   "execution_count": 81,
   "id": "f528cdd7",
   "metadata": {},
   "outputs": [],
   "source": [
    "amm_dtest = xgb.DMatrix(amm_X_test)\n",
    "amm_preds = amm_bst.predict(amm_dtest)"
   ]
  },
  {
   "cell_type": "code",
   "execution_count": 82,
   "id": "fab6ad0d",
   "metadata": {},
   "outputs": [
    {
     "data": {
      "text/plain": [
       "<AxesSubplot:title={'center':'Feature importance'}, xlabel='F score', ylabel='Features'>"
      ]
     },
     "execution_count": 82,
     "metadata": {},
     "output_type": "execute_result"
    },
    {
     "data": {
      "image/png": "[encoded data removed]",
      "text/plain": [
       "<Figure size 432x288 with 1 Axes>"
      ]
     },
     "metadata": {
      "needs_background": "light"
     },
     "output_type": "display_data"
    }
   ],
   "source": [
    "xgb.plot_importance(amm_bst)"
   ]
  },
  {
   "cell_type": "code",
   "execution_count": 83,
   "id": "b6097a04",
   "metadata": {},
   "outputs": [
    {
     "data": {
      "text/plain": [
       "0.6732456140350878"
      ]
     },
     "execution_count": 83,
     "metadata": {},
     "output_type": "execute_result"
    }
   ],
   "source": [
    "accuracy_score(amm_y_test, amm_preds)"
   ]
  },
  {
   "cell_type": "code",
   "execution_count": 84,
   "id": "13addb9d",
   "metadata": {},
   "outputs": [
    {
     "data": {
      "text/plain": [
       "array([0.07964602, 0.31132075, 0.90705339])"
      ]
     },
     "execution_count": 84,
     "metadata": {},
     "output_type": "execute_result"
    }
   ],
   "source": [
    "cm_amm = confusion_matrix(amm_y_test, amm_preds)\n",
    "cm_amm = cm_amm.astype('float') / cm_amm.sum(axis=1)[:, np.newaxis]\n",
    "cm_amm.diagonal()"
   ]
  },
  {
   "cell_type": "code",
   "execution_count": 85,
   "id": "d021c4d4",
   "metadata": {},
   "outputs": [
    {
     "data": {
      "text/plain": [
       "(array([0.28723404, 0.48351648, 0.71928907]),\n",
       " array([0.07964602, 0.31132075, 0.90705339]),\n",
       " array([0.12471132, 0.37876614, 0.80233236]),\n",
       " array([ 339,  424, 1517]))"
      ]
     },
     "execution_count": 85,
     "metadata": {},
     "output_type": "execute_result"
    }
   ],
   "source": [
    "precision_recall_fscore_support(amm_y_test, amm_preds)"
   ]
  },
  {
   "cell_type": "markdown",
   "id": "84181269",
   "metadata": {},
   "source": [
    "### Try one-hot-ecoded version"
   ]
  },
  {
   "cell_type": "code",
   "execution_count": 86,
   "id": "e6132e46",
   "metadata": {},
   "outputs": [],
   "source": [
    "ohe_df = acc_df.drop(columns='opening_hours')"
   ]
  },
  {
   "cell_type": "code",
   "execution_count": 87,
   "id": "dcf7f3eb",
   "metadata": {},
   "outputs": [
    {
     "data": {
      "text/html": [
       "<div>\n",
       "<style scoped>\n",
       "    .dataframe tbody tr th:only-of-type {\n",
       "        vertical-align: middle;\n",
       "    }\n",
       "\n",
       "    .dataframe tbody tr th {\n",
       "        vertical-align: top;\n",
       "    }\n",
       "\n",
       "    .dataframe thead th {\n",
       "        text-align: right;\n",
       "    }\n",
       "</style>\n",
       "<table border=\"1\" class=\"dataframe\">\n",
       "  <thead>\n",
       "    <tr style=\"text-align: right;\">\n",
       "      <th></th>\n",
       "      <th>wheelchair</th>\n",
       "      <th>amenity</th>\n",
       "      <th>lon</th>\n",
       "      <th>lat</th>\n",
       "    </tr>\n",
       "  </thead>\n",
       "  <tbody>\n",
       "    <tr>\n",
       "      <th>108042</th>\n",
       "      <td>limited</td>\n",
       "      <td>pub</td>\n",
       "      <td>-0.135513</td>\n",
       "      <td>51.523561</td>\n",
       "    </tr>\n",
       "    <tr>\n",
       "      <th>262708</th>\n",
       "      <td>limited</td>\n",
       "      <td>pub</td>\n",
       "      <td>-0.726258</td>\n",
       "      <td>51.024400</td>\n",
       "    </tr>\n",
       "    <tr>\n",
       "      <th>271339</th>\n",
       "      <td>no</td>\n",
       "      <td>pub</td>\n",
       "      <td>-1.856858</td>\n",
       "      <td>51.353526</td>\n",
       "    </tr>\n",
       "    <tr>\n",
       "      <th>328762</th>\n",
       "      <td>yes</td>\n",
       "      <td>taxi</td>\n",
       "      <td>1.305108</td>\n",
       "      <td>52.626620</td>\n",
       "    </tr>\n",
       "    <tr>\n",
       "      <th>367457</th>\n",
       "      <td>yes</td>\n",
       "      <td>parking</td>\n",
       "      <td>-1.446450</td>\n",
       "      <td>52.984748</td>\n",
       "    </tr>\n",
       "  </tbody>\n",
       "</table>\n",
       "</div>"
      ],
      "text/plain": [
       "       wheelchair  amenity       lon        lat\n",
       "108042    limited      pub -0.135513  51.523561\n",
       "262708    limited      pub -0.726258  51.024400\n",
       "271339         no      pub -1.856858  51.353526\n",
       "328762        yes     taxi  1.305108  52.626620\n",
       "367457        yes  parking -1.446450  52.984748"
      ]
     },
     "execution_count": 87,
     "metadata": {},
     "output_type": "execute_result"
    }
   ],
   "source": [
    "ohe_df = ohe_df.drop(columns=['access', 'barrier', 'bicycle', 'motor_vehicle'])\n",
    "ohe_df = ohe_df.dropna()\n",
    "ohe_df.head()"
   ]
  },
  {
   "cell_type": "code",
   "execution_count": 88,
   "id": "16c0533f",
   "metadata": {},
   "outputs": [
    {
     "data": {
      "text/html": [
       "<div>\n",
       "<style scoped>\n",
       "    .dataframe tbody tr th:only-of-type {\n",
       "        vertical-align: middle;\n",
       "    }\n",
       "\n",
       "    .dataframe tbody tr th {\n",
       "        vertical-align: top;\n",
       "    }\n",
       "\n",
       "    .dataframe thead th {\n",
       "        text-align: right;\n",
       "    }\n",
       "</style>\n",
       "<table border=\"1\" class=\"dataframe\">\n",
       "  <thead>\n",
       "    <tr style=\"text-align: right;\">\n",
       "      <th></th>\n",
       "      <th>wheelchair</th>\n",
       "      <th>amenity</th>\n",
       "      <th>lon</th>\n",
       "      <th>lat</th>\n",
       "      <th>Doctor</th>\n",
       "      <th>advice_centre</th>\n",
       "      <th>advice_service</th>\n",
       "      <th>animal_boarding</th>\n",
       "      <th>animal_shelter</th>\n",
       "      <th>art_gallery</th>\n",
       "      <th>...</th>\n",
       "      <th>townhall</th>\n",
       "      <th>training</th>\n",
       "      <th>university</th>\n",
       "      <th>vacant</th>\n",
       "      <th>vending_machine</th>\n",
       "      <th>veterinary</th>\n",
       "      <th>waste_basket</th>\n",
       "      <th>waste_disposal</th>\n",
       "      <th>wheelchair_hire</th>\n",
       "      <th>yes</th>\n",
       "    </tr>\n",
       "  </thead>\n",
       "  <tbody>\n",
       "    <tr>\n",
       "      <th>108042</th>\n",
       "      <td>limited</td>\n",
       "      <td>pub</td>\n",
       "      <td>-0.135513</td>\n",
       "      <td>51.523561</td>\n",
       "      <td>0</td>\n",
       "      <td>0</td>\n",
       "      <td>0</td>\n",
       "      <td>0</td>\n",
       "      <td>0</td>\n",
       "      <td>0</td>\n",
       "      <td>...</td>\n",
       "      <td>0</td>\n",
       "      <td>0</td>\n",
       "      <td>0</td>\n",
       "      <td>0</td>\n",
       "      <td>0</td>\n",
       "      <td>0</td>\n",
       "      <td>0</td>\n",
       "      <td>0</td>\n",
       "      <td>0</td>\n",
       "      <td>0</td>\n",
       "    </tr>\n",
       "    <tr>\n",
       "      <th>262708</th>\n",
       "      <td>limited</td>\n",
       "      <td>pub</td>\n",
       "      <td>-0.726258</td>\n",
       "      <td>51.024400</td>\n",
       "      <td>0</td>\n",
       "      <td>0</td>\n",
       "      <td>0</td>\n",
       "      <td>0</td>\n",
       "      <td>0</td>\n",
       "      <td>0</td>\n",
       "      <td>...</td>\n",
       "      <td>0</td>\n",
       "      <td>0</td>\n",
       "      <td>0</td>\n",
       "      <td>0</td>\n",
       "      <td>0</td>\n",
       "      <td>0</td>\n",
       "      <td>0</td>\n",
       "      <td>0</td>\n",
       "      <td>0</td>\n",
       "      <td>0</td>\n",
       "    </tr>\n",
       "    <tr>\n",
       "      <th>271339</th>\n",
       "      <td>no</td>\n",
       "      <td>pub</td>\n",
       "      <td>-1.856858</td>\n",
       "      <td>51.353526</td>\n",
       "      <td>0</td>\n",
       "      <td>0</td>\n",
       "      <td>0</td>\n",
       "      <td>0</td>\n",
       "      <td>0</td>\n",
       "      <td>0</td>\n",
       "      <td>...</td>\n",
       "      <td>0</td>\n",
       "      <td>0</td>\n",
       "      <td>0</td>\n",
       "      <td>0</td>\n",
       "      <td>0</td>\n",
       "      <td>0</td>\n",
       "      <td>0</td>\n",
       "      <td>0</td>\n",
       "      <td>0</td>\n",
       "      <td>0</td>\n",
       "    </tr>\n",
       "    <tr>\n",
       "      <th>328762</th>\n",
       "      <td>yes</td>\n",
       "      <td>taxi</td>\n",
       "      <td>1.305108</td>\n",
       "      <td>52.626620</td>\n",
       "      <td>0</td>\n",
       "      <td>0</td>\n",
       "      <td>0</td>\n",
       "      <td>0</td>\n",
       "      <td>0</td>\n",
       "      <td>0</td>\n",
       "      <td>...</td>\n",
       "      <td>0</td>\n",
       "      <td>0</td>\n",
       "      <td>0</td>\n",
       "      <td>0</td>\n",
       "      <td>0</td>\n",
       "      <td>0</td>\n",
       "      <td>0</td>\n",
       "      <td>0</td>\n",
       "      <td>0</td>\n",
       "      <td>0</td>\n",
       "    </tr>\n",
       "    <tr>\n",
       "      <th>367457</th>\n",
       "      <td>yes</td>\n",
       "      <td>parking</td>\n",
       "      <td>-1.446450</td>\n",
       "      <td>52.984748</td>\n",
       "      <td>0</td>\n",
       "      <td>0</td>\n",
       "      <td>0</td>\n",
       "      <td>0</td>\n",
       "      <td>0</td>\n",
       "      <td>0</td>\n",
       "      <td>...</td>\n",
       "      <td>0</td>\n",
       "      <td>0</td>\n",
       "      <td>0</td>\n",
       "      <td>0</td>\n",
       "      <td>0</td>\n",
       "      <td>0</td>\n",
       "      <td>0</td>\n",
       "      <td>0</td>\n",
       "      <td>0</td>\n",
       "      <td>0</td>\n",
       "    </tr>\n",
       "  </tbody>\n",
       "</table>\n",
       "<p>5 rows × 105 columns</p>\n",
       "</div>"
      ],
      "text/plain": [
       "       wheelchair  amenity       lon        lat  Doctor  advice_centre  \\\n",
       "108042    limited      pub -0.135513  51.523561       0              0   \n",
       "262708    limited      pub -0.726258  51.024400       0              0   \n",
       "271339         no      pub -1.856858  51.353526       0              0   \n",
       "328762        yes     taxi  1.305108  52.626620       0              0   \n",
       "367457        yes  parking -1.446450  52.984748       0              0   \n",
       "\n",
       "        advice_service  animal_boarding  animal_shelter  art_gallery  ...  \\\n",
       "108042               0                0               0            0  ...   \n",
       "262708               0                0               0            0  ...   \n",
       "271339               0                0               0            0  ...   \n",
       "328762               0                0               0            0  ...   \n",
       "367457               0                0               0            0  ...   \n",
       "\n",
       "        townhall  training  university  vacant  vending_machine  veterinary  \\\n",
       "108042         0         0           0       0                0           0   \n",
       "262708         0         0           0       0                0           0   \n",
       "271339         0         0           0       0                0           0   \n",
       "328762         0         0           0       0                0           0   \n",
       "367457         0         0           0       0                0           0   \n",
       "\n",
       "        waste_basket  waste_disposal  wheelchair_hire  yes  \n",
       "108042             0               0                0    0  \n",
       "262708             0               0                0    0  \n",
       "271339             0               0                0    0  \n",
       "328762             0               0                0    0  \n",
       "367457             0               0                0    0  \n",
       "\n",
       "[5 rows x 105 columns]"
      ]
     },
     "execution_count": 88,
     "metadata": {},
     "output_type": "execute_result"
    }
   ],
   "source": [
    "one_hot = pd.get_dummies(ohe_df['amenity'])\n",
    "new_df = ohe_df.join(one_hot)\n",
    "new_df.head()"
   ]
  },
  {
   "cell_type": "code",
   "execution_count": 89,
   "id": "a26c2d4a",
   "metadata": {},
   "outputs": [
    {
     "data": {
      "text/html": [
       "<div>\n",
       "<style scoped>\n",
       "    .dataframe tbody tr th:only-of-type {\n",
       "        vertical-align: middle;\n",
       "    }\n",
       "\n",
       "    .dataframe tbody tr th {\n",
       "        vertical-align: top;\n",
       "    }\n",
       "\n",
       "    .dataframe thead th {\n",
       "        text-align: right;\n",
       "    }\n",
       "</style>\n",
       "<table border=\"1\" class=\"dataframe\">\n",
       "  <thead>\n",
       "    <tr style=\"text-align: right;\">\n",
       "      <th></th>\n",
       "      <th>wheelchair</th>\n",
       "      <th>Doctor</th>\n",
       "      <th>advice_centre</th>\n",
       "      <th>advice_service</th>\n",
       "      <th>animal_boarding</th>\n",
       "      <th>animal_shelter</th>\n",
       "      <th>art_gallery</th>\n",
       "      <th>arts_centre</th>\n",
       "      <th>atm</th>\n",
       "      <th>atm;bank</th>\n",
       "      <th>...</th>\n",
       "      <th>townhall</th>\n",
       "      <th>training</th>\n",
       "      <th>university</th>\n",
       "      <th>vacant</th>\n",
       "      <th>vending_machine</th>\n",
       "      <th>veterinary</th>\n",
       "      <th>waste_basket</th>\n",
       "      <th>waste_disposal</th>\n",
       "      <th>wheelchair_hire</th>\n",
       "      <th>yes</th>\n",
       "    </tr>\n",
       "  </thead>\n",
       "  <tbody>\n",
       "    <tr>\n",
       "      <th>108042</th>\n",
       "      <td>limited</td>\n",
       "      <td>0</td>\n",
       "      <td>0</td>\n",
       "      <td>0</td>\n",
       "      <td>0</td>\n",
       "      <td>0</td>\n",
       "      <td>0</td>\n",
       "      <td>0</td>\n",
       "      <td>0</td>\n",
       "      <td>0</td>\n",
       "      <td>...</td>\n",
       "      <td>0</td>\n",
       "      <td>0</td>\n",
       "      <td>0</td>\n",
       "      <td>0</td>\n",
       "      <td>0</td>\n",
       "      <td>0</td>\n",
       "      <td>0</td>\n",
       "      <td>0</td>\n",
       "      <td>0</td>\n",
       "      <td>0</td>\n",
       "    </tr>\n",
       "    <tr>\n",
       "      <th>262708</th>\n",
       "      <td>limited</td>\n",
       "      <td>0</td>\n",
       "      <td>0</td>\n",
       "      <td>0</td>\n",
       "      <td>0</td>\n",
       "      <td>0</td>\n",
       "      <td>0</td>\n",
       "      <td>0</td>\n",
       "      <td>0</td>\n",
       "      <td>0</td>\n",
       "      <td>...</td>\n",
       "      <td>0</td>\n",
       "      <td>0</td>\n",
       "      <td>0</td>\n",
       "      <td>0</td>\n",
       "      <td>0</td>\n",
       "      <td>0</td>\n",
       "      <td>0</td>\n",
       "      <td>0</td>\n",
       "      <td>0</td>\n",
       "      <td>0</td>\n",
       "    </tr>\n",
       "    <tr>\n",
       "      <th>271339</th>\n",
       "      <td>no</td>\n",
       "      <td>0</td>\n",
       "      <td>0</td>\n",
       "      <td>0</td>\n",
       "      <td>0</td>\n",
       "      <td>0</td>\n",
       "      <td>0</td>\n",
       "      <td>0</td>\n",
       "      <td>0</td>\n",
       "      <td>0</td>\n",
       "      <td>...</td>\n",
       "      <td>0</td>\n",
       "      <td>0</td>\n",
       "      <td>0</td>\n",
       "      <td>0</td>\n",
       "      <td>0</td>\n",
       "      <td>0</td>\n",
       "      <td>0</td>\n",
       "      <td>0</td>\n",
       "      <td>0</td>\n",
       "      <td>0</td>\n",
       "    </tr>\n",
       "    <tr>\n",
       "      <th>328762</th>\n",
       "      <td>yes</td>\n",
       "      <td>0</td>\n",
       "      <td>0</td>\n",
       "      <td>0</td>\n",
       "      <td>0</td>\n",
       "      <td>0</td>\n",
       "      <td>0</td>\n",
       "      <td>0</td>\n",
       "      <td>0</td>\n",
       "      <td>0</td>\n",
       "      <td>...</td>\n",
       "      <td>0</td>\n",
       "      <td>0</td>\n",
       "      <td>0</td>\n",
       "      <td>0</td>\n",
       "      <td>0</td>\n",
       "      <td>0</td>\n",
       "      <td>0</td>\n",
       "      <td>0</td>\n",
       "      <td>0</td>\n",
       "      <td>0</td>\n",
       "    </tr>\n",
       "    <tr>\n",
       "      <th>367457</th>\n",
       "      <td>yes</td>\n",
       "      <td>0</td>\n",
       "      <td>0</td>\n",
       "      <td>0</td>\n",
       "      <td>0</td>\n",
       "      <td>0</td>\n",
       "      <td>0</td>\n",
       "      <td>0</td>\n",
       "      <td>0</td>\n",
       "      <td>0</td>\n",
       "      <td>...</td>\n",
       "      <td>0</td>\n",
       "      <td>0</td>\n",
       "      <td>0</td>\n",
       "      <td>0</td>\n",
       "      <td>0</td>\n",
       "      <td>0</td>\n",
       "      <td>0</td>\n",
       "      <td>0</td>\n",
       "      <td>0</td>\n",
       "      <td>0</td>\n",
       "    </tr>\n",
       "  </tbody>\n",
       "</table>\n",
       "<p>5 rows × 102 columns</p>\n",
       "</div>"
      ],
      "text/plain": [
       "       wheelchair  Doctor  advice_centre  advice_service  animal_boarding  \\\n",
       "108042    limited       0              0               0                0   \n",
       "262708    limited       0              0               0                0   \n",
       "271339         no       0              0               0                0   \n",
       "328762        yes       0              0               0                0   \n",
       "367457        yes       0              0               0                0   \n",
       "\n",
       "        animal_shelter  art_gallery  arts_centre  atm  atm;bank  ...  \\\n",
       "108042               0            0            0    0         0  ...   \n",
       "262708               0            0            0    0         0  ...   \n",
       "271339               0            0            0    0         0  ...   \n",
       "328762               0            0            0    0         0  ...   \n",
       "367457               0            0            0    0         0  ...   \n",
       "\n",
       "        townhall  training  university  vacant  vending_machine  veterinary  \\\n",
       "108042         0         0           0       0                0           0   \n",
       "262708         0         0           0       0                0           0   \n",
       "271339         0         0           0       0                0           0   \n",
       "328762         0         0           0       0                0           0   \n",
       "367457         0         0           0       0                0           0   \n",
       "\n",
       "        waste_basket  waste_disposal  wheelchair_hire  yes  \n",
       "108042             0               0                0    0  \n",
       "262708             0               0                0    0  \n",
       "271339             0               0                0    0  \n",
       "328762             0               0                0    0  \n",
       "367457             0               0                0    0  \n",
       "\n",
       "[5 rows x 102 columns]"
      ]
     },
     "execution_count": 89,
     "metadata": {},
     "output_type": "execute_result"
    }
   ],
   "source": [
    "new_df = new_df.drop(columns=['amenity', 'lat', 'lon'])\n",
    "new_df.head()"
   ]
  },
  {
   "cell_type": "code",
   "execution_count": 90,
   "id": "329f9f75",
   "metadata": {},
   "outputs": [
    {
     "data": {
      "text/plain": [
       "108042        1\n",
       "262708        1\n",
       "271339        2\n",
       "328762        6\n",
       "367457        6\n",
       "             ..\n",
       "8487229630    6\n",
       "8491457570    6\n",
       "8494685405    6\n",
       "8495101135    6\n",
       "8495147466    6\n",
       "Length: 11089, dtype: int8"
      ]
     },
     "execution_count": 90,
     "metadata": {},
     "output_type": "execute_result"
    }
   ],
   "source": [
    "new_df['wheelchair'] = pd.Categorical(new_df['wheelchair'])\n",
    "ohe_y = new_df['wheelchair'].cat.codes\n",
    "ohe_y"
   ]
  },
  {
   "cell_type": "code",
   "execution_count": 91,
   "id": "4c43d3d9",
   "metadata": {},
   "outputs": [
    {
     "data": {
      "text/plain": [
       "3    7469\n",
       "2    1995\n",
       "1    1583\n",
       "0      42\n",
       "dtype: int64"
      ]
     },
     "execution_count": 91,
     "metadata": {},
     "output_type": "execute_result"
    }
   ],
   "source": [
    "ohe_y = ohe_y.replace(to_replace=6, value=3)\n",
    "#ohe_y -= 1\n",
    "ohe_y.value_counts()"
   ]
  },
  {
   "cell_type": "code",
   "execution_count": 92,
   "id": "b0e3d226",
   "metadata": {},
   "outputs": [
    {
     "data": {
      "text/html": [
       "<div>\n",
       "<style scoped>\n",
       "    .dataframe tbody tr th:only-of-type {\n",
       "        vertical-align: middle;\n",
       "    }\n",
       "\n",
       "    .dataframe tbody tr th {\n",
       "        vertical-align: top;\n",
       "    }\n",
       "\n",
       "    .dataframe thead th {\n",
       "        text-align: right;\n",
       "    }\n",
       "</style>\n",
       "<table border=\"1\" class=\"dataframe\">\n",
       "  <thead>\n",
       "    <tr style=\"text-align: right;\">\n",
       "      <th></th>\n",
       "      <th>Doctor</th>\n",
       "      <th>advice_centre</th>\n",
       "      <th>advice_service</th>\n",
       "      <th>animal_boarding</th>\n",
       "      <th>animal_shelter</th>\n",
       "      <th>art_gallery</th>\n",
       "      <th>arts_centre</th>\n",
       "      <th>atm</th>\n",
       "      <th>atm;bank</th>\n",
       "      <th>bank</th>\n",
       "      <th>...</th>\n",
       "      <th>townhall</th>\n",
       "      <th>training</th>\n",
       "      <th>university</th>\n",
       "      <th>vacant</th>\n",
       "      <th>vending_machine</th>\n",
       "      <th>veterinary</th>\n",
       "      <th>waste_basket</th>\n",
       "      <th>waste_disposal</th>\n",
       "      <th>wheelchair_hire</th>\n",
       "      <th>yes</th>\n",
       "    </tr>\n",
       "  </thead>\n",
       "  <tbody>\n",
       "    <tr>\n",
       "      <th>108042</th>\n",
       "      <td>0</td>\n",
       "      <td>0</td>\n",
       "      <td>0</td>\n",
       "      <td>0</td>\n",
       "      <td>0</td>\n",
       "      <td>0</td>\n",
       "      <td>0</td>\n",
       "      <td>0</td>\n",
       "      <td>0</td>\n",
       "      <td>0</td>\n",
       "      <td>...</td>\n",
       "      <td>0</td>\n",
       "      <td>0</td>\n",
       "      <td>0</td>\n",
       "      <td>0</td>\n",
       "      <td>0</td>\n",
       "      <td>0</td>\n",
       "      <td>0</td>\n",
       "      <td>0</td>\n",
       "      <td>0</td>\n",
       "      <td>0</td>\n",
       "    </tr>\n",
       "    <tr>\n",
       "      <th>262708</th>\n",
       "      <td>0</td>\n",
       "      <td>0</td>\n",
       "      <td>0</td>\n",
       "      <td>0</td>\n",
       "      <td>0</td>\n",
       "      <td>0</td>\n",
       "      <td>0</td>\n",
       "      <td>0</td>\n",
       "      <td>0</td>\n",
       "      <td>0</td>\n",
       "      <td>...</td>\n",
       "      <td>0</td>\n",
       "      <td>0</td>\n",
       "      <td>0</td>\n",
       "      <td>0</td>\n",
       "      <td>0</td>\n",
       "      <td>0</td>\n",
       "      <td>0</td>\n",
       "      <td>0</td>\n",
       "      <td>0</td>\n",
       "      <td>0</td>\n",
       "    </tr>\n",
       "    <tr>\n",
       "      <th>271339</th>\n",
       "      <td>0</td>\n",
       "      <td>0</td>\n",
       "      <td>0</td>\n",
       "      <td>0</td>\n",
       "      <td>0</td>\n",
       "      <td>0</td>\n",
       "      <td>0</td>\n",
       "      <td>0</td>\n",
       "      <td>0</td>\n",
       "      <td>0</td>\n",
       "      <td>...</td>\n",
       "      <td>0</td>\n",
       "      <td>0</td>\n",
       "      <td>0</td>\n",
       "      <td>0</td>\n",
       "      <td>0</td>\n",
       "      <td>0</td>\n",
       "      <td>0</td>\n",
       "      <td>0</td>\n",
       "      <td>0</td>\n",
       "      <td>0</td>\n",
       "    </tr>\n",
       "    <tr>\n",
       "      <th>328762</th>\n",
       "      <td>0</td>\n",
       "      <td>0</td>\n",
       "      <td>0</td>\n",
       "      <td>0</td>\n",
       "      <td>0</td>\n",
       "      <td>0</td>\n",
       "      <td>0</td>\n",
       "      <td>0</td>\n",
       "      <td>0</td>\n",
       "      <td>0</td>\n",
       "      <td>...</td>\n",
       "      <td>0</td>\n",
       "      <td>0</td>\n",
       "      <td>0</td>\n",
       "      <td>0</td>\n",
       "      <td>0</td>\n",
       "      <td>0</td>\n",
       "      <td>0</td>\n",
       "      <td>0</td>\n",
       "      <td>0</td>\n",
       "      <td>0</td>\n",
       "    </tr>\n",
       "    <tr>\n",
       "      <th>367457</th>\n",
       "      <td>0</td>\n",
       "      <td>0</td>\n",
       "      <td>0</td>\n",
       "      <td>0</td>\n",
       "      <td>0</td>\n",
       "      <td>0</td>\n",
       "      <td>0</td>\n",
       "      <td>0</td>\n",
       "      <td>0</td>\n",
       "      <td>0</td>\n",
       "      <td>...</td>\n",
       "      <td>0</td>\n",
       "      <td>0</td>\n",
       "      <td>0</td>\n",
       "      <td>0</td>\n",
       "      <td>0</td>\n",
       "      <td>0</td>\n",
       "      <td>0</td>\n",
       "      <td>0</td>\n",
       "      <td>0</td>\n",
       "      <td>0</td>\n",
       "    </tr>\n",
       "  </tbody>\n",
       "</table>\n",
       "<p>5 rows × 101 columns</p>\n",
       "</div>"
      ],
      "text/plain": [
       "        Doctor  advice_centre  advice_service  animal_boarding  \\\n",
       "108042       0              0               0                0   \n",
       "262708       0              0               0                0   \n",
       "271339       0              0               0                0   \n",
       "328762       0              0               0                0   \n",
       "367457       0              0               0                0   \n",
       "\n",
       "        animal_shelter  art_gallery  arts_centre  atm  atm;bank  bank  ...  \\\n",
       "108042               0            0            0    0         0     0  ...   \n",
       "262708               0            0            0    0         0     0  ...   \n",
       "271339               0            0            0    0         0     0  ...   \n",
       "328762               0            0            0    0         0     0  ...   \n",
       "367457               0            0            0    0         0     0  ...   \n",
       "\n",
       "        townhall  training  university  vacant  vending_machine  veterinary  \\\n",
       "108042         0         0           0       0                0           0   \n",
       "262708         0         0           0       0                0           0   \n",
       "271339         0         0           0       0                0           0   \n",
       "328762         0         0           0       0                0           0   \n",
       "367457         0         0           0       0                0           0   \n",
       "\n",
       "        waste_basket  waste_disposal  wheelchair_hire  yes  \n",
       "108042             0               0                0    0  \n",
       "262708             0               0                0    0  \n",
       "271339             0               0                0    0  \n",
       "328762             0               0                0    0  \n",
       "367457             0               0                0    0  \n",
       "\n",
       "[5 rows x 101 columns]"
      ]
     },
     "execution_count": 92,
     "metadata": {},
     "output_type": "execute_result"
    }
   ],
   "source": [
    "ohe_x = new_df.drop(columns='wheelchair')\n",
    "ohe_x.head()"
   ]
  },
  {
   "cell_type": "code",
   "execution_count": 93,
   "id": "197d3f76",
   "metadata": {},
   "outputs": [],
   "source": [
    "ohe_X_train, ohe_X_test, ohe_y_train, ohe_y_test = train_test_split(ohe_x, ohe_y, test_size=0.25, random_state=42,\n",
    "                                                                   stratify=ohe_y)"
   ]
  },
  {
   "cell_type": "code",
   "execution_count": 94,
   "id": "5b9aadc4",
   "metadata": {},
   "outputs": [
    {
     "name": "stdout",
     "output_type": "stream",
     "text": [
      "[12:57:56] WARNING: ../src/learner.cc:1095: Starting in XGBoost 1.3.0, the default evaluation metric used with the objective 'multi:softmax' was changed from 'merror' to 'mlogloss'. Explicitly set eval_metric if you'd like to restore the old behavior.\n"
     ]
    }
   ],
   "source": [
    "ohe_dtrain = xgb.DMatrix(ohe_X_train, label=ohe_y_train)\n",
    "ohe_param = {'objective': 'multi:softmax', 'num_class':4}\n",
    "ohe_num_round = 100\n",
    "ohe_bst = xgb.train(ohe_param, ohe_dtrain, ohe_num_round)"
   ]
  },
  {
   "cell_type": "code",
   "execution_count": 95,
   "id": "9e6bb8d4",
   "metadata": {},
   "outputs": [
    {
     "data": {
      "text/plain": [
       "<AxesSubplot:title={'center':'Feature importance'}, xlabel='F score', ylabel='Features'>"
      ]
     },
     "execution_count": 95,
     "metadata": {},
     "output_type": "execute_result"
    },
    {
     "data": {
      "image/png": "[encoded data removed]",
      "text/plain": [
       "<Figure size 432x288 with 1 Axes>"
      ]
     },
     "metadata": {
      "needs_background": "light"
     },
     "output_type": "display_data"
    }
   ],
   "source": [
    "ohe_dtest = xgb.DMatrix(ohe_X_test)\n",
    "ohe_preds = ohe_bst.predict(ohe_dtest)\n",
    "\n",
    "xgb.plot_importance(ohe_bst)"
   ]
  },
  {
   "cell_type": "code",
   "execution_count": 96,
   "id": "cda830b8",
   "metadata": {},
   "outputs": [
    {
     "data": {
      "text/plain": [
       "0.6772448611611973"
      ]
     },
     "execution_count": 96,
     "metadata": {},
     "output_type": "execute_result"
    }
   ],
   "source": [
    "accuracy_score(ohe_y_test, ohe_preds)"
   ]
  },
  {
   "cell_type": "code",
   "execution_count": 97,
   "id": "54fb6110",
   "metadata": {},
   "outputs": [
    {
     "name": "stderr",
     "output_type": "stream",
     "text": [
      "/shared/cm_feat/lib/python3.8/site-packages/sklearn/metrics/_classification.py:1245: UndefinedMetricWarning: Precision and F-score are ill-defined and being set to 0.0 in labels with no predicted samples. Use `zero_division` parameter to control this behavior.\n",
      "  _warn_prf(average, modifier, msg_start, len(result))\n"
     ]
    },
    {
     "data": {
      "text/plain": [
       "(array([0.       , 0.4      , 0.75     , 0.6772198]),\n",
       " array([0.        , 0.00505051, 0.03006012, 0.99625268]),\n",
       " array([0.        , 0.00997506, 0.05780347, 0.80632582]),\n",
       " array([  10,  396,  499, 1868]))"
      ]
     },
     "execution_count": 97,
     "metadata": {},
     "output_type": "execute_result"
    }
   ],
   "source": [
    "precision_recall_fscore_support(ohe_y_test, ohe_preds)"
   ]
  },
  {
   "cell_type": "markdown",
   "id": "6acbda54",
   "metadata": {},
   "source": [
    "from sklearn.base import clone\n",
    "from sklearn.ensemble import RandomForestClassifier\n",
    "from sklearn.model_selection import GridSearchCV\n",
    "clf=RandomForestClassifier() \n",
    "\n",
    "n_estimators = [100, 300, 500, 800, 1200]\n",
    "max_depth = [5, 8, 15, 25, 30]\n",
    "min_samples_split = [2, 5, 10, 15, 100]\n",
    "min_samples_leaf = [1, 2, 5, 10] \n",
    "\n",
    "hyperF = dict(n_estimators = n_estimators, max_depth = max_depth,  \n",
    "              min_samples_split = min_samples_split, \n",
    "             min_samples_leaf = min_samples_leaf)\n",
    "\n",
    "gridF = GridSearchCV(clf, hyperF, cv = 10, verbose = 1, \n",
    "                      n_jobs = -1)\n",
    "bestF = gridF.fit(X_train, Y_train)\n",
    "\n",
    "\n",
    "from sklearn.model_selection import cross_validate\n",
    "cv = cross_validate(clf, filtered_one_hot_enc.drop(['tags','id','stratification_column','distance','wheelchair'],axis=1),filtered_data['wheelchair'] , cv=5)\n",
    "print(\"\\nEach run score\")\n",
    "print(cv['test_score'])\n",
    "\n",
    "print(\"\\nMean Score\")\n",
    "print(cv['test_score'].mean()\n",
    "      \n",
    "from sklearn.metrics import classification_report, confusion_matrix\n",
    "classification_report = classification_report(Y_test, y_pred, target_names=[\"no\",\"yes\",\"limited\"],output_dict=True)\n",
    "#print(confusion_matrix(Y_test, y_pred))\n",
    "\n",
    "import seaborn as sns\n",
    "sns.heatmap(pd.DataFrame(classification_report).iloc[:-1, :].T, annot=True)"
   ]
  },
  {
   "cell_type": "code",
   "execution_count": 354,
   "id": "477942f9",
   "metadata": {},
   "outputs": [
    {
     "data": {
      "text/html": [
       "<div>\n",
       "<style scoped>\n",
       "    .dataframe tbody tr th:only-of-type {\n",
       "        vertical-align: middle;\n",
       "    }\n",
       "\n",
       "    .dataframe tbody tr th {\n",
       "        vertical-align: top;\n",
       "    }\n",
       "\n",
       "    .dataframe thead th {\n",
       "        text-align: right;\n",
       "    }\n",
       "</style>\n",
       "<table border=\"1\" class=\"dataframe\">\n",
       "  <thead>\n",
       "    <tr style=\"text-align: right;\">\n",
       "      <th></th>\n",
       "      <th>id</th>\n",
       "      <th>access</th>\n",
       "      <th>barrier</th>\n",
       "      <th>bicycle</th>\n",
       "      <th>motor_vehicle</th>\n",
       "      <th>opening_hours</th>\n",
       "      <th>wheelchair</th>\n",
       "      <th>lon</th>\n",
       "      <th>lat</th>\n",
       "      <th>barrier_cat</th>\n",
       "      <th>...</th>\n",
       "      <th>acc_loos_500</th>\n",
       "      <th>acc_loos_1000</th>\n",
       "      <th>all_loos_100</th>\n",
       "      <th>all_loos_250</th>\n",
       "      <th>all_loos_500</th>\n",
       "      <th>all_loos_1000</th>\n",
       "      <th>ratio_100</th>\n",
       "      <th>ratio_250</th>\n",
       "      <th>ratio_500</th>\n",
       "      <th>ratio_1000</th>\n",
       "    </tr>\n",
       "  </thead>\n",
       "  <tbody>\n",
       "    <tr>\n",
       "      <th>99878</th>\n",
       "      <td>99878</td>\n",
       "      <td>permissive</td>\n",
       "      <td>gate</td>\n",
       "      <td>no</td>\n",
       "      <td>no</td>\n",
       "      <td>dawn-dusk</td>\n",
       "      <td>yes</td>\n",
       "      <td>-0.152985</td>\n",
       "      <td>51.524358</td>\n",
       "      <td>gate</td>\n",
       "      <td>...</td>\n",
       "      <td>3</td>\n",
       "      <td>3</td>\n",
       "      <td>0</td>\n",
       "      <td>1</td>\n",
       "      <td>7</td>\n",
       "      <td>12</td>\n",
       "      <td>0.0</td>\n",
       "      <td>0.0</td>\n",
       "      <td>0.428571</td>\n",
       "      <td>0.25</td>\n",
       "    </tr>\n",
       "    <tr>\n",
       "      <th>104734</th>\n",
       "      <td>104734</td>\n",
       "      <td>None</td>\n",
       "      <td>None</td>\n",
       "      <td>None</td>\n",
       "      <td>None</td>\n",
       "      <td>None</td>\n",
       "      <td>yes</td>\n",
       "      <td>-1.785876</td>\n",
       "      <td>51.565653</td>\n",
       "      <td>None</td>\n",
       "      <td>...</td>\n",
       "      <td>0</td>\n",
       "      <td>0</td>\n",
       "      <td>0</td>\n",
       "      <td>0</td>\n",
       "      <td>1</td>\n",
       "      <td>3</td>\n",
       "      <td>0.0</td>\n",
       "      <td>0.0</td>\n",
       "      <td>0.000000</td>\n",
       "      <td>0.00</td>\n",
       "    </tr>\n",
       "    <tr>\n",
       "      <th>106213</th>\n",
       "      <td>106213</td>\n",
       "      <td>None</td>\n",
       "      <td>None</td>\n",
       "      <td>None</td>\n",
       "      <td>None</td>\n",
       "      <td>None</td>\n",
       "      <td>yes</td>\n",
       "      <td>-0.142942</td>\n",
       "      <td>51.525660</td>\n",
       "      <td>None</td>\n",
       "      <td>...</td>\n",
       "      <td>2</td>\n",
       "      <td>6</td>\n",
       "      <td>0</td>\n",
       "      <td>0</td>\n",
       "      <td>4</td>\n",
       "      <td>12</td>\n",
       "      <td>0.0</td>\n",
       "      <td>0.0</td>\n",
       "      <td>0.500000</td>\n",
       "      <td>0.50</td>\n",
       "    </tr>\n",
       "    <tr>\n",
       "      <th>108042</th>\n",
       "      <td>108042</td>\n",
       "      <td>None</td>\n",
       "      <td>None</td>\n",
       "      <td>None</td>\n",
       "      <td>None</td>\n",
       "      <td>Mo-We 16:00-23:30; Th-Fr 16:00-01:00; Sa 16:00...</td>\n",
       "      <td>limited</td>\n",
       "      <td>-0.135513</td>\n",
       "      <td>51.523561</td>\n",
       "      <td>None</td>\n",
       "      <td>...</td>\n",
       "      <td>2</td>\n",
       "      <td>7</td>\n",
       "      <td>0</td>\n",
       "      <td>2</td>\n",
       "      <td>4</td>\n",
       "      <td>20</td>\n",
       "      <td>0.0</td>\n",
       "      <td>1.0</td>\n",
       "      <td>0.500000</td>\n",
       "      <td>0.35</td>\n",
       "    </tr>\n",
       "    <tr>\n",
       "      <th>251191</th>\n",
       "      <td>251191</td>\n",
       "      <td>None</td>\n",
       "      <td>None</td>\n",
       "      <td>None</td>\n",
       "      <td>None</td>\n",
       "      <td>None</td>\n",
       "      <td>limited</td>\n",
       "      <td>-0.715918</td>\n",
       "      <td>51.115444</td>\n",
       "      <td>None</td>\n",
       "      <td>...</td>\n",
       "      <td>0</td>\n",
       "      <td>0</td>\n",
       "      <td>0</td>\n",
       "      <td>0</td>\n",
       "      <td>0</td>\n",
       "      <td>0</td>\n",
       "      <td>0.0</td>\n",
       "      <td>0.0</td>\n",
       "      <td>0.000000</td>\n",
       "      <td>0.00</td>\n",
       "    </tr>\n",
       "  </tbody>\n",
       "</table>\n",
       "<p>5 rows × 28 columns</p>\n",
       "</div>"
      ],
      "text/plain": [
       "            id      access barrier bicycle motor_vehicle  \\\n",
       "99878    99878  permissive    gate      no            no   \n",
       "104734  104734        None    None    None          None   \n",
       "106213  106213        None    None    None          None   \n",
       "108042  108042        None    None    None          None   \n",
       "251191  251191        None    None    None          None   \n",
       "\n",
       "                                            opening_hours wheelchair  \\\n",
       "99878                                           dawn-dusk        yes   \n",
       "104734                                               None        yes   \n",
       "106213                                               None        yes   \n",
       "108042  Mo-We 16:00-23:30; Th-Fr 16:00-01:00; Sa 16:00...    limited   \n",
       "251191                                               None    limited   \n",
       "\n",
       "             lon        lat barrier_cat  ... acc_loos_500 acc_loos_1000  \\\n",
       "99878  -0.152985  51.524358        gate  ...            3             3   \n",
       "104734 -1.785876  51.565653        None  ...            0             0   \n",
       "106213 -0.142942  51.525660        None  ...            2             6   \n",
       "108042 -0.135513  51.523561        None  ...            2             7   \n",
       "251191 -0.715918  51.115444        None  ...            0             0   \n",
       "\n",
       "        all_loos_100  all_loos_250  all_loos_500  all_loos_1000  ratio_100  \\\n",
       "99878              0             1             7             12        0.0   \n",
       "104734             0             0             1              3        0.0   \n",
       "106213             0             0             4             12        0.0   \n",
       "108042             0             2             4             20        0.0   \n",
       "251191             0             0             0              0        0.0   \n",
       "\n",
       "        ratio_250  ratio_500  ratio_1000  \n",
       "99878         0.0   0.428571        0.25  \n",
       "104734        0.0   0.000000        0.00  \n",
       "106213        0.0   0.500000        0.50  \n",
       "108042        1.0   0.500000        0.35  \n",
       "251191        0.0   0.000000        0.00  \n",
       "\n",
       "[5 rows x 28 columns]"
      ]
     },
     "execution_count": 354,
     "metadata": {},
     "output_type": "execute_result"
    }
   ],
   "source": [
    "comb_df = pd.read_pickle(\"combined_accessible_pois.pkl\")\n",
    "comb_df['ratio_100'] = comb_df['ratio_100'].fillna(0)\n",
    "comb_df['ratio_250'] = comb_df['ratio_250'].fillna(0)\n",
    "comb_df['ratio_500'] = comb_df['ratio_500'].fillna(0)\n",
    "comb_df['ratio_1000'] = comb_df['ratio_1000'].fillna(0)\n",
    "comb_df.head()"
   ]
  },
  {
   "cell_type": "code",
   "execution_count": 355,
   "id": "d2381c12",
   "metadata": {},
   "outputs": [
    {
     "data": {
      "text/html": [
       "<div>\n",
       "<style scoped>\n",
       "    .dataframe tbody tr th:only-of-type {\n",
       "        vertical-align: middle;\n",
       "    }\n",
       "\n",
       "    .dataframe tbody tr th {\n",
       "        vertical-align: top;\n",
       "    }\n",
       "\n",
       "    .dataframe thead th {\n",
       "        text-align: right;\n",
       "    }\n",
       "</style>\n",
       "<table border=\"1\" class=\"dataframe\">\n",
       "  <thead>\n",
       "    <tr style=\"text-align: right;\">\n",
       "      <th></th>\n",
       "      <th>Index of Multiple Deprivation (IMD) Decile</th>\n",
       "    </tr>\n",
       "    <tr>\n",
       "      <th>id</th>\n",
       "      <th></th>\n",
       "    </tr>\n",
       "  </thead>\n",
       "  <tbody>\n",
       "    <tr>\n",
       "      <th>99878</th>\n",
       "      <td>8</td>\n",
       "    </tr>\n",
       "    <tr>\n",
       "      <th>29269886</th>\n",
       "      <td>8</td>\n",
       "    </tr>\n",
       "    <tr>\n",
       "      <th>281851493</th>\n",
       "      <td>8</td>\n",
       "    </tr>\n",
       "    <tr>\n",
       "      <th>293387890</th>\n",
       "      <td>8</td>\n",
       "    </tr>\n",
       "    <tr>\n",
       "      <th>293387893</th>\n",
       "      <td>8</td>\n",
       "    </tr>\n",
       "  </tbody>\n",
       "</table>\n",
       "</div>"
      ],
      "text/plain": [
       "           Index of Multiple Deprivation (IMD) Decile\n",
       "id                                                   \n",
       "99878                                               8\n",
       "29269886                                            8\n",
       "281851493                                           8\n",
       "293387890                                           8\n",
       "293387893                                           8"
      ]
     },
     "execution_count": 355,
     "metadata": {},
     "output_type": "execute_result"
    }
   ],
   "source": [
    "dep_df = pd.read_csv(\"imd.csv\")\n",
    "dep_df = dep_df.set_index('id')\n",
    "dep_df = dep_df.drop(columns='Unnamed: 0')\n",
    "dep_df.head()"
   ]
  },
  {
   "cell_type": "code",
   "execution_count": 356,
   "id": "1d33ef38",
   "metadata": {},
   "outputs": [
    {
     "data": {
      "text/plain": [
       "Index(['id', 'access', 'barrier', 'bicycle', 'motor_vehicle', 'opening_hours',\n",
       "       'wheelchair', 'lon', 'lat', 'barrier_cat', 'wheelchair_cat',\n",
       "       'access_cat', 'numOfPoiNearby_100m', 'numOfaccessiblePoiNearby_100m',\n",
       "       'numOfPoiNearby_1000m', 'numOfaccessiblePoiNearby_1000m',\n",
       "       'acc_loos_100', 'acc_loos_250', 'acc_loos_500', 'acc_loos_1000',\n",
       "       'all_loos_100', 'all_loos_250', 'all_loos_500', 'all_loos_1000',\n",
       "       'ratio_100', 'ratio_250', 'ratio_500', 'ratio_1000', 'amenity',\n",
       "       'Index of Multiple Deprivation (IMD) Decile'],\n",
       "      dtype='object')"
      ]
     },
     "execution_count": 356,
     "metadata": {},
     "output_type": "execute_result"
    }
   ],
   "source": [
    "comb_df = comb_df.join(acc_df.amenity)\n",
    "comb_df = comb_df.join(dep_df)\n",
    "comb_df.columns"
   ]
  },
  {
   "cell_type": "code",
   "execution_count": 357,
   "id": "1ec99b06",
   "metadata": {},
   "outputs": [
    {
     "data": {
      "text/html": [
       "<div>\n",
       "<style scoped>\n",
       "    .dataframe tbody tr th:only-of-type {\n",
       "        vertical-align: middle;\n",
       "    }\n",
       "\n",
       "    .dataframe tbody tr th {\n",
       "        vertical-align: top;\n",
       "    }\n",
       "\n",
       "    .dataframe thead th {\n",
       "        text-align: right;\n",
       "    }\n",
       "</style>\n",
       "<table border=\"1\" class=\"dataframe\">\n",
       "  <thead>\n",
       "    <tr style=\"text-align: right;\">\n",
       "      <th></th>\n",
       "      <th>id</th>\n",
       "      <th>access</th>\n",
       "      <th>barrier</th>\n",
       "      <th>bicycle</th>\n",
       "      <th>motor_vehicle</th>\n",
       "      <th>opening_hours</th>\n",
       "      <th>wheelchair</th>\n",
       "      <th>lon</th>\n",
       "      <th>lat</th>\n",
       "      <th>barrier_cat</th>\n",
       "      <th>...</th>\n",
       "      <th>all_loos_100</th>\n",
       "      <th>all_loos_250</th>\n",
       "      <th>all_loos_500</th>\n",
       "      <th>all_loos_1000</th>\n",
       "      <th>ratio_100</th>\n",
       "      <th>ratio_250</th>\n",
       "      <th>ratio_500</th>\n",
       "      <th>ratio_1000</th>\n",
       "      <th>amenity</th>\n",
       "      <th>Index of Multiple Deprivation (IMD) Decile</th>\n",
       "    </tr>\n",
       "  </thead>\n",
       "  <tbody>\n",
       "    <tr>\n",
       "      <th>99878</th>\n",
       "      <td>99878</td>\n",
       "      <td>permissive</td>\n",
       "      <td>gate</td>\n",
       "      <td>no</td>\n",
       "      <td>no</td>\n",
       "      <td>dawn-dusk</td>\n",
       "      <td>yes</td>\n",
       "      <td>-0.152985</td>\n",
       "      <td>51.524358</td>\n",
       "      <td>gate</td>\n",
       "      <td>...</td>\n",
       "      <td>0</td>\n",
       "      <td>1</td>\n",
       "      <td>7</td>\n",
       "      <td>12</td>\n",
       "      <td>0.0</td>\n",
       "      <td>0.0</td>\n",
       "      <td>0.428571</td>\n",
       "      <td>0.25</td>\n",
       "      <td>None</td>\n",
       "      <td>8.0</td>\n",
       "    </tr>\n",
       "    <tr>\n",
       "      <th>104734</th>\n",
       "      <td>104734</td>\n",
       "      <td>None</td>\n",
       "      <td>None</td>\n",
       "      <td>None</td>\n",
       "      <td>None</td>\n",
       "      <td>None</td>\n",
       "      <td>yes</td>\n",
       "      <td>-1.785876</td>\n",
       "      <td>51.565653</td>\n",
       "      <td>None</td>\n",
       "      <td>...</td>\n",
       "      <td>0</td>\n",
       "      <td>0</td>\n",
       "      <td>1</td>\n",
       "      <td>3</td>\n",
       "      <td>0.0</td>\n",
       "      <td>0.0</td>\n",
       "      <td>0.000000</td>\n",
       "      <td>0.00</td>\n",
       "      <td>None</td>\n",
       "      <td>4.0</td>\n",
       "    </tr>\n",
       "    <tr>\n",
       "      <th>106213</th>\n",
       "      <td>106213</td>\n",
       "      <td>None</td>\n",
       "      <td>None</td>\n",
       "      <td>None</td>\n",
       "      <td>None</td>\n",
       "      <td>None</td>\n",
       "      <td>yes</td>\n",
       "      <td>-0.142942</td>\n",
       "      <td>51.525660</td>\n",
       "      <td>None</td>\n",
       "      <td>...</td>\n",
       "      <td>0</td>\n",
       "      <td>0</td>\n",
       "      <td>4</td>\n",
       "      <td>12</td>\n",
       "      <td>0.0</td>\n",
       "      <td>0.0</td>\n",
       "      <td>0.500000</td>\n",
       "      <td>0.50</td>\n",
       "      <td>None</td>\n",
       "      <td>6.0</td>\n",
       "    </tr>\n",
       "    <tr>\n",
       "      <th>108042</th>\n",
       "      <td>108042</td>\n",
       "      <td>None</td>\n",
       "      <td>None</td>\n",
       "      <td>None</td>\n",
       "      <td>None</td>\n",
       "      <td>Mo-We 16:00-23:30; Th-Fr 16:00-01:00; Sa 16:00...</td>\n",
       "      <td>limited</td>\n",
       "      <td>-0.135513</td>\n",
       "      <td>51.523561</td>\n",
       "      <td>None</td>\n",
       "      <td>...</td>\n",
       "      <td>0</td>\n",
       "      <td>2</td>\n",
       "      <td>4</td>\n",
       "      <td>20</td>\n",
       "      <td>0.0</td>\n",
       "      <td>1.0</td>\n",
       "      <td>0.500000</td>\n",
       "      <td>0.35</td>\n",
       "      <td>pub</td>\n",
       "      <td>6.0</td>\n",
       "    </tr>\n",
       "    <tr>\n",
       "      <th>251191</th>\n",
       "      <td>251191</td>\n",
       "      <td>None</td>\n",
       "      <td>None</td>\n",
       "      <td>None</td>\n",
       "      <td>None</td>\n",
       "      <td>None</td>\n",
       "      <td>limited</td>\n",
       "      <td>-0.715918</td>\n",
       "      <td>51.115444</td>\n",
       "      <td>None</td>\n",
       "      <td>...</td>\n",
       "      <td>0</td>\n",
       "      <td>0</td>\n",
       "      <td>0</td>\n",
       "      <td>0</td>\n",
       "      <td>0.0</td>\n",
       "      <td>0.0</td>\n",
       "      <td>0.000000</td>\n",
       "      <td>0.00</td>\n",
       "      <td>None</td>\n",
       "      <td>7.0</td>\n",
       "    </tr>\n",
       "  </tbody>\n",
       "</table>\n",
       "<p>5 rows × 30 columns</p>\n",
       "</div>"
      ],
      "text/plain": [
       "            id      access barrier bicycle motor_vehicle  \\\n",
       "99878    99878  permissive    gate      no            no   \n",
       "104734  104734        None    None    None          None   \n",
       "106213  106213        None    None    None          None   \n",
       "108042  108042        None    None    None          None   \n",
       "251191  251191        None    None    None          None   \n",
       "\n",
       "                                            opening_hours wheelchair  \\\n",
       "99878                                           dawn-dusk        yes   \n",
       "104734                                               None        yes   \n",
       "106213                                               None        yes   \n",
       "108042  Mo-We 16:00-23:30; Th-Fr 16:00-01:00; Sa 16:00...    limited   \n",
       "251191                                               None    limited   \n",
       "\n",
       "             lon        lat barrier_cat  ... all_loos_100 all_loos_250  \\\n",
       "99878  -0.152985  51.524358        gate  ...            0            1   \n",
       "104734 -1.785876  51.565653        None  ...            0            0   \n",
       "106213 -0.142942  51.525660        None  ...            0            0   \n",
       "108042 -0.135513  51.523561        None  ...            0            2   \n",
       "251191 -0.715918  51.115444        None  ...            0            0   \n",
       "\n",
       "        all_loos_500  all_loos_1000  ratio_100  ratio_250  ratio_500  \\\n",
       "99878              7             12        0.0        0.0   0.428571   \n",
       "104734             1              3        0.0        0.0   0.000000   \n",
       "106213             4             12        0.0        0.0   0.500000   \n",
       "108042             4             20        0.0        1.0   0.500000   \n",
       "251191             0              0        0.0        0.0   0.000000   \n",
       "\n",
       "        ratio_1000  amenity  Index of Multiple Deprivation (IMD) Decile  \n",
       "99878         0.25     None                                         8.0  \n",
       "104734        0.00     None                                         4.0  \n",
       "106213        0.50     None                                         6.0  \n",
       "108042        0.35      pub                                         6.0  \n",
       "251191        0.00     None                                         7.0  \n",
       "\n",
       "[5 rows x 30 columns]"
      ]
     },
     "execution_count": 357,
     "metadata": {},
     "output_type": "execute_result"
    }
   ],
   "source": [
    "comb_df.head()"
   ]
  },
  {
   "cell_type": "code",
   "execution_count": 358,
   "id": "c2d62e03",
   "metadata": {},
   "outputs": [],
   "source": [
    "comb_df = comb_df.drop(columns=['access', 'barrier', 'wheelchair'])"
   ]
  },
  {
   "cell_type": "code",
   "execution_count": 359,
   "id": "9059919b",
   "metadata": {},
   "outputs": [
    {
     "data": {
      "text/html": [
       "<div>\n",
       "<style scoped>\n",
       "    .dataframe tbody tr th:only-of-type {\n",
       "        vertical-align: middle;\n",
       "    }\n",
       "\n",
       "    .dataframe tbody tr th {\n",
       "        vertical-align: top;\n",
       "    }\n",
       "\n",
       "    .dataframe thead th {\n",
       "        text-align: right;\n",
       "    }\n",
       "</style>\n",
       "<table border=\"1\" class=\"dataframe\">\n",
       "  <thead>\n",
       "    <tr style=\"text-align: right;\">\n",
       "      <th></th>\n",
       "      <th>id</th>\n",
       "      <th>bicycle</th>\n",
       "      <th>motor_vehicle</th>\n",
       "      <th>opening_hours</th>\n",
       "      <th>lon</th>\n",
       "      <th>lat</th>\n",
       "      <th>barrier_cat</th>\n",
       "      <th>wheelchair_cat</th>\n",
       "      <th>access_cat</th>\n",
       "      <th>numOfPoiNearby_100m</th>\n",
       "      <th>...</th>\n",
       "      <th>all_loos_100</th>\n",
       "      <th>all_loos_250</th>\n",
       "      <th>all_loos_500</th>\n",
       "      <th>all_loos_1000</th>\n",
       "      <th>ratio_100</th>\n",
       "      <th>ratio_250</th>\n",
       "      <th>ratio_500</th>\n",
       "      <th>ratio_1000</th>\n",
       "      <th>amenity</th>\n",
       "      <th>Index of Multiple Deprivation (IMD) Decile</th>\n",
       "    </tr>\n",
       "  </thead>\n",
       "  <tbody>\n",
       "    <tr>\n",
       "      <th>99878</th>\n",
       "      <td>99878</td>\n",
       "      <td>3</td>\n",
       "      <td>1</td>\n",
       "      <td>2264</td>\n",
       "      <td>-0.152985</td>\n",
       "      <td>51.524358</td>\n",
       "      <td>1</td>\n",
       "      <td>yes</td>\n",
       "      <td>2</td>\n",
       "      <td>2.0</td>\n",
       "      <td>...</td>\n",
       "      <td>0</td>\n",
       "      <td>1</td>\n",
       "      <td>7</td>\n",
       "      <td>12</td>\n",
       "      <td>0.0</td>\n",
       "      <td>0.0</td>\n",
       "      <td>0.428571</td>\n",
       "      <td>0.25</td>\n",
       "      <td>-1</td>\n",
       "      <td>8.0</td>\n",
       "    </tr>\n",
       "    <tr>\n",
       "      <th>104734</th>\n",
       "      <td>104734</td>\n",
       "      <td>-1</td>\n",
       "      <td>-1</td>\n",
       "      <td>-1</td>\n",
       "      <td>-1.785876</td>\n",
       "      <td>51.565653</td>\n",
       "      <td>-1</td>\n",
       "      <td>yes</td>\n",
       "      <td>-1</td>\n",
       "      <td>1.0</td>\n",
       "      <td>...</td>\n",
       "      <td>0</td>\n",
       "      <td>0</td>\n",
       "      <td>1</td>\n",
       "      <td>3</td>\n",
       "      <td>0.0</td>\n",
       "      <td>0.0</td>\n",
       "      <td>0.000000</td>\n",
       "      <td>0.00</td>\n",
       "      <td>-1</td>\n",
       "      <td>4.0</td>\n",
       "    </tr>\n",
       "    <tr>\n",
       "      <th>106213</th>\n",
       "      <td>106213</td>\n",
       "      <td>-1</td>\n",
       "      <td>-1</td>\n",
       "      <td>-1</td>\n",
       "      <td>-0.142942</td>\n",
       "      <td>51.525660</td>\n",
       "      <td>-1</td>\n",
       "      <td>yes</td>\n",
       "      <td>-1</td>\n",
       "      <td>3.0</td>\n",
       "      <td>...</td>\n",
       "      <td>0</td>\n",
       "      <td>0</td>\n",
       "      <td>4</td>\n",
       "      <td>12</td>\n",
       "      <td>0.0</td>\n",
       "      <td>0.0</td>\n",
       "      <td>0.500000</td>\n",
       "      <td>0.50</td>\n",
       "      <td>-1</td>\n",
       "      <td>6.0</td>\n",
       "    </tr>\n",
       "    <tr>\n",
       "      <th>108042</th>\n",
       "      <td>108042</td>\n",
       "      <td>-1</td>\n",
       "      <td>-1</td>\n",
       "      <td>1978</td>\n",
       "      <td>-0.135513</td>\n",
       "      <td>51.523561</td>\n",
       "      <td>-1</td>\n",
       "      <td>limited</td>\n",
       "      <td>-1</td>\n",
       "      <td>3.0</td>\n",
       "      <td>...</td>\n",
       "      <td>0</td>\n",
       "      <td>2</td>\n",
       "      <td>4</td>\n",
       "      <td>20</td>\n",
       "      <td>0.0</td>\n",
       "      <td>1.0</td>\n",
       "      <td>0.500000</td>\n",
       "      <td>0.35</td>\n",
       "      <td>71</td>\n",
       "      <td>6.0</td>\n",
       "    </tr>\n",
       "    <tr>\n",
       "      <th>251191</th>\n",
       "      <td>251191</td>\n",
       "      <td>-1</td>\n",
       "      <td>-1</td>\n",
       "      <td>-1</td>\n",
       "      <td>-0.715918</td>\n",
       "      <td>51.115444</td>\n",
       "      <td>-1</td>\n",
       "      <td>limited</td>\n",
       "      <td>-1</td>\n",
       "      <td>2.0</td>\n",
       "      <td>...</td>\n",
       "      <td>0</td>\n",
       "      <td>0</td>\n",
       "      <td>0</td>\n",
       "      <td>0</td>\n",
       "      <td>0.0</td>\n",
       "      <td>0.0</td>\n",
       "      <td>0.000000</td>\n",
       "      <td>0.00</td>\n",
       "      <td>-1</td>\n",
       "      <td>7.0</td>\n",
       "    </tr>\n",
       "  </tbody>\n",
       "</table>\n",
       "<p>5 rows × 27 columns</p>\n",
       "</div>"
      ],
      "text/plain": [
       "            id  bicycle  motor_vehicle  opening_hours       lon        lat  \\\n",
       "99878    99878        3              1           2264 -0.152985  51.524358   \n",
       "104734  104734       -1             -1             -1 -1.785876  51.565653   \n",
       "106213  106213       -1             -1             -1 -0.142942  51.525660   \n",
       "108042  108042       -1             -1           1978 -0.135513  51.523561   \n",
       "251191  251191       -1             -1             -1 -0.715918  51.115444   \n",
       "\n",
       "        barrier_cat wheelchair_cat  access_cat  numOfPoiNearby_100m  ...  \\\n",
       "99878             1            yes           2                  2.0  ...   \n",
       "104734           -1            yes          -1                  1.0  ...   \n",
       "106213           -1            yes          -1                  3.0  ...   \n",
       "108042           -1        limited          -1                  3.0  ...   \n",
       "251191           -1        limited          -1                  2.0  ...   \n",
       "\n",
       "        all_loos_100  all_loos_250  all_loos_500  all_loos_1000  ratio_100  \\\n",
       "99878              0             1             7             12        0.0   \n",
       "104734             0             0             1              3        0.0   \n",
       "106213             0             0             4             12        0.0   \n",
       "108042             0             2             4             20        0.0   \n",
       "251191             0             0             0              0        0.0   \n",
       "\n",
       "        ratio_250  ratio_500  ratio_1000  amenity  \\\n",
       "99878         0.0   0.428571        0.25       -1   \n",
       "104734        0.0   0.000000        0.00       -1   \n",
       "106213        0.0   0.500000        0.50       -1   \n",
       "108042        1.0   0.500000        0.35       71   \n",
       "251191        0.0   0.000000        0.00       -1   \n",
       "\n",
       "        Index of Multiple Deprivation (IMD) Decile  \n",
       "99878                                          8.0  \n",
       "104734                                         4.0  \n",
       "106213                                         6.0  \n",
       "108042                                         6.0  \n",
       "251191                                         7.0  \n",
       "\n",
       "[5 rows x 27 columns]"
      ]
     },
     "execution_count": 359,
     "metadata": {},
     "output_type": "execute_result"
    }
   ],
   "source": [
    "comb_df['access_cat'] = pd.Categorical(comb_df['access_cat'])\n",
    "comb_df['access_cat'] = comb_df['access_cat'].cat.codes\n",
    "\n",
    "comb_df['barrier_cat'] = pd.Categorical(comb_df['barrier_cat'])\n",
    "comb_df['barrier_cat'] = comb_df['barrier_cat'].cat.codes\n",
    "\n",
    "comb_df['bicycle'] = pd.Categorical(comb_df['bicycle'])\n",
    "comb_df['bicycle'] = comb_df['bicycle'].cat.codes\n",
    "\n",
    "comb_df['motor_vehicle'] = pd.Categorical(comb_df['motor_vehicle'])\n",
    "comb_df['motor_vehicle'] = comb_df['motor_vehicle'].cat.codes\n",
    "\n",
    "comb_df['opening_hours'] = pd.Categorical(comb_df['opening_hours'])\n",
    "comb_df['opening_hours'] = comb_df['opening_hours'].cat.codes\n",
    "\n",
    "comb_df['amenity'] = pd.Categorical(comb_df['amenity'])\n",
    "comb_df['amenity'] = comb_df['amenity'].cat.codes\n",
    "\n",
    "comb_df.head()"
   ]
  },
  {
   "cell_type": "code",
   "execution_count": 360,
   "id": "a40a64e7",
   "metadata": {},
   "outputs": [
    {
     "data": {
      "text/plain": [
       "yes    18815\n",
       "no      6796\n",
       "Name: wheelchair_cat, dtype: int64"
      ]
     },
     "execution_count": 360,
     "metadata": {},
     "output_type": "execute_result"
    }
   ],
   "source": [
    "comb_df = comb_df[comb_df['wheelchair_cat'] != 'limited']\n",
    "comb_df = comb_df[comb_df['wheelchair_cat'] != 'designated']\n",
    "comb_df.wheelchair_cat.value_counts()"
   ]
  },
  {
   "cell_type": "code",
   "execution_count": 361,
   "id": "491f832f",
   "metadata": {},
   "outputs": [
    {
     "name": "stdout",
     "output_type": "stream",
     "text": [
      "25611\n",
      "21129\n"
     ]
    }
   ],
   "source": [
    "print(len(comb_df))\n",
    "comb_df = comb_df.dropna()\n",
    "print(len(comb_df))"
   ]
  },
  {
   "cell_type": "code",
   "execution_count": 362,
   "id": "64ed684b",
   "metadata": {},
   "outputs": [
    {
     "data": {
      "text/html": [
       "<div>\n",
       "<style scoped>\n",
       "    .dataframe tbody tr th:only-of-type {\n",
       "        vertical-align: middle;\n",
       "    }\n",
       "\n",
       "    .dataframe tbody tr th {\n",
       "        vertical-align: top;\n",
       "    }\n",
       "\n",
       "    .dataframe thead th {\n",
       "        text-align: right;\n",
       "    }\n",
       "</style>\n",
       "<table border=\"1\" class=\"dataframe\">\n",
       "  <thead>\n",
       "    <tr style=\"text-align: right;\">\n",
       "      <th></th>\n",
       "      <th>bicycle</th>\n",
       "      <th>motor_vehicle</th>\n",
       "      <th>opening_hours</th>\n",
       "      <th>lon</th>\n",
       "      <th>lat</th>\n",
       "      <th>barrier_cat</th>\n",
       "      <th>access_cat</th>\n",
       "      <th>numOfPoiNearby_100m</th>\n",
       "      <th>numOfaccessiblePoiNearby_100m</th>\n",
       "      <th>numOfPoiNearby_1000m</th>\n",
       "      <th>...</th>\n",
       "      <th>all_loos_100</th>\n",
       "      <th>all_loos_250</th>\n",
       "      <th>all_loos_500</th>\n",
       "      <th>all_loos_1000</th>\n",
       "      <th>ratio_100</th>\n",
       "      <th>ratio_250</th>\n",
       "      <th>ratio_500</th>\n",
       "      <th>ratio_1000</th>\n",
       "      <th>amenity</th>\n",
       "      <th>Index of Multiple Deprivation (IMD) Decile</th>\n",
       "    </tr>\n",
       "  </thead>\n",
       "  <tbody>\n",
       "    <tr>\n",
       "      <th>99878</th>\n",
       "      <td>3</td>\n",
       "      <td>1</td>\n",
       "      <td>2264</td>\n",
       "      <td>-0.152985</td>\n",
       "      <td>51.524358</td>\n",
       "      <td>1</td>\n",
       "      <td>2</td>\n",
       "      <td>2.0</td>\n",
       "      <td>2.0</td>\n",
       "      <td>98.0</td>\n",
       "      <td>...</td>\n",
       "      <td>0</td>\n",
       "      <td>1</td>\n",
       "      <td>7</td>\n",
       "      <td>12</td>\n",
       "      <td>0.0</td>\n",
       "      <td>0.0</td>\n",
       "      <td>0.428571</td>\n",
       "      <td>0.25</td>\n",
       "      <td>-1</td>\n",
       "      <td>8.0</td>\n",
       "    </tr>\n",
       "    <tr>\n",
       "      <th>104734</th>\n",
       "      <td>-1</td>\n",
       "      <td>-1</td>\n",
       "      <td>-1</td>\n",
       "      <td>-1.785876</td>\n",
       "      <td>51.565653</td>\n",
       "      <td>-1</td>\n",
       "      <td>-1</td>\n",
       "      <td>1.0</td>\n",
       "      <td>1.0</td>\n",
       "      <td>8.0</td>\n",
       "      <td>...</td>\n",
       "      <td>0</td>\n",
       "      <td>0</td>\n",
       "      <td>1</td>\n",
       "      <td>3</td>\n",
       "      <td>0.0</td>\n",
       "      <td>0.0</td>\n",
       "      <td>0.000000</td>\n",
       "      <td>0.00</td>\n",
       "      <td>-1</td>\n",
       "      <td>4.0</td>\n",
       "    </tr>\n",
       "    <tr>\n",
       "      <th>106213</th>\n",
       "      <td>-1</td>\n",
       "      <td>-1</td>\n",
       "      <td>-1</td>\n",
       "      <td>-0.142942</td>\n",
       "      <td>51.525660</td>\n",
       "      <td>-1</td>\n",
       "      <td>-1</td>\n",
       "      <td>3.0</td>\n",
       "      <td>3.0</td>\n",
       "      <td>107.0</td>\n",
       "      <td>...</td>\n",
       "      <td>0</td>\n",
       "      <td>0</td>\n",
       "      <td>4</td>\n",
       "      <td>12</td>\n",
       "      <td>0.0</td>\n",
       "      <td>0.0</td>\n",
       "      <td>0.500000</td>\n",
       "      <td>0.50</td>\n",
       "      <td>-1</td>\n",
       "      <td>6.0</td>\n",
       "    </tr>\n",
       "    <tr>\n",
       "      <th>262778</th>\n",
       "      <td>-1</td>\n",
       "      <td>-1</td>\n",
       "      <td>-1</td>\n",
       "      <td>-0.826153</td>\n",
       "      <td>50.990331</td>\n",
       "      <td>-1</td>\n",
       "      <td>-1</td>\n",
       "      <td>1.0</td>\n",
       "      <td>1.0</td>\n",
       "      <td>1.0</td>\n",
       "      <td>...</td>\n",
       "      <td>0</td>\n",
       "      <td>0</td>\n",
       "      <td>0</td>\n",
       "      <td>0</td>\n",
       "      <td>0.0</td>\n",
       "      <td>0.0</td>\n",
       "      <td>0.000000</td>\n",
       "      <td>0.00</td>\n",
       "      <td>-1</td>\n",
       "      <td>6.0</td>\n",
       "    </tr>\n",
       "    <tr>\n",
       "      <th>271339</th>\n",
       "      <td>-1</td>\n",
       "      <td>-1</td>\n",
       "      <td>-1</td>\n",
       "      <td>-1.856858</td>\n",
       "      <td>51.353526</td>\n",
       "      <td>-1</td>\n",
       "      <td>-1</td>\n",
       "      <td>1.0</td>\n",
       "      <td>0.0</td>\n",
       "      <td>1.0</td>\n",
       "      <td>...</td>\n",
       "      <td>0</td>\n",
       "      <td>0</td>\n",
       "      <td>0</td>\n",
       "      <td>0</td>\n",
       "      <td>0.0</td>\n",
       "      <td>0.0</td>\n",
       "      <td>0.000000</td>\n",
       "      <td>0.00</td>\n",
       "      <td>71</td>\n",
       "      <td>6.0</td>\n",
       "    </tr>\n",
       "  </tbody>\n",
       "</table>\n",
       "<p>5 rows × 25 columns</p>\n",
       "</div>"
      ],
      "text/plain": [
       "        bicycle  motor_vehicle  opening_hours       lon        lat  \\\n",
       "99878         3              1           2264 -0.152985  51.524358   \n",
       "104734       -1             -1             -1 -1.785876  51.565653   \n",
       "106213       -1             -1             -1 -0.142942  51.525660   \n",
       "262778       -1             -1             -1 -0.826153  50.990331   \n",
       "271339       -1             -1             -1 -1.856858  51.353526   \n",
       "\n",
       "        barrier_cat  access_cat  numOfPoiNearby_100m  \\\n",
       "99878             1           2                  2.0   \n",
       "104734           -1          -1                  1.0   \n",
       "106213           -1          -1                  3.0   \n",
       "262778           -1          -1                  1.0   \n",
       "271339           -1          -1                  1.0   \n",
       "\n",
       "        numOfaccessiblePoiNearby_100m  numOfPoiNearby_1000m  ...  \\\n",
       "99878                             2.0                  98.0  ...   \n",
       "104734                            1.0                   8.0  ...   \n",
       "106213                            3.0                 107.0  ...   \n",
       "262778                            1.0                   1.0  ...   \n",
       "271339                            0.0                   1.0  ...   \n",
       "\n",
       "        all_loos_100  all_loos_250  all_loos_500  all_loos_1000  ratio_100  \\\n",
       "99878              0             1             7             12        0.0   \n",
       "104734             0             0             1              3        0.0   \n",
       "106213             0             0             4             12        0.0   \n",
       "262778             0             0             0              0        0.0   \n",
       "271339             0             0             0              0        0.0   \n",
       "\n",
       "        ratio_250  ratio_500  ratio_1000  amenity  \\\n",
       "99878         0.0   0.428571        0.25       -1   \n",
       "104734        0.0   0.000000        0.00       -1   \n",
       "106213        0.0   0.500000        0.50       -1   \n",
       "262778        0.0   0.000000        0.00       -1   \n",
       "271339        0.0   0.000000        0.00       71   \n",
       "\n",
       "        Index of Multiple Deprivation (IMD) Decile  \n",
       "99878                                          8.0  \n",
       "104734                                         4.0  \n",
       "106213                                         6.0  \n",
       "262778                                         6.0  \n",
       "271339                                         6.0  \n",
       "\n",
       "[5 rows x 25 columns]"
      ]
     },
     "execution_count": 362,
     "metadata": {},
     "output_type": "execute_result"
    }
   ],
   "source": [
    "comb_df = comb_df.drop(columns='id')\n",
    "comb_X = comb_df.drop(columns='wheelchair_cat')\n",
    "comb_X.head()"
   ]
  },
  {
   "cell_type": "code",
   "execution_count": 363,
   "id": "851485c8",
   "metadata": {},
   "outputs": [
    {
     "data": {
      "text/plain": [
       "Index(['bicycle', 'motor_vehicle', 'opening_hours', 'lon', 'lat',\n",
       "       'barrier_cat', 'access_cat', 'numOfPoiNearby_100m',\n",
       "       'numOfaccessiblePoiNearby_100m', 'numOfPoiNearby_1000m',\n",
       "       'numOfaccessiblePoiNearby_1000m', 'acc_loos_100', 'acc_loos_250',\n",
       "       'acc_loos_500', 'acc_loos_1000', 'all_loos_100', 'all_loos_250',\n",
       "       'all_loos_500', 'all_loos_1000', 'ratio_100', 'ratio_250', 'ratio_500',\n",
       "       'ratio_1000', 'amenity', 'Index of Multiple Deprivation (IMD) Decile'],\n",
       "      dtype='object')"
      ]
     },
     "execution_count": 363,
     "metadata": {},
     "output_type": "execute_result"
    }
   ],
   "source": [
    "comb_X.columns"
   ]
  },
  {
   "cell_type": "code",
   "execution_count": 364,
   "id": "969833bb",
   "metadata": {},
   "outputs": [
    {
     "data": {
      "text/plain": [
       "99878         1\n",
       "104734        1\n",
       "106213        1\n",
       "262778        1\n",
       "271339        0\n",
       "             ..\n",
       "8491567498    0\n",
       "8493453463    1\n",
       "8493775009    0\n",
       "8495101135    1\n",
       "8495147466    1\n",
       "Length: 21129, dtype: int8"
      ]
     },
     "execution_count": 364,
     "metadata": {},
     "output_type": "execute_result"
    }
   ],
   "source": [
    "comb_df['wheelchair_cat'] = pd.Categorical(comb_df['wheelchair_cat'])\n",
    "comb_y = comb_df['wheelchair_cat'].cat.codes\n",
    "comb_y"
   ]
  },
  {
   "cell_type": "code",
   "execution_count": 365,
   "id": "8f467bda",
   "metadata": {},
   "outputs": [
    {
     "data": {
      "text/plain": [
       "1    16090\n",
       "0     5039\n",
       "dtype: int64"
      ]
     },
     "execution_count": 365,
     "metadata": {},
     "output_type": "execute_result"
    }
   ],
   "source": [
    "comb_y.value_counts()"
   ]
  },
  {
   "cell_type": "code",
   "execution_count": 366,
   "id": "e65b6359",
   "metadata": {},
   "outputs": [
    {
     "name": "stdout",
     "output_type": "stream",
     "text": [
      "21129\n",
      "dropping 'all_loos_1000' at index: 18\n",
      "dropping 'numOfaccessiblePoiNearby_1000m' at index: 10\n",
      "dropping 'all_loos_500' at index: 16\n",
      "dropping 'lat' at index: 4\n",
      "dropping 'acc_loos_100' at index: 9\n",
      "dropping 'acc_loos_500' at index: 10\n",
      "dropping 'numOfPoiNearby_100m' at index: 6\n",
      "dropping 'motor_vehicle' at index: 1\n",
      "dropping 'all_loos_250' at index: 10\n",
      "dropping 'ratio_250' at index: 11\n",
      "dropping 'ratio_1000' at index: 12\n",
      "dropping 'barrier_cat' at index: 3\n",
      "dropping 'acc_loos_1000' at index: 7\n",
      "dropping 'Index of Multiple Deprivation (IMD) Decile' at index: 11\n",
      "Remaining variables:\n",
      "Index(['bicycle', 'opening_hours', 'lon', 'access_cat',\n",
      "       'numOfaccessiblePoiNearby_100m', 'numOfPoiNearby_1000m', 'acc_loos_250',\n",
      "       'all_loos_100', 'ratio_100', 'ratio_500', 'amenity'],\n",
      "      dtype='object')\n"
     ]
    }
   ],
   "source": [
    "def calculate_vif_(X, thresh=2.5):\n",
    "    variables = list(range(X.shape[1]))\n",
    "    dropped = True\n",
    "    while dropped:\n",
    "        dropped = False\n",
    "        vif = [variance_inflation_factor(X.iloc[:, variables].values, ix)\n",
    "               for ix in range(X.iloc[:, variables].shape[1])]\n",
    "        maxloc = vif.index(max(vif))\n",
    "        if max(vif) > thresh:\n",
    "            print('dropping \\'' + X.iloc[:, variables].columns[maxloc] +\n",
    "                  '\\' at index: ' + str(maxloc))\n",
    "            del variables[maxloc]\n",
    "            dropped = True\n",
    "    print('Remaining variables:')\n",
    "    print(X.columns[variables])\n",
    "    return X.iloc[:, variables]\n",
    "\n",
    "cleaned_X_train = comb_X.dropna()\n",
    "print(len(cleaned_X_train))\n",
    "X_train = calculate_vif_(cleaned_X_train)"
   ]
  },
  {
   "cell_type": "code",
   "execution_count": 367,
   "id": "66251bb8",
   "metadata": {},
   "outputs": [
    {
     "data": {
      "text/html": [
       "<div>\n",
       "<style scoped>\n",
       "    .dataframe tbody tr th:only-of-type {\n",
       "        vertical-align: middle;\n",
       "    }\n",
       "\n",
       "    .dataframe tbody tr th {\n",
       "        vertical-align: top;\n",
       "    }\n",
       "\n",
       "    .dataframe thead th {\n",
       "        text-align: right;\n",
       "    }\n",
       "</style>\n",
       "<table border=\"1\" class=\"dataframe\">\n",
       "  <thead>\n",
       "    <tr style=\"text-align: right;\">\n",
       "      <th></th>\n",
       "      <th>bicycle</th>\n",
       "      <th>opening_hours</th>\n",
       "      <th>lon</th>\n",
       "      <th>access_cat</th>\n",
       "      <th>numOfaccessiblePoiNearby_100m</th>\n",
       "      <th>numOfPoiNearby_1000m</th>\n",
       "      <th>acc_loos_100</th>\n",
       "      <th>amenity</th>\n",
       "    </tr>\n",
       "  </thead>\n",
       "  <tbody>\n",
       "    <tr>\n",
       "      <th>99878</th>\n",
       "      <td>3</td>\n",
       "      <td>2264</td>\n",
       "      <td>-0.152985</td>\n",
       "      <td>2</td>\n",
       "      <td>2.0</td>\n",
       "      <td>98.0</td>\n",
       "      <td>0</td>\n",
       "      <td>-1</td>\n",
       "    </tr>\n",
       "    <tr>\n",
       "      <th>104734</th>\n",
       "      <td>-1</td>\n",
       "      <td>-1</td>\n",
       "      <td>-1.785876</td>\n",
       "      <td>-1</td>\n",
       "      <td>1.0</td>\n",
       "      <td>8.0</td>\n",
       "      <td>0</td>\n",
       "      <td>-1</td>\n",
       "    </tr>\n",
       "    <tr>\n",
       "      <th>106213</th>\n",
       "      <td>-1</td>\n",
       "      <td>-1</td>\n",
       "      <td>-0.142942</td>\n",
       "      <td>-1</td>\n",
       "      <td>3.0</td>\n",
       "      <td>107.0</td>\n",
       "      <td>0</td>\n",
       "      <td>-1</td>\n",
       "    </tr>\n",
       "    <tr>\n",
       "      <th>262778</th>\n",
       "      <td>-1</td>\n",
       "      <td>-1</td>\n",
       "      <td>-0.826153</td>\n",
       "      <td>-1</td>\n",
       "      <td>1.0</td>\n",
       "      <td>1.0</td>\n",
       "      <td>0</td>\n",
       "      <td>-1</td>\n",
       "    </tr>\n",
       "    <tr>\n",
       "      <th>271339</th>\n",
       "      <td>-1</td>\n",
       "      <td>-1</td>\n",
       "      <td>-1.856858</td>\n",
       "      <td>-1</td>\n",
       "      <td>0.0</td>\n",
       "      <td>1.0</td>\n",
       "      <td>0</td>\n",
       "      <td>71</td>\n",
       "    </tr>\n",
       "  </tbody>\n",
       "</table>\n",
       "</div>"
      ],
      "text/plain": [
       "        bicycle  opening_hours       lon  access_cat  \\\n",
       "99878         3           2264 -0.152985           2   \n",
       "104734       -1             -1 -1.785876          -1   \n",
       "106213       -1             -1 -0.142942          -1   \n",
       "262778       -1             -1 -0.826153          -1   \n",
       "271339       -1             -1 -1.856858          -1   \n",
       "\n",
       "        numOfaccessiblePoiNearby_100m  numOfPoiNearby_1000m  acc_loos_100  \\\n",
       "99878                             2.0                  98.0             0   \n",
       "104734                            1.0                   8.0             0   \n",
       "106213                            3.0                 107.0             0   \n",
       "262778                            1.0                   1.0             0   \n",
       "271339                            0.0                   1.0             0   \n",
       "\n",
       "        amenity  \n",
       "99878        -1  \n",
       "104734       -1  \n",
       "106213       -1  \n",
       "262778       -1  \n",
       "271339       71  "
      ]
     },
     "execution_count": 367,
     "metadata": {},
     "output_type": "execute_result"
    }
   ],
   "source": [
    "new_X = comb_X[['bicycle', 'opening_hours', 'lon', 'access_cat',\n",
    "       'numOfaccessiblePoiNearby_100m', 'numOfPoiNearby_1000m', 'acc_loos_100',\n",
    "       'amenity']]\n",
    "new_X.head()"
   ]
  },
  {
   "cell_type": "code",
   "execution_count": null,
   "id": "fda0a611",
   "metadata": {},
   "outputs": [],
   "source": []
  },
  {
   "cell_type": "code",
   "execution_count": 368,
   "id": "48e1c9e6",
   "metadata": {},
   "outputs": [],
   "source": [
    "comb_X_train, comb_X_test, comb_y_train, comb_y_test = train_test_split(comb_X, comb_y, test_size=0.25, random_state=42,\n",
    "                                                                   stratify=comb_y)"
   ]
  },
  {
   "cell_type": "code",
   "execution_count": 379,
   "id": "de543a86",
   "metadata": {},
   "outputs": [
    {
     "name": "stdout",
     "output_type": "stream",
     "text": [
      "15846\n",
      "5283\n"
     ]
    }
   ],
   "source": [
    "print(len(comb_X_train))\n",
    "print(len(comb_X_test))"
   ]
  },
  {
   "cell_type": "code",
   "execution_count": 369,
   "id": "11377356",
   "metadata": {},
   "outputs": [
    {
     "data": {
      "text/plain": [
       "0    3779\n",
       "1    3779\n",
       "dtype: int64"
      ]
     },
     "execution_count": 369,
     "metadata": {},
     "output_type": "execute_result"
    }
   ],
   "source": [
    "undersample = RandomUnderSampler(sampling_strategy='majority')\n",
    "X_over, y_over = undersample.fit_resample(comb_X_train, comb_y_train)\n",
    "y_over.value_counts()"
   ]
  },
  {
   "cell_type": "code",
   "execution_count": 370,
   "id": "736e2aab",
   "metadata": {},
   "outputs": [
    {
     "name": "stdout",
     "output_type": "stream",
     "text": [
      "[09:33:56] WARNING: ../src/learner.cc:1095: Starting in XGBoost 1.3.0, the default evaluation metric used with the objective 'multi:softmax' was changed from 'merror' to 'mlogloss'. Explicitly set eval_metric if you'd like to restore the old behavior.\n"
     ]
    }
   ],
   "source": [
    "comb_dtrain = xgb.DMatrix(comb_X_train, label=comb_y_train)\n",
    "comb_param = {'objective': 'multi:softmax', 'num_class':4}\n",
    "comb_num_round = 100\n",
    "comb_bst = xgb.train(comb_param, comb_dtrain, comb_num_round)"
   ]
  },
  {
   "cell_type": "code",
   "execution_count": 371,
   "id": "a1493ff9",
   "metadata": {
    "scrolled": true
   },
   "outputs": [
    {
     "data": {
      "image/png": "[encoded data removed]",
      "text/plain": [
       "<Figure size 432x288 with 1 Axes>"
      ]
     },
     "metadata": {
      "needs_background": "light"
     },
     "output_type": "display_data"
    }
   ],
   "source": [
    "comb_dtest = xgb.DMatrix(comb_X_test)\n",
    "comb_preds = comb_bst.predict(comb_dtest)\n",
    "\n",
    "xgb.plot_importance(comb_bst)\n",
    "plt.tight_layout()\n",
    "plt.savefig('/output/fi_xgb_better.pdf')"
   ]
  },
  {
   "cell_type": "code",
   "execution_count": 372,
   "id": "7b5c5b22",
   "metadata": {},
   "outputs": [
    {
     "data": {
      "text/plain": [
       "0.8894567480598145"
      ]
     },
     "execution_count": 372,
     "metadata": {},
     "output_type": "execute_result"
    }
   ],
   "source": [
    "accuracy_score(comb_y_test, comb_preds)"
   ]
  },
  {
   "cell_type": "code",
   "execution_count": 373,
   "id": "20fe183c",
   "metadata": {},
   "outputs": [
    {
     "data": {
      "text/plain": [
       "(array([0.80178571, 0.91304348]),\n",
       " array([0.71269841, 0.9448173 ]),\n",
       " array([0.75462185, 0.92865869]),\n",
       " array([1260, 4023]))"
      ]
     },
     "execution_count": 373,
     "metadata": {},
     "output_type": "execute_result"
    }
   ],
   "source": [
    "precision_recall_fscore_support(comb_y_test, comb_preds)"
   ]
  },
  {
   "cell_type": "code",
   "execution_count": 374,
   "id": "7b55545e",
   "metadata": {},
   "outputs": [],
   "source": [
    "fin_forest = RandomForestClassifier(n_estimators=250,\n",
    "                              random_state=0)\n",
    "fin_forest.fit(comb_X_train, comb_y_train)\n",
    "comb_ff_preds = fin_forest.predict(comb_X_test)"
   ]
  },
  {
   "cell_type": "code",
   "execution_count": 375,
   "id": "9f8ae8cb",
   "metadata": {},
   "outputs": [
    {
     "data": {
      "text/plain": [
       "0.8851031610827181"
      ]
     },
     "execution_count": 375,
     "metadata": {},
     "output_type": "execute_result"
    }
   ],
   "source": [
    "accuracy_score(comb_y_test, comb_ff_preds)"
   ]
  },
  {
   "cell_type": "code",
   "execution_count": 376,
   "id": "1cc469bb",
   "metadata": {},
   "outputs": [
    {
     "data": {
      "text/plain": [
       "(array([0.7976299 , 0.90802676]),\n",
       " array([0.69444444, 0.9448173 ]),\n",
       " array([0.74246924, 0.92605677]),\n",
       " array([1260, 4023]))"
      ]
     },
     "execution_count": 376,
     "metadata": {},
     "output_type": "execute_result"
    }
   ],
   "source": [
    "precision_recall_fscore_support(comb_y_test, comb_ff_preds)"
   ]
  },
  {
   "cell_type": "code",
   "execution_count": 377,
   "id": "00d700ea",
   "metadata": {
    "scrolled": true
   },
   "outputs": [
    {
     "name": "stdout",
     "output_type": "stream",
     "text": [
      "[09:41:54] WARNING: ../src/learner.cc:1095: Starting in XGBoost 1.3.0, the default evaluation metric used with the objective 'multi:softmax' was changed from 'merror' to 'mlogloss'. Explicitly set eval_metric if you'd like to restore the old behavior.\n"
     ]
    },
    {
     "data": {
      "text/plain": [
       "<AxesSubplot:title={'center':'Feature importance'}, xlabel='F score', ylabel='Features'>"
      ]
     },
     "execution_count": 377,
     "metadata": {},
     "output_type": "execute_result"
    },
    {
     "data": {
      "image/png": "[encoded data removed]",
      "text/plain": [
       "<Figure size 432x288 with 1 Axes>"
      ]
     },
     "metadata": {
      "needs_background": "light"
     },
     "output_type": "display_data"
    }
   ],
   "source": [
    "und_dtrain = xgb.DMatrix(X_over, label=y_over)\n",
    "und_param = {'objective': 'multi:softmax', 'num_class':4}\n",
    "und_num_round = 100\n",
    "und_bst = xgb.train(und_param, und_dtrain, und_num_round)\n",
    "und_dtest = xgb.DMatrix(comb_X_test)\n",
    "und_preds = und_bst.predict(und_dtest)\n",
    "\n",
    "xgb.plot_importance(und_bst)"
   ]
  },
  {
   "cell_type": "code",
   "execution_count": 378,
   "id": "f22516f0",
   "metadata": {},
   "outputs": [
    {
     "name": "stdout",
     "output_type": "stream",
     "text": [
      "0.8514101836077986\n"
     ]
    },
    {
     "data": {
      "text/plain": [
       "(array([0.63672999, 0.95657078]),\n",
       " array([0.87777778, 0.84315188]),\n",
       " array([0.7380714 , 0.89628749]),\n",
       " array([1260, 4023]))"
      ]
     },
     "execution_count": 378,
     "metadata": {},
     "output_type": "execute_result"
    }
   ],
   "source": [
    "print(accuracy_score(comb_y_test, und_preds))\n",
    "precision_recall_fscore_support(comb_y_test, und_preds)"
   ]
  },
  {
   "cell_type": "code",
   "execution_count": 380,
   "id": "6155af10",
   "metadata": {},
   "outputs": [],
   "source": [
    "Classifier= SVC(kernel='linear', C=0.1, gamma= 0.1)\n",
    "Classifier.fit(comb_X_train, comb_y_train)\n",
    "predicted = Classifier.predict(comb_X_test)"
   ]
  },
  {
   "cell_type": "code",
   "execution_count": 381,
   "id": "a72e77fe",
   "metadata": {},
   "outputs": [
    {
     "name": "stdout",
     "output_type": "stream",
     "text": [
      "0.82793867120954\n"
     ]
    },
    {
     "data": {
      "text/plain": [
       "(array([0.76077266, 0.83774403]),\n",
       " array([0.40634921, 0.95998011]),\n",
       " array([0.52974651, 0.89470636]),\n",
       " array([1260, 4023]))"
      ]
     },
     "execution_count": 381,
     "metadata": {},
     "output_type": "execute_result"
    }
   ],
   "source": [
    "print(accuracy_score(comb_y_test, predicted))\n",
    "precision_recall_fscore_support(comb_y_test, predicted)"
   ]
  },
  {
   "cell_type": "code",
   "execution_count": 173,
   "id": "b791a70e",
   "metadata": {},
   "outputs": [
    {
     "name": "stdout",
     "output_type": "stream",
     "text": [
      "7404\n",
      "dropping 'acc_loos_1000' at index: 14\n",
      "dropping 'lat' at index: 4\n",
      "dropping 'all_loos_500' at index: 15\n",
      "dropping 'numOfaccessiblePoiNearby_1000m' at index: 9\n",
      "dropping 'motor_vehicle' at index: 1\n",
      "dropping 'ratio_100' at index: 14\n",
      "dropping 'ratio_500' at index: 15\n",
      "dropping 'acc_loos_250' at index: 9\n",
      "dropping 'numOfPoiNearby_100m' at index: 5\n",
      "dropping 'barrier_cat' at index: 3\n",
      "dropping 'all_loos_100' at index: 8\n",
      "dropping 'acc_loos_500' at index: 7\n",
      "dropping 'ratio_250' at index: 9\n",
      "dropping 'all_loos_1000' at index: 8\n",
      "dropping 'ratio_1000' at index: 8\n",
      "dropping 'all_loos_250' at index: 7\n",
      "dropping 'bicycle' at index: 0\n",
      "dropping 'numOfaccessiblePoiNearby_100m' at index: 3\n",
      "Remaining variables:\n",
      "Index(['opening_hours', 'lon', 'access_cat', 'numOfPoiNearby_1000m',\n",
      "       'acc_loos_100', 'amenity'],\n",
      "      dtype='object')\n"
     ]
    }
   ],
   "source": [
    "def calculate_vif_(X, thresh=1.5):\n",
    "    variables = list(range(X.shape[1]))\n",
    "    dropped = True\n",
    "    while dropped:\n",
    "        dropped = False\n",
    "        vif = [variance_inflation_factor(X.iloc[:, variables].values, ix)\n",
    "               for ix in range(X.iloc[:, variables].shape[1])]\n",
    "        maxloc = vif.index(max(vif))\n",
    "        if max(vif) > thresh:\n",
    "            print('dropping \\'' + X.iloc[:, variables].columns[maxloc] +\n",
    "                  '\\' at index: ' + str(maxloc))\n",
    "            del variables[maxloc]\n",
    "            dropped = True\n",
    "    print('Remaining variables:')\n",
    "    print(X.columns[variables])\n",
    "    return X.iloc[:, variables]\n",
    "\n",
    "cleaned_X_train = comb_X.dropna()\n",
    "print(len(cleaned_X_train))\n",
    "X_train = calculate_vif_(cleaned_X_train)"
   ]
  },
  {
   "cell_type": "code",
   "execution_count": null,
   "id": "84d70d79",
   "metadata": {},
   "outputs": [],
   "source": []
  }
 ],
 "metadata": {
  "kernelspec": {
   "display_name": "Python 3",
   "language": "python",
   "name": "python3"
  },
  "language_info": {
   "codemirror_mode": {
    "name": "ipython",
    "version": 3
   },
   "file_extension": ".py",
   "mimetype": "text/x-python",
   "name": "python",
   "nbconvert_exporter": "python",
   "pygments_lexer": "ipython3",
   "version": "3.8.5"
  }
 },
 "nbformat": 4,
 "nbformat_minor": 5
}
