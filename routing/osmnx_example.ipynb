{
 "cells": [
  {
   "cell_type": "code",
   "execution_count": 1,
   "id": "4d7cd83d",
   "metadata": {},
   "outputs": [],
   "source": [
    "import osmnx as ox\n",
    "import networkx as nx\n",
    "import pandas as pd\n",
    "from vincenty import vincenty\n",
    "import numpy as np\n",
    "import lidar_elevation_coordinates_function as lid\n",
    "import seaborn as sns"
   ]
  },
  {
   "cell_type": "code",
   "execution_count": 2,
   "id": "ac66ef2e",
   "metadata": {},
   "outputs": [],
   "source": [
    "ROUTES = {}"
   ]
  },
  {
   "cell_type": "code",
   "execution_count": 3,
   "id": "a02c1e0d",
   "metadata": {},
   "outputs": [],
   "source": [
    "def getBbox(l):\n",
    "    min_lon = min([x[1] for x in l])\n",
    "    max_lon = max([x[1] for x in l])\n",
    "    min_lat = min([x[0] for x in l])\n",
    "    max_lat = max([x[0] for x in l])\n",
    "    \n",
    "    return max_lat,min_lat,max_lon,min_lon"
   ]
  },
  {
   "cell_type": "code",
   "execution_count": 4,
   "id": "43a6b525",
   "metadata": {},
   "outputs": [],
   "source": [
    "def getRoute(G, s_coord, e_coord, avoid = []):\n",
    "    start_node = ox.get_nearest_node(G, s_coord)\n",
    "    end_node = ox.get_nearest_node(G, e_coord)\n",
    "    \n",
    "    orig_lengths = []\n",
    "    for item in avoid:\n",
    "        print(item)\n",
    "        orig_length = G.edges[(item[0], item[1], 0)]['length']\n",
    "        orig_lengths.append(orig_length)\n",
    "        G.edges[(item[0], item[1], 0)]['length'] = 50000\n",
    "        \n",
    "    route = nx.shortest_path(G, start_node, end_node, weight='length')\n",
    "    length = nx.shortest_path_length(G, start_node, end_node, weight='length')\n",
    "    \n",
    "    for item in avoid:\n",
    "        orig_length = orig_lengths.pop()\n",
    "        print(item, orig_length)\n",
    "        G.edges[(item[0], item[1], 0)]['length'] = orig_length\n",
    "    \n",
    "    return route, length"
   ]
  },
  {
   "cell_type": "code",
   "execution_count": 5,
   "id": "569a3fef",
   "metadata": {},
   "outputs": [],
   "source": [
    "def getAllLocations(G,route):\n",
    "    loc = []\n",
    "    for node in route:\n",
    "        loc.append((G.nodes[node]['y'],G.nodes[node]['x']))\n",
    "    return loc"
   ]
  },
  {
   "cell_type": "code",
   "execution_count": 6,
   "id": "d955ca76",
   "metadata": {},
   "outputs": [],
   "source": [
    "def getRouteAndAddToCollection(G, coord1, coord2, name, df, avoid = []):\n",
    "    r, length = getRoute(G, coord1, coord2, avoid = avoid)\n",
    "    l = getAllLocations(G, r)\n",
    "    \n",
    "    max_lat,min_lat,max_lon,min_lon = getBbox(l)\n",
    "    \n",
    "    p_50,p_100,p_250 = getNumAccPoi(df,l,min_lat,min_lon,max_lat,max_lon)\n",
    "    \n",
    "    e_down, e_up, distances, elevation, distrib = computeTotalElevation(l)\n",
    "\n",
    "    ROUTES[name] = {'length':length,'locations':l,'route':r,'p50':p_50,'p100':p_100,'p250':p_250,'downhill':e_down,'uphill':e_up,'distances':distances, 'slope_distribution':distrib, 'elevation':elevation}"
   ]
  },
  {
   "cell_type": "code",
   "execution_count": 7,
   "id": "4f299f23",
   "metadata": {},
   "outputs": [],
   "source": [
    "def computeTotalElevation(l):\n",
    "    elev_down = 0\n",
    "    elev_up = 0\n",
    "    old_elev = -1\n",
    "    distrib = []\n",
    "    old_coord = -1\n",
    "    \n",
    "    distances = []\n",
    "    \n",
    "    elevation = []\n",
    "    for item in l:\n",
    "        _ = lid.get_elevation(item, '/shared/lidar/study_area.tif')\n",
    "        diff = 0\n",
    "        if _ is not None:\n",
    "            if old_elev != -1:\n",
    "                diff = (_[0]['elevation'] - old_elev)\n",
    "                if diff < 0:\n",
    "                    elev_down += diff\n",
    "                else:\n",
    "                    elev_up += diff\n",
    "            old_elev = _[0]['elevation']\n",
    "            \n",
    "            if old_coord != -1:\n",
    "                dist = vincenty(old_coord,item) * 1000\n",
    "                distrib.append(diff/dist)\n",
    "                distances.append(dist)\n",
    "                elevation.append(_[0]['elevation'])\n",
    "\n",
    "            \n",
    "            old_coord = item\n",
    "        \n",
    "\n",
    "    return elev_down,elev_up,distances,elevation,distrib"
   ]
  },
  {
   "cell_type": "code",
   "execution_count": 8,
   "id": "e707afa8",
   "metadata": {},
   "outputs": [],
   "source": [
    "def getNumAccPoi(df,l,lat_min,lon_min,lat_max,lon_max):\n",
    "    _ = df[(df['lon']>lon_min-0.1)&(df['lon']<lon_max+0.1)&(df['lat']>lat_min-0.1)&(df['lat']<lat_max+0.1)]\n",
    "    num_acc_pois_50  = 0\n",
    "    num_acc_pois_100 = 0\n",
    "    num_acc_pois_250 = 0\n",
    "    for _row,_col in _.iterrows():\n",
    "        _col['p50'] = False\n",
    "        _col['p100'] = False\n",
    "        _col['p250'] = False\n",
    "        for _l in l:\n",
    "            # Compute distance\n",
    "            d = vincenty((_l[0],_l[1]),(_col['lat'],_col['lon'])) * 1000.0\n",
    "            if d <= 50 and not _col['p50']:\n",
    "                _col['p50'] = True\n",
    "                num_acc_pois_50 += 1\n",
    "            if d <= 100 and not _col['p100']:\n",
    "                _col['p100'] = True\n",
    "                num_acc_pois_100 += 1\n",
    "            if d <= 250 and not _col['p250']:\n",
    "                _col['p250'] = True\n",
    "                num_acc_pois_250 += 1\n",
    "    return num_acc_pois_50,num_acc_pois_100,num_acc_pois_250"
   ]
  },
  {
   "cell_type": "code",
   "execution_count": 9,
   "id": "2d9bd5d2",
   "metadata": {},
   "outputs": [],
   "source": [
    "G_walk = ox.graph_from_address(address=\"London\", dist=5000, network_type=\"walk\")\n",
    "G_drive = ox.graph_from_address(address=\"London\", dist=5000, network_type=\"drive\")"
   ]
  },
  {
   "cell_type": "code",
   "execution_count": 10,
   "id": "40a13992",
   "metadata": {},
   "outputs": [],
   "source": [
    "#G = ox.graph.graph_from_bbox(51.58, 51.45, 0.08, -0.3, network_type='walk', simplify=True, retain_all=False, truncate_by_edge=False, clean_periphery=True, custom_filter=None)\n",
    "\n",
    "#ox.plot_graph(G)"
   ]
  },
  {
   "cell_type": "code",
   "execution_count": null,
   "id": "ce82dcdc",
   "metadata": {},
   "outputs": [],
   "source": []
  },
  {
   "cell_type": "code",
   "execution_count": null,
   "id": "a5ff1a7d",
   "metadata": {},
   "outputs": [],
   "source": [
    "df = pd.read_pickle('/shared/combined_accessible_pois.pkl')\n",
    "\n",
    "# Define routes here\n",
    "coord1 = (51.50815,-0.076303) # Tower of London\n",
    "coord2 = (51.50457,-0.108711) # London Waterloo East Tube Station\n",
    "coord3 = (51.50106,-0.124613) # Big Ben\n",
    "coord4 = (51.48402,-0.606044) # Windsor castle\n",
    "\n",
    "coord_tmp = (51.519599051500094, -0.15820421319589217)\n",
    "coord_tmp_end = (51.49887208008789, -0.1048175303045337)\n",
    "\n",
    "getRouteAndAddToCollection(G_drive,coord1,coord2,'short1-drive',df)\n",
    "getRouteAndAddToCollection(G_drive,coord1,coord3,'short2-drive',df)\n",
    "getRouteAndAddToCollection(G_drive,coord2,coord3,'short3-drive',df)\n",
    "\n",
    "getRouteAndAddToCollection(G_walk,coord1,coord2,'short1',df)\n",
    "getRouteAndAddToCollection(G_walk,coord1,coord3,'short2',df)\n",
    "getRouteAndAddToCollection(G_walk,coord2,coord3,'short3',df)\n",
    "\n",
    "getRouteAndAddToCollection(G_walk,coord1,coord2,'short1-avoid',df,avoid = [(ROUTES['short1']['route'][4],ROUTES['short1']['route'][5]),(ROUTES['short1']['route'][7],ROUTES['short1']['route'][8]),(ROUTES['short1']['route'][18],ROUTES['short1']['route'][19])])\n",
    "\n",
    "getRouteAndAddToCollection(G_walk,coord_tmp,coord_tmp_end,'longer-route',df)"
   ]
  },
  {
   "cell_type": "code",
   "execution_count": null,
   "id": "26ec6387",
   "metadata": {},
   "outputs": [],
   "source": [
    "dd = np.cumsum(ROUTES['longer-route']['distances'])\n",
    "sns.lineplot(dd,ROUTES['longer-route']['elevation'])"
   ]
  },
  {
   "cell_type": "code",
   "execution_count": null,
   "id": "d68cd526",
   "metadata": {},
   "outputs": [],
   "source": [
    "sns.lineplot(dd,ROUTES['longer-route']['slope_distribution'])\n"
   ]
  },
  {
   "cell_type": "code",
   "execution_count": null,
   "id": "a965ae8a",
   "metadata": {},
   "outputs": [],
   "source": [
    "routes = [ROUTES['short1-drive']['route'], ROUTES['short2-drive']['route'], ROUTES['short3-drive']['route']]\n",
    "rc = ['r', 'y', 'c']\n",
    "fig, ax = ox.plot_graph_routes(G_drive, routes, route_colors=rc, route_linewidth=8, node_size=4)\n",
    "\n",
    "\n",
    "routes = [ROUTES['longer-route']['route'], ROUTES['short1']['route'], ROUTES['short3']['route']]\n",
    "fig, ax = ox.plot_graph_routes(G_walk, routes, route_colors=rc, route_linewidth=8, node_size=4)"
   ]
  },
  {
   "cell_type": "code",
   "execution_count": null,
   "id": "bda33fd8",
   "metadata": {
    "scrolled": true
   },
   "outputs": [],
   "source": [
    "bbox = getBbox(ROUTES['longer-route']['locations'])\n",
    "fig, ax = ox.plot_graph_route(G_walk, ROUTES['longer-route']['route'], route_linewidth=8, node_size=4, bbox=bbox)"
   ]
  },
  {
   "cell_type": "code",
   "execution_count": null,
   "id": "8cde45dc",
   "metadata": {},
   "outputs": [],
   "source": [
    "l = getAllLocations(G_walk,ROUTES['longer-route']['route'])\n",
    "with open('/shared/tmp_coord_longer.csv','w') as f:\n",
    "    for i in l:\n",
    "        f.write(str(i) + ';')"
   ]
  }
 ],
 "metadata": {
  "kernelspec": {
   "display_name": "Python 3",
   "language": "python",
   "name": "python3"
  },
  "language_info": {
   "codemirror_mode": {
    "name": "ipython",
    "version": 3
   },
   "file_extension": ".py",
   "mimetype": "text/x-python",
   "name": "python",
   "nbconvert_exporter": "python",
   "pygments_lexer": "ipython3",
   "version": "3.8.5"
  }
 },
 "nbformat": 4,
 "nbformat_minor": 5
}
