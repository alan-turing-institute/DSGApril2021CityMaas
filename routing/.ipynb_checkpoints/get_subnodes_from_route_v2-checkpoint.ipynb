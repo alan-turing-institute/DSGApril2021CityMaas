{
 "cells": [
  {
   "cell_type": "markdown",
   "id": "0772cf5b",
   "metadata": {},
   "source": [
    "## Generating metre spaced subnodes for a route\n",
    "\n",
    "In this notebook we define a function which generates a list of metre spaced points given a list of nodes along with their osmid's for a given route. Given these metre spaced points we can use LIDAR data to detect any short steep ascents for a given route, which may be staircases or ramps which are too steep for a wheelchair user."
   ]
  },
  {
   "cell_type": "code",
   "execution_count": 1,
   "id": "fce1b62c",
   "metadata": {},
   "outputs": [],
   "source": [
    "import osmnx as ox\n",
    "import networkx as nx\n",
    "import pandas as pd\n",
    "from vincenty import vincenty\n",
    "import numpy as np"
   ]
  },
  {
   "cell_type": "code",
   "execution_count": 2,
   "id": "88065958",
   "metadata": {},
   "outputs": [],
   "source": [
    "def getSubnodes(route_map,route):\n",
    "    \"\"\"\n",
    "    Get roughly metre-spaced subnodes along a route\n",
    "    \n",
    "    Parameters:\n",
    "        route_map (graph): graph of walking map.\n",
    "        \n",
    "        route (list): list of nodes.\n",
    "\n",
    "    Returns:\n",
    "        subnodes (list): list of dictionaries detailing lat,lon and osmid of the containing edge for each subnode\n",
    "    \"\"\"\n",
    "    \n",
    "    subnodes = []\n",
    "    \n",
    "    for i in range(len(route)-1):\n",
    "        \n",
    "        # break up each edge into straigt line segments\n",
    "        if \"geometry\" in route_map.edges[(route[i],route[i+1],0)]:\n",
    "            _edge = route_map.edges[(route[i],route[i+1],0)]\n",
    "            _edge_geometry = _edge[\"geometry\"]\n",
    "            _joints = [(coord[1],coord[0]) for coord in list(_edge_geometry.coords)]\n",
    "\n",
    "        \n",
    "            #_joints = [{\"lat\":coord[1],\"lon\":coord[0],\"edge_osmid\":_edge[\"osmid\"]} for coord in list(_edge_geometry.coords)]\n",
    "        else:\n",
    "            _edge = route_map.edges[(route[i],route[i+1],0)]\n",
    "            _joints = [(route_map.nodes[route[i]]['y'],route_map.nodes[route[i]]['x']), (route_map.nodes[route[i+1]]['y'],route_map.nodes[route[i+1]]['x'])]\n",
    "        \n",
    "        if len(_joints) < 2:\n",
    "            raise TypeError(\"No joints found!\")\n",
    "        \n",
    "        for j in range(len(_joints)-1):\n",
    "            \n",
    "            # for each straight line segment generate metre-spaced subnodes\n",
    "            _dist = 1000*vincenty(_joints[j],_joints[j+1])\n",
    "            _n = int(_dist)\n",
    "            if _n > 1:\n",
    "                _edge_subnodes = [{\"lat\":subnode[0],\"lon\":subnode[1],\"node_osmids\":(route[i],route[i+1])} for subnode in np.linspace(_joints[j],_joints[j+1],_n+1)]\n",
    "            else:\n",
    "                _edge_subnodes = [{\"lat\":subnode[0],\"lon\":subnode[1],\"node_osmids\":(route[i],route[i+1])} for subnode in [_joints[j],_joints[j+1]]]\n",
    "                \n",
    "            # avoid adding duplicate subnodes at the endpoints\n",
    "            subnodes += list(_edge_subnodes[:-1])\n",
    "            \n",
    "    # add the final node separately       \n",
    "    subnodes.append({\"lat\":route_map.nodes[route[-1]]['y'],\"lon\":route_map.nodes[route[-1]]['x'],\"node_osmids\":(route[i],route[i+1])})\n",
    "                \n",
    "                \n",
    "    return subnodes"
   ]
  },
  {
   "cell_type": "code",
   "execution_count": null,
   "id": "e638df9d",
   "metadata": {},
   "outputs": [],
   "source": []
  }
 ],
 "metadata": {
  "kernelspec": {
   "display_name": "Python 3",
   "language": "python",
   "name": "python3"
  },
  "language_info": {
   "codemirror_mode": {
    "name": "ipython",
    "version": 3
   },
   "file_extension": ".py",
   "mimetype": "text/x-python",
   "name": "python",
   "nbconvert_exporter": "python",
   "pygments_lexer": "ipython3",
   "version": "3.8.5"
  }
 },
 "nbformat": 4,
 "nbformat_minor": 5
}
