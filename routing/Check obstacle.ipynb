{
 "cells": [
  {
   "cell_type": "code",
   "execution_count": 310,
   "id": "482e1ad3",
   "metadata": {},
   "outputs": [],
   "source": [
    "import pandas as pd\n",
    "import numpy as np"
   ]
  },
  {
   "cell_type": "code",
   "execution_count": 340,
   "id": "7664f3d1",
   "metadata": {},
   "outputs": [],
   "source": [
    "def checkobstacle (route_coordinate,barrier_coordinate):\n",
    "\n",
    "    ## route_coordiante are (x,3) array with first column as edge ID and the second and thrid column as coordinate\n",
    "    ## barrier_coordinate are (x,2) array with that contains all the long and lat for all the obstacle on the area\n",
    "\n",
    "    indextoavoid=np.array([])\n",
    "    edgeid=np.array([])\n",
    "    for i in range(len(route_coordinate)-1):\n",
    "        rectangular_x_=np.sort([route_coordinate[i,1],route_coordinate[i+1,1]])\n",
    "        rectangular_y_=np.sort([route_coordinate[i,2],route_coordinate[i+1,2]])\n",
    "        filteredresult=barrier_coordinate[(rectangular_y_[1]>barrier_coordinate[:,1]) & (rectangular_y_[0]<barrier_coordinate[:,1])]\n",
    "        filteredresult=filteredresult[(rectangular_x_[1]>filteredresult[:,0]) & (rectangular_x_[0]<filteredresult[:,0])]\n",
    "        if filteredresult.size !=0:\n",
    "            indextoavoid=np.append(indextoavoid,i)\n",
    "    edgeid=route_coordinate_sample[int(indextoavoid),0]\n",
    "    return (edgeid)"
   ]
  },
  {
   "cell_type": "markdown",
   "id": "9a44e081",
   "metadata": {},
   "source": [
    "# one example "
   ]
  },
  {
   "cell_type": "markdown",
   "id": "f72f7970",
   "metadata": {},
   "source": [
    "## 1. create a route_coordinate sample"
   ]
  },
  {
   "cell_type": "code",
   "execution_count": 343,
   "id": "b49440c4",
   "metadata": {},
   "outputs": [],
   "source": [
    "route_coordinate_2=np.array([[51.5103218,0.1299785],[51.5100845,0.1295267],[51.5100255,0.1295184],[51.5098686,0.1284458],[51.5098175,0.1279834],[51.5094946,0.1274344],[51.5095326,0.1271421],[51.509507,0.1269241],[51.5094675,0.126724],[51.5094712,0.1261673],[51.5094765,0.1258658],[51.5094858,0.1242547],[51.5093344,0.1240796],[51.5093037,0.1240446],[51.5092756,0.1240091],[51.5089387,0.1234463],[51.5087793,0.123169],[51.508833,0.1228341],[51.5085239,0.1224189],[51.5090885,0.1211727],[51.5094279,0.1203908],[51.5095732,0.119888],[51.5096741,0.1195388],[51.5098002,0.1187731],[51.5097164,0.1186628],[51.5097522,0.1185588],[51.5099885,0.1178541],[51.5105905,0.1155412],[51.5106185,0.1153971],[51.5106505,0.1152295],[51.5109021,0.1134628],[51.5110392,0.1120539],[51.5110579,0.1107141],[51.5110348,0.1080639],[51.5110304,0.1077956],[51.5110257,0.1075596],[51.5111259,0.1068563],[51.5111562,0.1054781],[51.5113963,0.1048168],[51.5114541,0.1045418],[51.5116797,0.1043109],[51.5117625,0.1041555],[51.5118167,0.1041272],[51.5119299,0.1038761],[51.5119672,0.1037775],[51.5120599,0.1032633],[51.5121198,0.1028235],[51.5121347,0.1025852],[51.5121363,0.1024297],[51.512139,0.1022231],[51.5121399,0.1020086],[51.5121049,0.1018478],[51.5120847,0.1014013],[51.5120819,0.1013395],[51.5120882,0.1012978],[51.512105,0.1012483],[51.5120936,0.1010562],[51.5120662,0.1005928],[51.5120574,0.1004448],[51.5120154,0.0997345],[51.5119812,0.0991479],[51.5119745,0.0990439],[51.5119629,0.0988478],[51.5119562,0.09876],[51.5119387,0.0984963],[51.5119278,0.0983427],[51.5118975,0.0978062],[51.5118924,0.096604],[51.5119143,0.0962517],[51.5119765,0.0957978],[51.512005,0.0956118],[51.5120569,0.0953415],[51.5120823,0.0952019],[51.5121536,0.0948507],[51.5122482,0.0943955],[51.5122617,0.0943201],[51.512319,0.0941871],[51.5123251,0.0939582],[51.5123771,0.0937372],[51.5124232,0.0935281],[51.512505,0.0933168],[51.5125588,0.0930597],[51.5126391,0.0927196],[51.5126816,0.0924941],[51.5127162,0.0923515],[51.5127164,0.0922115],[51.5129165,0.0913996],[51.5130919,0.0906645],[51.5131131,0.090576],[51.5132157,0.0901886],[51.5132479,0.0899022],[51.5131954,0.0898607]])\n",
    "y=np.linspace(1,len(route_coordinate_2),len(route_coordinate_2)).reshape(-1,1)\n",
    "route_coordinate_sample=np.append(y,route_coordinate_2, axis=1)"
   ]
  },
  {
   "cell_type": "markdown",
   "id": "d791e8df",
   "metadata": {},
   "source": [
    "## 2. import the barrier dataset"
   ]
  },
  {
   "cell_type": "raw",
   "id": "e487768a",
   "metadata": {},
   "source": [
    "barrier_coordinate= pd.read_pickle('/shared/barrier_datapoint.pkl').to_numpy()\n",
    "barrier_coordinate"
   ]
  },
  {
   "cell_type": "markdown",
   "id": "2bb80b9d",
   "metadata": {},
   "source": [
    " manually create one barriar on the edge \n",
    "(no need for real implementation, the trail barrier is created between note 1 and 2)\n"
   ]
  },
  {
   "cell_type": "code",
   "execution_count": 345,
   "id": "1a01c46d",
   "metadata": {},
   "outputs": [],
   "source": [
    "barriar_trailpoint=np.array ([51.5103118,  0.1296385]).reshape(1,2)\n",
    "barrier_coordinate_new=np.append(barrier_coordinate,barriar,axis=0)"
   ]
  },
  {
   "cell_type": "markdown",
   "id": "f72333c5",
   "metadata": {},
   "source": [
    "## 3 test function"
   ]
  },
  {
   "cell_type": "code",
   "execution_count": 347,
   "id": "9c842172",
   "metadata": {},
   "outputs": [
    {
     "data": {
      "text/plain": [
       "1.0"
      ]
     },
     "execution_count": 347,
     "metadata": {},
     "output_type": "execute_result"
    }
   ],
   "source": [
    "edge_to_avoid=checkobstacle(route_coordinate_sample,barrier_coordinate_new)\n",
    "edge_to_avoid"
   ]
  },
  {
   "cell_type": "markdown",
   "id": "2adf47da",
   "metadata": {},
   "source": [
    "edge to avoid identified"
   ]
  }
 ],
 "metadata": {
  "kernelspec": {
   "display_name": "Python 3",
   "language": "python",
   "name": "python3"
  },
  "language_info": {
   "codemirror_mode": {
    "name": "ipython",
    "version": 3
   },
   "file_extension": ".py",
   "mimetype": "text/x-python",
   "name": "python",
   "nbconvert_exporter": "python",
   "pygments_lexer": "ipython3",
   "version": "3.8.5"
  }
 },
 "nbformat": 4,
 "nbformat_minor": 5
}
