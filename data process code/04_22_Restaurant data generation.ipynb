{
 "cells": [
  {
   "cell_type": "code",
   "execution_count": 1,
   "id": "452650ab",
   "metadata": {},
   "outputs": [],
   "source": [
    "import pandas as pd\n",
    "import sklearn as sk\n",
    "import json\n",
    "import ast\n",
    "import pickle\n",
    "import math\n",
    "import matplotlib.pyplot as plt"
   ]
  },
  {
   "cell_type": "code",
   "execution_count": 2,
   "id": "4507ff03",
   "metadata": {},
   "outputs": [],
   "source": [
    "df = pd.read_json('/data/accessible_POIs/great-britain-latest.json')"
   ]
  },
  {
   "cell_type": "code",
   "execution_count": 3,
   "id": "31b53c39",
   "metadata": {},
   "outputs": [
    {
     "data": {
      "text/html": [
       "<div>\n",
       "<style scoped>\n",
       "    .dataframe tbody tr th:only-of-type {\n",
       "        vertical-align: middle;\n",
       "    }\n",
       "\n",
       "    .dataframe tbody tr th {\n",
       "        vertical-align: top;\n",
       "    }\n",
       "\n",
       "    .dataframe thead th {\n",
       "        text-align: right;\n",
       "    }\n",
       "</style>\n",
       "<table border=\"1\" class=\"dataframe\">\n",
       "  <thead>\n",
       "    <tr style=\"text-align: right;\">\n",
       "      <th></th>\n",
       "      <th>Node</th>\n",
       "      <th>Way</th>\n",
       "      <th>Relation</th>\n",
       "    </tr>\n",
       "  </thead>\n",
       "  <tbody>\n",
       "    <tr>\n",
       "      <th>99878</th>\n",
       "      <td>{'id': 99878, 'tags': {'access': 'permissive',...</td>\n",
       "      <td>NaN</td>\n",
       "      <td>NaN</td>\n",
       "    </tr>\n",
       "    <tr>\n",
       "      <th>104734</th>\n",
       "      <td>{'id': 104734, 'tags': {'name': 'Swindon', 'ne...</td>\n",
       "      <td>NaN</td>\n",
       "      <td>NaN</td>\n",
       "    </tr>\n",
       "    <tr>\n",
       "      <th>106213</th>\n",
       "      <td>{'id': 106213, 'tags': {'crossing': 'unmarked'...</td>\n",
       "      <td>NaN</td>\n",
       "      <td>NaN</td>\n",
       "    </tr>\n",
       "    <tr>\n",
       "      <th>108042</th>\n",
       "      <td>{'id': 108042, 'tags': {'addr:housenumber': '3...</td>\n",
       "      <td>NaN</td>\n",
       "      <td>NaN</td>\n",
       "    </tr>\n",
       "    <tr>\n",
       "      <th>251191</th>\n",
       "      <td>{'id': 251191, 'tags': {'name': 'Gibbet Hill',...</td>\n",
       "      <td>NaN</td>\n",
       "      <td>NaN</td>\n",
       "    </tr>\n",
       "    <tr>\n",
       "      <th>...</th>\n",
       "      <td>...</td>\n",
       "      <td>...</td>\n",
       "      <td>...</td>\n",
       "    </tr>\n",
       "    <tr>\n",
       "      <th>8495396114</th>\n",
       "      <td>{'id': 8495396114, 'tags': {'access': 'yes', '...</td>\n",
       "      <td>NaN</td>\n",
       "      <td>NaN</td>\n",
       "    </tr>\n",
       "    <tr>\n",
       "      <th>8495396115</th>\n",
       "      <td>{'id': 8495396115, 'tags': {'access': 'yes', '...</td>\n",
       "      <td>NaN</td>\n",
       "      <td>NaN</td>\n",
       "    </tr>\n",
       "    <tr>\n",
       "      <th>8497470120</th>\n",
       "      <td>{'id': 8497470120, 'tags': {'access': 'private...</td>\n",
       "      <td>NaN</td>\n",
       "      <td>NaN</td>\n",
       "    </tr>\n",
       "    <tr>\n",
       "      <th>8497671325</th>\n",
       "      <td>{'id': 8497671325, 'tags': {'barrier': 'gate',...</td>\n",
       "      <td>NaN</td>\n",
       "      <td>NaN</td>\n",
       "    </tr>\n",
       "    <tr>\n",
       "      <th>8497671329</th>\n",
       "      <td>{'id': 8497671329, 'tags': {'barrier': 'gate',...</td>\n",
       "      <td>NaN</td>\n",
       "      <td>NaN</td>\n",
       "    </tr>\n",
       "  </tbody>\n",
       "</table>\n",
       "<p>29282 rows × 3 columns</p>\n",
       "</div>"
      ],
      "text/plain": [
       "                                                         Node  Way  Relation\n",
       "99878       {'id': 99878, 'tags': {'access': 'permissive',...  NaN       NaN\n",
       "104734      {'id': 104734, 'tags': {'name': 'Swindon', 'ne...  NaN       NaN\n",
       "106213      {'id': 106213, 'tags': {'crossing': 'unmarked'...  NaN       NaN\n",
       "108042      {'id': 108042, 'tags': {'addr:housenumber': '3...  NaN       NaN\n",
       "251191      {'id': 251191, 'tags': {'name': 'Gibbet Hill',...  NaN       NaN\n",
       "...                                                       ...  ...       ...\n",
       "8495396114  {'id': 8495396114, 'tags': {'access': 'yes', '...  NaN       NaN\n",
       "8495396115  {'id': 8495396115, 'tags': {'access': 'yes', '...  NaN       NaN\n",
       "8497470120  {'id': 8497470120, 'tags': {'access': 'private...  NaN       NaN\n",
       "8497671325  {'id': 8497671325, 'tags': {'barrier': 'gate',...  NaN       NaN\n",
       "8497671329  {'id': 8497671329, 'tags': {'barrier': 'gate',...  NaN       NaN\n",
       "\n",
       "[29282 rows x 3 columns]"
      ]
     },
     "execution_count": 3,
     "metadata": {},
     "output_type": "execute_result"
    }
   ],
   "source": [
    "df"
   ]
  },
  {
   "cell_type": "code",
   "execution_count": 4,
   "id": "6dab937b",
   "metadata": {},
   "outputs": [
    {
     "name": "stderr",
     "output_type": "stream",
     "text": [
      "/shared/cm_feat/lib/python3.8/site-packages/pandas/core/frame.py:4308: SettingWithCopyWarning: \n",
      "A value is trying to be set on a copy of a slice from a DataFrame\n",
      "\n",
      "See the caveats in the documentation: https://pandas.pydata.org/pandas-docs/stable/user_guide/indexing.html#returning-a-view-versus-a-copy\n",
      "  return super().drop(\n"
     ]
    },
    {
     "data": {
      "text/html": [
       "<div>\n",
       "<style scoped>\n",
       "    .dataframe tbody tr th:only-of-type {\n",
       "        vertical-align: middle;\n",
       "    }\n",
       "\n",
       "    .dataframe tbody tr th {\n",
       "        vertical-align: top;\n",
       "    }\n",
       "\n",
       "    .dataframe thead th {\n",
       "        text-align: right;\n",
       "    }\n",
       "</style>\n",
       "<table border=\"1\" class=\"dataframe\">\n",
       "  <thead>\n",
       "    <tr style=\"text-align: right;\">\n",
       "      <th></th>\n",
       "      <th>id</th>\n",
       "      <th>wheelchair</th>\n",
       "      <th>cuisine</th>\n",
       "      <th>addr:city</th>\n",
       "      <th>name</th>\n",
       "      <th>lon</th>\n",
       "      <th>lat</th>\n",
       "    </tr>\n",
       "  </thead>\n",
       "  <tbody>\n",
       "    <tr>\n",
       "      <th>4082701</th>\n",
       "      <td>4082701</td>\n",
       "      <td>yes</td>\n",
       "      <td>None</td>\n",
       "      <td>Clapham</td>\n",
       "      <td>Bellini's</td>\n",
       "      <td>-0.492195</td>\n",
       "      <td>52.160205</td>\n",
       "    </tr>\n",
       "    <tr>\n",
       "      <th>6721878</th>\n",
       "      <td>6721878</td>\n",
       "      <td>yes</td>\n",
       "      <td>pizza</td>\n",
       "      <td>Bedford</td>\n",
       "      <td>Pizza Hut</td>\n",
       "      <td>-0.444455</td>\n",
       "      <td>52.133114</td>\n",
       "    </tr>\n",
       "    <tr>\n",
       "      <th>18351898</th>\n",
       "      <td>18351898</td>\n",
       "      <td>yes</td>\n",
       "      <td>indian</td>\n",
       "      <td>Cambridge</td>\n",
       "      <td>Tamarind</td>\n",
       "      <td>0.190265</td>\n",
       "      <td>52.203193</td>\n",
       "    </tr>\n",
       "    <tr>\n",
       "      <th>20940247</th>\n",
       "      <td>20940247</td>\n",
       "      <td>no</td>\n",
       "      <td>asian</td>\n",
       "      <td>Cambridge</td>\n",
       "      <td>Gourmet House</td>\n",
       "      <td>0.113019</td>\n",
       "      <td>52.212130</td>\n",
       "    </tr>\n",
       "    <tr>\n",
       "      <th>22533343</th>\n",
       "      <td>22533343</td>\n",
       "      <td>limited</td>\n",
       "      <td>international</td>\n",
       "      <td>None</td>\n",
       "      <td>Yarrow Bridge</td>\n",
       "      <td>-2.617820</td>\n",
       "      <td>53.639840</td>\n",
       "    </tr>\n",
       "    <tr>\n",
       "      <th>...</th>\n",
       "      <td>...</td>\n",
       "      <td>...</td>\n",
       "      <td>...</td>\n",
       "      <td>...</td>\n",
       "      <td>...</td>\n",
       "      <td>...</td>\n",
       "      <td>...</td>\n",
       "    </tr>\n",
       "    <tr>\n",
       "      <th>8026542696</th>\n",
       "      <td>8026542696</td>\n",
       "      <td>yes</td>\n",
       "      <td>pakistani;curry</td>\n",
       "      <td>London</td>\n",
       "      <td>Lahore Karahi</td>\n",
       "      <td>-0.166189</td>\n",
       "      <td>51.429596</td>\n",
       "    </tr>\n",
       "    <tr>\n",
       "      <th>8156347040</th>\n",
       "      <td>8156347040</td>\n",
       "      <td>yes</td>\n",
       "      <td>thai</td>\n",
       "      <td>None</td>\n",
       "      <td>Made In Thai</td>\n",
       "      <td>-2.131521</td>\n",
       "      <td>52.585324</td>\n",
       "    </tr>\n",
       "    <tr>\n",
       "      <th>8262209917</th>\n",
       "      <td>8262209917</td>\n",
       "      <td>yes</td>\n",
       "      <td>chicken</td>\n",
       "      <td>Glasgow</td>\n",
       "      <td>Chilli Cottage</td>\n",
       "      <td>-4.296294</td>\n",
       "      <td>55.851781</td>\n",
       "    </tr>\n",
       "    <tr>\n",
       "      <th>8262209918</th>\n",
       "      <td>8262209918</td>\n",
       "      <td>yes</td>\n",
       "      <td>lebanese</td>\n",
       "      <td>Glasgow</td>\n",
       "      <td>Beirut Star</td>\n",
       "      <td>-4.298721</td>\n",
       "      <td>55.851492</td>\n",
       "    </tr>\n",
       "    <tr>\n",
       "      <th>8495101135</th>\n",
       "      <td>8495101135</td>\n",
       "      <td>yes</td>\n",
       "      <td>None</td>\n",
       "      <td>Wembley</td>\n",
       "      <td>Food 4 Less</td>\n",
       "      <td>-0.294851</td>\n",
       "      <td>51.572495</td>\n",
       "    </tr>\n",
       "  </tbody>\n",
       "</table>\n",
       "<p>1632 rows × 7 columns</p>\n",
       "</div>"
      ],
      "text/plain": [
       "                    id wheelchair          cuisine  addr:city            name  \\\n",
       "4082701        4082701        yes             None    Clapham       Bellini's   \n",
       "6721878        6721878        yes            pizza    Bedford       Pizza Hut   \n",
       "18351898      18351898        yes           indian  Cambridge        Tamarind   \n",
       "20940247      20940247         no            asian  Cambridge   Gourmet House   \n",
       "22533343      22533343    limited    international       None   Yarrow Bridge   \n",
       "...                ...        ...              ...        ...             ...   \n",
       "8026542696  8026542696        yes  pakistani;curry     London   Lahore Karahi   \n",
       "8156347040  8156347040        yes             thai       None    Made In Thai   \n",
       "8262209917  8262209917        yes          chicken    Glasgow  Chilli Cottage   \n",
       "8262209918  8262209918        yes         lebanese    Glasgow     Beirut Star   \n",
       "8495101135  8495101135        yes             None    Wembley     Food 4 Less   \n",
       "\n",
       "                 lon        lat  \n",
       "4082701    -0.492195  52.160205  \n",
       "6721878    -0.444455  52.133114  \n",
       "18351898    0.190265  52.203193  \n",
       "20940247    0.113019  52.212130  \n",
       "22533343   -2.617820  53.639840  \n",
       "...              ...        ...  \n",
       "8026542696 -0.166189  51.429596  \n",
       "8156347040 -2.131521  52.585324  \n",
       "8262209917 -4.296294  55.851781  \n",
       "8262209918 -4.298721  55.851492  \n",
       "8495101135 -0.294851  51.572495  \n",
       "\n",
       "[1632 rows x 7 columns]"
      ]
     },
     "execution_count": 4,
     "metadata": {},
     "output_type": "execute_result"
    }
   ],
   "source": [
    "df.loc[:,'id'] = df['Node'].apply(lambda x: dict(x)['id'])\n",
    "df.loc[:,'wheelchair'] = df['Node'].apply(lambda x: dict(x)['tags'].get('wheelchair'))\n",
    "df.loc[:,'amenity'] = df['Node'].apply(lambda x: dict(x)['tags'].get('amenity'))\n",
    "df.loc[:,'cuisine'] = df['Node'].apply(lambda x: dict(x)['tags'].get('cuisine'))\n",
    "df.loc[:,'addr:city'] = df['Node'].apply(lambda x: dict(x)['tags'].get('addr:city'))\n",
    "df.loc[:,'name'] = df['Node'].apply(lambda x: dict(x)['tags'].get('name'))\n",
    "df.loc[:,'lon'] = df['Node'].apply(lambda x: dict(x)['lonlat'][0])\n",
    "df.loc[:,'lat'] = df['Node'].apply(lambda x: dict(x)['lonlat'][1])\n",
    "df.drop(['Node','Way','Relation'], axis=1, inplace=True)\n",
    "df=df.loc[df['amenity'] == 'restaurant']\n",
    "df.drop(['amenity'], axis=1, inplace=True)\n",
    "df"
   ]
  },
  {
   "cell_type": "markdown",
   "id": "a356049a",
   "metadata": {},
   "source": [
    "# Simplify Cuisine features"
   ]
  },
  {
   "cell_type": "code",
   "execution_count": 5,
   "id": "f850e08c",
   "metadata": {},
   "outputs": [
    {
     "data": {
      "text/plain": [
       "<AxesSubplot:>"
      ]
     },
     "execution_count": 5,
     "metadata": {},
     "output_type": "execute_result"
    },
    {
     "name": "stderr",
     "output_type": "stream",
     "text": [
      "/shared/cm_feat/lib/python3.8/site-packages/matplotlib/backends/backend_agg.py:240: RuntimeWarning: Glyph 3588 missing from current font.\n",
      "  font.set_text(s, 0.0, flags=flags)\n",
      "/shared/cm_feat/lib/python3.8/site-packages/matplotlib/backends/backend_agg.py:240: RuntimeWarning: Glyph 3619 missing from current font.\n",
      "  font.set_text(s, 0.0, flags=flags)\n",
      "/shared/cm_feat/lib/python3.8/site-packages/matplotlib/backends/backend_agg.py:240: RuntimeWarning: Glyph 3633 missing from current font.\n",
      "  font.set_text(s, 0.0, flags=flags)\n",
      "/shared/cm_feat/lib/python3.8/site-packages/matplotlib/backends/backend_agg.py:240: RuntimeWarning: Glyph 3623 missing from current font.\n",
      "  font.set_text(s, 0.0, flags=flags)\n",
      "/shared/cm_feat/lib/python3.8/site-packages/matplotlib/backends/backend_agg.py:240: RuntimeWarning: Glyph 3648 missing from current font.\n",
      "  font.set_text(s, 0.0, flags=flags)\n",
      "/shared/cm_feat/lib/python3.8/site-packages/matplotlib/backends/backend_agg.py:240: RuntimeWarning: Glyph 3594 missing from current font.\n",
      "  font.set_text(s, 0.0, flags=flags)\n",
      "/shared/cm_feat/lib/python3.8/site-packages/matplotlib/backends/backend_agg.py:240: RuntimeWarning: Glyph 3637 missing from current font.\n",
      "  font.set_text(s, 0.0, flags=flags)\n",
      "/shared/cm_feat/lib/python3.8/site-packages/matplotlib/backends/backend_agg.py:240: RuntimeWarning: Glyph 3618 missing from current font.\n",
      "  font.set_text(s, 0.0, flags=flags)\n",
      "/shared/cm_feat/lib/python3.8/site-packages/matplotlib/backends/backend_agg.py:240: RuntimeWarning: Glyph 3591 missing from current font.\n",
      "  font.set_text(s, 0.0, flags=flags)\n",
      "/shared/cm_feat/lib/python3.8/site-packages/matplotlib/backends/backend_agg.py:240: RuntimeWarning: Glyph 3651 missing from current font.\n",
      "  font.set_text(s, 0.0, flags=flags)\n",
      "/shared/cm_feat/lib/python3.8/site-packages/matplotlib/backends/backend_agg.py:240: RuntimeWarning: Glyph 3627 missing from current font.\n",
      "  font.set_text(s, 0.0, flags=flags)\n",
      "/shared/cm_feat/lib/python3.8/site-packages/matplotlib/backends/backend_agg.py:240: RuntimeWarning: Glyph 3617 missing from current font.\n",
      "  font.set_text(s, 0.0, flags=flags)\n",
      "/shared/cm_feat/lib/python3.8/site-packages/matplotlib/backends/backend_agg.py:240: RuntimeWarning: Glyph 3656 missing from current font.\n",
      "  font.set_text(s, 0.0, flags=flags)\n",
      "/shared/cm_feat/lib/python3.8/site-packages/matplotlib/backends/backend_agg.py:203: RuntimeWarning: Glyph 3588 missing from current font.\n",
      "  font.set_text(s, 0, flags=flags)\n",
      "/shared/cm_feat/lib/python3.8/site-packages/matplotlib/backends/backend_agg.py:203: RuntimeWarning: Glyph 3619 missing from current font.\n",
      "  font.set_text(s, 0, flags=flags)\n",
      "/shared/cm_feat/lib/python3.8/site-packages/matplotlib/backends/backend_agg.py:203: RuntimeWarning: Glyph 3633 missing from current font.\n",
      "  font.set_text(s, 0, flags=flags)\n",
      "/shared/cm_feat/lib/python3.8/site-packages/matplotlib/backends/backend_agg.py:203: RuntimeWarning: Glyph 3623 missing from current font.\n",
      "  font.set_text(s, 0, flags=flags)\n",
      "/shared/cm_feat/lib/python3.8/site-packages/matplotlib/backends/backend_agg.py:203: RuntimeWarning: Glyph 3648 missing from current font.\n",
      "  font.set_text(s, 0, flags=flags)\n",
      "/shared/cm_feat/lib/python3.8/site-packages/matplotlib/backends/backend_agg.py:203: RuntimeWarning: Glyph 3594 missing from current font.\n",
      "  font.set_text(s, 0, flags=flags)\n",
      "/shared/cm_feat/lib/python3.8/site-packages/matplotlib/backends/backend_agg.py:203: RuntimeWarning: Glyph 3637 missing from current font.\n",
      "  font.set_text(s, 0, flags=flags)\n",
      "/shared/cm_feat/lib/python3.8/site-packages/matplotlib/backends/backend_agg.py:203: RuntimeWarning: Glyph 3618 missing from current font.\n",
      "  font.set_text(s, 0, flags=flags)\n",
      "/shared/cm_feat/lib/python3.8/site-packages/matplotlib/backends/backend_agg.py:203: RuntimeWarning: Glyph 3591 missing from current font.\n",
      "  font.set_text(s, 0, flags=flags)\n",
      "/shared/cm_feat/lib/python3.8/site-packages/matplotlib/backends/backend_agg.py:203: RuntimeWarning: Glyph 3651 missing from current font.\n",
      "  font.set_text(s, 0, flags=flags)\n",
      "/shared/cm_feat/lib/python3.8/site-packages/matplotlib/backends/backend_agg.py:203: RuntimeWarning: Glyph 3627 missing from current font.\n",
      "  font.set_text(s, 0, flags=flags)\n",
      "/shared/cm_feat/lib/python3.8/site-packages/matplotlib/backends/backend_agg.py:203: RuntimeWarning: Glyph 3617 missing from current font.\n",
      "  font.set_text(s, 0, flags=flags)\n",
      "/shared/cm_feat/lib/python3.8/site-packages/matplotlib/backends/backend_agg.py:203: RuntimeWarning: Glyph 3656 missing from current font.\n",
      "  font.set_text(s, 0, flags=flags)\n"
     ]
    },
    {
     "data": {
      "image/png": "[encoded data removed]",
      "text/plain": [
       "<Figure size 576x432 with 1 Axes>"
      ]
     },
     "metadata": {
      "needs_background": "light"
     },
     "output_type": "display_data"
    }
   ],
   "source": [
    "fig,ax = plt.subplots(figsize=(8,6))\n",
    "df['name'].value_counts(normalize=True).plot(kind='bar')"
   ]
  },
  {
   "cell_type": "code",
   "execution_count": 6,
   "id": "e7c3dcce",
   "metadata": {
    "scrolled": true
   },
   "outputs": [
    {
     "name": "stderr",
     "output_type": "stream",
     "text": [
      "<ipython-input-6-14ee4c95a50f>:1: SettingWithCopyWarning: \n",
      "A value is trying to be set on a copy of a slice from a DataFrame.\n",
      "Try using .loc[row_indexer,col_indexer] = value instead\n",
      "\n",
      "See the caveats in the documentation: https://pandas.pydata.org/pandas-docs/stable/user_guide/indexing.html#returning-a-view-versus-a-copy\n",
      "  df['cuisine_cat'] = df['cuisine'].replace(['Thai and Malaysian','sushi','Asian Fusion','chinese','thai','asian','japanese','indian','vietnamese','oriental','pakistani;curry','thai','and','Malaysian','japanese;teppanyaki;steak','asian;thai;malaysian','indian;thai','chinese;japanese','indian;south_indian','Asian','Fusion','cantonese','dimsum','curry;indian','nepalese;indian','nepalese','nepali','korean','noodle','thailandese','malaysian','bangladeshi','south_indian','curry'], 'asian')\n",
      "<ipython-input-6-14ee4c95a50f>:2: SettingWithCopyWarning: \n",
      "A value is trying to be set on a copy of a slice from a DataFrame.\n",
      "Try using .loc[row_indexer,col_indexer] = value instead\n",
      "\n",
      "See the caveats in the documentation: https://pandas.pydata.org/pandas-docs/stable/user_guide/indexing.html#returning-a-view-versus-a-copy\n",
      "  df['cuisine_cat'] = df['cuisine_cat'].replace(['italian','pizza','italian;pizza','italian;asian','italian;ice_cream;italian_pizza'], 'italian_general')\n",
      "<ipython-input-6-14ee4c95a50f>:3: SettingWithCopyWarning: \n",
      "A value is trying to be set on a copy of a slice from a DataFrame.\n",
      "Try using .loc[row_indexer,col_indexer] = value instead\n",
      "\n",
      "See the caveats in the documentation: https://pandas.pydata.org/pandas-docs/stable/user_guide/indexing.html#returning-a-view-versus-a-copy\n",
      "  df['cuisine_cat'] = df['cuisine_cat'].replace(['belgian','brazilian','steak','seafood;steak_house','steak_house;burger;sandwich;chicken;seafood','persian','latin_american','scottish;european','caribbean','portuguese','argentinian','american','fish;fish_and_chips','french','modern_british','spanish','german','european','english','finedining','international;european;british;modern','fish_and_chips','british','steak_house','international','tapas','peruvian','swedish'], 'European_American_Food')\n",
      "<ipython-input-6-14ee4c95a50f>:4: SettingWithCopyWarning: \n",
      "A value is trying to be set on a copy of a slice from a DataFrame.\n",
      "Try using .loc[row_indexer,col_indexer] = value instead\n",
      "\n",
      "See the caveats in the documentation: https://pandas.pydata.org/pandas-docs/stable/user_guide/indexing.html#returning-a-view-versus-a-copy\n",
      "  df['cuisine_cat'] = df['cuisine_cat'].replace(['chicken;portuguese','burger','chicken','grill;pasta;pizza','barbecue','bar&grill','burger;sandwich;indian;asian;chicken;ice_cream','burger,_steak,_ribs','burger;sandwich','burger;lobster','meat;wine','burger;chicken;kebab;pizza','burger;chicken;international;seafood;fish_and_chips','fish;seafood','pizza;barbecue','breakfast;soup;pizza;pasta','pancake','bakery','regional;burger'], 'Burger_Chicken_Grill')\n",
      "<ipython-input-6-14ee4c95a50f>:5: SettingWithCopyWarning: \n",
      "A value is trying to be set on a copy of a slice from a DataFrame.\n",
      "Try using .loc[row_indexer,col_indexer] = value instead\n",
      "\n",
      "See the caveats in the documentation: https://pandas.pydata.org/pandas-docs/stable/user_guide/indexing.html#returning-a-view-versus-a-copy\n",
      "  df['cuisine_cat'] = df['cuisine_cat'].replace(['moroccan','mexican','mediterranean','greek','turkish','lebanese','tex-mex','kebab','turkish;mediterranean','middle_eastern;international','greek;mediterranean','mediterranean;turkish','turkish_meze','middle_eastern','afghan','arab','sudanese','african'], 'Turkey_and_Mideast')\n",
      "<ipython-input-6-14ee4c95a50f>:6: SettingWithCopyWarning: \n",
      "A value is trying to be set on a copy of a slice from a DataFrame.\n",
      "Try using .loc[row_indexer,col_indexer] = value instead\n",
      "\n",
      "See the caveats in the documentation: https://pandas.pydata.org/pandas-docs/stable/user_guide/indexing.html#returning-a-view-versus-a-copy\n",
      "  df['cuisine_cat'] = df['cuisine_cat'].replace(['coffee_shop','breakfast','seafood;ice_cream','ice_cream','international;ice_cream','coffee_shop;thai','coffee_shop;international','dessert;ice_cream'], 'Coffee_and_desert')\n",
      "<ipython-input-6-14ee4c95a50f>:7: SettingWithCopyWarning: \n",
      "A value is trying to be set on a copy of a slice from a DataFrame.\n",
      "Try using .loc[row_indexer,col_indexer] = value instead\n",
      "\n",
      "See the caveats in the documentation: https://pandas.pydata.org/pandas-docs/stable/user_guide/indexing.html#returning-a-view-versus-a-copy\n",
      "  df['cuisine_cat'] = df['cuisine_cat'].replace(['regional,_fine_dining','fine dining','seafood','Coffee_and_desert','fish','regional,fine_dining','sandwich','varied','organic','Student','macaroons','pub','Tapas_and_Cocktails','soup'], 'others')\n"
     ]
    }
   ],
   "source": [
    "df['cuisine_cat'] = df['cuisine'].replace(['Thai and Malaysian','sushi','Asian Fusion','chinese','thai','asian','japanese','indian','vietnamese','oriental','pakistani;curry','thai','and','Malaysian','japanese;teppanyaki;steak','asian;thai;malaysian','indian;thai','chinese;japanese','indian;south_indian','Asian','Fusion','cantonese','dimsum','curry;indian','nepalese;indian','nepalese','nepali','korean','noodle','thailandese','malaysian','bangladeshi','south_indian','curry'], 'asian')\n",
    "df['cuisine_cat'] = df['cuisine_cat'].replace(['italian','pizza','italian;pizza','italian;asian','italian;ice_cream;italian_pizza'], 'italian_general')\n",
    "df['cuisine_cat'] = df['cuisine_cat'].replace(['belgian','brazilian','steak','seafood;steak_house','steak_house;burger;sandwich;chicken;seafood','persian','latin_american','scottish;european','caribbean','portuguese','argentinian','american','fish;fish_and_chips','french','modern_british','spanish','german','european','english','finedining','international;european;british;modern','fish_and_chips','british','steak_house','international','tapas','peruvian','swedish'], 'European_American_Food')\n",
    "df['cuisine_cat'] = df['cuisine_cat'].replace(['chicken;portuguese','burger','chicken','grill;pasta;pizza','barbecue','bar&grill','burger;sandwich;indian;asian;chicken;ice_cream','burger,_steak,_ribs','burger;sandwich','burger;lobster','meat;wine','burger;chicken;kebab;pizza','burger;chicken;international;seafood;fish_and_chips','fish;seafood','pizza;barbecue','breakfast;soup;pizza;pasta','pancake','bakery','regional;burger'], 'Burger_Chicken_Grill')\n",
    "df['cuisine_cat'] = df['cuisine_cat'].replace(['moroccan','mexican','mediterranean','greek','turkish','lebanese','tex-mex','kebab','turkish;mediterranean','middle_eastern;international','greek;mediterranean','mediterranean;turkish','turkish_meze','middle_eastern','afghan','arab','sudanese','african'], 'Turkey_and_Mideast')\n",
    "df['cuisine_cat'] = df['cuisine_cat'].replace(['coffee_shop','breakfast','seafood;ice_cream','ice_cream','international;ice_cream','coffee_shop;thai','coffee_shop;international','dessert;ice_cream'], 'Coffee_and_desert')\n",
    "df['cuisine_cat'] = df['cuisine_cat'].replace(['regional,_fine_dining','fine dining','seafood','Coffee_and_desert','fish','regional,fine_dining','sandwich','varied','organic','Student','macaroons','pub','Tapas_and_Cocktails','soup'], 'others')"
   ]
  },
  {
   "cell_type": "code",
   "execution_count": 7,
   "id": "cd538e11",
   "metadata": {},
   "outputs": [
    {
     "data": {
      "text/plain": [
       "<AxesSubplot:>"
      ]
     },
     "execution_count": 7,
     "metadata": {},
     "output_type": "execute_result"
    },
    {
     "data": {
      "image/png": "[encoded data removed]",
      "text/plain": [
       "<Figure size 576x432 with 1 Axes>"
      ]
     },
     "metadata": {
      "needs_background": "light"
     },
     "output_type": "display_data"
    }
   ],
   "source": [
    "fig,ax = plt.subplots(figsize=(8,6))\n",
    "df['cuisine_cat'].value_counts(normalize=True).plot(kind='bar')"
   ]
  },
  {
   "cell_type": "markdown",
   "id": "b0774c43",
   "metadata": {},
   "source": [
    "## Normalized Cuisine features"
   ]
  },
  {
   "cell_type": "code",
   "execution_count": 8,
   "id": "1e3cd199",
   "metadata": {},
   "outputs": [
    {
     "name": "stderr",
     "output_type": "stream",
     "text": [
      "<ipython-input-8-9d04b9855370>:4: SettingWithCopyWarning: \n",
      "A value is trying to be set on a copy of a slice from a DataFrame.\n",
      "Try using .loc[row_indexer,col_indexer] = value instead\n",
      "\n",
      "See the caveats in the documentation: https://pandas.pydata.org/pandas-docs/stable/user_guide/indexing.html#returning-a-view-versus-a-copy\n",
      "  df['normalized_cuisine_cat'] = df['cuisine_cat'].replace(nameofcuisine,numofcuisine/len(df[\"name\"]))\n"
     ]
    }
   ],
   "source": [
    "df[\"cuisine_cat\"].value_counts()\n",
    "nameofcuisine=list(df[\"cuisine_cat\"].value_counts().index)\n",
    "numofcuisine=df[\"cuisine_cat\"].value_counts().to_numpy()\n",
    "df['normalized_cuisine_cat'] = df['cuisine_cat'].replace(nameofcuisine,numofcuisine/len(df[\"name\"]))"
   ]
  },
  {
   "cell_type": "markdown",
   "id": "aa3a0b05",
   "metadata": {},
   "source": [
    "## Normalized name features"
   ]
  },
  {
   "cell_type": "code",
   "execution_count": 9,
   "id": "0d095fc5",
   "metadata": {},
   "outputs": [
    {
     "data": {
      "text/plain": [
       "PizzaExpress                          55\n",
       "Nando's                               47\n",
       "Wagamama                              31\n",
       "Zizzi                                 21\n",
       "Pizza Hut                             19\n",
       "                                      ..\n",
       "Momo north-African & Mediterranean     1\n",
       "Rosa's                                 1\n",
       "Galleries Cafe                         1\n",
       "202                                    1\n",
       "The White House                        1\n",
       "Name: name, Length: 1237, dtype: int64"
      ]
     },
     "execution_count": 9,
     "metadata": {},
     "output_type": "execute_result"
    }
   ],
   "source": [
    "df[\"name\"].value_counts()"
   ]
  },
  {
   "cell_type": "code",
   "execution_count": 10,
   "id": "ac7ed896",
   "metadata": {},
   "outputs": [
    {
     "name": "stderr",
     "output_type": "stream",
     "text": [
      "<ipython-input-10-4639657f8eed>:3: SettingWithCopyWarning: \n",
      "A value is trying to be set on a copy of a slice from a DataFrame.\n",
      "Try using .loc[row_indexer,col_indexer] = value instead\n",
      "\n",
      "See the caveats in the documentation: https://pandas.pydata.org/pandas-docs/stable/user_guide/indexing.html#returning-a-view-versus-a-copy\n",
      "  df['normalized_numofResturant'] = df['name'].replace(nameofResturant,numofResturant/len(df[\"name\"]))\n"
     ]
    }
   ],
   "source": [
    "nameofResturant=list(df[\"name\"].value_counts().index)\n",
    "numofResturant=df[\"name\"].value_counts().to_numpy()\n",
    "df['normalized_numofResturant'] = df['name'].replace(nameofResturant,numofResturant/len(df[\"name\"]))"
   ]
  },
  {
   "cell_type": "markdown",
   "id": "92d17957",
   "metadata": {},
   "source": [
    "## Normalized city features"
   ]
  },
  {
   "cell_type": "code",
   "execution_count": 11,
   "id": "e721ddc1",
   "metadata": {},
   "outputs": [
    {
     "data": {
      "text/plain": [
       "<AxesSubplot:>"
      ]
     },
     "execution_count": 11,
     "metadata": {},
     "output_type": "execute_result"
    },
    {
     "data": {
      "image/png": "[encoded data removed]",
      "text/plain": [
       "<Figure size 576x432 with 1 Axes>"
      ]
     },
     "metadata": {
      "needs_background": "light"
     },
     "output_type": "display_data"
    }
   ],
   "source": [
    "fig,ax = plt.subplots(figsize=(8,6))\n",
    "df['addr:city'].value_counts(normalize=True).plot(kind='bar')"
   ]
  },
  {
   "cell_type": "code",
   "execution_count": 12,
   "id": "d26cbd68",
   "metadata": {},
   "outputs": [
    {
     "data": {
      "text/plain": [
       "London              182\n",
       "Edinburgh           108\n",
       "Manchester           37\n",
       "Southsea             18\n",
       "Reigate              18\n",
       "                   ... \n",
       "Keighley              1\n",
       "East Wall houses      1\n",
       "Burntisland           1\n",
       "plymouth UK           1\n",
       "Leigh-on-Sea          1\n",
       "Name: addr:city, Length: 186, dtype: int64"
      ]
     },
     "execution_count": 12,
     "metadata": {},
     "output_type": "execute_result"
    }
   ],
   "source": [
    "df[\"addr:city\"].value_counts()"
   ]
  },
  {
   "cell_type": "code",
   "execution_count": 13,
   "id": "65893d7a",
   "metadata": {},
   "outputs": [
    {
     "name": "stderr",
     "output_type": "stream",
     "text": [
      "<ipython-input-13-47b3ced2f713>:3: SettingWithCopyWarning: \n",
      "A value is trying to be set on a copy of a slice from a DataFrame.\n",
      "Try using .loc[row_indexer,col_indexer] = value instead\n",
      "\n",
      "See the caveats in the documentation: https://pandas.pydata.org/pandas-docs/stable/user_guide/indexing.html#returning-a-view-versus-a-copy\n",
      "  df['normalized_numofcity'] = df['addr:city'].replace(nameofcity,numofcity/len(df[\"name\"]))\n"
     ]
    }
   ],
   "source": [
    "nameofcity=list(df[\"addr:city\"].value_counts().index)\n",
    "numofcity=df[\"addr:city\"].value_counts().to_numpy()\n",
    "df['normalized_numofcity'] = df['addr:city'].replace(nameofcity,numofcity/len(df[\"name\"]))"
   ]
  },
  {
   "cell_type": "code",
   "execution_count": 15,
   "id": "a6838372",
   "metadata": {},
   "outputs": [
    {
     "ename": "KeyError",
     "evalue": "\"['cuisine'] not found in axis\"",
     "output_type": "error",
     "traceback": [
      "\u001b[0;31m---------------------------------------------------------------------------\u001b[0m",
      "\u001b[0;31mKeyError\u001b[0m                                  Traceback (most recent call last)",
      "\u001b[0;32m<ipython-input-15-cc50ef828c7c>\u001b[0m in \u001b[0;36m<module>\u001b[0;34m\u001b[0m\n\u001b[0;32m----> 1\u001b[0;31m \u001b[0mdf\u001b[0m\u001b[0;34m.\u001b[0m\u001b[0mdrop\u001b[0m\u001b[0;34m(\u001b[0m\u001b[0;34m[\u001b[0m\u001b[0;34m'cuisine'\u001b[0m\u001b[0;34m]\u001b[0m\u001b[0;34m,\u001b[0m \u001b[0maxis\u001b[0m\u001b[0;34m=\u001b[0m\u001b[0;36m1\u001b[0m\u001b[0;34m,\u001b[0m \u001b[0minplace\u001b[0m\u001b[0;34m=\u001b[0m\u001b[0;32mTrue\u001b[0m\u001b[0;34m)\u001b[0m\u001b[0;34m\u001b[0m\u001b[0;34m\u001b[0m\u001b[0m\n\u001b[0m\u001b[1;32m      2\u001b[0m \u001b[0mdf\u001b[0m\u001b[0;34m.\u001b[0m\u001b[0mdrop\u001b[0m\u001b[0;34m(\u001b[0m\u001b[0;34m[\u001b[0m\u001b[0;34m'addr:city'\u001b[0m\u001b[0;34m]\u001b[0m\u001b[0;34m,\u001b[0m \u001b[0maxis\u001b[0m\u001b[0;34m=\u001b[0m\u001b[0;36m1\u001b[0m\u001b[0;34m,\u001b[0m \u001b[0minplace\u001b[0m\u001b[0;34m=\u001b[0m\u001b[0;32mTrue\u001b[0m\u001b[0;34m)\u001b[0m\u001b[0;34m\u001b[0m\u001b[0;34m\u001b[0m\u001b[0m\n\u001b[1;32m      3\u001b[0m \u001b[0mdf\u001b[0m\u001b[0;34m.\u001b[0m\u001b[0mdrop\u001b[0m\u001b[0;34m(\u001b[0m\u001b[0;34m[\u001b[0m\u001b[0;34m'name'\u001b[0m\u001b[0;34m]\u001b[0m\u001b[0;34m,\u001b[0m \u001b[0maxis\u001b[0m\u001b[0;34m=\u001b[0m\u001b[0;36m1\u001b[0m\u001b[0;34m,\u001b[0m \u001b[0minplace\u001b[0m\u001b[0;34m=\u001b[0m\u001b[0;32mTrue\u001b[0m\u001b[0;34m)\u001b[0m\u001b[0;34m\u001b[0m\u001b[0;34m\u001b[0m\u001b[0m\n\u001b[1;32m      4\u001b[0m \u001b[0mdf\u001b[0m\u001b[0;34m.\u001b[0m\u001b[0mdrop\u001b[0m\u001b[0;34m(\u001b[0m\u001b[0;34m[\u001b[0m\u001b[0;34m'id'\u001b[0m\u001b[0;34m]\u001b[0m\u001b[0;34m,\u001b[0m \u001b[0maxis\u001b[0m\u001b[0;34m=\u001b[0m\u001b[0;36m1\u001b[0m\u001b[0;34m,\u001b[0m \u001b[0minplace\u001b[0m\u001b[0;34m=\u001b[0m\u001b[0;32mTrue\u001b[0m\u001b[0;34m)\u001b[0m\u001b[0;34m\u001b[0m\u001b[0;34m\u001b[0m\u001b[0m\n\u001b[1;32m      5\u001b[0m \u001b[0mdf\u001b[0m\u001b[0;34m.\u001b[0m\u001b[0mdrop\u001b[0m\u001b[0;34m(\u001b[0m\u001b[0;34m[\u001b[0m\u001b[0;34m'cuisine_cat'\u001b[0m\u001b[0;34m]\u001b[0m\u001b[0;34m,\u001b[0m \u001b[0maxis\u001b[0m\u001b[0;34m=\u001b[0m\u001b[0;36m1\u001b[0m\u001b[0;34m,\u001b[0m \u001b[0minplace\u001b[0m\u001b[0;34m=\u001b[0m\u001b[0;32mTrue\u001b[0m\u001b[0;34m)\u001b[0m\u001b[0;34m\u001b[0m\u001b[0;34m\u001b[0m\u001b[0m\n",
      "\u001b[0;32m/shared/cm_feat/lib/python3.8/site-packages/pandas/core/frame.py\u001b[0m in \u001b[0;36mdrop\u001b[0;34m(self, labels, axis, index, columns, level, inplace, errors)\u001b[0m\n\u001b[1;32m   4306\u001b[0m                 \u001b[0mweight\u001b[0m  \u001b[0;36m1.0\u001b[0m     \u001b[0;36m0.8\u001b[0m\u001b[0;34m\u001b[0m\u001b[0;34m\u001b[0m\u001b[0m\n\u001b[1;32m   4307\u001b[0m         \"\"\"\n\u001b[0;32m-> 4308\u001b[0;31m         return super().drop(\n\u001b[0m\u001b[1;32m   4309\u001b[0m             \u001b[0mlabels\u001b[0m\u001b[0;34m=\u001b[0m\u001b[0mlabels\u001b[0m\u001b[0;34m,\u001b[0m\u001b[0;34m\u001b[0m\u001b[0;34m\u001b[0m\u001b[0m\n\u001b[1;32m   4310\u001b[0m             \u001b[0maxis\u001b[0m\u001b[0;34m=\u001b[0m\u001b[0maxis\u001b[0m\u001b[0;34m,\u001b[0m\u001b[0;34m\u001b[0m\u001b[0;34m\u001b[0m\u001b[0m\n",
      "\u001b[0;32m/shared/cm_feat/lib/python3.8/site-packages/pandas/core/generic.py\u001b[0m in \u001b[0;36mdrop\u001b[0;34m(self, labels, axis, index, columns, level, inplace, errors)\u001b[0m\n\u001b[1;32m   4151\u001b[0m         \u001b[0;32mfor\u001b[0m \u001b[0maxis\u001b[0m\u001b[0;34m,\u001b[0m \u001b[0mlabels\u001b[0m \u001b[0;32min\u001b[0m \u001b[0maxes\u001b[0m\u001b[0;34m.\u001b[0m\u001b[0mitems\u001b[0m\u001b[0;34m(\u001b[0m\u001b[0;34m)\u001b[0m\u001b[0;34m:\u001b[0m\u001b[0;34m\u001b[0m\u001b[0;34m\u001b[0m\u001b[0m\n\u001b[1;32m   4152\u001b[0m             \u001b[0;32mif\u001b[0m \u001b[0mlabels\u001b[0m \u001b[0;32mis\u001b[0m \u001b[0;32mnot\u001b[0m \u001b[0;32mNone\u001b[0m\u001b[0;34m:\u001b[0m\u001b[0;34m\u001b[0m\u001b[0;34m\u001b[0m\u001b[0m\n\u001b[0;32m-> 4153\u001b[0;31m                 \u001b[0mobj\u001b[0m \u001b[0;34m=\u001b[0m \u001b[0mobj\u001b[0m\u001b[0;34m.\u001b[0m\u001b[0m_drop_axis\u001b[0m\u001b[0;34m(\u001b[0m\u001b[0mlabels\u001b[0m\u001b[0;34m,\u001b[0m \u001b[0maxis\u001b[0m\u001b[0;34m,\u001b[0m \u001b[0mlevel\u001b[0m\u001b[0;34m=\u001b[0m\u001b[0mlevel\u001b[0m\u001b[0;34m,\u001b[0m \u001b[0merrors\u001b[0m\u001b[0;34m=\u001b[0m\u001b[0merrors\u001b[0m\u001b[0;34m)\u001b[0m\u001b[0;34m\u001b[0m\u001b[0;34m\u001b[0m\u001b[0m\n\u001b[0m\u001b[1;32m   4154\u001b[0m \u001b[0;34m\u001b[0m\u001b[0m\n\u001b[1;32m   4155\u001b[0m         \u001b[0;32mif\u001b[0m \u001b[0minplace\u001b[0m\u001b[0;34m:\u001b[0m\u001b[0;34m\u001b[0m\u001b[0;34m\u001b[0m\u001b[0m\n",
      "\u001b[0;32m/shared/cm_feat/lib/python3.8/site-packages/pandas/core/generic.py\u001b[0m in \u001b[0;36m_drop_axis\u001b[0;34m(self, labels, axis, level, errors)\u001b[0m\n\u001b[1;32m   4186\u001b[0m                 \u001b[0mnew_axis\u001b[0m \u001b[0;34m=\u001b[0m \u001b[0maxis\u001b[0m\u001b[0;34m.\u001b[0m\u001b[0mdrop\u001b[0m\u001b[0;34m(\u001b[0m\u001b[0mlabels\u001b[0m\u001b[0;34m,\u001b[0m \u001b[0mlevel\u001b[0m\u001b[0;34m=\u001b[0m\u001b[0mlevel\u001b[0m\u001b[0;34m,\u001b[0m \u001b[0merrors\u001b[0m\u001b[0;34m=\u001b[0m\u001b[0merrors\u001b[0m\u001b[0;34m)\u001b[0m\u001b[0;34m\u001b[0m\u001b[0;34m\u001b[0m\u001b[0m\n\u001b[1;32m   4187\u001b[0m             \u001b[0;32melse\u001b[0m\u001b[0;34m:\u001b[0m\u001b[0;34m\u001b[0m\u001b[0;34m\u001b[0m\u001b[0m\n\u001b[0;32m-> 4188\u001b[0;31m                 \u001b[0mnew_axis\u001b[0m \u001b[0;34m=\u001b[0m \u001b[0maxis\u001b[0m\u001b[0;34m.\u001b[0m\u001b[0mdrop\u001b[0m\u001b[0;34m(\u001b[0m\u001b[0mlabels\u001b[0m\u001b[0;34m,\u001b[0m \u001b[0merrors\u001b[0m\u001b[0;34m=\u001b[0m\u001b[0merrors\u001b[0m\u001b[0;34m)\u001b[0m\u001b[0;34m\u001b[0m\u001b[0;34m\u001b[0m\u001b[0m\n\u001b[0m\u001b[1;32m   4189\u001b[0m             \u001b[0mresult\u001b[0m \u001b[0;34m=\u001b[0m \u001b[0mself\u001b[0m\u001b[0;34m.\u001b[0m\u001b[0mreindex\u001b[0m\u001b[0;34m(\u001b[0m\u001b[0;34m**\u001b[0m\u001b[0;34m{\u001b[0m\u001b[0maxis_name\u001b[0m\u001b[0;34m:\u001b[0m \u001b[0mnew_axis\u001b[0m\u001b[0;34m}\u001b[0m\u001b[0;34m)\u001b[0m\u001b[0;34m\u001b[0m\u001b[0;34m\u001b[0m\u001b[0m\n\u001b[1;32m   4190\u001b[0m \u001b[0;34m\u001b[0m\u001b[0m\n",
      "\u001b[0;32m/shared/cm_feat/lib/python3.8/site-packages/pandas/core/indexes/base.py\u001b[0m in \u001b[0;36mdrop\u001b[0;34m(self, labels, errors)\u001b[0m\n\u001b[1;32m   5589\u001b[0m         \u001b[0;32mif\u001b[0m \u001b[0mmask\u001b[0m\u001b[0;34m.\u001b[0m\u001b[0many\u001b[0m\u001b[0;34m(\u001b[0m\u001b[0;34m)\u001b[0m\u001b[0;34m:\u001b[0m\u001b[0;34m\u001b[0m\u001b[0;34m\u001b[0m\u001b[0m\n\u001b[1;32m   5590\u001b[0m             \u001b[0;32mif\u001b[0m \u001b[0merrors\u001b[0m \u001b[0;34m!=\u001b[0m \u001b[0;34m\"ignore\"\u001b[0m\u001b[0;34m:\u001b[0m\u001b[0;34m\u001b[0m\u001b[0;34m\u001b[0m\u001b[0m\n\u001b[0;32m-> 5591\u001b[0;31m                 \u001b[0;32mraise\u001b[0m \u001b[0mKeyError\u001b[0m\u001b[0;34m(\u001b[0m\u001b[0;34mf\"{labels[mask]} not found in axis\"\u001b[0m\u001b[0;34m)\u001b[0m\u001b[0;34m\u001b[0m\u001b[0;34m\u001b[0m\u001b[0m\n\u001b[0m\u001b[1;32m   5592\u001b[0m             \u001b[0mindexer\u001b[0m \u001b[0;34m=\u001b[0m \u001b[0mindexer\u001b[0m\u001b[0;34m[\u001b[0m\u001b[0;34m~\u001b[0m\u001b[0mmask\u001b[0m\u001b[0;34m]\u001b[0m\u001b[0;34m\u001b[0m\u001b[0;34m\u001b[0m\u001b[0m\n\u001b[1;32m   5593\u001b[0m         \u001b[0;32mreturn\u001b[0m \u001b[0mself\u001b[0m\u001b[0;34m.\u001b[0m\u001b[0mdelete\u001b[0m\u001b[0;34m(\u001b[0m\u001b[0mindexer\u001b[0m\u001b[0;34m)\u001b[0m\u001b[0;34m\u001b[0m\u001b[0;34m\u001b[0m\u001b[0m\n",
      "\u001b[0;31mKeyError\u001b[0m: \"['cuisine'] not found in axis\""
     ]
    }
   ],
   "source": [
    "df.drop(['cuisine'], axis=1, inplace=True)\n",
    "df.drop(['addr:city'], axis=1, inplace=True)\n",
    "df.drop(['name'], axis=1, inplace=True)\n",
    "df.drop(['id'], axis=1, inplace=True)\n",
    "df.drop(['cuisine_cat'], axis=1, inplace=True)"
   ]
  },
  {
   "cell_type": "code",
   "execution_count": 16,
   "id": "d816f574",
   "metadata": {},
   "outputs": [
    {
     "data": {
      "text/html": [
       "<div>\n",
       "<style scoped>\n",
       "    .dataframe tbody tr th:only-of-type {\n",
       "        vertical-align: middle;\n",
       "    }\n",
       "\n",
       "    .dataframe tbody tr th {\n",
       "        vertical-align: top;\n",
       "    }\n",
       "\n",
       "    .dataframe thead th {\n",
       "        text-align: right;\n",
       "    }\n",
       "</style>\n",
       "<table border=\"1\" class=\"dataframe\">\n",
       "  <thead>\n",
       "    <tr style=\"text-align: right;\">\n",
       "      <th></th>\n",
       "      <th>wheelchair</th>\n",
       "      <th>lon</th>\n",
       "      <th>lat</th>\n",
       "      <th>normalized_cuisine_cat</th>\n",
       "      <th>normalized_numofResturant</th>\n",
       "      <th>normalized_numofcity</th>\n",
       "    </tr>\n",
       "  </thead>\n",
       "  <tbody>\n",
       "    <tr>\n",
       "      <th>4082701</th>\n",
       "      <td>yes</td>\n",
       "      <td>-0.492195</td>\n",
       "      <td>52.160205</td>\n",
       "      <td>NaN</td>\n",
       "      <td>0.000613</td>\n",
       "      <td>0.000613</td>\n",
       "    </tr>\n",
       "    <tr>\n",
       "      <th>6721878</th>\n",
       "      <td>yes</td>\n",
       "      <td>-0.444455</td>\n",
       "      <td>52.133114</td>\n",
       "      <td>0.170343</td>\n",
       "      <td>0.011642</td>\n",
       "      <td>0.001225</td>\n",
       "    </tr>\n",
       "    <tr>\n",
       "      <th>18351898</th>\n",
       "      <td>yes</td>\n",
       "      <td>0.190265</td>\n",
       "      <td>52.203193</td>\n",
       "      <td>0.236520</td>\n",
       "      <td>0.000613</td>\n",
       "      <td>0.007966</td>\n",
       "    </tr>\n",
       "    <tr>\n",
       "      <th>20940247</th>\n",
       "      <td>no</td>\n",
       "      <td>0.113019</td>\n",
       "      <td>52.212130</td>\n",
       "      <td>0.236520</td>\n",
       "      <td>0.000613</td>\n",
       "      <td>0.007966</td>\n",
       "    </tr>\n",
       "    <tr>\n",
       "      <th>22533343</th>\n",
       "      <td>limited</td>\n",
       "      <td>-2.617820</td>\n",
       "      <td>53.639840</td>\n",
       "      <td>0.131127</td>\n",
       "      <td>0.000613</td>\n",
       "      <td>NaN</td>\n",
       "    </tr>\n",
       "    <tr>\n",
       "      <th>...</th>\n",
       "      <td>...</td>\n",
       "      <td>...</td>\n",
       "      <td>...</td>\n",
       "      <td>...</td>\n",
       "      <td>...</td>\n",
       "      <td>...</td>\n",
       "    </tr>\n",
       "    <tr>\n",
       "      <th>8026542696</th>\n",
       "      <td>yes</td>\n",
       "      <td>-0.166189</td>\n",
       "      <td>51.429596</td>\n",
       "      <td>0.236520</td>\n",
       "      <td>0.000613</td>\n",
       "      <td>0.111520</td>\n",
       "    </tr>\n",
       "    <tr>\n",
       "      <th>8156347040</th>\n",
       "      <td>yes</td>\n",
       "      <td>-2.131521</td>\n",
       "      <td>52.585324</td>\n",
       "      <td>0.236520</td>\n",
       "      <td>0.000613</td>\n",
       "      <td>NaN</td>\n",
       "    </tr>\n",
       "    <tr>\n",
       "      <th>8262209917</th>\n",
       "      <td>yes</td>\n",
       "      <td>-4.296294</td>\n",
       "      <td>55.851781</td>\n",
       "      <td>0.064951</td>\n",
       "      <td>0.000613</td>\n",
       "      <td>0.004902</td>\n",
       "    </tr>\n",
       "    <tr>\n",
       "      <th>8262209918</th>\n",
       "      <td>yes</td>\n",
       "      <td>-4.298721</td>\n",
       "      <td>55.851492</td>\n",
       "      <td>0.043505</td>\n",
       "      <td>0.000613</td>\n",
       "      <td>0.004902</td>\n",
       "    </tr>\n",
       "    <tr>\n",
       "      <th>8495101135</th>\n",
       "      <td>yes</td>\n",
       "      <td>-0.294851</td>\n",
       "      <td>51.572495</td>\n",
       "      <td>NaN</td>\n",
       "      <td>0.000613</td>\n",
       "      <td>0.000613</td>\n",
       "    </tr>\n",
       "  </tbody>\n",
       "</table>\n",
       "<p>1632 rows × 6 columns</p>\n",
       "</div>"
      ],
      "text/plain": [
       "           wheelchair       lon        lat  normalized_cuisine_cat  \\\n",
       "4082701           yes -0.492195  52.160205                     NaN   \n",
       "6721878           yes -0.444455  52.133114                0.170343   \n",
       "18351898          yes  0.190265  52.203193                0.236520   \n",
       "20940247           no  0.113019  52.212130                0.236520   \n",
       "22533343      limited -2.617820  53.639840                0.131127   \n",
       "...               ...       ...        ...                     ...   \n",
       "8026542696        yes -0.166189  51.429596                0.236520   \n",
       "8156347040        yes -2.131521  52.585324                0.236520   \n",
       "8262209917        yes -4.296294  55.851781                0.064951   \n",
       "8262209918        yes -4.298721  55.851492                0.043505   \n",
       "8495101135        yes -0.294851  51.572495                     NaN   \n",
       "\n",
       "            normalized_numofResturant  normalized_numofcity  \n",
       "4082701                      0.000613              0.000613  \n",
       "6721878                      0.011642              0.001225  \n",
       "18351898                     0.000613              0.007966  \n",
       "20940247                     0.000613              0.007966  \n",
       "22533343                     0.000613                   NaN  \n",
       "...                               ...                   ...  \n",
       "8026542696                   0.000613              0.111520  \n",
       "8156347040                   0.000613                   NaN  \n",
       "8262209917                   0.000613              0.004902  \n",
       "8262209918                   0.000613              0.004902  \n",
       "8495101135                   0.000613              0.000613  \n",
       "\n",
       "[1632 rows x 6 columns]"
      ]
     },
     "execution_count": 16,
     "metadata": {},
     "output_type": "execute_result"
    }
   ],
   "source": [
    "df"
   ]
  },
  {
   "cell_type": "code",
   "execution_count": null,
   "id": "b2066e68",
   "metadata": {},
   "outputs": [],
   "source": [
    "#df.to_pickle('/shared/restaurants_accessible_cleaned.pkl')"
   ]
  },
  {
   "cell_type": "code",
   "execution_count": 17,
   "id": "c76e7678",
   "metadata": {},
   "outputs": [],
   "source": [
    "acc_df = pd.read_pickle('/shared/numberOfNearbyPOIs.pkl')"
   ]
  },
  {
   "cell_type": "code",
   "execution_count": 18,
   "id": "d806925d",
   "metadata": {},
   "outputs": [],
   "source": [
    "allacc_df= pd.read_pickle('/shared/accessible_pois.pkl')"
   ]
  },
  {
   "cell_type": "code",
   "execution_count": 19,
   "id": "ed6f078b",
   "metadata": {},
   "outputs": [
    {
     "name": "stderr",
     "output_type": "stream",
     "text": [
      "/shared/cm_feat/lib/python3.8/site-packages/pandas/core/indexing.py:1597: SettingWithCopyWarning: \n",
      "A value is trying to be set on a copy of a slice from a DataFrame.\n",
      "Try using .loc[row_indexer,col_indexer] = value instead\n",
      "\n",
      "See the caveats in the documentation: https://pandas.pydata.org/pandas-docs/stable/user_guide/indexing.html#returning-a-view-versus-a-copy\n",
      "  self.obj[key] = value\n",
      "/shared/cm_feat/lib/python3.8/site-packages/pandas/core/indexing.py:1676: SettingWithCopyWarning: \n",
      "A value is trying to be set on a copy of a slice from a DataFrame.\n",
      "Try using .loc[row_indexer,col_indexer] = value instead\n",
      "\n",
      "See the caveats in the documentation: https://pandas.pydata.org/pandas-docs/stable/user_guide/indexing.html#returning-a-view-versus-a-copy\n",
      "  self._setitem_single_column(ilocs[0], value, pi)\n"
     ]
    }
   ],
   "source": [
    "allacc_df.loc[:,'numOfaccessiblePoiNearby_100m'] = acc_df['numOfaccessiblePoiNearby_100m']\n",
    "allacc_df.loc[:,'numOfaccessiblePoiNearby_1000m'] = acc_df['numOfaccessiblePoiNearby_1000m']\n",
    "allacc_df_restaurantonly=allacc_df.loc[allacc_df['amenity'] == 'restaurant']\n",
    "df.loc[:,'numOfaccessiblePoiNearby_100m'] = allacc_df_restaurantonly['numOfaccessiblePoiNearby_100m']\n",
    "df.loc[:,'numOfaccessiblePoiNearby_1000m'] = allacc_df_restaurantonly['numOfaccessiblePoiNearby_1000m']"
   ]
  },
  {
   "cell_type": "code",
   "execution_count": 20,
   "id": "da557a53",
   "metadata": {},
   "outputs": [],
   "source": [
    "import numpy as np\n",
    "df = df.replace(np.nan, 0)"
   ]
  },
  {
   "cell_type": "code",
   "execution_count": 21,
   "id": "97adb09c",
   "metadata": {},
   "outputs": [
    {
     "data": {
      "text/html": [
       "<div>\n",
       "<style scoped>\n",
       "    .dataframe tbody tr th:only-of-type {\n",
       "        vertical-align: middle;\n",
       "    }\n",
       "\n",
       "    .dataframe tbody tr th {\n",
       "        vertical-align: top;\n",
       "    }\n",
       "\n",
       "    .dataframe thead th {\n",
       "        text-align: right;\n",
       "    }\n",
       "</style>\n",
       "<table border=\"1\" class=\"dataframe\">\n",
       "  <thead>\n",
       "    <tr style=\"text-align: right;\">\n",
       "      <th></th>\n",
       "      <th>wheelchair</th>\n",
       "      <th>lon</th>\n",
       "      <th>lat</th>\n",
       "      <th>normalized_cuisine_cat</th>\n",
       "      <th>normalized_numofResturant</th>\n",
       "      <th>normalized_numofcity</th>\n",
       "      <th>numOfaccessiblePoiNearby_100m</th>\n",
       "      <th>numOfaccessiblePoiNearby_1000m</th>\n",
       "    </tr>\n",
       "  </thead>\n",
       "  <tbody>\n",
       "    <tr>\n",
       "      <th>4082701</th>\n",
       "      <td>yes</td>\n",
       "      <td>-0.492195</td>\n",
       "      <td>52.160205</td>\n",
       "      <td>0.000000</td>\n",
       "      <td>0.000613</td>\n",
       "      <td>0.000613</td>\n",
       "      <td>1.0</td>\n",
       "      <td>3.0</td>\n",
       "    </tr>\n",
       "    <tr>\n",
       "      <th>6721878</th>\n",
       "      <td>yes</td>\n",
       "      <td>-0.444455</td>\n",
       "      <td>52.133114</td>\n",
       "      <td>0.170343</td>\n",
       "      <td>0.011642</td>\n",
       "      <td>0.001225</td>\n",
       "      <td>1.0</td>\n",
       "      <td>3.0</td>\n",
       "    </tr>\n",
       "    <tr>\n",
       "      <th>18351898</th>\n",
       "      <td>yes</td>\n",
       "      <td>0.190265</td>\n",
       "      <td>52.203193</td>\n",
       "      <td>0.236520</td>\n",
       "      <td>0.000613</td>\n",
       "      <td>0.007966</td>\n",
       "      <td>2.0</td>\n",
       "      <td>2.0</td>\n",
       "    </tr>\n",
       "    <tr>\n",
       "      <th>20940247</th>\n",
       "      <td>no</td>\n",
       "      <td>0.113019</td>\n",
       "      <td>52.212130</td>\n",
       "      <td>0.236520</td>\n",
       "      <td>0.000613</td>\n",
       "      <td>0.007966</td>\n",
       "      <td>1.0</td>\n",
       "      <td>55.0</td>\n",
       "    </tr>\n",
       "    <tr>\n",
       "      <th>22533343</th>\n",
       "      <td>limited</td>\n",
       "      <td>-2.617820</td>\n",
       "      <td>53.639840</td>\n",
       "      <td>0.131127</td>\n",
       "      <td>0.000613</td>\n",
       "      <td>0.000000</td>\n",
       "      <td>0.0</td>\n",
       "      <td>2.0</td>\n",
       "    </tr>\n",
       "    <tr>\n",
       "      <th>...</th>\n",
       "      <td>...</td>\n",
       "      <td>...</td>\n",
       "      <td>...</td>\n",
       "      <td>...</td>\n",
       "      <td>...</td>\n",
       "      <td>...</td>\n",
       "      <td>...</td>\n",
       "      <td>...</td>\n",
       "    </tr>\n",
       "    <tr>\n",
       "      <th>8026542696</th>\n",
       "      <td>yes</td>\n",
       "      <td>-0.166189</td>\n",
       "      <td>51.429596</td>\n",
       "      <td>0.236520</td>\n",
       "      <td>0.000613</td>\n",
       "      <td>0.111520</td>\n",
       "      <td>1.0</td>\n",
       "      <td>6.0</td>\n",
       "    </tr>\n",
       "    <tr>\n",
       "      <th>8156347040</th>\n",
       "      <td>yes</td>\n",
       "      <td>-2.131521</td>\n",
       "      <td>52.585324</td>\n",
       "      <td>0.236520</td>\n",
       "      <td>0.000613</td>\n",
       "      <td>0.000000</td>\n",
       "      <td>1.0</td>\n",
       "      <td>14.0</td>\n",
       "    </tr>\n",
       "    <tr>\n",
       "      <th>8262209917</th>\n",
       "      <td>yes</td>\n",
       "      <td>-4.296294</td>\n",
       "      <td>55.851781</td>\n",
       "      <td>0.064951</td>\n",
       "      <td>0.000613</td>\n",
       "      <td>0.004902</td>\n",
       "      <td>1.0</td>\n",
       "      <td>7.0</td>\n",
       "    </tr>\n",
       "    <tr>\n",
       "      <th>8262209918</th>\n",
       "      <td>yes</td>\n",
       "      <td>-4.298721</td>\n",
       "      <td>55.851492</td>\n",
       "      <td>0.043505</td>\n",
       "      <td>0.000613</td>\n",
       "      <td>0.004902</td>\n",
       "      <td>1.0</td>\n",
       "      <td>2.0</td>\n",
       "    </tr>\n",
       "    <tr>\n",
       "      <th>8495101135</th>\n",
       "      <td>yes</td>\n",
       "      <td>-0.294851</td>\n",
       "      <td>51.572495</td>\n",
       "      <td>0.000000</td>\n",
       "      <td>0.000613</td>\n",
       "      <td>0.000613</td>\n",
       "      <td>17.0</td>\n",
       "      <td>43.0</td>\n",
       "    </tr>\n",
       "  </tbody>\n",
       "</table>\n",
       "<p>1632 rows × 8 columns</p>\n",
       "</div>"
      ],
      "text/plain": [
       "           wheelchair       lon        lat  normalized_cuisine_cat  \\\n",
       "4082701           yes -0.492195  52.160205                0.000000   \n",
       "6721878           yes -0.444455  52.133114                0.170343   \n",
       "18351898          yes  0.190265  52.203193                0.236520   \n",
       "20940247           no  0.113019  52.212130                0.236520   \n",
       "22533343      limited -2.617820  53.639840                0.131127   \n",
       "...               ...       ...        ...                     ...   \n",
       "8026542696        yes -0.166189  51.429596                0.236520   \n",
       "8156347040        yes -2.131521  52.585324                0.236520   \n",
       "8262209917        yes -4.296294  55.851781                0.064951   \n",
       "8262209918        yes -4.298721  55.851492                0.043505   \n",
       "8495101135        yes -0.294851  51.572495                0.000000   \n",
       "\n",
       "            normalized_numofResturant  normalized_numofcity  \\\n",
       "4082701                      0.000613              0.000613   \n",
       "6721878                      0.011642              0.001225   \n",
       "18351898                     0.000613              0.007966   \n",
       "20940247                     0.000613              0.007966   \n",
       "22533343                     0.000613              0.000000   \n",
       "...                               ...                   ...   \n",
       "8026542696                   0.000613              0.111520   \n",
       "8156347040                   0.000613              0.000000   \n",
       "8262209917                   0.000613              0.004902   \n",
       "8262209918                   0.000613              0.004902   \n",
       "8495101135                   0.000613              0.000613   \n",
       "\n",
       "            numOfaccessiblePoiNearby_100m  numOfaccessiblePoiNearby_1000m  \n",
       "4082701                               1.0                             3.0  \n",
       "6721878                               1.0                             3.0  \n",
       "18351898                              2.0                             2.0  \n",
       "20940247                              1.0                            55.0  \n",
       "22533343                              0.0                             2.0  \n",
       "...                                   ...                             ...  \n",
       "8026542696                            1.0                             6.0  \n",
       "8156347040                            1.0                            14.0  \n",
       "8262209917                            1.0                             7.0  \n",
       "8262209918                            1.0                             2.0  \n",
       "8495101135                           17.0                            43.0  \n",
       "\n",
       "[1632 rows x 8 columns]"
      ]
     },
     "execution_count": 21,
     "metadata": {},
     "output_type": "execute_result"
    }
   ],
   "source": [
    "df"
   ]
  },
  {
   "cell_type": "code",
   "execution_count": null,
   "id": "9e073e09",
   "metadata": {},
   "outputs": [],
   "source": [
    "#df.to_pickle('/shared/restaurants_accessible_cleaned_updated.pkl')"
   ]
  }
 ],
 "metadata": {
  "kernelspec": {
   "display_name": "Python 3",
   "language": "python",
   "name": "python3"
  },
  "language_info": {
   "codemirror_mode": {
    "name": "ipython",
    "version": 3
   },
   "file_extension": ".py",
   "mimetype": "text/x-python",
   "name": "python",
   "nbconvert_exporter": "python",
   "pygments_lexer": "ipython3",
   "version": "3.8.5"
  }
 },
 "nbformat": 4,
 "nbformat_minor": 5
}
