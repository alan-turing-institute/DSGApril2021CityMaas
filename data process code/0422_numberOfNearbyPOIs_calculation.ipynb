{
 "cells": [
  {
   "cell_type": "code",
   "execution_count": 1,
   "id": "59433981",
   "metadata": {},
   "outputs": [],
   "source": [
    "import numpy as np\n",
    "import pandas as pd\n"
   ]
  },
  {
   "cell_type": "code",
   "execution_count": 3,
   "id": "f284fb14",
   "metadata": {},
   "outputs": [],
   "source": [
    "acc_df = pd.read_pickle('/shared/accessible_pois_lon_lat_wheelchair.pkl')\n",
    "acc_lonlat=acc_df[['lat','lon']].to_numpy()"
   ]
  },
  {
   "cell_type": "code",
   "execution_count": 4,
   "id": "15be86c3",
   "metadata": {},
   "outputs": [],
   "source": [
    "acconly_df=acc_df.loc[acc_df['wheelchair_cat'] == 'yes']\n",
    "acconly_df_lonlat=acconly_df[['lat','lon']].to_numpy()"
   ]
  },
  {
   "cell_type": "markdown",
   "id": "7a67229c",
   "metadata": {},
   "source": [
    "## Distance Calculation Based on Latitude and Longitude\n",
    "\n",
    "reference: https://www.kite.com/python/answers/how-to-find-the-distance-between-two-lat-long-coordinates-in-python"
   ]
  },
  {
   "cell_type": "code",
   "execution_count": 5,
   "id": "4d510339",
   "metadata": {},
   "outputs": [],
   "source": [
    "def distance_search (POI, otherPOI, meternearby):\n",
    "    lat1 = np.radians(POI[0,1])\n",
    "    lon1 = np.radians(POI[0,0])\n",
    "    lat2 = np.radians(otherPOI[:,1])\n",
    "    lon2 = np.radians(otherPOI[:,0])\n",
    "    dlon = lon2 - lon1\n",
    "    dlat = lat2 - lat1\n",
    "    R = 6373.0\n",
    "    a = np.sin(dlat / 2)**2 + np.cos(lat1) * np.cos(lat2) * np.sin(dlon / 2)**2\n",
    "    c = 2 * np.arctan(np.sqrt(a)/ np.sqrt(1 - a))\n",
    "    distance = R * c*1000\n",
    "    distance_sorted=np.sort(distance,axis=None)\n",
    "    count=0\n",
    "    for i in distance_sorted:\n",
    "        if i < meternearby:\n",
    "            count = count + 1\n",
    "        else:\n",
    "            break\n",
    "    return count"
   ]
  },
  {
   "cell_type": "code",
   "execution_count": null,
   "id": "6bef5730",
   "metadata": {},
   "outputs": [],
   "source": [
    "numOfPoiNearby_100m=np.zeros([1,len(acc_lonlat)])\n",
    "for i in range (len(acc_lonlat)):\n",
    "    numOfPoiNearby_100m[0,i]=distance_search(acc_lonlat[i].reshape((1,2)),acc_lonlat,100)"
   ]
  },
  {
   "cell_type": "code",
   "execution_count": null,
   "id": "79cf0040",
   "metadata": {},
   "outputs": [],
   "source": [
    "numOfaccessiblePoiNearby_100m=np.zeros([1,len(acc_lonlat)])\n",
    "for i in range (len(acc_lonlat)):\n",
    "    numOfaccessiblePoiNearby_100m[0,i]=distance_search(acc_lonlat[i].reshape((1,2)),acconly_df_lonlat,100)"
   ]
  },
  {
   "cell_type": "code",
   "execution_count": null,
   "id": "269f6d35",
   "metadata": {},
   "outputs": [],
   "source": [
    "numOfPoiNearby_1000m=np.zeros([1,len(acc_lonlat)])\n",
    "for i in range (len(acc_lonlat)):\n",
    "    numOfPoiNearby_1000m[0,i]=distance_search(acc_lonlat[i].reshape((1,2)),acc_lonlat,1000)"
   ]
  },
  {
   "cell_type": "code",
   "execution_count": null,
   "id": "7d67fc0d",
   "metadata": {},
   "outputs": [],
   "source": [
    "numOfaccessiblePoiNearby_1000m=np.zeros([1,len(acc_lonlat)])\n",
    "for i in range (len(acc_lonlat)):\n",
    "    numOfaccessiblePoiNearby_1000m[0,i]=distance_search(acc_lonlat[i].reshape((1,2)),acconly_df_lonlat,1000)"
   ]
  },
  {
   "cell_type": "code",
   "execution_count": null,
   "id": "75b6b0f3",
   "metadata": {},
   "outputs": [],
   "source": [
    "sLength = len(acc_df['lon'])"
   ]
  },
  {
   "cell_type": "code",
   "execution_count": null,
   "id": "c0248374",
   "metadata": {},
   "outputs": [],
   "source": [
    "acc_df['numOfPoiNearby_100m'] = pd.Series(numOfPoiNearby_100m.reshape(sLength,), index=acc_df.index)\n",
    "acc_df['numOfaccessiblePoiNearby_100m'] = pd.Series(numOfaccessiblePoiNearby_100m.reshape(sLength,), index=acc_df.index)"
   ]
  },
  {
   "cell_type": "code",
   "execution_count": null,
   "id": "b99fd4cd",
   "metadata": {},
   "outputs": [],
   "source": [
    "acc_df['numOfPoiNearby_1000m'] = pd.Series(numOfPoiNearby_1000m.reshape(sLength,), index=acc_df.index)\n",
    "acc_df['numOfaccessiblePoiNearby_1000m'] = pd.Series(numOfaccessiblePoiNearby_1000m.reshape(sLength,), index=acc_df.index)"
   ]
  },
  {
   "cell_type": "code",
   "execution_count": 16,
   "id": "a7377d32",
   "metadata": {},
   "outputs": [
    {
     "data": {
      "text/html": [
       "<div>\n",
       "<style scoped>\n",
       "    .dataframe tbody tr th:only-of-type {\n",
       "        vertical-align: middle;\n",
       "    }\n",
       "\n",
       "    .dataframe tbody tr th {\n",
       "        vertical-align: top;\n",
       "    }\n",
       "\n",
       "    .dataframe thead th {\n",
       "        text-align: right;\n",
       "    }\n",
       "</style>\n",
       "<table border=\"1\" class=\"dataframe\">\n",
       "  <thead>\n",
       "    <tr style=\"text-align: right;\">\n",
       "      <th></th>\n",
       "      <th>lon</th>\n",
       "      <th>lat</th>\n",
       "      <th>wheelchair_cat</th>\n",
       "      <th>numOfPoiNearby_100m</th>\n",
       "      <th>numOfaccessiblePoiNearby_100m</th>\n",
       "      <th>numOfPoiNearby_1000m</th>\n",
       "      <th>numOfaccessiblePoiNearby_1000m</th>\n",
       "    </tr>\n",
       "  </thead>\n",
       "  <tbody>\n",
       "    <tr>\n",
       "      <th>99878</th>\n",
       "      <td>-0.152985</td>\n",
       "      <td>51.524358</td>\n",
       "      <td>yes</td>\n",
       "      <td>2.0</td>\n",
       "      <td>2.0</td>\n",
       "      <td>98.0</td>\n",
       "      <td>48.0</td>\n",
       "    </tr>\n",
       "    <tr>\n",
       "      <th>104734</th>\n",
       "      <td>-1.785876</td>\n",
       "      <td>51.565653</td>\n",
       "      <td>yes</td>\n",
       "      <td>1.0</td>\n",
       "      <td>1.0</td>\n",
       "      <td>8.0</td>\n",
       "      <td>8.0</td>\n",
       "    </tr>\n",
       "    <tr>\n",
       "      <th>106213</th>\n",
       "      <td>-0.142942</td>\n",
       "      <td>51.525660</td>\n",
       "      <td>yes</td>\n",
       "      <td>3.0</td>\n",
       "      <td>3.0</td>\n",
       "      <td>107.0</td>\n",
       "      <td>57.0</td>\n",
       "    </tr>\n",
       "    <tr>\n",
       "      <th>108042</th>\n",
       "      <td>-0.135513</td>\n",
       "      <td>51.523561</td>\n",
       "      <td>limited</td>\n",
       "      <td>3.0</td>\n",
       "      <td>1.0</td>\n",
       "      <td>362.0</td>\n",
       "      <td>184.0</td>\n",
       "    </tr>\n",
       "    <tr>\n",
       "      <th>251191</th>\n",
       "      <td>-0.715918</td>\n",
       "      <td>51.115444</td>\n",
       "      <td>limited</td>\n",
       "      <td>2.0</td>\n",
       "      <td>0.0</td>\n",
       "      <td>3.0</td>\n",
       "      <td>0.0</td>\n",
       "    </tr>\n",
       "    <tr>\n",
       "      <th>...</th>\n",
       "      <td>...</td>\n",
       "      <td>...</td>\n",
       "      <td>...</td>\n",
       "      <td>...</td>\n",
       "      <td>...</td>\n",
       "      <td>...</td>\n",
       "      <td>...</td>\n",
       "    </tr>\n",
       "    <tr>\n",
       "      <th>8495396114</th>\n",
       "      <td>-2.997905</td>\n",
       "      <td>51.589057</td>\n",
       "      <td>yes</td>\n",
       "      <td>6.0</td>\n",
       "      <td>6.0</td>\n",
       "      <td>42.0</td>\n",
       "      <td>40.0</td>\n",
       "    </tr>\n",
       "    <tr>\n",
       "      <th>8495396115</th>\n",
       "      <td>-2.997255</td>\n",
       "      <td>51.589114</td>\n",
       "      <td>yes</td>\n",
       "      <td>7.0</td>\n",
       "      <td>7.0</td>\n",
       "      <td>47.0</td>\n",
       "      <td>45.0</td>\n",
       "    </tr>\n",
       "    <tr>\n",
       "      <th>8497470120</th>\n",
       "      <td>-0.135463</td>\n",
       "      <td>51.602958</td>\n",
       "      <td>limited</td>\n",
       "      <td>1.0</td>\n",
       "      <td>0.0</td>\n",
       "      <td>2.0</td>\n",
       "      <td>1.0</td>\n",
       "    </tr>\n",
       "    <tr>\n",
       "      <th>8497671325</th>\n",
       "      <td>-4.336600</td>\n",
       "      <td>55.905952</td>\n",
       "      <td>no</td>\n",
       "      <td>1.0</td>\n",
       "      <td>0.0</td>\n",
       "      <td>2.0</td>\n",
       "      <td>0.0</td>\n",
       "    </tr>\n",
       "    <tr>\n",
       "      <th>8497671329</th>\n",
       "      <td>-4.334790</td>\n",
       "      <td>55.907520</td>\n",
       "      <td>limited</td>\n",
       "      <td>1.0</td>\n",
       "      <td>0.0</td>\n",
       "      <td>2.0</td>\n",
       "      <td>0.0</td>\n",
       "    </tr>\n",
       "  </tbody>\n",
       "</table>\n",
       "<p>29282 rows × 7 columns</p>\n",
       "</div>"
      ],
      "text/plain": [
       "                 lon        lat wheelchair_cat  numOfPoiNearby_100m  \\\n",
       "99878      -0.152985  51.524358            yes                  2.0   \n",
       "104734     -1.785876  51.565653            yes                  1.0   \n",
       "106213     -0.142942  51.525660            yes                  3.0   \n",
       "108042     -0.135513  51.523561        limited                  3.0   \n",
       "251191     -0.715918  51.115444        limited                  2.0   \n",
       "...              ...        ...            ...                  ...   \n",
       "8495396114 -2.997905  51.589057            yes                  6.0   \n",
       "8495396115 -2.997255  51.589114            yes                  7.0   \n",
       "8497470120 -0.135463  51.602958        limited                  1.0   \n",
       "8497671325 -4.336600  55.905952             no                  1.0   \n",
       "8497671329 -4.334790  55.907520        limited                  1.0   \n",
       "\n",
       "            numOfaccessiblePoiNearby_100m  numOfPoiNearby_1000m  \\\n",
       "99878                                 2.0                  98.0   \n",
       "104734                                1.0                   8.0   \n",
       "106213                                3.0                 107.0   \n",
       "108042                                1.0                 362.0   \n",
       "251191                                0.0                   3.0   \n",
       "...                                   ...                   ...   \n",
       "8495396114                            6.0                  42.0   \n",
       "8495396115                            7.0                  47.0   \n",
       "8497470120                            0.0                   2.0   \n",
       "8497671325                            0.0                   2.0   \n",
       "8497671329                            0.0                   2.0   \n",
       "\n",
       "            numOfaccessiblePoiNearby_1000m  \n",
       "99878                                 48.0  \n",
       "104734                                 8.0  \n",
       "106213                                57.0  \n",
       "108042                               184.0  \n",
       "251191                                 0.0  \n",
       "...                                    ...  \n",
       "8495396114                            40.0  \n",
       "8495396115                            45.0  \n",
       "8497470120                             1.0  \n",
       "8497671325                             0.0  \n",
       "8497671329                             0.0  \n",
       "\n",
       "[29282 rows x 7 columns]"
      ]
     },
     "execution_count": 16,
     "metadata": {},
     "output_type": "execute_result"
    }
   ],
   "source": [
    "acc_df"
   ]
  },
  {
   "cell_type": "code",
   "execution_count": 17,
   "id": "835e3b09",
   "metadata": {},
   "outputs": [],
   "source": [
    "import pickle\n",
    "acc_df.to_pickle('/shared/numberOfNearbyPOIs.pkl')"
   ]
  }
 ],
 "metadata": {
  "kernelspec": {
   "display_name": "Python 3",
   "language": "python",
   "name": "python3"
  },
  "language_info": {
   "codemirror_mode": {
    "name": "ipython",
    "version": 3
   },
   "file_extension": ".py",
   "mimetype": "text/x-python",
   "name": "python",
   "nbconvert_exporter": "python",
   "pygments_lexer": "ipython3",
   "version": "3.8.5"
  }
 },
 "nbformat": 4,
 "nbformat_minor": 5
}
