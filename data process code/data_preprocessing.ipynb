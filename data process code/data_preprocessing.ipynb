{
 "cells": [
  {
   "cell_type": "code",
   "execution_count": 95,
   "id": "b79df718",
   "metadata": {},
   "outputs": [],
   "source": [
    "import pandas as pd\n",
    "import seaborn as sns"
   ]
  },
  {
   "cell_type": "code",
   "execution_count": 2,
   "id": "8b8d7ee3",
   "metadata": {},
   "outputs": [],
   "source": [
    "df = pd.read_pickle('accessible_pois.pkl')"
   ]
  },
  {
   "cell_type": "code",
   "execution_count": 8,
   "id": "e3e31918",
   "metadata": {
    "scrolled": true
   },
   "outputs": [
    {
     "data": {
      "text/html": [
       "<div>\n",
       "<style scoped>\n",
       "    .dataframe tbody tr th:only-of-type {\n",
       "        vertical-align: middle;\n",
       "    }\n",
       "\n",
       "    .dataframe tbody tr th {\n",
       "        vertical-align: top;\n",
       "    }\n",
       "\n",
       "    .dataframe thead th {\n",
       "        text-align: right;\n",
       "    }\n",
       "</style>\n",
       "<table border=\"1\" class=\"dataframe\">\n",
       "  <thead>\n",
       "    <tr style=\"text-align: right;\">\n",
       "      <th></th>\n",
       "      <th>id</th>\n",
       "      <th>access</th>\n",
       "      <th>barrier</th>\n",
       "      <th>bicycle</th>\n",
       "      <th>motor_vehicle</th>\n",
       "      <th>opening_hours</th>\n",
       "      <th>wheelchair</th>\n",
       "      <th>lon</th>\n",
       "      <th>lat</th>\n",
       "    </tr>\n",
       "  </thead>\n",
       "  <tbody>\n",
       "    <tr>\n",
       "      <th>99878</th>\n",
       "      <td>99878</td>\n",
       "      <td>permissive</td>\n",
       "      <td>gate</td>\n",
       "      <td>no</td>\n",
       "      <td>no</td>\n",
       "      <td>dawn-dusk</td>\n",
       "      <td>yes</td>\n",
       "      <td>-0.152985</td>\n",
       "      <td>51.524358</td>\n",
       "    </tr>\n",
       "    <tr>\n",
       "      <th>104734</th>\n",
       "      <td>104734</td>\n",
       "      <td>None</td>\n",
       "      <td>None</td>\n",
       "      <td>None</td>\n",
       "      <td>None</td>\n",
       "      <td>None</td>\n",
       "      <td>yes</td>\n",
       "      <td>-1.785876</td>\n",
       "      <td>51.565653</td>\n",
       "    </tr>\n",
       "    <tr>\n",
       "      <th>106213</th>\n",
       "      <td>106213</td>\n",
       "      <td>None</td>\n",
       "      <td>None</td>\n",
       "      <td>None</td>\n",
       "      <td>None</td>\n",
       "      <td>None</td>\n",
       "      <td>yes</td>\n",
       "      <td>-0.142942</td>\n",
       "      <td>51.525660</td>\n",
       "    </tr>\n",
       "    <tr>\n",
       "      <th>108042</th>\n",
       "      <td>108042</td>\n",
       "      <td>None</td>\n",
       "      <td>None</td>\n",
       "      <td>None</td>\n",
       "      <td>None</td>\n",
       "      <td>Mo-We 16:00-23:30; Th-Fr 16:00-01:00; Sa 16:00...</td>\n",
       "      <td>limited</td>\n",
       "      <td>-0.135513</td>\n",
       "      <td>51.523561</td>\n",
       "    </tr>\n",
       "    <tr>\n",
       "      <th>251191</th>\n",
       "      <td>251191</td>\n",
       "      <td>None</td>\n",
       "      <td>None</td>\n",
       "      <td>None</td>\n",
       "      <td>None</td>\n",
       "      <td>None</td>\n",
       "      <td>limited</td>\n",
       "      <td>-0.715918</td>\n",
       "      <td>51.115444</td>\n",
       "    </tr>\n",
       "    <tr>\n",
       "      <th>262708</th>\n",
       "      <td>262708</td>\n",
       "      <td>None</td>\n",
       "      <td>None</td>\n",
       "      <td>None</td>\n",
       "      <td>None</td>\n",
       "      <td>None</td>\n",
       "      <td>limited</td>\n",
       "      <td>-0.726258</td>\n",
       "      <td>51.024400</td>\n",
       "    </tr>\n",
       "    <tr>\n",
       "      <th>262778</th>\n",
       "      <td>262778</td>\n",
       "      <td>None</td>\n",
       "      <td>None</td>\n",
       "      <td>None</td>\n",
       "      <td>None</td>\n",
       "      <td>None</td>\n",
       "      <td>yes</td>\n",
       "      <td>-0.826153</td>\n",
       "      <td>50.990331</td>\n",
       "    </tr>\n",
       "    <tr>\n",
       "      <th>271339</th>\n",
       "      <td>271339</td>\n",
       "      <td>None</td>\n",
       "      <td>None</td>\n",
       "      <td>None</td>\n",
       "      <td>None</td>\n",
       "      <td>None</td>\n",
       "      <td>no</td>\n",
       "      <td>-1.856858</td>\n",
       "      <td>51.353526</td>\n",
       "    </tr>\n",
       "    <tr>\n",
       "      <th>328762</th>\n",
       "      <td>328762</td>\n",
       "      <td>None</td>\n",
       "      <td>None</td>\n",
       "      <td>None</td>\n",
       "      <td>None</td>\n",
       "      <td>\"Part time\"</td>\n",
       "      <td>yes</td>\n",
       "      <td>1.305108</td>\n",
       "      <td>52.626620</td>\n",
       "    </tr>\n",
       "    <tr>\n",
       "      <th>367457</th>\n",
       "      <td>367457</td>\n",
       "      <td>None</td>\n",
       "      <td>None</td>\n",
       "      <td>None</td>\n",
       "      <td>None</td>\n",
       "      <td>None</td>\n",
       "      <td>yes</td>\n",
       "      <td>-1.446450</td>\n",
       "      <td>52.984748</td>\n",
       "    </tr>\n",
       "  </tbody>\n",
       "</table>\n",
       "</div>"
      ],
      "text/plain": [
       "            id      access barrier bicycle motor_vehicle  \\\n",
       "99878    99878  permissive    gate      no            no   \n",
       "104734  104734        None    None    None          None   \n",
       "106213  106213        None    None    None          None   \n",
       "108042  108042        None    None    None          None   \n",
       "251191  251191        None    None    None          None   \n",
       "262708  262708        None    None    None          None   \n",
       "262778  262778        None    None    None          None   \n",
       "271339  271339        None    None    None          None   \n",
       "328762  328762        None    None    None          None   \n",
       "367457  367457        None    None    None          None   \n",
       "\n",
       "                                            opening_hours wheelchair  \\\n",
       "99878                                           dawn-dusk        yes   \n",
       "104734                                               None        yes   \n",
       "106213                                               None        yes   \n",
       "108042  Mo-We 16:00-23:30; Th-Fr 16:00-01:00; Sa 16:00...    limited   \n",
       "251191                                               None    limited   \n",
       "262708                                               None    limited   \n",
       "262778                                               None        yes   \n",
       "271339                                               None         no   \n",
       "328762                                        \"Part time\"        yes   \n",
       "367457                                               None        yes   \n",
       "\n",
       "             lon        lat  \n",
       "99878  -0.152985  51.524358  \n",
       "104734 -1.785876  51.565653  \n",
       "106213 -0.142942  51.525660  \n",
       "108042 -0.135513  51.523561  \n",
       "251191 -0.715918  51.115444  \n",
       "262708 -0.726258  51.024400  \n",
       "262778 -0.826153  50.990331  \n",
       "271339 -1.856858  51.353526  \n",
       "328762  1.305108  52.626620  \n",
       "367457 -1.446450  52.984748  "
      ]
     },
     "execution_count": 8,
     "metadata": {},
     "output_type": "execute_result"
    }
   ],
   "source": [
    "df.head(10)"
   ]
  },
  {
   "cell_type": "code",
   "execution_count": 6,
   "id": "7af1be81",
   "metadata": {},
   "outputs": [
    {
     "data": {
      "text/plain": [
       "yes                       18815\n",
       "no                         6793\n",
       "limited                    3576\n",
       "designated                   95\n",
       "no;yes                        1\n",
       "no space                      1\n",
       "no use other side door        1\n",
       "Name: wheelchair, dtype: int64"
      ]
     },
     "execution_count": 6,
     "metadata": {},
     "output_type": "execute_result"
    }
   ],
   "source": [
    "df[\"wheelchair\"].value_counts()"
   ]
  },
  {
   "cell_type": "code",
   "execution_count": 46,
   "id": "2e3f5e38",
   "metadata": {},
   "outputs": [],
   "source": [
    "df['wheelchair_cat'] = df['wheelchair'].replace(['no space', 'no;yes', 'no use other side door'], 'no')"
   ]
  },
  {
   "cell_type": "code",
   "execution_count": 47,
   "id": "926079ff",
   "metadata": {},
   "outputs": [
    {
     "data": {
      "text/plain": [
       "yes           18815\n",
       "no             6796\n",
       "limited        3576\n",
       "designated       95\n",
       "Name: wheelchair_cat, dtype: int64"
      ]
     },
     "execution_count": 47,
     "metadata": {},
     "output_type": "execute_result"
    }
   ],
   "source": [
    "df['wheelchair_cat'].value_counts()"
   ]
  },
  {
   "cell_type": "code",
   "execution_count": 37,
   "id": "46082f92",
   "metadata": {},
   "outputs": [],
   "source": [
    "df['barrier_cat'] = df['barrier'].replace(['kissing_gate', 'swing_gate', 'turnstile', 'lift_gate', \n",
    "                                          'lych_gate', 'lych-gate', 'fence', 'sliding_gate'], 'gate')\n"
   ]
  },
  {
   "cell_type": "code",
   "execution_count": 38,
   "id": "34e2472d",
   "metadata": {},
   "outputs": [],
   "source": [
    "df['barrier_cat'] = df['barrier_cat'].replace(['cycle_barrier', 'stile', 'bollard',  \n",
    "                                           'motorcycle_barrier', 'block', 'stepping_stones'], 'road_barrier')"
   ]
  },
  {
   "cell_type": "code",
   "execution_count": 39,
   "id": "922835a5",
   "metadata": {},
   "outputs": [],
   "source": [
    "df['barrier_cat'] = df['barrier_cat'].replace('entrance', 'door')"
   ]
  },
  {
   "cell_type": "code",
   "execution_count": 61,
   "id": "fbdc2587",
   "metadata": {},
   "outputs": [
    {
     "name": "stdout",
     "output_type": "stream",
     "text": [
      "                    id access barrier bicycle motor_vehicle opening_hours  \\\n",
      "279935450    279935450     no     yes    None          None          None   \n",
      "429894297    429894297     no     yes      no          None          None   \n",
      "730835329    730835329   None     yes     yes            no          None   \n",
      "7446803982  7446803982     no     yes    None          None          None   \n",
      "7446825692  7446825692     no     yes    None          None          None   \n",
      "\n",
      "           wheelchair       lon        lat wheelchair_dummy barrier_cat  \\\n",
      "279935450          no -1.490645  50.991960               no         yes   \n",
      "429894297          no -0.868906  51.458096               no         yes   \n",
      "730835329         yes  0.081278  51.560946              yes         yes   \n",
      "7446803982         no -0.863249  51.171986               no         yes   \n",
      "7446825692         no -0.864237  51.173064               no         yes   \n",
      "\n",
      "           wheelchair_cat access_cat  \n",
      "279935450              no         no  \n",
      "429894297              no         no  \n",
      "730835329             yes       None  \n",
      "7446803982             no         no  \n",
      "7446825692             no         no  \n"
     ]
    }
   ],
   "source": [
    "print(df.loc[df['barrier_cat'] == 'yes'])"
   ]
  },
  {
   "cell_type": "code",
   "execution_count": 42,
   "id": "2bf6d616",
   "metadata": {},
   "outputs": [
    {
     "data": {
      "text/plain": [
       "gate            1052\n",
       "door             852\n",
       "kerb             228\n",
       "road_barrier     177\n",
       "yes                5\n",
       "Name: barrier_cat, dtype: int64"
      ]
     },
     "execution_count": 42,
     "metadata": {},
     "output_type": "execute_result"
    }
   ],
   "source": [
    "df['barrier_cat'].value_counts()"
   ]
  },
  {
   "cell_type": "code",
   "execution_count": 84,
   "id": "a8feb57c",
   "metadata": {},
   "outputs": [
    {
     "data": {
      "text/plain": [
       "no             268\n",
       "yes            237\n",
       "dismount       103\n",
       "private         20\n",
       "permissive      12\n",
       "designated       8\n",
       "destination      2\n",
       "permit           2\n",
       "Name: bicycle, dtype: int64"
      ]
     },
     "execution_count": 84,
     "metadata": {},
     "output_type": "execute_result"
    }
   ],
   "source": [
    "df['bicycle'].value_counts()"
   ]
  },
  {
   "cell_type": "code",
   "execution_count": 62,
   "id": "0a8bd022",
   "metadata": {},
   "outputs": [],
   "source": [
    "df['access_cat'] = df['access'].replace(['restricted', 'permit'], 'permissive')"
   ]
  },
  {
   "cell_type": "code",
   "execution_count": 66,
   "id": "403b7eff",
   "metadata": {},
   "outputs": [],
   "source": [
    "df['access_cat'] = df['access_cat'].replace(['resident', 'residents'], 'private')"
   ]
  },
  {
   "cell_type": "code",
   "execution_count": 64,
   "id": "e787cf7b",
   "metadata": {},
   "outputs": [],
   "source": [
    "df['access_cat'] = df['access_cat'].replace('none', 'no')\n",
    "df['access_cat'] = df['access_cat'].replace(['customer', 'trade'], 'customers')"
   ]
  },
  {
   "cell_type": "code",
   "execution_count": 80,
   "id": "6d848e0c",
   "metadata": {},
   "outputs": [],
   "source": [
    "categories = {'private': 'private', 'yes': 'public', 'permissive': 'permissive', 'public' : 'public', \n",
    "              'customers': 'customers', 'no': 'no', 'visitors': 'permissive'}\n",
    "\n",
    "df['access_cat'] = df['access_cat'].map(categories)"
   ]
  },
  {
   "cell_type": "code",
   "execution_count": 81,
   "id": "bf56b0a0",
   "metadata": {},
   "outputs": [
    {
     "data": {
      "text/plain": [
       "private       1575\n",
       "public         919\n",
       "customers      459\n",
       "no             222\n",
       "permissive     208\n",
       "Name: access_cat, dtype: int64"
      ]
     },
     "execution_count": 81,
     "metadata": {},
     "output_type": "execute_result"
    }
   ],
   "source": [
    "df['access_cat'].value_counts()"
   ]
  },
  {
   "cell_type": "code",
   "execution_count": 94,
   "id": "b2123253",
   "metadata": {},
   "outputs": [],
   "source": [
    "df.to_pickle('categorised_accessible_pois.pkl')"
   ]
  },
  {
   "cell_type": "code",
   "execution_count": 85,
   "id": "0b1f1c2c",
   "metadata": {},
   "outputs": [
    {
     "data": {
      "text/html": [
       "<div>\n",
       "<style scoped>\n",
       "    .dataframe tbody tr th:only-of-type {\n",
       "        vertical-align: middle;\n",
       "    }\n",
       "\n",
       "    .dataframe tbody tr th {\n",
       "        vertical-align: top;\n",
       "    }\n",
       "\n",
       "    .dataframe thead th {\n",
       "        text-align: right;\n",
       "    }\n",
       "</style>\n",
       "<table border=\"1\" class=\"dataframe\">\n",
       "  <thead>\n",
       "    <tr style=\"text-align: right;\">\n",
       "      <th></th>\n",
       "      <th>barrier_cat</th>\n",
       "      <th>wheelchair_cat</th>\n",
       "      <th>access_cat</th>\n",
       "      <th>motor_vehicle</th>\n",
       "      <th>bicycle</th>\n",
       "    </tr>\n",
       "  </thead>\n",
       "  <tbody>\n",
       "    <tr>\n",
       "      <th>99878</th>\n",
       "      <td>gate</td>\n",
       "      <td>yes</td>\n",
       "      <td>permissive</td>\n",
       "      <td>no</td>\n",
       "      <td>no</td>\n",
       "    </tr>\n",
       "    <tr>\n",
       "      <th>104734</th>\n",
       "      <td>None</td>\n",
       "      <td>yes</td>\n",
       "      <td>NaN</td>\n",
       "      <td>None</td>\n",
       "      <td>None</td>\n",
       "    </tr>\n",
       "    <tr>\n",
       "      <th>106213</th>\n",
       "      <td>None</td>\n",
       "      <td>yes</td>\n",
       "      <td>NaN</td>\n",
       "      <td>None</td>\n",
       "      <td>None</td>\n",
       "    </tr>\n",
       "    <tr>\n",
       "      <th>108042</th>\n",
       "      <td>None</td>\n",
       "      <td>limited</td>\n",
       "      <td>NaN</td>\n",
       "      <td>None</td>\n",
       "      <td>None</td>\n",
       "    </tr>\n",
       "    <tr>\n",
       "      <th>251191</th>\n",
       "      <td>None</td>\n",
       "      <td>limited</td>\n",
       "      <td>NaN</td>\n",
       "      <td>None</td>\n",
       "      <td>None</td>\n",
       "    </tr>\n",
       "  </tbody>\n",
       "</table>\n",
       "</div>"
      ],
      "text/plain": [
       "       barrier_cat wheelchair_cat  access_cat motor_vehicle bicycle\n",
       "99878         gate            yes  permissive            no      no\n",
       "104734        None            yes         NaN          None    None\n",
       "106213        None            yes         NaN          None    None\n",
       "108042        None        limited         NaN          None    None\n",
       "251191        None        limited         NaN          None    None"
      ]
     },
     "execution_count": 85,
     "metadata": {},
     "output_type": "execute_result"
    }
   ],
   "source": [
    "subset_cols = ['barrier_cat', 'wheelchair_cat', 'access_cat', 'motor_vehicle', 'bicycle']\n",
    "subset_df = df.loc[:, subset_cols]\n",
    "subset_df.head()"
   ]
  }
 ],
 "metadata": {
  "kernelspec": {
   "display_name": "Python 3",
   "language": "python",
   "name": "python3"
  },
  "language_info": {
   "codemirror_mode": {
    "name": "ipython",
    "version": 3
   },
   "file_extension": ".py",
   "mimetype": "text/x-python",
   "name": "python",
   "nbconvert_exporter": "python",
   "pygments_lexer": "ipython3",
   "version": "3.8.5"
  }
 },
 "nbformat": 4,
 "nbformat_minor": 5
}
